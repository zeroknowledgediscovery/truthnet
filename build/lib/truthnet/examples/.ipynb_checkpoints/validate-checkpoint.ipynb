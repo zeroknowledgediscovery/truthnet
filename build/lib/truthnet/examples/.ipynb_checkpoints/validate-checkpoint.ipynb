{
 "cells": [
  {
   "cell_type": "code",
   "execution_count": 1,
   "id": "cb44054f",
   "metadata": {},
   "outputs": [
    {
     "ename": "ModuleNotFoundError",
     "evalue": "No module named 'util'",
     "output_type": "error",
     "traceback": [
      "\u001b[0;31m---------------------------------------------------------------------------\u001b[0m",
      "\u001b[0;31mModuleNotFoundError\u001b[0m                       Traceback (most recent call last)",
      "\u001b[0;32m/tmp/ipykernel_2778027/318726162.py\u001b[0m in \u001b[0;36m<module>\u001b[0;34m\u001b[0m\n\u001b[0;32m----> 1\u001b[0;31m \u001b[0;32mfrom\u001b[0m \u001b[0mutil\u001b[0m \u001b[0;32mimport\u001b[0m \u001b[0mvalidate\u001b[0m\u001b[0;34m\u001b[0m\u001b[0;34m\u001b[0m\u001b[0m\n\u001b[0m\u001b[1;32m      2\u001b[0m \u001b[0;32mimport\u001b[0m \u001b[0mpandas\u001b[0m \u001b[0;32mas\u001b[0m \u001b[0mpd\u001b[0m\u001b[0;34m\u001b[0m\u001b[0;34m\u001b[0m\u001b[0m\n",
      "\u001b[0;31mModuleNotFoundError\u001b[0m: No module named 'util'"
     ]
    }
   ],
   "source": [
    "import os\n",
    "\n",
    "from util import validate\n",
    "import pandas as pd"
   ]
  },
  {
   "cell_type": "code",
   "execution_count": null,
   "id": "7d46c93d",
   "metadata": {},
   "outputs": [],
   "source": [
    "resf=pd.read_csv('../data/res_exp_model2.csv',index_col=0).T\n",
    "resf.columns=['lower_threshold','veritas','score']\n",
    "validate(resf,C0=1,C1=0.76,C2=1.35,DX=False,score=True,\n",
    "         outfile='exptvalid.png',\n",
    "         validation_type='fnrexpt')"
   ]
  },
  {
   "cell_type": "code",
   "execution_count": null,
   "id": "f0ec7e32",
   "metadata": {},
   "outputs": [],
   "source": [
    "resf=pd.read_csv('../data/res_R20_model2.csv',index_col=0).T\n",
    "resf.columns=['lower_threshold','veritas','score']\n",
    "resf['dx'] = [int(x[-1]) for x in resf.index.values]\n",
    "validate(resf,C0=1,C1=0.76,C2=1.35,DX=True,score=True,\n",
    "         outfile='ptsdvalid.png',\n",
    "         validation_type='withdx')"
   ]
  },
  {
   "cell_type": "code",
   "execution_count": null,
   "id": "3b6861cf",
   "metadata": {},
   "outputs": [],
   "source": [
    "from truthnet import load_veritas_model\n",
    "from util import drop_empty_string_keys\n",
    "import numpy as np\n",
    "M=load_veritas_model('../veritas_models/veritas_005_SUD.pkl.gz')\n",
    "df=pd.read_csv('../data/SUD.csv',index_col=0,\n",
    "            keep_default_na=False,dtype=str)\n",
    "featurenames=M['model'].feature_names\n",
    "training_index=M['model'].training_index\n",
    "test_index=np.array([x for x in df.index.values if x not in training_index])\n",
    "df_test=df.loc[test_index,:][featurenames]\n",
    "D=df_test.T.to_dict()\n",
    "D1={k:drop_empty_string_keys(v) for k,v in D.items()}\n",
    "D=[{'SUB'+str(k):v} for k,v in D1.items()]\n",
    "\n",
    "df_train=df.loc[training_index,:][featurenames]\n",
    "Xt=df_train.values.astype(str)\n",
    "from truthfinder import reveal\n",
    "Rsud=reveal(D,M,perturb=0,model_path=False,score=False)\n",
    "resf=pd.DataFrame({x['subject_id']:[x['lower_threshold'],x['lower_prob'],x['veritas'],x['veritas_prob']] for x in  Rsud[0]}).T\n",
    "resf.columns=['lower_threshold','lower_p','veritas','veritas_p']\n",
    "resf=resf.assign(score=resf.lower_threshold)"
   ]
  },
  {
   "cell_type": "code",
   "execution_count": null,
   "id": "b8b27a8f",
   "metadata": {},
   "outputs": [],
   "source": [
    "validate(resf,C0=.3,C1=0.45,C2=1,DX=False,score=False,\n",
    "         outfile='sudvalid.png',\n",
    "         validation_type='noscore')"
   ]
  }
 ],
 "metadata": {
  "kernelspec": {
   "display_name": "Python 3 (ipykernel)",
   "language": "python",
   "name": "python3"
  },
  "language_info": {
   "codemirror_mode": {
    "name": "ipython",
    "version": 3
   },
   "file_extension": ".py",
   "mimetype": "text/x-python",
   "name": "python",
   "nbconvert_exporter": "python",
   "pygments_lexer": "ipython3",
   "version": "3.10.8"
  }
 },
 "nbformat": 4,
 "nbformat_minor": 5
}
