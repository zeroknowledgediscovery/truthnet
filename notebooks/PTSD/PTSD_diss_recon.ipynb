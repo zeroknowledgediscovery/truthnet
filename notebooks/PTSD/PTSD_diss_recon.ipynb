{
 "cells": [
  {
   "cell_type": "code",
   "execution_count": 1,
   "id": "ca0b54cc",
   "metadata": {
    "scrolled": true
   },
   "outputs": [],
   "source": [
    "from quasinet.qnet import qdistance, save_qnet\n",
    "from cognet.cognet import cognet as cg\n",
    "from cognet.dataFormatter import dataFormatter\n",
    "from cognet.model import model \n",
    "#import cognet.util\n",
    "import pandas as pd\n",
    "import numpy as np\n",
    "import matplotlib.pyplot as plt\n",
    "from scipy import stats\n",
    "import seaborn as sns\n",
    "plt.style.use('fivethirtyeight')"
   ]
  },
  {
   "cell_type": "code",
   "execution_count": 2,
   "id": "d585f7be",
   "metadata": {
    "scrolled": true
   },
   "outputs": [],
   "source": [
    "## read in data, configure to Qnet specifications and fit Qnet model\n",
    "data_obj=dataFormatter(samples=\"data/PTSD_cognet_test_processed.csv\")\n",
    "features,samples = data_obj.Qnet_formatter()"
   ]
  },
  {
   "cell_type": "code",
   "execution_count": 3,
   "id": "76a7a27b-194e-44fd-bc6d-30eda87ec0f7",
   "metadata": {},
   "outputs": [
    {
     "ename": "KeyboardInterrupt",
     "evalue": "",
     "output_type": "error",
     "traceback": [
      "\u001b[0;31m---------------------------------------------------------------------------\u001b[0m",
      "\u001b[0;31mKeyboardInterrupt\u001b[0m                         Traceback (most recent call last)",
      "\u001b[0;32m/tmp/ipykernel_395799/3992797195.py\u001b[0m in \u001b[0;36m<module>\u001b[0;34m\u001b[0m\n\u001b[1;32m      6\u001b[0m     \u001b[0msave_qnet\u001b[0m\u001b[0;34m(\u001b[0m\u001b[0mmodel_obj\u001b[0m\u001b[0;34m.\u001b[0m\u001b[0mmyQnet\u001b[0m\u001b[0;34m,\u001b[0m \u001b[0;34m\"results/PTSD_cognet_test.joblib\"\u001b[0m\u001b[0;34m,\u001b[0m \u001b[0mlow_mem\u001b[0m\u001b[0;34m=\u001b[0m\u001b[0;32mFalse\u001b[0m\u001b[0;34m)\u001b[0m\u001b[0;34m\u001b[0m\u001b[0;34m\u001b[0m\u001b[0m\n\u001b[1;32m      7\u001b[0m \u001b[0;32melse\u001b[0m\u001b[0;34m:\u001b[0m\u001b[0;34m\u001b[0m\u001b[0;34m\u001b[0m\u001b[0m\n\u001b[0;32m----> 8\u001b[0;31m     \u001b[0mmodel_obj\u001b[0m\u001b[0;34m.\u001b[0m\u001b[0mload\u001b[0m\u001b[0;34m(\u001b[0m\u001b[0;34m\"results/PTSD_cognet_test.joblib\"\u001b[0m\u001b[0;34m)\u001b[0m\u001b[0;34m\u001b[0m\u001b[0;34m\u001b[0m\u001b[0m\n\u001b[0m",
      "\u001b[0;32m~/.local/lib/python3.10/site-packages/cognet/model.py\u001b[0m in \u001b[0;36mload\u001b[0;34m(self, file_path, VERBOSE)\u001b[0m\n\u001b[1;32m     90\u001b[0m             \u001b[0mself\u001b[0m\u001b[0;34m.\u001b[0m\u001b[0mmyQnet\u001b[0m \u001b[0;34m=\u001b[0m \u001b[0mload_qnet\u001b[0m\u001b[0;34m(\u001b[0m\u001b[0murl_file\u001b[0m\u001b[0;34m)\u001b[0m\u001b[0;34m\u001b[0m\u001b[0;34m\u001b[0m\u001b[0m\n\u001b[1;32m     91\u001b[0m         \u001b[0;32melse\u001b[0m\u001b[0;34m:\u001b[0m\u001b[0;34m\u001b[0m\u001b[0;34m\u001b[0m\u001b[0m\n\u001b[0;32m---> 92\u001b[0;31m             \u001b[0mself\u001b[0m\u001b[0;34m.\u001b[0m\u001b[0mmyQnet\u001b[0m \u001b[0;34m=\u001b[0m \u001b[0mload_qnet\u001b[0m\u001b[0;34m(\u001b[0m\u001b[0mfile_path\u001b[0m\u001b[0;34m)\u001b[0m\u001b[0;34m\u001b[0m\u001b[0;34m\u001b[0m\u001b[0m\n\u001b[0m\u001b[1;32m     93\u001b[0m         \u001b[0mself\u001b[0m\u001b[0;34m.\u001b[0m\u001b[0mfeatures\u001b[0m \u001b[0;34m=\u001b[0m \u001b[0mself\u001b[0m\u001b[0;34m.\u001b[0m\u001b[0mmyQnet\u001b[0m\u001b[0;34m.\u001b[0m\u001b[0mfeature_names\u001b[0m\u001b[0;34m\u001b[0m\u001b[0;34m\u001b[0m\u001b[0m\n\u001b[1;32m     94\u001b[0m         \u001b[0;32mif\u001b[0m \u001b[0mVERBOSE\u001b[0m\u001b[0;34m:\u001b[0m\u001b[0;34m\u001b[0m\u001b[0;34m\u001b[0m\u001b[0m\n",
      "\u001b[0;32m~/.local/lib/python3.10/site-packages/quasinet/qnet.py\u001b[0m in \u001b[0;36mload_qnet\u001b[0;34m(f)\u001b[0m\n\u001b[1;32m    726\u001b[0m     \"\"\"\n\u001b[1;32m    727\u001b[0m \u001b[0;34m\u001b[0m\u001b[0m\n\u001b[0;32m--> 728\u001b[0;31m     \u001b[0mqnet\u001b[0m \u001b[0;34m=\u001b[0m \u001b[0mload\u001b[0m\u001b[0;34m(\u001b[0m\u001b[0mf\u001b[0m\u001b[0;34m)\u001b[0m\u001b[0;34m\u001b[0m\u001b[0;34m\u001b[0m\u001b[0m\n\u001b[0m\u001b[1;32m    729\u001b[0m     \u001b[0;32massert\u001b[0m \u001b[0misinstance\u001b[0m\u001b[0;34m(\u001b[0m\u001b[0mqnet\u001b[0m\u001b[0;34m,\u001b[0m \u001b[0mQnet\u001b[0m\u001b[0;34m)\u001b[0m\u001b[0;34m\u001b[0m\u001b[0;34m\u001b[0m\u001b[0m\n\u001b[1;32m    730\u001b[0m \u001b[0;34m\u001b[0m\u001b[0m\n",
      "\u001b[0;32m~/.local/lib/python3.10/site-packages/joblib/numpy_pickle.py\u001b[0m in \u001b[0;36mload\u001b[0;34m(filename, mmap_mode)\u001b[0m\n\u001b[1;32m    585\u001b[0m                     \u001b[0;32mreturn\u001b[0m \u001b[0mload_compatibility\u001b[0m\u001b[0;34m(\u001b[0m\u001b[0mfobj\u001b[0m\u001b[0;34m)\u001b[0m\u001b[0;34m\u001b[0m\u001b[0;34m\u001b[0m\u001b[0m\n\u001b[1;32m    586\u001b[0m \u001b[0;34m\u001b[0m\u001b[0m\n\u001b[0;32m--> 587\u001b[0;31m                 \u001b[0mobj\u001b[0m \u001b[0;34m=\u001b[0m \u001b[0m_unpickle\u001b[0m\u001b[0;34m(\u001b[0m\u001b[0mfobj\u001b[0m\u001b[0;34m,\u001b[0m \u001b[0mfilename\u001b[0m\u001b[0;34m,\u001b[0m \u001b[0mmmap_mode\u001b[0m\u001b[0;34m)\u001b[0m\u001b[0;34m\u001b[0m\u001b[0;34m\u001b[0m\u001b[0m\n\u001b[0m\u001b[1;32m    588\u001b[0m     \u001b[0;32mreturn\u001b[0m \u001b[0mobj\u001b[0m\u001b[0;34m\u001b[0m\u001b[0;34m\u001b[0m\u001b[0m\n",
      "\u001b[0;32m~/.local/lib/python3.10/site-packages/joblib/numpy_pickle.py\u001b[0m in \u001b[0;36m_unpickle\u001b[0;34m(fobj, filename, mmap_mode)\u001b[0m\n\u001b[1;32m    504\u001b[0m     \u001b[0mobj\u001b[0m \u001b[0;34m=\u001b[0m \u001b[0;32mNone\u001b[0m\u001b[0;34m\u001b[0m\u001b[0;34m\u001b[0m\u001b[0m\n\u001b[1;32m    505\u001b[0m     \u001b[0;32mtry\u001b[0m\u001b[0;34m:\u001b[0m\u001b[0;34m\u001b[0m\u001b[0;34m\u001b[0m\u001b[0m\n\u001b[0;32m--> 506\u001b[0;31m         \u001b[0mobj\u001b[0m \u001b[0;34m=\u001b[0m \u001b[0munpickler\u001b[0m\u001b[0;34m.\u001b[0m\u001b[0mload\u001b[0m\u001b[0;34m(\u001b[0m\u001b[0;34m)\u001b[0m\u001b[0;34m\u001b[0m\u001b[0;34m\u001b[0m\u001b[0m\n\u001b[0m\u001b[1;32m    507\u001b[0m         \u001b[0;32mif\u001b[0m \u001b[0munpickler\u001b[0m\u001b[0;34m.\u001b[0m\u001b[0mcompat_mode\u001b[0m\u001b[0;34m:\u001b[0m\u001b[0;34m\u001b[0m\u001b[0;34m\u001b[0m\u001b[0m\n\u001b[1;32m    508\u001b[0m             warnings.warn(\"The file '%s' has been generated with a \"\n",
      "\u001b[0;32m/usr/lib64/python3.10/pickle.py\u001b[0m in \u001b[0;36mload\u001b[0;34m(self)\u001b[0m\n\u001b[1;32m   1211\u001b[0m                     \u001b[0;32mraise\u001b[0m \u001b[0mEOFError\u001b[0m\u001b[0;34m\u001b[0m\u001b[0;34m\u001b[0m\u001b[0m\n\u001b[1;32m   1212\u001b[0m                 \u001b[0;32massert\u001b[0m \u001b[0misinstance\u001b[0m\u001b[0;34m(\u001b[0m\u001b[0mkey\u001b[0m\u001b[0;34m,\u001b[0m \u001b[0mbytes_types\u001b[0m\u001b[0;34m)\u001b[0m\u001b[0;34m\u001b[0m\u001b[0;34m\u001b[0m\u001b[0m\n\u001b[0;32m-> 1213\u001b[0;31m                 \u001b[0mdispatch\u001b[0m\u001b[0;34m[\u001b[0m\u001b[0mkey\u001b[0m\u001b[0;34m[\u001b[0m\u001b[0;36m0\u001b[0m\u001b[0;34m]\u001b[0m\u001b[0;34m]\u001b[0m\u001b[0;34m(\u001b[0m\u001b[0mself\u001b[0m\u001b[0;34m)\u001b[0m\u001b[0;34m\u001b[0m\u001b[0;34m\u001b[0m\u001b[0m\n\u001b[0m\u001b[1;32m   1214\u001b[0m         \u001b[0;32mexcept\u001b[0m \u001b[0m_Stop\u001b[0m \u001b[0;32mas\u001b[0m \u001b[0mstopinst\u001b[0m\u001b[0;34m:\u001b[0m\u001b[0;34m\u001b[0m\u001b[0;34m\u001b[0m\u001b[0m\n\u001b[1;32m   1215\u001b[0m             \u001b[0;32mreturn\u001b[0m \u001b[0mstopinst\u001b[0m\u001b[0;34m.\u001b[0m\u001b[0mvalue\u001b[0m\u001b[0;34m\u001b[0m\u001b[0;34m\u001b[0m\u001b[0m\n",
      "\u001b[0;32m/usr/lib64/python3.10/pickle.py\u001b[0m in \u001b[0;36mload_long_binput\u001b[0;34m(self)\u001b[0m\n\u001b[1;32m   1648\u001b[0m \u001b[0;34m\u001b[0m\u001b[0m\n\u001b[1;32m   1649\u001b[0m     \u001b[0;32mdef\u001b[0m \u001b[0mload_long_binput\u001b[0m\u001b[0;34m(\u001b[0m\u001b[0mself\u001b[0m\u001b[0;34m)\u001b[0m\u001b[0;34m:\u001b[0m\u001b[0;34m\u001b[0m\u001b[0;34m\u001b[0m\u001b[0m\n\u001b[0;32m-> 1650\u001b[0;31m         \u001b[0mi\u001b[0m\u001b[0;34m,\u001b[0m \u001b[0;34m=\u001b[0m \u001b[0munpack\u001b[0m\u001b[0;34m(\u001b[0m\u001b[0;34m'<I'\u001b[0m\u001b[0;34m,\u001b[0m \u001b[0mself\u001b[0m\u001b[0;34m.\u001b[0m\u001b[0mread\u001b[0m\u001b[0;34m(\u001b[0m\u001b[0;36m4\u001b[0m\u001b[0;34m)\u001b[0m\u001b[0;34m)\u001b[0m\u001b[0;34m\u001b[0m\u001b[0;34m\u001b[0m\u001b[0m\n\u001b[0m\u001b[1;32m   1651\u001b[0m         \u001b[0;32mif\u001b[0m \u001b[0mi\u001b[0m \u001b[0;34m>\u001b[0m \u001b[0mmaxsize\u001b[0m\u001b[0;34m:\u001b[0m\u001b[0;34m\u001b[0m\u001b[0;34m\u001b[0m\u001b[0m\n\u001b[1;32m   1652\u001b[0m             \u001b[0;32mraise\u001b[0m \u001b[0mValueError\u001b[0m\u001b[0;34m(\u001b[0m\u001b[0;34m\"negative LONG_BINPUT argument\"\u001b[0m\u001b[0;34m)\u001b[0m\u001b[0;34m\u001b[0m\u001b[0;34m\u001b[0m\u001b[0m\n",
      "\u001b[0;32m/usr/lib64/python3.10/pickle.py\u001b[0m in \u001b[0;36mread\u001b[0;34m(self, n)\u001b[0m\n\u001b[1;32m    285\u001b[0m             \u001b[0;32mreturn\u001b[0m \u001b[0mn\u001b[0m\u001b[0;34m\u001b[0m\u001b[0;34m\u001b[0m\u001b[0m\n\u001b[1;32m    286\u001b[0m \u001b[0;34m\u001b[0m\u001b[0m\n\u001b[0;32m--> 287\u001b[0;31m     \u001b[0;32mdef\u001b[0m \u001b[0mread\u001b[0m\u001b[0;34m(\u001b[0m\u001b[0mself\u001b[0m\u001b[0;34m,\u001b[0m \u001b[0mn\u001b[0m\u001b[0;34m)\u001b[0m\u001b[0;34m:\u001b[0m\u001b[0;34m\u001b[0m\u001b[0;34m\u001b[0m\u001b[0m\n\u001b[0m\u001b[1;32m    288\u001b[0m         \u001b[0;32mif\u001b[0m \u001b[0mself\u001b[0m\u001b[0;34m.\u001b[0m\u001b[0mcurrent_frame\u001b[0m\u001b[0;34m:\u001b[0m\u001b[0;34m\u001b[0m\u001b[0;34m\u001b[0m\u001b[0m\n\u001b[1;32m    289\u001b[0m             \u001b[0mdata\u001b[0m \u001b[0;34m=\u001b[0m \u001b[0mself\u001b[0m\u001b[0;34m.\u001b[0m\u001b[0mcurrent_frame\u001b[0m\u001b[0;34m.\u001b[0m\u001b[0mread\u001b[0m\u001b[0;34m(\u001b[0m\u001b[0mn\u001b[0m\u001b[0;34m)\u001b[0m\u001b[0;34m\u001b[0m\u001b[0;34m\u001b[0m\u001b[0m\n",
      "\u001b[0;31mKeyboardInterrupt\u001b[0m: "
     ]
    }
   ],
   "source": [
    "fit = False\n",
    "model_obj = model()\n",
    "if fit:\n",
    "    model_obj.fit(data_obj=data_obj, njobs=2)\n",
    "    # model_obj.save(\"examples_results/PTSD_cognet_test.joblib\")\n",
    "    save_qnet(model_obj.myQnet, \"results/PTSD_cognet_test.joblib\", low_mem=False)\n",
    "else:\n",
    "    model_obj.load(\"results/PTSD_cognet_test.joblib\")"
   ]
  },
  {
   "cell_type": "code",
   "execution_count": null,
   "id": "09ab5308",
   "metadata": {},
   "outputs": [],
   "source": [
    "# load Qnet, write mpi files for distance matrix\n",
    "# run qdistance matrix with \"./mpi_run.sh\" command\n",
    "cognet_obj = cg()\n",
    "cognet_obj.load_from_model(model_obj, data_obj, 'all')\n",
    "cognet_obj.samples"
   ]
  },
  {
   "cell_type": "markdown",
   "id": "5f566fea-8a02-48ac-8864-e6d0a7f61b78",
   "metadata": {},
   "source": [
    "# Compute dissonance and random mask reconstruction for Qnet samples"
   ]
  },
  {
   "cell_type": "code",
   "execution_count": null,
   "id": "e04b2205",
   "metadata": {
    "tags": []
   },
   "outputs": [],
   "source": [
    "# compute dissonance matrix of qnet samples\n",
    "cognet_obj.set_nsamples(304)\n",
    "cognet_obj.MAX_PROCESSES = 11\n",
    "return_dict = cognet_obj.dissonance_matrix(outfile=\"mpi_tmp/PTSD_dissonance_matrix.csv\", processes=2)\n",
    "return_dict\n",
    "qnet_dissonance_df=pd.DataFrame(return_dict.copy())\n",
    "\n",
    "# computing random mask reconstruction of qnet samples\n",
    "print(\"___________________________________________________\")\n",
    "cognet_obj.set_nsamples(304)\n",
    "cognet_obj.steps = 1000\n",
    "qnet_randommask_df = cognet_obj.randomMaskReconstruction_multiple('results/PTSD_randomMaskRecon_test.csv',  save_samples=True)\n",
    "qnet_randommask_df"
   ]
  },
  {
   "cell_type": "code",
   "execution_count": null,
   "id": "9ace6af7-5fa8-4d31-b5c9-3f9dcf0c2c57",
   "metadata": {},
   "outputs": [],
   "source": [
    "qnet_dissonance_df.mean(axis=1).hist()\n",
    "plt.title(\"Dissonance of Qnet Samples\")\n",
    "plt.xlabel(\"Dissonance\")\n",
    "plt.ylabel(\"Frequency\")\n",
    "plt.show()"
   ]
  },
  {
   "cell_type": "code",
   "execution_count": null,
   "id": "21a2d152-efdf-4729-b431-ff3adf379467",
   "metadata": {},
   "outputs": [],
   "source": [
    "cognet_obj.steps = 200\n",
    "# computing random mask reconstruction of qnet samples\n",
    "print(\"___________________________________________________\")\n",
    "cognet_obj.set_nsamples(304)\n",
    "qnet_randommask_df_200step = cognet_obj.randomMaskReconstruction_multiple('results/PTSD_randomMaskRecon_test.csv',  save_samples=False)\n",
    "qnet_randommask_df_200step"
   ]
  },
  {
   "cell_type": "code",
   "execution_count": null,
   "id": "a07a067e-86ef-4393-a382-612c14157d71",
   "metadata": {},
   "outputs": [],
   "source": [
    "# redefine the reconstruction error for PTSD\n",
    "samples=[]\n",
    "for s in qnet_randommask_df['sample']:\n",
    "    samples.append(list(s))\n",
    "qnet_randommask_samples=pd.DataFrame(data=samples, columns=features, dtype='int').astype(int)\n",
    "qnet_randommask_samples\n",
    "\n",
    "qsamples=[]\n",
    "for s in qnet_randommask_df['qsampled']:\n",
    "    qsamples.append(list(s))\n",
    "qnet_randommask_qsamples=pd.DataFrame(data=qsamples, columns=features, dtype='int').replace('',0).astype(int)"
   ]
  },
  {
   "cell_type": "code",
   "execution_count": null,
   "id": "83d70a3c-0849-4c45-a42e-fc566c9ee5cd",
   "metadata": {},
   "outputs": [],
   "source": [
    "# calculate the recon error\n",
    "diff_df = qnet_randommask_samples - qnet_randommask_qsamples\n",
    "diff_df1 = diff_df.copy()\n",
    "diff_df[\"diff sum\"] = diff_df.sum(axis=1)\n",
    "num_masked = pd.DataFrame([len(list(s)) for s in qnet_randommask_df['mask_']], columns=[\"num masked\"])\n",
    "diff_df[\"num masked\"] = num_masked\n",
    "diff_df[\"recon_results\"] = diff_df[\"diff sum\"] / diff_df[\"num masked\"]\n",
    "\n",
    "# add PTSD indicator\n",
    "PTSD_indicator = pd.read_csv(\"data/PTSD_cognet_test.csv\")[[\"PTSDDx\"]]\n",
    "\n",
    "print(diff_df1[PTSD_indicator[\"PTSDDx\"] == 0].mean().mean(),diff_df1[PTSD_indicator[\"PTSDDx\"] == 1].mean().mean())"
   ]
  },
  {
   "cell_type": "code",
   "execution_count": null,
   "id": "e6beb794-e9c8-4722-959d-a93e50283017",
   "metadata": {},
   "outputs": [],
   "source": [
    "diff_df1[PTSD_indicator[\"PTSDDx\"] == 0]"
   ]
  },
  {
   "cell_type": "code",
   "execution_count": null,
   "id": "f9729bb5-f5c4-41d0-b6f7-e2fd96c27420",
   "metadata": {},
   "outputs": [],
   "source": [
    "diff_df1[PTSD_indicator[\"PTSDDx\"] == 1]"
   ]
  },
  {
   "cell_type": "code",
   "execution_count": null,
   "id": "9f0eb597-1405-495d-be75-6113bf96741c",
   "metadata": {},
   "outputs": [],
   "source": [
    "len(diff_df1[PTSD_indicator[\"PTSDDx\"] == 1])"
   ]
  },
  {
   "cell_type": "code",
   "execution_count": null,
   "id": "0a385021-813e-4bc7-8022-b982c2b0e741",
   "metadata": {},
   "outputs": [],
   "source": [
    "# plot the recon error grouped by PTSD indicator\n",
    "plt.figure(figsize=[20,6])\n",
    "plt.subplot(2,1,1)\n",
    "plt.subplots_adjust(hspace=.5)\n",
    "diff_df1[PTSD_indicator[\"PTSDDx\"] == 0].mean().plot(kind='bar',color='r')\n",
    "ax0=plt.gca()\n",
    "\n",
    "plt.subplot(2,1,2)\n",
    "diff_df1[PTSD_indicator[\"PTSDDx\"] == 1].mean().plot(kind='bar',color='k')\n",
    "ax=plt.gca()\n",
    "\n",
    "[label.set_visible(False) for x in [ax, ax0] for label in x.xaxis.get_ticklabels()[::2]]\n",
    "ax0.set_title('mean reconstruction error',fontsize=20,fontweight='bold')\n",
    "ax0.legend(['positive'],fontsize=18)\n",
    "ax.legend(['negative'],fontsize=18)\n",
    "\n",
    "# plt.gca().set_xlabel('')\n",
    "# diff_df1.mean().plot(kind=\"bar\")\n",
    "# ax=plt.gca()\n",
    "# [label.set_visible(False) for label in ax.xaxis.get_ticklabels()[::2]]\n",
    "# ax.set_title('mean reconstruction error',fontsize=15,fontweight='bold')"
   ]
  },
  {
   "cell_type": "markdown",
   "id": "800c43b4-b541-4d17-ad34-9a3cacaebbe4",
   "metadata": {},
   "source": [
    "# Drawing Random Samples from Uniform Distribution"
   ]
  },
  {
   "cell_type": "code",
   "execution_count": null,
   "id": "3fd4a13c-cd2b-46a0-989f-4ef18ec12454",
   "metadata": {},
   "outputs": [],
   "source": [
    "print(\"__________________________________________________\")\n",
    "n = 304\n",
    "print(\"{} random samples computed\".format(n))\n",
    "usamples = cognet_obj.random_sample(type=\"uniform\",n=n, n_jobs=3)\n",
    "results = []\n",
    "for s in range(len(usamples)):\n",
    "    results.append(cognet_obj.dissonance(0, sample=usamples.iloc[s]))\n",
    "urandom_dissonance_df = pd.DataFrame(results)\n",
    "urandom_dissonance_df"
   ]
  },
  {
   "cell_type": "code",
   "execution_count": null,
   "id": "8e14a9fe-1aa7-4fa8-9bab-4f3c4748ab49",
   "metadata": {},
   "outputs": [],
   "source": [
    "# find confidence interval for random samples drawn from uniform distributions\n",
    "qnet_mean = urandom_dissonance_df.mean(axis=1).mean()\n",
    "qnet_std = urandom_dissonance_df.mean(axis=1).std(ddof=1)\n",
    "alpha_p1 = 0.1\n",
    "alpha_p05 = 0.05\n",
    "n_sided = 1 # 1-sided test\n",
    "z_crit = stats.norm.ppf(1-alpha_p1/n_sided)\n",
    "threshold_p1=(-z_crit*qnet_std)+qnet_mean\n",
    "\n",
    "z_crit = stats.norm.ppf(1-alpha_p05/n_sided)\n",
    "threshold_p05=(-z_crit*qnet_std)+qnet_mean\n",
    "\n",
    "print('Uniform Random Sampling Threshold (90%): ',threshold_p1)\n",
    "print('Uniform Random Sampling Threshold (95%): ',threshold_p05)\n",
    "\n",
    "plt.figure()\n",
    "udissonance_df = pd.DataFrame(data=qnet_dissonance_df.mean(axis=1), columns=[\"Qnet\"])\n",
    "udissonance_df[\"random\"] = urandom_dissonance_df.mean(axis=1)\n",
    "plt.hist(udissonance_df[\"Qnet\"], alpha=0.5, label=\"Qnet samples\")\n",
    "plt.hist(udissonance_df[\"random\"], alpha=0.5, label=\"random samples\")\n",
    "plt.legend()\n",
    "plt.axvline(threshold_p05, color=\"red\", linestyle=\"--\", alpha=.8)\n",
    "plt.show()"
   ]
  },
  {
   "cell_type": "markdown",
   "id": "47742a52-4100-4407-a04b-854910995295",
   "metadata": {},
   "source": [
    "# Comparing Positive vs Negative PTSD dissonance and reconstruction results"
   ]
  },
  {
   "cell_type": "code",
   "execution_count": null,
   "id": "0fb7d066-a082-4538-a9f3-8be48f4622f2",
   "metadata": {},
   "outputs": [],
   "source": [
    "# getting positive and negative PTSD samples and merging with dissonance and reconstruction results\n",
    "PTSD_DATA = pd.read_csv(\"data/PTSD_cognet_test.csv\")[[\"PTSDDx\"]]\n",
    "\n",
    "PTSD_DATA[\"Mean Reconstruction\"] = diff_df[\"recon_results\"] # qnet_randommask_df[\"rederr\"]\n",
    "PTSD_DATA[\"Mean Dissonance\"] = qnet_dissonance_df.mean(axis=1)\n",
    "\n",
    "plt.style.use('fivethirtyeight')\n",
    "PTSD_DATA.plot.scatter(\"Mean Dissonance\", \"Mean Reconstruction\", c=\"PTSDDx\")"
   ]
  },
  {
   "cell_type": "code",
   "execution_count": null,
   "id": "6162c381-2eec-4b10-b617-33ce00a27098",
   "metadata": {},
   "outputs": [],
   "source": [
    "# plotting negative vs postive PTSD samples\n",
    "#random_mask_dissonance_df.plot.scatter(\"Mean Dissonance\", \"Mean Reconstruction\", c=\"actual\")\n",
    "plt.axvline(threshold_p05, color=\"red\", linestyle=\"--\", alpha=.8)\n",
    "sns.scatterplot(PTSD_DATA[\"Mean Dissonance\"],\n",
    "                PTSD_DATA[\"Mean Reconstruction\"],\n",
    "                hue=PTSD_DATA[\"PTSDDx\"]).set(ylim=(-3, 3))"
   ]
  },
  {
   "cell_type": "code",
   "execution_count": null,
   "id": "189d87c6-5413-483a-81ab-c68c9025d90d",
   "metadata": {},
   "outputs": [],
   "source": [
    "print(\"Number of negative PTSD results that are 'suspect' at alpha level of .05:\", len(PTSD_DATA[(PTSD_DATA[\"Mean Dissonance\"] >= threshold_p05) & (PTSD_DATA[\"PTSDDx\"] == 0)][\"Mean Dissonance\"]))\n",
    "print(\"Number of positive PTSD results that are 'suspect' at alpha level of .05:\", len(PTSD_DATA[(PTSD_DATA[\"Mean Dissonance\"] >= threshold_p05) & (PTSD_DATA[\"PTSDDx\"] == 1)][\"Mean Dissonance\"]))"
   ]
  },
  {
   "cell_type": "code",
   "execution_count": null,
   "id": "a0cc776f-b5b1-4e84-abe4-66baae1cc9ab",
   "metadata": {},
   "outputs": [],
   "source": [
    "PTSD_DATA[(PTSD_DATA[\"Mean Dissonance\"] >= threshold_p05)]"
   ]
  },
  {
   "cell_type": "code",
   "execution_count": null,
   "id": "6efd43c5-650f-4e42-beed-2d5b5a6e3862",
   "metadata": {},
   "outputs": [],
   "source": []
  }
 ],
 "metadata": {
  "kernelspec": {
   "display_name": "Python 3 (ipykernel)",
   "language": "python",
   "name": "python3"
  },
  "language_info": {
   "codemirror_mode": {
    "name": "ipython",
    "version": 3
   },
   "file_extension": ".py",
   "mimetype": "text/x-python",
   "name": "python",
   "nbconvert_exporter": "python",
   "pygments_lexer": "ipython3",
   "version": "3.10.6"
  }
 },
 "nbformat": 4,
 "nbformat_minor": 5
}
