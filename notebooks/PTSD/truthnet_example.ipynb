{
 "cells": [
  {
   "cell_type": "code",
   "execution_count": 1,
   "id": "ff5747d0",
   "metadata": {
    "scrolled": true
   },
   "outputs": [],
   "source": [
    "from truthnet import truthnet\n",
    "import pandas as pd\n",
    "import numpy as np\n",
    "import matplotlib.pyplot as plt\n",
    "import seaborn as sns\n",
    "plt.style.use('fivethirtyeight')"
   ]
  },
  {
   "cell_type": "code",
   "execution_count": 2,
   "id": "21cff12f",
   "metadata": {},
   "outputs": [],
   "source": [
    "Tr=truthnet()"
   ]
  },
  {
   "cell_type": "code",
   "execution_count": 3,
   "id": "2c93f0b3",
   "metadata": {},
   "outputs": [],
   "source": [
    "## load data and infer qnet\n",
    "features,samples = Tr.load_data(datapath=\"data/PTSD_cognet_test_processed.csv\")"
   ]
  },
  {
   "cell_type": "code",
   "execution_count": 4,
   "id": "a9ac8716",
   "metadata": {},
   "outputs": [],
   "source": [
    "Tr.fit(fit=False,modelpath=\"results/PTSD_cognet_test.joblib\")"
   ]
  },
  {
   "cell_type": "code",
   "execution_count": null,
   "id": "0dfd7642",
   "metadata": {},
   "outputs": [],
   "source": [
    "Tr.getDissonance(outfile=\"mpi_tmp/PTSD_dissonance_matrix.csv\",processes=11)"
   ]
  },
  {
   "cell_type": "code",
   "execution_count": null,
   "id": "85dce5e1",
   "metadata": {},
   "outputs": [],
   "source": [
    "#Tr.generateRandomResponse(n=300,processes=11,mode='uniform',alpha=0.05)"
   ]
  },
  {
   "cell_type": "code",
   "execution_count": null,
   "id": "d95ba105",
   "metadata": {},
   "outputs": [],
   "source": [
    "#print(Tr.cithreshold)"
   ]
  },
  {
   "cell_type": "code",
   "execution_count": null,
   "id": "57d7c7ce",
   "metadata": {},
   "outputs": [],
   "source": [
    "suspects=Tr.getSuspects(alpha=.01)"
   ]
  },
  {
   "cell_type": "code",
   "execution_count": null,
   "id": "5a5b3006",
   "metadata": {},
   "outputs": [],
   "source": [
    "suspects.join(pd.read_csv(\"data/PTSD_cognet_test_processed.csv\"))"
   ]
  },
  {
   "cell_type": "code",
   "execution_count": null,
   "id": "ccc51328",
   "metadata": {},
   "outputs": [],
   "source": [
    "plt.figure()\n",
    "plt.style.use('dark_background')\n",
    "dissonance = pd.DataFrame(data=Tr.dissonance.mean(axis=1), columns=[\"Qnet\"])\n",
    "dissonance[\"random\"] = Tr.urandom_dissonance_df.mean(axis=1)\n",
    "plt.hist(dissonance[\"Qnet\"], alpha=0.5, label=\"Qnet samples\")\n",
    "plt.hist(dissonance[\"random\"], alpha=0.5, label=\"random samples\")\n",
    "plt.legend()\n",
    "plt.axvline(Tr.cithreshold[0.01], color=\"red\", linestyle=\"--\", alpha=.8)"
   ]
  },
  {
   "cell_type": "code",
   "execution_count": null,
   "id": "e059ea91",
   "metadata": {},
   "outputs": [],
   "source": [
    "edgesamples=Tr.getEdgesamples(alpha=.01)\n",
    "edgesamples.join(pd.read_csv(\"data/PTSD_cognet_test_processed.csv\"))"
   ]
  },
  {
   "cell_type": "code",
   "execution_count": null,
   "id": "9b173643",
   "metadata": {},
   "outputs": [],
   "source": []
  },
  {
   "cell_type": "code",
   "execution_count": null,
   "id": "36e1a2a2",
   "metadata": {},
   "outputs": [],
   "source": [
    "Tr.cithreshold"
   ]
  },
  {
   "cell_type": "raw",
   "id": "480fdb3b",
   "metadata": {},
   "source": [
    "    def getSuspects(self,\n",
    "                    samples=None,\n",
    "                    alpha=0.05,\n",
    "                    datapath=None,\n",
    "                    processes=None,\n",
    "                    append=True,\n",
    "                    steps=None,\n",
    "                    mode='uniform'):\n",
    "\n",
    "        if samples is None:\n",
    "            samples=len(self.samples)\n",
    "        if processes is None:\n",
    "            processes=self.cognet_obj.MAX_PROCESSES\n",
    "\n",
    "        if mode=='null':\n",
    "            if steps is None:\n",
    "                steps=self.QSTEPS                \n",
    "        \n",
    "        self.generateRandomResponse(n=samples,\n",
    "                                    processes=processes,\n",
    "                                    steps=steps,\n",
    "                                    mode=mode,alpha=alpha)\n",
    "        if datapath is None:\n",
    "            datapath=self.datapath\n",
    "        __data=pd.read_csv(datapath)\n",
    "        __data[\"mdissonance\"] = self.dissonance.mean(axis=1)\n",
    "\n",
    "        suspects=__data[__data.mdissonance>=self.cithreshold[alpha]].copy()\n",
    "\n",
    "        if append:\n",
    "            if self.suspects.empty:\n",
    "                self.suspects=suspects.copy()\n",
    "                self.suspects=self.suspects.assign(mode=mode,\n",
    "                                                   alpha=alpha)\n",
    "            else:\n",
    "                self.suspects=pd.concat([self.suspects,\n",
    "                                    suspects.assign(mode=mode,alpha=alpha)])\n",
    "        else:\n",
    "            self.suspects=suspects.copy()\n",
    "            self.suspects=self.suspects.assign(mode=mode,\n",
    "                                               alpha=alpha)\n",
    "        \n",
    "        self.suspects.drop_duplicates(inplace=True)\n",
    "        return self.suspects.copy()\n"
   ]
  }
 ],
 "metadata": {
  "kernelspec": {
   "display_name": "Python 3 (ipykernel)",
   "language": "python",
   "name": "python3"
  },
  "language_info": {
   "codemirror_mode": {
    "name": "ipython",
    "version": 3
   },
   "file_extension": ".py",
   "mimetype": "text/x-python",
   "name": "python",
   "nbconvert_exporter": "python",
   "pygments_lexer": "ipython3",
   "version": "3.7.5"
  }
 },
 "nbformat": 4,
 "nbformat_minor": 5
}
