{
 "cells": [
  {
   "cell_type": "markdown",
   "metadata": {},
   "source": [
    "## Example deployment function\n",
    "\n",
    "Using global data"
   ]
  },
  {
   "cell_type": "code",
   "execution_count": 1,
   "metadata": {},
   "outputs": [],
   "source": [
    "import pandas as pd"
   ]
  },
  {
   "cell_type": "code",
   "execution_count": 2,
   "metadata": {},
   "outputs": [],
   "source": [
    "def dissonance(\n",
    "    resp_dict,\n",
    "    model_paths,\n",
    "    classifier,\n",
    "):\n",
    "    \"\"\"_summary_\n",
    "\n",
    "    Args:\n",
    "        resp_dict (_type_): response dictionary with keys as questions and values as subjects' responses\n",
    "        model_paths (_type_): paths to qnet models used for computing dissonances\n",
    "        question_order (_type_): order of questions used by qnets specified in `model_paths`\n",
    "        classifier (_type_, optional): pretrained classifier used to compute malingering probability. Defaults to None.\n",
    "\n",
    "    Returns:\n",
    "        _type_: dissonance(s) of subjects (and malingering prob, if classifier is provided)\n",
    "    \"\"\"\n",
    "    import numpy as np\n",
    "    from quasinet.qnet import load_qnet\n",
    "\n",
    "    def _diss_linear(s, qnet, missing_value=0):\n",
    "        diss = list()\n",
    "        Ds = qnet.predict_distributions(s)\n",
    "\n",
    "        for i in range(len(s)):\n",
    "            if s[i] != \"\":\n",
    "                if s[i] in Ds[i].keys():\n",
    "                    diss.append(1 - Ds[i][s[i]] / np.max(list(Ds[i].values())))\n",
    "                elif s[i] == \"missing\":\n",
    "                    diss.append(missing_value)\n",
    "                else:\n",
    "                    diss.append(1)\n",
    "\n",
    "        return np.array(diss)\n",
    "\n",
    "    def _actual_sample_dissonance(\n",
    "        data_sample, diss_models, diss_fcn, order, length, missing_value=0\n",
    "    ):\n",
    "        if order is None:\n",
    "            order = range(length)\n",
    "\n",
    "        sample = np.full(length, \"\", dtype=\"<U21\")\n",
    "\n",
    "        diss = [list() for model in diss_models]\n",
    "\n",
    "        for i in order:\n",
    "            if data_sample[i] == \"\":\n",
    "                sample[i] = \"missing\"\n",
    "            else:\n",
    "                sample[i] = data_sample[i]\n",
    "            for d, model in zip(diss, diss_models):\n",
    "                d.append(diss_fcn(sample, model, missing_value))\n",
    "\n",
    "        return sample, diss\n",
    "\n",
    "    def _all_actual_samples_dissonance(\n",
    "        data_samples, diss_models, diss_fcn, order, length, missing_value=0\n",
    "    ):\n",
    "        samples = list()\n",
    "        dissonances = list()\n",
    "\n",
    "        for data_sample in data_samples:\n",
    "            samp, diss = _actual_sample_dissonance(\n",
    "                data_sample, diss_models, diss_fcn, order, length, missing_value\n",
    "            )\n",
    "            samples.append(samp)\n",
    "            dissonances.append(diss)\n",
    "\n",
    "        return samples, dissonances\n",
    "\n",
    "    def _dissonance_data_at_question(dissonances, questions_asked):\n",
    "        return np.array(\n",
    "            [np.hstack([d[questions_asked - 1] for d in diss]) for diss in dissonances]\n",
    "        )\n",
    "\n",
    "    diss_models = [\n",
    "        load_qnet(\n",
    "            model_path,\n",
    "            gz=True,\n",
    "        )\n",
    "        for model_path in model_paths\n",
    "    ]\n",
    "    resp_df = pd.DataFrame(resp_dict).T\n",
    "\n",
    "    resp_fmtd = (\n",
    "        resp_df[diss_models[0].feature_names]\n",
    "        .fillna(-9)\n",
    "        .astype(int)\n",
    "        .replace(-9, \"\")\n",
    "        .to_numpy()\n",
    "    )\n",
    "\n",
    "    resp_diss = _all_actual_samples_dissonance(\n",
    "        resp_fmtd,\n",
    "        diss_models,\n",
    "        _diss_linear,\n",
    "        range(resp_fmtd.shape[1]),\n",
    "        resp_fmtd.shape[1],\n",
    "    )[1]\n",
    "\n",
    "    resp_new = pd.DataFrame(_dissonance_data_at_question(resp_diss, resp_fmtd.shape[1]))\n",
    "\n",
    "    proba = classifier.predict_proba(resp_new)\n",
    "\n",
    "    output_dict = dict.fromkeys(\n",
    "        resp_dict.keys(),\n",
    "    )\n",
    "    for key, val in zip(output_dict.keys(), proba[:, 1]):\n",
    "        output_dict[key] = val\n",
    "\n",
    "    return output_dict"
   ]
  },
  {
   "cell_type": "code",
   "execution_count": 3,
   "metadata": {},
   "outputs": [],
   "source": [
    "resp_dict = pd.read_pickle(\"global-data-example-dict.pkl\")\n",
    "model_paths = [\n",
    "    f\"models/global/random_order_{model}_model_0.joblib.gz\"\n",
    "    for model in [\"full\"]  # , \"neg\", \"pos\"]\n",
    "]\n",
    "classifier = pd.read_pickle(f\"classifiers/global/runif-{346}.pkl\")"
   ]
  },
  {
   "cell_type": "code",
   "execution_count": 4,
   "metadata": {},
   "outputs": [
    {
     "data": {
      "text/plain": [
       "{0: 0.01,\n",
       " 1: 0.0,\n",
       " 2: 0.0,\n",
       " 3: 0.0,\n",
       " 4: 0.0,\n",
       " 5: 0.02,\n",
       " 6: 0.01,\n",
       " 7: 0.0,\n",
       " 8: 0.0,\n",
       " 9: 0.04}"
      ]
     },
     "execution_count": 4,
     "metadata": {},
     "output_type": "execute_result"
    }
   ],
   "source": [
    "dissonance(resp_dict, model_paths, classifier)"
   ]
  },
  {
   "cell_type": "code",
   "execution_count": null,
   "metadata": {},
   "outputs": [],
   "source": []
  }
 ],
 "metadata": {
  "kernelspec": {
   "display_name": "pkgs",
   "language": "python",
   "name": "python3"
  },
  "language_info": {
   "codemirror_mode": {
    "name": "ipython",
    "version": 3
   },
   "file_extension": ".py",
   "mimetype": "text/x-python",
   "name": "python",
   "nbconvert_exporter": "python",
   "pygments_lexer": "ipython3",
   "version": "3.10.11"
  },
  "orig_nbformat": 4
 },
 "nbformat": 4,
 "nbformat_minor": 2
}
