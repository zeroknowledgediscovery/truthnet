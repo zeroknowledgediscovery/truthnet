{
 "cells": [
  {
   "cell_type": "code",
   "execution_count": 4,
   "id": "ff755a75",
   "metadata": {},
   "outputs": [],
   "source": [
    "import pandas as pd"
   ]
  },
  {
   "cell_type": "code",
   "execution_count": 5,
   "id": "948d6db5",
   "metadata": {},
   "outputs": [],
   "source": [
    "#! pip install xlrd"
   ]
  },
  {
   "cell_type": "code",
   "execution_count": 13,
   "id": "1c2f17cd",
   "metadata": {},
   "outputs": [],
   "source": [
    "df=pd.read_excel('./PTSD-E itembank.xls')"
   ]
  },
  {
   "cell_type": "code",
   "execution_count": 9,
   "id": "89251391",
   "metadata": {},
   "outputs": [],
   "source": [
    "modelpath='./models/ptsd/random_order_pos_model_0.joblib.gz'"
   ]
  },
  {
   "cell_type": "code",
   "execution_count": 10,
   "id": "07136a71",
   "metadata": {},
   "outputs": [],
   "source": [
    "from quasinet.qnet import load_qnet"
   ]
  },
  {
   "cell_type": "code",
   "execution_count": 11,
   "id": "93b9d992",
   "metadata": {},
   "outputs": [],
   "source": [
    "model=load_qnet(modelpath)"
   ]
  },
  {
   "cell_type": "code",
   "execution_count": 14,
   "id": "c95f4d1e",
   "metadata": {},
   "outputs": [
    {
     "data": {
      "text/plain": [
       "array(['ptsd1', 'ptsd2', 'ptsd3', 'ptsd4', 'ptsd5', 'ptsd6', 'ptsd7',\n",
       "       'ptsd8', 'ptsd9', 'ptsd10', 'ptsd11', 'ptsd12', 'ptsd13', 'ptsd14',\n",
       "       'ptsd15', 'ptsd16', 'ptsd17', 'ptsd18', 'ptsd19', 'ptsd20',\n",
       "       'ptsd21', 'ptsd22', 'ptsd23', 'ptsd24', 'ptsd25', 'ptsd26',\n",
       "       'ptsd27', 'ptsd28', 'ptsd29', 'ptsd30', 'ptsd31', 'ptsd32',\n",
       "       'ptsd33', 'ptsd34', 'ptsd35', 'ptsd36', 'ptsd37', 'ptsd38',\n",
       "       'ptsd39', 'ptsd40', 'ptsd41', 'ptsd42', 'ptsd43', 'ptsd44',\n",
       "       'ptsd45', 'ptsd46', 'ptsd47', 'ptsd48', 'ptsd49', 'ptsd50',\n",
       "       'ptsd51', 'ptsd52', 'ptsd53', 'ptsd54', 'ptsd55', 'ptsd56',\n",
       "       'ptsd57', 'ptsd58', 'ptsd59', 'ptsd60', 'ptsd61', 'ptsd62',\n",
       "       'ptsd63', 'ptsd64', 'ptsd65', 'ptsd66', 'ptsd67', 'ptsd68',\n",
       "       'ptsd69', 'ptsd70', 'ptsd71', 'ptsd72', 'ptsd73', 'ptsd74',\n",
       "       'ptsd75', 'ptsd76', 'ptsd77', 'ptsd78', 'ptsd79', 'ptsd80',\n",
       "       'ptsd81', 'ptsd82', 'ptsd83', 'ptsd84', 'ptsd85', 'ptsd86',\n",
       "       'ptsd87', 'ptsd88', 'ptsd89', 'ptsd90', 'ptsd91', 'ptsd92',\n",
       "       'ptsd93', 'ptsd94', 'ptsd95', 'ptsd96', 'ptsd97', 'ptsd98',\n",
       "       'ptsd99', 'ptsd100', 'ptsd101', 'ptsd102', 'ptsd103', 'ptsd104',\n",
       "       'ptsd105', 'ptsd106', 'ptsd107', 'ptsd108', 'ptsd109', 'ptsd110',\n",
       "       'ptsd111', 'ptsd112', 'ptsd113', 'ptsd114', 'ptsd115', 'ptsd116',\n",
       "       'ptsd117', 'ptsd118', 'ptsd119', 'ptsd120', 'ptsd121', 'ptsd122',\n",
       "       'ptsd123', 'ptsd124', 'ptsd125', 'ptsd126', 'ptsd127', 'ptsd128',\n",
       "       'ptsd129', 'ptsd130', 'ptsd131', 'ptsd132', 'ptsd133', 'ptsd134',\n",
       "       'ptsd135', 'ptsd136', 'ptsd137', 'ptsd138', 'ptsd139', 'ptsd140',\n",
       "       'ptsd141', 'ptsd142', 'ptsd143', 'ptsd144', 'ptsd145', 'ptsd146',\n",
       "       'ptsd147', 'ptsd148', 'ptsd149', 'ptsd150', 'ptsd151', 'ptsd152',\n",
       "       'ptsd153', 'ptsd154', 'ptsd155', 'ptsd156', 'ptsd157', 'ptsd158',\n",
       "       'ptsd159', 'ptsd160', 'ptsd161', 'ptsd162', 'ptsd163', 'ptsd164',\n",
       "       'ptsd165', 'ptsd166', 'ptsd167', 'ptsd168', 'ptsd169', 'ptsd170',\n",
       "       'ptsd171', 'ptsd172', 'ptsd173', 'ptsd174', 'ptsd175', 'ptsd176',\n",
       "       'ptsd177', 'ptsd178', 'ptsd179', 'ptsd180', 'ptsd181', 'ptsd182',\n",
       "       'ptsd183', 'ptsd184', 'ptsd185', 'ptsd186', 'ptsd187', 'ptsd188',\n",
       "       'ptsd189', 'ptsd190', 'ptsd191', 'ptsd192', 'ptsd193', 'ptsd194',\n",
       "       'ptsd195', 'ptsd196', 'ptsd197', 'ptsd198', 'ptsd199', 'ptsd200',\n",
       "       'ptsd201', 'ptsd202', 'ptsd203', 'ptsd204', 'ptsd205', 'ptsd206',\n",
       "       'ptsd207', 'ptsd208', 'ptsd209', 'ptsd210', 'ptsd211'],\n",
       "      dtype=object)"
      ]
     },
     "execution_count": 14,
     "metadata": {},
     "output_type": "execute_result"
    }
   ],
   "source": [
    "model.feature_names\n"
   ]
  },
  {
   "cell_type": "code",
   "execution_count": 17,
   "id": "09b30482",
   "metadata": {},
   "outputs": [
    {
     "data": {
      "text/plain": [
       "array(['PTSD1', 'PTSD2', 'PTSD3', 'PTSD4', 'PTSD5', 'PTSD6', 'PTSD7',\n",
       "       'PTSD8', 'PTSD9', 'PTSD10', 'PTSD11', 'PTSD12', 'PTSD13', 'PTSD14',\n",
       "       'PTSD15', 'PTSD16', 'PTSD17', 'PTSD18', 'PTSD19', 'PTSD20',\n",
       "       'PTSD21', 'PTSD22', 'PTSD23', 'PTSD24', 'PTSD25', 'PTSD26',\n",
       "       'PTSD27', 'PTSD28', 'PTSD29', 'PTSD30', 'PTSD31', 'PTSD32',\n",
       "       'PTSD33', 'PTSD34', 'PTSD35', 'PTSD36', 'PTSD37', 'PTSD38',\n",
       "       'PTSD39', 'PTSD40', 'PTSD41', 'PTSD42', 'PTSD44', 'PTSD46',\n",
       "       'PTSD47', 'PTSD48', 'PTSD49', 'PTSD50', 'PTSD51', 'PTSD52',\n",
       "       'PTSD53', 'PTSD54', 'PTSD55', 'PTSD56', 'PCL58', 'PCL59', 'PCL510',\n",
       "       'PCL511', 'PCL512', 'PCL513', 'PCL514', 'PTSD57', 'PTSD58',\n",
       "       'PTSD59', 'PTSD60', 'PTSD61', 'PTSD64', 'PTSD65', 'PTSD66',\n",
       "       'PTSD68', 'PTSD69', 'PTSD70', 'PTSD71', 'PTSD72', 'PTSD73',\n",
       "       'PTSD74', 'PTSD75', 'PTSD76', 'PTSD77', 'PTSD78', 'PTSD79',\n",
       "       'PTSD80', 'PTSD81', 'PTSD82', 'PTSD83', 'PTSD84', 'PTSD85',\n",
       "       'PTSD86', 'PTSD87', 'PTSD88', 'PTSD89', 'PTSD90', 'PTSD91',\n",
       "       'PTSD92', 'PTSD93', 'PTSD94', 'PTSD95', 'PTSD96', 'PTSD97',\n",
       "       'PTSD98', 'PTSD99', 'PTSD100', 'PTSD101', 'PTSD102', 'PTSD103',\n",
       "       'PTSD104', 'PTSD105', 'PTSD106', 'PTSD107', 'PTSD108', 'PTSD109',\n",
       "       'PTSD110', 'PTSD111', 'PTSD112', 'PTSD114', 'PTSD117', 'PTSD118',\n",
       "       'PTSD119', 'PTSD120', 'PTSD121', 'PTSD122', 'PTSD123', 'PTSD124',\n",
       "       'PTSD125', 'PTSD126', 'PTSD127', 'PTSD128', 'PTSD129', 'PCL515',\n",
       "       'PCL516', 'PCL517', 'PCL518', 'PCL519', 'PCL520', 'PTSD130',\n",
       "       'PTSD131', 'PTSD132', 'PTSD133', 'PTSD134', 'PTSD135', 'PTSD136',\n",
       "       'PTSD137', 'PTSD138', 'PTSD139', 'PTSD140', 'PTSD141', 'PTSD142',\n",
       "       'PTSD143', 'PTSD144', 'PTSD145', 'PCL56', 'PCL57', 'PTSD146',\n",
       "       'PTSD147', 'PTSD148', 'PTSD149', 'PTSD150', 'PTSD151', 'PTSD152',\n",
       "       'PTSD153', 'PTSD154', 'PTSD155', 'PTSD156', 'PTSD157', 'PTSD158',\n",
       "       'PTSD159', 'PTSD160', 'PTSD161', 'PTSD162', 'PTSD163', 'PTSD164',\n",
       "       'PTSD165', 'PTSD166', 'PTSD167', 'PTSD168', 'PTSD169', 'PTSD170',\n",
       "       'PTSD171', 'PTSD172', 'PTSD173', 'PTSD174', 'PTSD175', 'PTSD176',\n",
       "       'PTSD177', 'PTSD178', 'PTSD179', 'PTSD180', 'PTSD181', 'PTSD182',\n",
       "       'PTSD183', 'PTSD184', 'PTSD185', 'PTSD186', 'PTSD187', 'PTSD188',\n",
       "       'PTSD189', 'PTSD190', 'PTSD191', 'PCL51', 'PCL52', 'PCL53',\n",
       "       'PCL54', 'PCL55'], dtype=object)"
      ]
     },
     "execution_count": 17,
     "metadata": {},
     "output_type": "execute_result"
    }
   ],
   "source": [
    "df.ItemID.values"
   ]
  },
  {
   "cell_type": "code",
   "execution_count": null,
   "id": "7cfdfa42",
   "metadata": {},
   "outputs": [],
   "source": []
  }
 ],
 "metadata": {
  "kernelspec": {
   "display_name": "Python 3 (ipykernel)",
   "language": "python",
   "name": "python3"
  },
  "language_info": {
   "codemirror_mode": {
    "name": "ipython",
    "version": 3
   },
   "file_extension": ".py",
   "mimetype": "text/x-python",
   "name": "python",
   "nbconvert_exporter": "python",
   "pygments_lexer": "ipython3",
   "version": "3.10.8"
  }
 },
 "nbformat": 4,
 "nbformat_minor": 5
}
