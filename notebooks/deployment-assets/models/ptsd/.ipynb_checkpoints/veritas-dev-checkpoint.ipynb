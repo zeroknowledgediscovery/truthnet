{
 "cells": [
  {
   "cell_type": "code",
   "execution_count": 1,
   "id": "e3c81b3d",
   "metadata": {},
   "outputs": [],
   "source": [
    "from quasinet.qnet import load_qnet\n",
    "from quasinet.qnet import qdistance\n",
    "from quasinet.qsampling import qsample\n",
    "from quasinet.qnet import membership_degree\n",
    "import pandas as pd\n",
    "import numpy as np\n",
    "from tqdm import tqdm\n",
    "from jupyterthemes import jtplot\n",
    "jtplot.style()\n",
    "\n"
   ]
  },
  {
   "cell_type": "code",
   "execution_count": 3,
   "id": "9ab68c3e",
   "metadata": {},
   "outputs": [],
   "source": [
    "def dissonance(pos,seq,model):\n",
    "    if seq[pos]=='':\n",
    "        return np.nan\n",
    "    D=model.predict_distributions(seq) \n",
    "    return 1-D[pos].get(str(seq[pos]),0)\n",
    "def dissonance_distr(seq,model):\n",
    "    return np.array([dissonance(pos,seq,model) for pos in range(len(seq))])\n",
    "\n",
    "def dissonance_distr_median(seq,model):\n",
    "    a=dissonance_distr(seq,model)\n",
    "    return np.median(a[~np.isnan(a)])\n",
    "\n",
    "# create a naive posstr\n",
    "def sample_from_pmf(pmf, L):\n",
    "    \"\"\"\n",
    "    Draw L samples from the given PMF.\n",
    "\n",
    "    :param pmf: A dictionary representing the PMF where keys are outcomes and values are probabilities.\n",
    "    :param L: The number of samples to draw.\n",
    "    :return: A list of L samples.\n",
    "    \"\"\"\n",
    "    # Extract the outcomes and their corresponding probabilities\n",
    "    outcomes = list(pmf.keys())\n",
    "    probabilities = list(pmf.values())\n",
    "\n",
    "    # Draw L samples from the outcomes based on the specified probabilities\n",
    "    samples = np.random.choice(outcomes, size=L, p=probabilities)\n",
    "    return samples   \n"
   ]
  },
  {
   "cell_type": "code",
   "execution_count": 4,
   "id": "a07b454b",
   "metadata": {},
   "outputs": [],
   "source": [
    "pathdata='/home/ishanu/ZED/Research/truthnet/notebooks/data/ptsd/PTSD_cognet_test.csv'\n",
    "df=pd.read_csv(pathdata,index_col=0)\n",
    "model_neg=load_qnet('ptsd_neg.pkl.gz',gz=True)\n",
    "model_pos=load_qnet('ptsd_pos.pkl.gz',gz=True)\n",
    "INDEX=model_neg.shap_index\n",
    "featurenames=df.drop('PTSDDx',axis=1).columns"
   ]
  },
  {
   "cell_type": "code",
   "execution_count": 91,
   "id": "ae1ab471",
   "metadata": {},
   "outputs": [],
   "source": [
    "NULLSTR=np.array(['']*len(model_neg.feature_names))\n",
    "s1=qsample(NULLSTR,model_pos,steps=100000)\n",
    "s0=qsample(NULLSTR,model_neg,steps=100000)\n",
    "\n",
    "def func(s,s0,s1):\n",
    "    return qdistance(s0,s,model_neg,model_neg)/qdistance(s1,s,model_pos,model_pos)\n",
    "\n",
    "def funcw(s):\n",
    "    return membership_degree(s,model_neg)/membership_degree(s,model_pos)\n",
    "\n",
    "def funcm(array):\n",
    "    if isinstance(array, np.ndarray):\n",
    "        if isinstance(array[0], str):\n",
    "            return -membership_degree(array,model_pos)/(array!='').sum() \n",
    "        if isinstance(array[0],np.ndarray):\n",
    "             if isinstance(array[0][0], str):\n"
   ]
  },
  {
   "cell_type": "code",
   "execution_count": 13,
   "id": "b230134d",
   "metadata": {},
   "outputs": [
    {
     "data": {
      "text/plain": [
       "(-224.36532574448097, 0.7885862516212712, 1.6885151103814247)"
      ]
     },
     "execution_count": 13,
     "metadata": {},
     "output_type": "execute_result"
    }
   ],
   "source": [
    "dist={'3':0.3,'4':.2,'5':.5}\n",
    "#dist={'1':.6,'2':.25,'3':.1,'4':.05,'5':0}\n",
    "POSSTR=sample_from_pmf(dist,211)\n",
    "membership_degree(POSSTR,model_pos),dissonance_distr_median(POSSTR,model_pos),funcw(POSSTR)\n",
    "# mem > -250, funcw > 1, but diss > .75 ===> malingering"
   ]
  },
  {
   "cell_type": "code",
   "execution_count": 92,
   "id": "89f0717a",
   "metadata": {},
   "outputs": [
    {
     "ename": "NameError",
     "evalue": "name 's' is not defined",
     "output_type": "error",
     "traceback": [
      "\u001b[0;31m---------------------------------------------------------------------------\u001b[0m",
      "\u001b[0;31mNameError\u001b[0m                                 Traceback (most recent call last)",
      "\u001b[0;32m/tmp/ipykernel_333528/2017243676.py\u001b[0m in \u001b[0;36m<module>\u001b[0;34m\u001b[0m\n\u001b[1;32m      2\u001b[0m \u001b[0;31m#dist={'1':.6,'2':.25,'3':.1,'4':.05,'5':0}\u001b[0m\u001b[0;34m\u001b[0m\u001b[0;34m\u001b[0m\u001b[0m\n\u001b[1;32m      3\u001b[0m \u001b[0mPOSSTR\u001b[0m\u001b[0;34m=\u001b[0m\u001b[0msample_from_pmf\u001b[0m\u001b[0;34m(\u001b[0m\u001b[0mdist\u001b[0m\u001b[0;34m,\u001b[0m\u001b[0;36m211\u001b[0m\u001b[0;34m)\u001b[0m\u001b[0;34m\u001b[0m\u001b[0;34m\u001b[0m\u001b[0m\n\u001b[0;32m----> 4\u001b[0;31m \u001b[0mfuncm\u001b[0m\u001b[0;34m(\u001b[0m\u001b[0mPOSSTR\u001b[0m\u001b[0;34m)\u001b[0m\u001b[0;34m,\u001b[0m\u001b[0mdissonance_distr_median\u001b[0m\u001b[0;34m(\u001b[0m\u001b[0mPOSSTR\u001b[0m\u001b[0;34m,\u001b[0m\u001b[0mmodel_pos\u001b[0m\u001b[0;34m)\u001b[0m\u001b[0;34m,\u001b[0m\u001b[0mfuncw\u001b[0m\u001b[0;34m(\u001b[0m\u001b[0mPOSSTR\u001b[0m\u001b[0;34m)\u001b[0m\u001b[0;34m,\u001b[0m\u001b[0mfunc\u001b[0m\u001b[0;34m(\u001b[0m\u001b[0mPOSSTR\u001b[0m\u001b[0;34m,\u001b[0m\u001b[0ms0\u001b[0m\u001b[0;34m,\u001b[0m\u001b[0ms1\u001b[0m\u001b[0;34m)\u001b[0m\u001b[0;34m\u001b[0m\u001b[0;34m\u001b[0m\u001b[0m\n\u001b[0m\u001b[1;32m      5\u001b[0m \u001b[0;31m# mem > -250, funcw > 1, but diss > .75 ===> malingering\u001b[0m\u001b[0;34m\u001b[0m\u001b[0;34m\u001b[0m\u001b[0m\n",
      "\u001b[0;32m/tmp/ipykernel_333528/1218417215.py\u001b[0m in \u001b[0;36mfuncm\u001b[0;34m(array)\u001b[0m\n\u001b[1;32m     12\u001b[0m     \u001b[0;32mif\u001b[0m \u001b[0misinstance\u001b[0m\u001b[0;34m(\u001b[0m\u001b[0marray\u001b[0m\u001b[0;34m,\u001b[0m \u001b[0mnp\u001b[0m\u001b[0;34m.\u001b[0m\u001b[0mndarray\u001b[0m\u001b[0;34m)\u001b[0m\u001b[0;34m:\u001b[0m\u001b[0;34m\u001b[0m\u001b[0;34m\u001b[0m\u001b[0m\n\u001b[1;32m     13\u001b[0m         \u001b[0;32mif\u001b[0m \u001b[0misinstance\u001b[0m\u001b[0;34m(\u001b[0m\u001b[0marray\u001b[0m\u001b[0;34m[\u001b[0m\u001b[0;36m0\u001b[0m\u001b[0;34m]\u001b[0m\u001b[0;34m,\u001b[0m \u001b[0mstr\u001b[0m\u001b[0;34m)\u001b[0m\u001b[0;34m:\u001b[0m\u001b[0;34m\u001b[0m\u001b[0;34m\u001b[0m\u001b[0m\n\u001b[0;32m---> 14\u001b[0;31m             \u001b[0;32mreturn\u001b[0m \u001b[0;34m-\u001b[0m\u001b[0mmembership_degree\u001b[0m\u001b[0;34m(\u001b[0m\u001b[0ms\u001b[0m\u001b[0;34m,\u001b[0m\u001b[0mmodel_pos\u001b[0m\u001b[0;34m)\u001b[0m\u001b[0;34m/\u001b[0m\u001b[0;34m(\u001b[0m\u001b[0ms\u001b[0m\u001b[0;34m!=\u001b[0m\u001b[0;34m''\u001b[0m\u001b[0;34m)\u001b[0m\u001b[0;34m.\u001b[0m\u001b[0msum\u001b[0m\u001b[0;34m(\u001b[0m\u001b[0;34m)\u001b[0m\u001b[0;34m\u001b[0m\u001b[0;34m\u001b[0m\u001b[0m\n\u001b[0m\u001b[1;32m     15\u001b[0m         \u001b[0;32mif\u001b[0m \u001b[0misinstance\u001b[0m\u001b[0;34m(\u001b[0m\u001b[0marray\u001b[0m\u001b[0;34m[\u001b[0m\u001b[0;36m0\u001b[0m\u001b[0;34m]\u001b[0m\u001b[0;34m,\u001b[0m\u001b[0mnp\u001b[0m\u001b[0;34m.\u001b[0m\u001b[0mndarray\u001b[0m\u001b[0;34m)\u001b[0m\u001b[0;34m:\u001b[0m\u001b[0;34m\u001b[0m\u001b[0;34m\u001b[0m\u001b[0m\n\u001b[1;32m     16\u001b[0m              \u001b[0;32mif\u001b[0m \u001b[0misinstance\u001b[0m\u001b[0;34m(\u001b[0m\u001b[0marray\u001b[0m\u001b[0;34m[\u001b[0m\u001b[0;36m0\u001b[0m\u001b[0;34m]\u001b[0m\u001b[0;34m[\u001b[0m\u001b[0;36m0\u001b[0m\u001b[0;34m]\u001b[0m\u001b[0;34m,\u001b[0m \u001b[0mstr\u001b[0m\u001b[0;34m)\u001b[0m\u001b[0;34m:\u001b[0m\u001b[0;34m\u001b[0m\u001b[0;34m\u001b[0m\u001b[0m\n",
      "\u001b[0;31mNameError\u001b[0m: name 's' is not defined"
     ]
    }
   ],
   "source": [
    "dist={'2':.1,'3':0.2,'4':.3,'5':.4}\n",
    "#dist={'1':.6,'2':.25,'3':.1,'4':.05,'5':0}\n",
    "POSSTR=sample_from_pmf(dist,211)\n",
    "funcm(POSSTR),dissonance_distr_median(POSSTR,model_pos),funcw(POSSTR),func(POSSTR,s0,s1)\n",
    "# mem > -250, funcw > 1, but diss > .75 ===> malingering"
   ]
  },
  {
   "cell_type": "code",
   "execution_count": 88,
   "id": "c9e3e79d",
   "metadata": {},
   "outputs": [
    {
     "data": {
      "text/plain": [
       "(211,)"
      ]
     },
     "execution_count": 88,
     "metadata": {},
     "output_type": "execute_result"
    }
   ],
   "source": [
    "POSSTR.shape"
   ]
  },
  {
   "cell_type": "code",
   "execution_count": 16,
   "id": "ff2b673c",
   "metadata": {},
   "outputs": [
    {
     "data": {
      "text/plain": [
       "(array(['4', '2', '2', '4', '1', '3', '5', '4', '4', '1', '3', '3', '3',\n",
       "        '4', '5', '4', '2', '3', '4', '3', '1', '5', '3', '3', '4', '3',\n",
       "        '4', '3', '3', '3', '5', '2', '2', '5', '3', '3', '3', '3', '4',\n",
       "        '2', '2', '2', '2', '5', '4', '1', '5', '3', '4', '3', '3', '4',\n",
       "        '4', '1', '3', '1', '5', '5', '5', '3', '5', '1', '1', '2', '3',\n",
       "        '4', '4', '5', '3', '4', '1', '4', '5', '3', '1', '5', '5', '2',\n",
       "        '4', '4', '4', '4', '2', '4', '4', '4', '3', '4', '4', '4', '4',\n",
       "        '3', '4', '4', '1', '5', '4', '1', '4', '4', '4', '5', '3', '5',\n",
       "        '4', '4', '4', '3', '4', '4', '4', '1', '2', '', '2', '1', '1',\n",
       "        '2', '4', '4', '3', '', '4', '4', '4', '4', '3', '4', '1', '5',\n",
       "        '4', '3', '4', '3', '3', '3', '3', '2', '4', '3', '4', '5', '3',\n",
       "        '3', '4', '1', '4', '5', '4', '2', '1', '2', '4', '5', '4', '2',\n",
       "        '1', '4', '3', '5', '1', '1', '5', '4', '3', '4', '3', '2', '3',\n",
       "        '2', '3', '2', '2', '2', '3', '3', '2', '3', '4', '3', '4', '4',\n",
       "        '3', '3', '3', '4', '2', '1', '3', '1', '2', '2', '4', '3', '4',\n",
       "        '3', '4', '1', '4', '2', '4', '4', '3', '4', '4', '3', '2', '4',\n",
       "        '3', '5', '5'], dtype='<U1'),\n",
       " -241.45448764619962,\n",
       " 0.6488222698072805,\n",
       " 1.5762986224649167)"
      ]
     },
     "execution_count": 16,
     "metadata": {},
     "output_type": "execute_result"
    }
   ],
   "source": [
    "sq=qsample(NULLSTR,model_pos,steps=1000)\n",
    "sq,membership_degree(sq,model_pos),dissonance_distr_median(sq,model_pos),funcw(sq)\n",
    "# note for a legitimate rerposnse, funcw > 1, diss < 0.7, mem > -250"
   ]
  },
  {
   "cell_type": "code",
   "execution_count": null,
   "id": "7bd6e790",
   "metadata": {},
   "outputs": [],
   "source": [
    "# stratgey:\n",
    "# membership degree must be greater than -250\n",
    "# dissonance median must be less than .735 (actually less than equal to .76)"
   ]
  },
  {
   "cell_type": "code",
   "execution_count": null,
   "id": "cdb49b07",
   "metadata": {},
   "outputs": [],
   "source": []
  },
  {
   "cell_type": "code",
   "execution_count": 17,
   "id": "af1aa033",
   "metadata": {},
   "outputs": [],
   "source": [
    "import json\n",
    "filepath='/home/ishanu/Dropbox/paraknowledge/paraknowledgecorp/webpage/veritas/responses2.json'\n",
    "with open(filepath, 'r') as file:\n",
    "    data = json.load(file)\n",
    "#data"
   ]
  },
  {
   "cell_type": "code",
   "execution_count": 18,
   "id": "2689439b",
   "metadata": {},
   "outputs": [],
   "source": [
    "sr=pd.concat([pd.DataFrame(columns=model_pos.feature_names),\n",
    "           pd.DataFrame(data['questionnaireResponses'][0]['dweede'],index=['resp'])]).fillna('').values[0].astype(str)"
   ]
  },
  {
   "cell_type": "code",
   "execution_count": 74,
   "id": "40331d21",
   "metadata": {},
   "outputs": [
    {
     "data": {
      "text/plain": [
       "(array(['', '', '5', '3', '', '5', '3', '', '', '3', '5', '4', '', '', '',\n",
       "        '3', '', '', '', '', '4', '4', '4', '', '5', '', '', '', '4', '',\n",
       "        '', '', '', '', '', '', '', '', '5', '', '', '5', '', '', '', '',\n",
       "        '', '', '', '', '', '', '', '', '', '', '', '', '', '', '', '', '',\n",
       "        '', '', '', '', '', '', '', '', '', '', '', '', '', '', '', '', '',\n",
       "        '', '', '', '', '', '', '', '', '', '', '', '', '', '', '', '', '',\n",
       "        '', '', '', '', '', '', '', '', '', '', '', '', '', '', '', '', '',\n",
       "        '', '', '', '', '', '', '', '', '', '', '5', '5', '3', '', '', '',\n",
       "        '', '', '', '', '5', '5', '4', '4', '', '', '', '', '5', '', '',\n",
       "        '', '5', '5', '4', '', '', '', '', '4', '', '', '3', '4', '', '',\n",
       "        '', '', '', '', '', '', '', '', '', '', '', '', '', '', '', '', '',\n",
       "        '5', '', '5', '', '4', '3', '5', '4', '2', '4', '4', '5', '', '5',\n",
       "        '', '', '', '', '', '', '', '', '', '', '', '', '', '', '', '', '',\n",
       "        '', '', ''], dtype='<U1'),\n",
       " -0.9668139336008513,\n",
       " 0.8034833091436866,\n",
       " 1.3539217753986657)"
      ]
     },
     "execution_count": 74,
     "metadata": {},
     "output_type": "execute_result"
    }
   ],
   "source": [
    "sr,membership_degree(sr,model_pos)/(sr!='').sum(),dissonance_distr_median(sr,model_pos),funcw(sr)\n",
    "# note for incomplete response, we cannot depend on mem as the emty string swill boostup mm\n",
    "# but clearly diss is too high indicating malingering\n",
    "# but note that funcw > 1, which indicates POS classification"
   ]
  },
  {
   "cell_type": "code",
   "execution_count": 20,
   "id": "1a436d38",
   "metadata": {},
   "outputs": [],
   "source": [
    "# the diss threshold needs to be characterized better\n",
    "# maybe by restricting questions to inifitail entries in teh SHAP ordered INDEX vector of the featurenames"
   ]
  },
  {
   "cell_type": "code",
   "execution_count": 50,
   "id": "aa814a44",
   "metadata": {},
   "outputs": [],
   "source": [
    "df_test_pos=df.loc[[x for x in df.index.values if x not in model_pos.training_index],:]\n",
    "df_test_pos=df_test_pos[df_test_pos.PTSDDx==1].drop('PTSDDx',axis=1)\n",
    "Xpos_test=df_test_pos.values\n",
    "Xpos_test_incomplete=pd.concat([pd.DataFrame(columns=featurenames),df_test_pos[INDEX[:20]]]).fillna('').values.astype(str)"
   ]
  },
  {
   "cell_type": "code",
   "execution_count": 51,
   "id": "c69e4b32",
   "metadata": {},
   "outputs": [
    {
     "ename": "AttributeError",
     "evalue": "'numpy.ndarray' object has no attribute 'values'",
     "output_type": "error",
     "traceback": [
      "\u001b[0;31m---------------------------------------------------------------------------\u001b[0m",
      "\u001b[0;31mAttributeError\u001b[0m                            Traceback (most recent call last)",
      "\u001b[0;32m/tmp/ipykernel_333528/61574872.py\u001b[0m in \u001b[0;36m<module>\u001b[0;34m\u001b[0m\n\u001b[0;32m----> 1\u001b[0;31m \u001b[0mmx\u001b[0m\u001b[0;34m=\u001b[0m\u001b[0mnp\u001b[0m\u001b[0;34m.\u001b[0m\u001b[0marray\u001b[0m\u001b[0;34m(\u001b[0m\u001b[0;34m[\u001b[0m\u001b[0mmembership_degree\u001b[0m\u001b[0;34m(\u001b[0m\u001b[0mx\u001b[0m\u001b[0;34m.\u001b[0m\u001b[0mastype\u001b[0m\u001b[0;34m(\u001b[0m\u001b[0mstr\u001b[0m\u001b[0;34m)\u001b[0m\u001b[0;34m,\u001b[0m\u001b[0mmodel_pos\u001b[0m\u001b[0;34m)\u001b[0m \u001b[0;32mfor\u001b[0m \u001b[0mx\u001b[0m \u001b[0;32min\u001b[0m \u001b[0mXpos_test\u001b[0m\u001b[0;34m.\u001b[0m\u001b[0mvalues\u001b[0m\u001b[0;34m]\u001b[0m\u001b[0;34m)\u001b[0m\u001b[0;34m\u001b[0m\u001b[0;34m\u001b[0m\u001b[0m\n\u001b[0m",
      "\u001b[0;31mAttributeError\u001b[0m: 'numpy.ndarray' object has no attribute 'values'"
     ]
    }
   ],
   "source": [
    "mx=np.array([membership_degree(x.astype(str),model_pos) for x in Xpos_test.values])"
   ]
  },
  {
   "cell_type": "code",
   "execution_count": null,
   "id": "930cc65c",
   "metadata": {},
   "outputs": [],
   "source": [
    "dpos=np.array([dissonance_distr_median(x,model_pos) for x in tqdm(Xpos_test)])"
   ]
  },
  {
   "cell_type": "code",
   "execution_count": 52,
   "id": "7f72c1a5",
   "metadata": {},
   "outputs": [
    {
     "name": "stderr",
     "output_type": "stream",
     "text": [
      "100%|███████████████████████████████████████████| 56/56 [00:24<00:00,  2.25it/s]\n"
     ]
    }
   ],
   "source": [
    "dpos_inc=np.array([dissonance_distr_median(x,model_pos) for x in tqdm(Xpos_test_incomplete)])"
   ]
  },
  {
   "cell_type": "code",
   "execution_count": 53,
   "id": "14bbc52c",
   "metadata": {},
   "outputs": [],
   "source": [
    "dpos.sort()\n",
    "dpos_inc.sort()"
   ]
  },
  {
   "cell_type": "code",
   "execution_count": 44,
   "id": "e7fa8b39",
   "metadata": {},
   "outputs": [
    {
     "data": {
      "text/plain": [
       "[<matplotlib.lines.Line2D at 0x7ff1d18a81c0>]"
      ]
     },
     "execution_count": 44,
     "metadata": {},
     "output_type": "execute_result"
    },
    {
     "data": {
      "image/png": "[encoded data removed]",
      "text/plain": [
       "<Figure size 432x288 with 1 Axes>"
      ]
     },
     "metadata": {
      "needs_background": "dark"
     },
     "output_type": "display_data"
    }
   ],
   "source": [
    "import pylab as plt\n",
    "plt.plot((np.array(dpos)),'-wo')\n",
    "plt.plot((np.array(dpos_inc)),'-o')"
   ]
  },
  {
   "cell_type": "code",
   "execution_count": 65,
   "id": "5dec2df1",
   "metadata": {},
   "outputs": [
    {
     "data": {
      "text/plain": [
       "14"
      ]
     },
     "execution_count": 65,
     "metadata": {},
     "output_type": "execute_result"
    }
   ],
   "source": [
    "len(dpos[dpos>.76])"
   ]
  },
  {
   "cell_type": "code",
   "execution_count": 49,
   "id": "2438a090",
   "metadata": {},
   "outputs": [
    {
     "data": {
      "text/plain": [
       "15"
      ]
     },
     "execution_count": 49,
     "metadata": {},
     "output_type": "execute_result"
    }
   ],
   "source": [
    "len(dpos_inc[dpos_inc>.8])"
   ]
  },
  {
   "cell_type": "code",
   "execution_count": 54,
   "id": "218aa38c",
   "metadata": {},
   "outputs": [
    {
     "data": {
      "text/plain": [
       "[<matplotlib.lines.Line2D at 0x7ff1d17e1e40>]"
      ]
     },
     "execution_count": 54,
     "metadata": {},
     "output_type": "execute_result"
    },
    {
     "data": {
      "image/png": "[encoded data removed]",
      "text/plain": [
       "<Figure size 432x288 with 1 Axes>"
      ]
     },
     "metadata": {
      "needs_background": "dark"
     },
     "output_type": "display_data"
    }
   ],
   "source": [
    "plt.plot((np.array(dpos)),'-wo')\n",
    "plt.plot((np.array(dpos_inc)),'-o')"
   ]
  },
  {
   "cell_type": "code",
   "execution_count": 66,
   "id": "cae16323",
   "metadata": {},
   "outputs": [
    {
     "data": {
      "text/plain": [
       "17"
      ]
     },
     "execution_count": 66,
     "metadata": {},
     "output_type": "execute_result"
    }
   ],
   "source": [
    "len(dpos_inc[dpos_inc>.76])"
   ]
  },
  {
   "cell_type": "code",
   "execution_count": null,
   "id": "637d100f",
   "metadata": {},
   "outputs": [],
   "source": [
    "plt.hist(dpos,alpha=.3)\n",
    "plt.hist(dposfull,alpha=.3)"
   ]
  },
  {
   "cell_type": "code",
   "execution_count": 79,
   "id": "3c5f3580",
   "metadata": {},
   "outputs": [
    {
     "name": "stdout",
     "output_type": "stream",
     "text": [
      "/home/ishanu/ZED/Research/truthnet/notebooks/deployment-assets/models/ptsd\r\n"
     ]
    }
   ],
   "source": [
    "!pwd"
   ]
  }
 ],
 "metadata": {
  "kernelspec": {
   "display_name": "Python 3 (ipykernel)",
   "language": "python",
   "name": "python3"
  },
  "language_info": {
   "codemirror_mode": {
    "name": "ipython",
    "version": 3
   },
   "file_extension": ".py",
   "mimetype": "text/x-python",
   "name": "python",
   "nbconvert_exporter": "python",
   "pygments_lexer": "ipython3",
   "version": "3.10.8"
  }
 },
 "nbformat": 4,
 "nbformat_minor": 5
}
