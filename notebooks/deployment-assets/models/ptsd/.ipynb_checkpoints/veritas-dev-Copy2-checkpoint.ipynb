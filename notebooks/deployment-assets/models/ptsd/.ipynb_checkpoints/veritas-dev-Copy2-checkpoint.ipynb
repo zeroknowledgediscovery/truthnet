{
 "cells": [
  {
   "cell_type": "code",
   "execution_count": 1,
   "id": "e3c81b3d",
   "metadata": {},
   "outputs": [],
   "source": [
    "from quasinet.qnet import load_qnet\n",
    "from quasinet.qnet import qdistance\n",
    "from quasinet.qsampling import qsample\n",
    "from quasinet.qnet import membership_degree\n",
    "import pandas as pd\n",
    "import numpy as np\n",
    "from tqdm import tqdm\n",
    "from jupyterthemes import jtplot\n",
    "jtplot.style()\n",
    "\n"
   ]
  },
  {
   "cell_type": "code",
   "execution_count": 2,
   "id": "fff7baff",
   "metadata": {},
   "outputs": [],
   "source": [
    "def dissonance(pos,seq,model):\n",
    "    if seq[pos]=='':\n",
    "        return np.nan\n",
    "    D=model.predict_distributions(seq) \n",
    "    return 1-D[pos].get(str(seq[pos]),0)\n",
    "\n",
    "def dissonance_distr(seq,model):\n",
    "    return np.array([dissonance(pos,seq,model) for pos in range(len(seq))])\n",
    "\n",
    "def dissonance_distr_median(seq,model):\n",
    "    a=dissonance_distr(seq,model)\n",
    "    return np.median(a[~np.isnan(a)])\n",
    "\n",
    "\n",
    "# Function to read the JSON file and extract the top-level keys as subject ID and the associated dictionary as responses\n",
    "def extract_ptsd_items(jsondata):\n",
    "        data=jsondata\n",
    "        subjects = []\n",
    "        for entry in data:\n",
    "            for subject_id, responses in entry.items():\n",
    "                subjects.append({\"subject_id\": subject_id,\n",
    "                                 \"responses\": responses})\n",
    "        return subjects\n",
    "\n",
    "import random\n",
    "def funcw(s,model_pos,model_neg,\n",
    "          dropone=False,\n",
    "          perturb=False,\n",
    "          perturbsteps=100):\n",
    "    if dropone:\n",
    "        s[random.randint(0, len(s) - 1)] = str(random.randint(1,5))\n",
    "    if perturb:\n",
    "        s=qsample(s,model_neg,steps=perturbsteps)\n",
    "    return membership_degree(s,model_neg)/membership_degree(s,model_pos)\n",
    "\n",
    "    \n",
    "def reveal(jsondata,veritas_model,modelneg=False):\n",
    "    list_response_dict = extract_ptsd_items(jsondata)\n",
    "    for i in list_response_dict:\n",
    "        subjectid=i['subject_id']\n",
    "        resp = i['responses']\n",
    "        s=pd.concat([pd.DataFrame(columns=veritas_model['model'].feature_names),\n",
    "                   pd.DataFrame(resp,index=['response'])])\\\n",
    "                        .fillna('').values[0].astype(str)\n",
    "        i['veritas']=dissonance_distr_median(s,veritas_model['model'])\n",
    "        i['veritas_prob']=veritas_model['t_distribution'].cdf(i['veritas'])\n",
    "        if modelneg:\n",
    "            i['score']=funcw(s,model,veritas_model['model_neg'])\n",
    "    return list_response_dict\n",
    "\n",
    "\n",
    "def classscore(jsondata,model,modelneg):\n",
    "    list_response_dict = extract_ptsd_items(jsondata)\n",
    "    for i in list_response_dict:\n",
    "        subjectid=i['subject_id']\n",
    "        resp = i['responses']\n",
    "        s=pd.concat([pd.DataFrame(columns=model.feature_names),\n",
    "                   pd.DataFrame(resp,index=['response'])])\\\n",
    "                        .fillna('').values[0].astype(str)\n",
    "        i['funcw']=funcw(s,model,modelneg)\n",
    "    return list_response_dict\n",
    "\n",
    "#modelpath='ptsd_pos.pkl.gz'\n",
    "#model=load_qnet(modelpath)\n",
    "\n",
    "#modelnegpath='ptsd_neg.pkl.gz'\n",
    "#modelneg=load_qnet(modelnegpath)\n"
   ]
  },
  {
   "cell_type": "code",
   "execution_count": 3,
   "id": "f4fc668b",
   "metadata": {},
   "outputs": [],
   "source": [
    "import gzip\n",
    "import dill\n",
    "vmodelpath='veritas_ptsd.pkl.gz'\n",
    "with gzip.open(vmodelpath, 'rb') as f:\n",
    "    veritas_ptsd = dill.load(f)"
   ]
  },
  {
   "cell_type": "code",
   "execution_count": 4,
   "id": "c69b6719",
   "metadata": {},
   "outputs": [
    {
     "ename": "NameError",
     "evalue": "name 'model' is not defined",
     "output_type": "error",
     "traceback": [
      "\u001b[0;31m---------------------------------------------------------------------------\u001b[0m",
      "\u001b[0;31mNameError\u001b[0m                                 Traceback (most recent call last)",
      "\u001b[0;32m/tmp/ipykernel_477788/3772776622.py\u001b[0m in \u001b[0;36m<module>\u001b[0;34m\u001b[0m\n\u001b[1;32m      3\u001b[0m \u001b[0;32mwith\u001b[0m \u001b[0mopen\u001b[0m\u001b[0;34m(\u001b[0m\u001b[0mfilepath\u001b[0m\u001b[0;34m,\u001b[0m \u001b[0;34m'r'\u001b[0m\u001b[0;34m)\u001b[0m \u001b[0;32mas\u001b[0m \u001b[0mfile\u001b[0m\u001b[0;34m:\u001b[0m\u001b[0;34m\u001b[0m\u001b[0;34m\u001b[0m\u001b[0m\n\u001b[1;32m      4\u001b[0m     \u001b[0mdata\u001b[0m \u001b[0;34m=\u001b[0m \u001b[0mjson\u001b[0m\u001b[0;34m.\u001b[0m\u001b[0mload\u001b[0m\u001b[0;34m(\u001b[0m\u001b[0mfile\u001b[0m\u001b[0;34m)\u001b[0m\u001b[0;34m\u001b[0m\u001b[0;34m\u001b[0m\u001b[0m\n\u001b[0;32m----> 5\u001b[0;31m \u001b[0mR\u001b[0m\u001b[0;34m=\u001b[0m\u001b[0mreveal\u001b[0m\u001b[0;34m(\u001b[0m\u001b[0mdata\u001b[0m\u001b[0;34m,\u001b[0m\u001b[0mveritas_ptsd\u001b[0m\u001b[0;34m,\u001b[0m\u001b[0mmodelneg\u001b[0m\u001b[0;34m=\u001b[0m\u001b[0;32mTrue\u001b[0m\u001b[0;34m)\u001b[0m\u001b[0;34m\u001b[0m\u001b[0;34m\u001b[0m\u001b[0m\n\u001b[0m\u001b[1;32m      6\u001b[0m \u001b[0mR\u001b[0m\u001b[0;34m\u001b[0m\u001b[0;34m\u001b[0m\u001b[0m\n",
      "\u001b[0;32m/tmp/ipykernel_477788/3331179567.py\u001b[0m in \u001b[0;36mreveal\u001b[0;34m(jsondata, veritas_model, modelneg)\u001b[0m\n\u001b[1;32m     40\u001b[0m         \u001b[0msubjectid\u001b[0m\u001b[0;34m=\u001b[0m\u001b[0mi\u001b[0m\u001b[0;34m[\u001b[0m\u001b[0;34m'subject_id'\u001b[0m\u001b[0;34m]\u001b[0m\u001b[0;34m\u001b[0m\u001b[0;34m\u001b[0m\u001b[0m\n\u001b[1;32m     41\u001b[0m         \u001b[0mresp\u001b[0m \u001b[0;34m=\u001b[0m \u001b[0mi\u001b[0m\u001b[0;34m[\u001b[0m\u001b[0;34m'responses'\u001b[0m\u001b[0;34m]\u001b[0m\u001b[0;34m\u001b[0m\u001b[0;34m\u001b[0m\u001b[0m\n\u001b[0;32m---> 42\u001b[0;31m         s=pd.concat([pd.DataFrame(columns=model.feature_names),\n\u001b[0m\u001b[1;32m     43\u001b[0m                    pd.DataFrame(resp,index=['response'])])\\\n\u001b[1;32m     44\u001b[0m                         \u001b[0;34m.\u001b[0m\u001b[0mfillna\u001b[0m\u001b[0;34m(\u001b[0m\u001b[0;34m''\u001b[0m\u001b[0;34m)\u001b[0m\u001b[0;34m.\u001b[0m\u001b[0mvalues\u001b[0m\u001b[0;34m[\u001b[0m\u001b[0;36m0\u001b[0m\u001b[0;34m]\u001b[0m\u001b[0;34m.\u001b[0m\u001b[0mastype\u001b[0m\u001b[0;34m(\u001b[0m\u001b[0mstr\u001b[0m\u001b[0;34m)\u001b[0m\u001b[0;34m\u001b[0m\u001b[0;34m\u001b[0m\u001b[0m\n",
      "\u001b[0;31mNameError\u001b[0m: name 'model' is not defined"
     ]
    }
   ],
   "source": [
    "import json\n",
    "filepath='/home/ishanu/Dropbox/paraknowledge/paraknowledgecorp/saas/cloud_functions/test_deployments/ptsd.json'\n",
    "with open(filepath, 'r') as file:\n",
    "    data = json.load(file)\n",
    "R=reveal(data,veritas_ptsd,modelneg=True)\n",
    "R"
   ]
  },
  {
   "cell_type": "raw",
   "id": "4d42d83c",
   "metadata": {},
   "source": [
    "# save veritas model\n",
    "veritas_ptsd={}\n",
    "veritas_ptsd['version']='0.0.1'\n",
    "veritas_ptsd['model']=model\n",
    "veritas_ptsd['t_distribution']=t_distribution\n",
    "import dill as pickle  # Dill functions similarly to pickle\n",
    "import gzip\n",
    "with gzip.open('veritas_ptsd.pkl.gz', 'wb') as f:\n",
    "    pickle.dump(veritas_ptsd, f)"
   ]
  },
  {
   "cell_type": "code",
   "execution_count": null,
   "id": "9b3bf9bc",
   "metadata": {},
   "outputs": [],
   "source": []
  },
  {
   "cell_type": "code",
   "execution_count": null,
   "id": "c88a8f41",
   "metadata": {},
   "outputs": [],
   "source": [
    "import json\n",
    "filepath='/home/ishanu/Dropbox/paraknowledge/paraknowledgecorp/webpage/veritas/responses2.json'\n",
    "with open(filepath, 'r') as file:\n",
    "    data = json.load(file)\n",
    "data=data['questionnaireResponses']"
   ]
  },
  {
   "cell_type": "code",
   "execution_count": null,
   "id": "f6bca749",
   "metadata": {},
   "outputs": [],
   "source": [
    "reveal(data,veritas_ptsd,modelneg=modelneg)"
   ]
  },
  {
   "cell_type": "code",
   "execution_count": null,
   "id": "76a4d810",
   "metadata": {},
   "outputs": [],
   "source": []
  }
 ],
 "metadata": {
  "kernelspec": {
   "display_name": "Python 3 (ipykernel)",
   "language": "python",
   "name": "python3"
  },
  "language_info": {
   "codemirror_mode": {
    "name": "ipython",
    "version": 3
   },
   "file_extension": ".py",
   "mimetype": "text/x-python",
   "name": "python",
   "nbconvert_exporter": "python",
   "pygments_lexer": "ipython3",
   "version": "3.10.8"
  }
 },
 "nbformat": 4,
 "nbformat_minor": 5
}
