{
 "cells": [
  {
   "cell_type": "code",
   "execution_count": 1,
   "id": "e3c81b3d",
   "metadata": {},
   "outputs": [],
   "source": [
    "from quasinet.qnet import load_qnet\n",
    "from quasinet.qnet import qdistance\n",
    "from quasinet.qsampling import qsample\n",
    "from quasinet.qnet import membership_degree\n",
    "import pandas as pd\n",
    "import numpy as np\n",
    "from tqdm import tqdm\n",
    "from jupyterthemes import jtplot\n",
    "jtplot.style()\n",
    "\n"
   ]
  },
  {
   "cell_type": "code",
   "execution_count": 3,
   "id": "00803539",
   "metadata": {},
   "outputs": [],
   "source": [
    "def dissonance(pos,seq,model):\n",
    "    if seq[pos]=='':\n",
    "        return np.nan\n",
    "    D=model.predict_distributions(seq) \n",
    "    return 1-D[pos].get(str(seq[pos]),0)\n",
    "def dissonance_distr(seq,model):\n",
    "    return np.array([dissonance(pos,seq,model) for pos in range(len(seq))])\n",
    "\n",
    "def dissonance_distr_median(seq,model):\n",
    "    a=dissonance_distr(seq,model)\n",
    "    return np.median(a[~np.isnan(a)])\n",
    "\n",
    "# create a naive posstr\n",
    "def sample_from_pmf(pmf, L):\n",
    "    \"\"\"\n",
    "    Draw L samples from the given PMF.\n",
    "\n",
    "    :param pmf: A dictionary representing the PMF where keys are outcomes and values are probabilities.\n",
    "    :param L: The number of samples to draw.\n",
    "    :return: A list of L samples.\n",
    "    \"\"\"\n",
    "    # Extract the outcomes and their corresponding probabilities\n",
    "    outcomes = list(pmf.keys())\n",
    "    probabilities = list(pmf.values())\n",
    "\n",
    "    # Draw L samples from the outcomes based on the specified probabilities\n",
    "    samples = np.random.choice(outcomes, size=L, p=probabilities)\n",
    "    return samples   \n"
   ]
  },
  {
   "cell_type": "code",
   "execution_count": 4,
   "id": "a07b454b",
   "metadata": {},
   "outputs": [],
   "source": [
    "pathdata='/home/ishanu/ZED/Research/truthnet/notebooks/data/ptsd/PTSD_cognet_test.csv'\n",
    "df=pd.read_csv(pathdata,index_col=0)\n",
    "model_neg=load_qnet('ptsd_neg.pkl.gz',gz=True)\n",
    "model_pos=load_qnet('ptsd_pos.pkl.gz',gz=True)\n",
    "INDEX=model_neg.shap_index\n",
    "featurenames=df.drop('PTSDDx',axis=1).columns"
   ]
  },
  {
   "cell_type": "code",
   "execution_count": 98,
   "id": "ae1ab471",
   "metadata": {},
   "outputs": [],
   "source": [
    "NULLSTR=np.array(['']*len(model_neg.feature_names))\n",
    "s1=qsample(NULLSTR,model_pos,steps=100000)\n",
    "s0=qsample(NULLSTR,model_neg,steps=100000)\n",
    "\n",
    "def func(s,s0,s1,model_pos,model_neg):\n",
    "    return qdistance(s0,s,model_neg,model_neg)/qdistance(s1,s,model_pos,model_pos)\n",
    "\n",
    "def funcw(s,model_pos,model_neg):\n",
    "    return membership_degree(s,model_neg)/membership_degree(s,model_pos)\n",
    "\n",
    "def funcm(array):\n",
    "    if isinstance(array, np.ndarray):\n",
    "        if isinstance(array[0], str):\n",
    "            return -membership_degree(array,model_pos)/(array!='').sum() \n",
    "        if isinstance(array[0],np.ndarray):\n",
    "            if isinstance(array[0][0], str):\n",
    "                return np.array([-membership_degree(s,model_pos)/(s!='').sum()  for s in array])\n",
    "    raise('incorrect datatype. must be 2d numpy array of strings')\n",
    "    return\n",
    "                \n",
    "def calcVeritas(s):\n",
    "    c0,c1=funcm(s),dissonance_distr_median(s,model_pos)#,funcw(POSSTR)\n",
    "    return (c0>1,c1<0.76)\n",
    "        \n",
    "    \n",
    "    "
   ]
  },
  {
   "cell_type": "code",
   "execution_count": 99,
   "id": "a2c5a5b9",
   "metadata": {},
   "outputs": [
    {
     "data": {
      "text/plain": [
       "(True, False)"
      ]
     },
     "execution_count": 99,
     "metadata": {},
     "output_type": "execute_result"
    }
   ],
   "source": [
    "dist={'3':0.3,'4':.2,'5':.5}\n",
    "#dist={'1':.6,'2':.25,'3':.1,'4':.05,'5':0}\n",
    "POSSTR=sample_from_pmf(dist,211)\n",
    "print(membership_degree(POSSTR,model_pos),dissonance_distr_median(POSSTR,model_pos),funcw(POSSTR))\n",
    "calcVeritas(POSSTR)\n",
    "# mem > -250, funcw > 1, but diss > .75 ===> malingering"
   ]
  },
  {
   "cell_type": "code",
   "execution_count": 119,
   "id": "1b2aa3eb",
   "metadata": {},
   "outputs": [
    {
     "name": "stdout",
     "output_type": "stream",
     "text": [
      "1.4969629242516442 0.834319526627219 1.1427220748856868\n"
     ]
    },
    {
     "data": {
      "text/plain": [
       "(True, False)"
      ]
     },
     "execution_count": 119,
     "metadata": {},
     "output_type": "execute_result"
    }
   ],
   "source": [
    "dist={'1':.3,'2':.1,'3':0.2,'4':.3,'5':.1}\n",
    "#dist={'1':.6,'2':.25,'3':.1,'4':.05,'5':0}\n",
    "POSSTR=sample_from_pmf(dist,211)\n",
    "print(funcm(POSSTR),dissonance_distr_median(POSSTR,model_pos),funcw(POSSTR,model_pos,model_neg))\n",
    "calcVeritas(POSSTR)\n",
    "\n",
    "# mem > -250, funcw > 1, but diss > .75 ===> malingering"
   ]
  },
  {
   "cell_type": "code",
   "execution_count": 121,
   "id": "0d85bd4d",
   "metadata": {},
   "outputs": [
    {
     "name": "stdout",
     "output_type": "stream",
     "text": [
      "['5' '3' '2' '4' '2' '2' '3' '5' '2' '2' '1' '4' '5' '4' '4' '3' '4' '3'\n",
      " '4' '4' '1' '1' '3' '3' '4' '3' '3' '4' '3' '5' '2' '3' '5' '4' '3' '3'\n",
      " '3' '3' '3' '4' '4' '4' '3' '4' '2' '1' '3' '3' '4' '4' '2' '3' '3' '1'\n",
      " '3' '1' '5' '1' '3' '3' '4' '1' '1' '1' '4' '3' '4' '4' '2' '5' '' '2'\n",
      " '2' '2' '2' '4' '4' '4' '2' '3' '3' '3' '2' '' '4' '1' '3' '3' '5' '4'\n",
      " '4' '4' '3' '3' '3' '4' '5' '2' '4' '5' '3' '3' '1' '3' '2' '4' '4' '4'\n",
      " '4' '5' '4' '2' '2' '2' '1' '1' '4' '1' '4' '3' '3' '3' '4' '4' '4' '4'\n",
      " '2' '4' '1' '4' '5' '2' '4' '' '4' '3' '5' '4' '4' '3' '4' '3' '3' '3'\n",
      " '4' '3' '5' '4' '2' '5' '3' '2' '2' '4' '3' '2' '2' '4' '4' '5' '1' '1'\n",
      " '4' '3' '4' '4' '3' '1' '3' '3' '3' '1' '3' '4' '2' '2' '4' '2' '3' '4'\n",
      " '2' '2' '1' '4' '4' '4' '3' '1' '1' '1' '2' '5' '3' '5' '3' '3' '3' '4'\n",
      " '3' '5' '3' '3' '2' '1' '3' '3' '1' '2' '3' '5' '4'] 1.1523796407364442 0.6723704013377927 1.6632964686019538\n"
     ]
    },
    {
     "data": {
      "text/plain": [
       "(True, True)"
      ]
     },
     "execution_count": 121,
     "metadata": {},
     "output_type": "execute_result"
    }
   ],
   "source": [
    "sq=qsample(NULLSTR,model_pos,steps=1000)\n",
    "print(sq,funcm(sq),dissonance_distr_median(sq,model_pos),funcw(sq,model_pos,model_neg))\n",
    "calcVeritas(sq)\n",
    "\n",
    "# note for a legitimate rerposnse, funcw > 1, diss < 0.7, mem > -250"
   ]
  },
  {
   "cell_type": "code",
   "execution_count": 160,
   "id": "5c074f5c",
   "metadata": {},
   "outputs": [
    {
     "data": {
      "text/plain": [
       "{0: {'ptsd102': '5',\n",
       "  'ptsd90': '4',\n",
       "  'ptsd170': '2',\n",
       "  'ptsd31': '4',\n",
       "  'ptsd71': '5',\n",
       "  'ptsd179': '2',\n",
       "  'ptsd172': '1',\n",
       "  'ptsd142': '3',\n",
       "  'ptsd165': '3',\n",
       "  'ptsd210': '5',\n",
       "  'ptsd171': '3',\n",
       "  'ptsd74': '3',\n",
       "  'ptsd135': '3',\n",
       "  'ptsd166': '4',\n",
       "  'ptsd40': '4',\n",
       "  'ptsd16': '4',\n",
       "  'ptsd98': '3',\n",
       "  'ptsd139': '2',\n",
       "  'ptsd145': '4',\n",
       "  'ptsd50': '3'}}"
      ]
     },
     "execution_count": 160,
     "metadata": {},
     "output_type": "execute_result"
    }
   ],
   "source": [
    "sq=qsample(NULLSTR,model_pos,steps=1000)\n",
    "a=pd.DataFrame(sq).T\n",
    "a.columns=featurenames\n",
    "s=pd.concat([pd.DataFrame(columns=featurenames),a[INDEX[:20]]]).fillna('')\n",
    "sq=s.values[0].astype(str)\n",
    "#print(sq,funcm(sq),dissonance_distr_median(sq,model_pos),funcw(sq,model_pos,model_neg))\n",
    "#calcVeritas(sq)\n",
    "adict=a[INDEX[:20]].T.to_dict()\n"
   ]
  },
  {
   "cell_type": "code",
   "execution_count": 129,
   "id": "3a4ece89",
   "metadata": {},
   "outputs": [
    {
     "data": {
      "text/plain": [
       "Index(['ptsd1', 'ptsd2', 'ptsd3', 'ptsd4', 'ptsd5', 'ptsd6', 'ptsd7', 'ptsd8',\n",
       "       'ptsd9', 'ptsd10',\n",
       "       ...\n",
       "       'ptsd202', 'ptsd203', 'ptsd204', 'ptsd205', 'ptsd206', 'ptsd207',\n",
       "       'ptsd208', 'ptsd209', 'ptsd210', 'ptsd211'],\n",
       "      dtype='object', length=211)"
      ]
     },
     "execution_count": 129,
     "metadata": {},
     "output_type": "execute_result"
    }
   ],
   "source": [
    "featurenames"
   ]
  },
  {
   "cell_type": "code",
   "execution_count": 121,
   "id": "5617eb62",
   "metadata": {},
   "outputs": [
    {
     "name": "stdout",
     "output_type": "stream",
     "text": [
      "['5' '3' '2' '4' '2' '2' '3' '5' '2' '2' '1' '4' '5' '4' '4' '3' '4' '3'\n",
      " '4' '4' '1' '1' '3' '3' '4' '3' '3' '4' '3' '5' '2' '3' '5' '4' '3' '3'\n",
      " '3' '3' '3' '4' '4' '4' '3' '4' '2' '1' '3' '3' '4' '4' '2' '3' '3' '1'\n",
      " '3' '1' '5' '1' '3' '3' '4' '1' '1' '1' '4' '3' '4' '4' '2' '5' '' '2'\n",
      " '2' '2' '2' '4' '4' '4' '2' '3' '3' '3' '2' '' '4' '1' '3' '3' '5' '4'\n",
      " '4' '4' '3' '3' '3' '4' '5' '2' '4' '5' '3' '3' '1' '3' '2' '4' '4' '4'\n",
      " '4' '5' '4' '2' '2' '2' '1' '1' '4' '1' '4' '3' '3' '3' '4' '4' '4' '4'\n",
      " '2' '4' '1' '4' '5' '2' '4' '' '4' '3' '5' '4' '4' '3' '4' '3' '3' '3'\n",
      " '4' '3' '5' '4' '2' '5' '3' '2' '2' '4' '3' '2' '2' '4' '4' '5' '1' '1'\n",
      " '4' '3' '4' '4' '3' '1' '3' '3' '3' '1' '3' '4' '2' '2' '4' '2' '3' '4'\n",
      " '2' '2' '1' '4' '4' '4' '3' '1' '1' '1' '2' '5' '3' '5' '3' '3' '3' '4'\n",
      " '3' '5' '3' '3' '2' '1' '3' '3' '1' '2' '3' '5' '4'] 1.1523796407364442 0.6723704013377927 1.6632964686019538\n"
     ]
    },
    {
     "data": {
      "text/plain": [
       "(True, True)"
      ]
     },
     "execution_count": 121,
     "metadata": {},
     "output_type": "execute_result"
    }
   ],
   "source": [
    "print(sq,funcm(sq),dissonance_distr_median(sq,model_pos),funcw(sq,model_pos,model_neg))\n",
    "calcVeritas(sq)\n",
    "\n",
    "# note for a legitimate rerposnse, funcw > 1, diss < 0.7, mem > -250"
   ]
  },
  {
   "cell_type": "code",
   "execution_count": null,
   "id": "04b0fb65",
   "metadata": {},
   "outputs": [],
   "source": []
  },
  {
   "cell_type": "code",
   "execution_count": null,
   "id": "78591663",
   "metadata": {},
   "outputs": [],
   "source": [
    "# stratgey:\n",
    "# membership degree must be greater than -250\n",
    "# dissonance median must be less than .735 (actually less than equal to .76)"
   ]
  },
  {
   "cell_type": "code",
   "execution_count": null,
   "id": "8ea3c24b",
   "metadata": {},
   "outputs": [],
   "source": []
  },
  {
   "cell_type": "code",
   "execution_count": 17,
   "id": "18eda6d3",
   "metadata": {},
   "outputs": [],
   "source": [
    "import json\n",
    "filepath='/home/ishanu/Dropbox/paraknowledge/paraknowledgecorp/webpage/veritas/responses2.json'\n",
    "with open(filepath, 'r') as file:\n",
    "    data = json.load(file)\n",
    "#data"
   ]
  },
  {
   "cell_type": "code",
   "execution_count": 18,
   "id": "f049d7de",
   "metadata": {},
   "outputs": [],
   "source": [
    "sr=pd.concat([pd.DataFrame(columns=model_pos.feature_names),\n",
    "           pd.DataFrame(data['questionnaireResponses'][0]['dweede'],index=['resp'])]).fillna('').values[0].astype(str)"
   ]
  },
  {
   "cell_type": "code",
   "execution_count": 74,
   "id": "bcfb6a8c",
   "metadata": {},
   "outputs": [
    {
     "data": {
      "text/plain": [
       "(array(['', '', '5', '3', '', '5', '3', '', '', '3', '5', '4', '', '', '',\n",
       "        '3', '', '', '', '', '4', '4', '4', '', '5', '', '', '', '4', '',\n",
       "        '', '', '', '', '', '', '', '', '5', '', '', '5', '', '', '', '',\n",
       "        '', '', '', '', '', '', '', '', '', '', '', '', '', '', '', '', '',\n",
       "        '', '', '', '', '', '', '', '', '', '', '', '', '', '', '', '', '',\n",
       "        '', '', '', '', '', '', '', '', '', '', '', '', '', '', '', '', '',\n",
       "        '', '', '', '', '', '', '', '', '', '', '', '', '', '', '', '', '',\n",
       "        '', '', '', '', '', '', '', '', '', '', '5', '5', '3', '', '', '',\n",
       "        '', '', '', '', '5', '5', '4', '4', '', '', '', '', '5', '', '',\n",
       "        '', '5', '5', '4', '', '', '', '', '4', '', '', '3', '4', '', '',\n",
       "        '', '', '', '', '', '', '', '', '', '', '', '', '', '', '', '', '',\n",
       "        '5', '', '5', '', '4', '3', '5', '4', '2', '4', '4', '5', '', '5',\n",
       "        '', '', '', '', '', '', '', '', '', '', '', '', '', '', '', '', '',\n",
       "        '', '', ''], dtype='<U1'),\n",
       " -0.9668139336008513,\n",
       " 0.8034833091436866,\n",
       " 1.3539217753986657)"
      ]
     },
     "execution_count": 74,
     "metadata": {},
     "output_type": "execute_result"
    }
   ],
   "source": [
    "sr,membership_degree(sr,model_pos)/(sr!='').sum(),dissonance_distr_median(sr,model_pos),funcw(sr)\n",
    "# note for incomplete response, we cannot depend on mem as the emty string swill boostup mm\n",
    "# but clearly diss is too high indicating malingering\n",
    "# but note that funcw > 1, which indicates POS classification"
   ]
  },
  {
   "cell_type": "code",
   "execution_count": 20,
   "id": "593b1cce",
   "metadata": {},
   "outputs": [],
   "source": [
    "# the diss threshold needs to be characterized better\n",
    "# maybe by restricting questions to inifitail entries in teh SHAP ordered INDEX vector of the featurenames"
   ]
  },
  {
   "cell_type": "code",
   "execution_count": 50,
   "id": "628f07e6",
   "metadata": {},
   "outputs": [],
   "source": [
    "df_test_pos=df.loc[[x for x in df.index.values if x not in model_pos.training_index],:]\n",
    "df_test_pos=df_test_pos[df_test_pos.PTSDDx==1].drop('PTSDDx',axis=1)\n",
    "Xpos_test=df_test_pos.values\n",
    "Xpos_test_incomplete=pd.concat([pd.DataFrame(columns=featurenames),df_test_pos[INDEX[:20]]]).fillna('').values.astype(str)"
   ]
  },
  {
   "cell_type": "code",
   "execution_count": 51,
   "id": "8d3248e2",
   "metadata": {},
   "outputs": [
    {
     "ename": "AttributeError",
     "evalue": "'numpy.ndarray' object has no attribute 'values'",
     "output_type": "error",
     "traceback": [
      "\u001b[0;31m---------------------------------------------------------------------------\u001b[0m",
      "\u001b[0;31mAttributeError\u001b[0m                            Traceback (most recent call last)",
      "\u001b[0;32m/tmp/ipykernel_333528/61574872.py\u001b[0m in \u001b[0;36m<module>\u001b[0;34m\u001b[0m\n\u001b[0;32m----> 1\u001b[0;31m \u001b[0mmx\u001b[0m\u001b[0;34m=\u001b[0m\u001b[0mnp\u001b[0m\u001b[0;34m.\u001b[0m\u001b[0marray\u001b[0m\u001b[0;34m(\u001b[0m\u001b[0;34m[\u001b[0m\u001b[0mmembership_degree\u001b[0m\u001b[0;34m(\u001b[0m\u001b[0mx\u001b[0m\u001b[0;34m.\u001b[0m\u001b[0mastype\u001b[0m\u001b[0;34m(\u001b[0m\u001b[0mstr\u001b[0m\u001b[0;34m)\u001b[0m\u001b[0;34m,\u001b[0m\u001b[0mmodel_pos\u001b[0m\u001b[0;34m)\u001b[0m \u001b[0;32mfor\u001b[0m \u001b[0mx\u001b[0m \u001b[0;32min\u001b[0m \u001b[0mXpos_test\u001b[0m\u001b[0;34m.\u001b[0m\u001b[0mvalues\u001b[0m\u001b[0;34m]\u001b[0m\u001b[0;34m)\u001b[0m\u001b[0;34m\u001b[0m\u001b[0;34m\u001b[0m\u001b[0m\n\u001b[0m",
      "\u001b[0;31mAttributeError\u001b[0m: 'numpy.ndarray' object has no attribute 'values'"
     ]
    }
   ],
   "source": [
    "mx=np.array([membership_degree(x.astype(str),model_pos) for x in Xpos_test.values])"
   ]
  },
  {
   "cell_type": "code",
   "execution_count": 124,
   "id": "d9ee1eab",
   "metadata": {},
   "outputs": [
    {
     "data": {
      "text/plain": [
       "array([5, 2, 5, 3, 3, 5, 3, 5, 4, 3, 4, 3, 4, 3, 5, 5, 4, 5, 5, 3, 3, 5,\n",
       "       5, 4, 4, 4, 4, 3, 5, 5, 4, 5, 5, 5, 5, 4, 4, 3, 4, 4, 5, 3, 2, 4,\n",
       "       1, 2, 1, 4, 4, 3, 1, 3, 3, 2, 4, 3, 5, 5, 5, 5, 5, 1, 1, 4, 4, 4,\n",
       "       4, 5, 5, 5, 5, 5, 5, 5, 5, 5, 5, 5, 5, 5, 5, 5, 5, 2, 3, 5, 5, 5,\n",
       "       5, 4, 4, 4, 4, 4, 4, 5, 5, 5, 4, 5, 5, 5, 5, 5, 4, 4, 4, 4, 4, 5,\n",
       "       5, 4, 1, 5, 1, 1, 1, 3, 4, 4, 4, 2, 4, 4, 4, 1, 4, 4, 4, 5, 5, 4,\n",
       "       4, 3, 4, 3, 4, 3, 3, 3, 3, 4, 4, 4, 4, 5, 5, 5, 5, 5, 3, 3, 4, 4,\n",
       "       4, 4, 4, 4, 4, 3, 3, 1, 5, 4, 4, 4, 3, 4, 4, 4, 4, 5, 5, 4, 4, 4,\n",
       "       4, 3, 3, 3, 4, 3, 5, 4, 3, 3, 4, 2, 3, 2, 4, 4, 4, 4, 4, 4, 5, 5,\n",
       "       4, 3, 3, 3, 4, 4, 3, 5, 4, 5, 5, 5, 5])"
      ]
     },
     "execution_count": 124,
     "metadata": {},
     "output_type": "execute_result"
    }
   ],
   "source": [
    "Xpos_test[10]"
   ]
  },
  {
   "cell_type": "code",
   "execution_count": 161,
   "id": "44a88335",
   "metadata": {},
   "outputs": [
    {
     "name": "stdout",
     "output_type": "stream",
     "text": [
      "['5' '2' '5' '3' '3' '5' '3' '5' '4' '3' '4' '3' '4' '3' '5' '5' '4' '5'\n",
      " '5' '3' '3' '5' '5' '4' '4' '4' '4' '3' '5' '5' '4' '5' '5' '5' '5' '4'\n",
      " '4' '3' '4' '4' '5' '3' '2' '4' '1' '2' '1' '4' '4' '3' '1' '3' '3' '2'\n",
      " '4' '3' '5' '5' '5' '5' '5' '1' '1' '4' '4' '4' '4' '5' '5' '5' '5' '5'\n",
      " '5' '5' '5' '5' '5' '5' '5' '5' '5' '5' '5' '2' '3' '5' '5' '5' '5' '4'\n",
      " '4' '4' '4' '4' '4' '5' '5' '5' '4' '5' '5' '5' '5' '5' '4' '4' '4' '4'\n",
      " '4' '5' '5' '4' '1' '5' '1' '1' '1' '3' '4' '4' '4' '2' '4' '4' '4' '1'\n",
      " '4' '4' '4' '5' '5' '4' '4' '3' '4' '3' '4' '3' '3' '3' '3' '4' '4' '4'\n",
      " '4' '5' '5' '5' '5' '5' '3' '3' '4' '4' '4' '4' '4' '4' '4' '3' '3' '1'\n",
      " '5' '4' '4' '4' '3' '4' '4' '4' '4' '5' '5' '4' '4' '4' '4' '3' '3' '3'\n",
      " '4' '3' '5' '4' '3' '3' '4' '2' '3' '2' '4' '4' '4' '4' '4' '4' '5' '5'\n",
      " '4' '3' '3' '3' '4' '4' '3' '5' '4' '5' '5' '5' '5'] 1.10061687171405 0.6609442060085837 2.102095579245925\n"
     ]
    },
    {
     "data": {
      "text/plain": [
       "(True, True)"
      ]
     },
     "execution_count": 161,
     "metadata": {},
     "output_type": "execute_result"
    }
   ],
   "source": [
    "sq=Xpos_test[10].astype(str)\n",
    "\n",
    "print(sq,funcm(sq),dissonance_distr_median(sq,model_pos),funcw(sq,model_pos,model_neg))\n",
    "calcVeritas(sq)"
   ]
  },
  {
   "cell_type": "code",
   "execution_count": 162,
   "id": "997f39f3",
   "metadata": {},
   "outputs": [
    {
     "data": {
      "text/plain": [
       "array(['5', '2', '5', '3', '3', '5', '3', '5', '4', '3', '4', '3', '4',\n",
       "       '3', '5', '5', '4', '5', '5', '3', '3', '5', '5', '4', '4', '4',\n",
       "       '4', '3', '5', '5', '4', '5', '5', '5', '5', '4', '4', '3', '4',\n",
       "       '4', '5', '3', '2', '4', '1', '2', '1', '4', '4', '3', '1', '3',\n",
       "       '3', '2', '4', '3', '5', '5', '5', '5', '5', '1', '1', '4', '4',\n",
       "       '4', '4', '5', '5', '5', '5', '5', '5', '5', '5', '5', '5', '5',\n",
       "       '5', '5', '5', '5', '5', '2', '3', '5', '5', '5', '5', '4', '4',\n",
       "       '4', '4', '4', '4', '5', '5', '5', '4', '5', '5', '5', '5', '5',\n",
       "       '4', '4', '4', '4', '4', '5', '5', '4', '1', '5', '1', '1', '1',\n",
       "       '3', '4', '4', '4', '2', '4', '4', '4', '1', '4', '4', '4', '5',\n",
       "       '5', '4', '4', '3', '4', '3', '4', '3', '3', '3', '3', '4', '4',\n",
       "       '4', '4', '5', '5', '5', '5', '5', '3', '3', '4', '4', '4', '4',\n",
       "       '4', '4', '4', '3', '3', '1', '5', '4', '4', '4', '3', '4', '4',\n",
       "       '4', '4', '5', '5', '4', '4', '4', '4', '3', '3', '3', '4', '3',\n",
       "       '5', '4', '3', '3', '4', '2', '3', '2', '4', '4', '4', '4', '4',\n",
       "       '4', '5', '5', '4', '3', '3', '3', '4', '4', '3', '5', '4', '5',\n",
       "       '5', '5', '5'], dtype='<U21')"
      ]
     },
     "execution_count": 162,
     "metadata": {},
     "output_type": "execute_result"
    }
   ],
   "source": [
    "sq"
   ]
  },
  {
   "cell_type": "code",
   "execution_count": null,
   "id": "016f50c9",
   "metadata": {},
   "outputs": [],
   "source": [
    "dpos=np.array([dissonance_distr_median(x,model_pos) for x in tqdm(Xpos_test)])"
   ]
  },
  {
   "cell_type": "code",
   "execution_count": 52,
   "id": "56d5e921",
   "metadata": {},
   "outputs": [
    {
     "name": "stderr",
     "output_type": "stream",
     "text": [
      "100%|███████████████████████████████████████████| 56/56 [00:24<00:00,  2.25it/s]\n"
     ]
    }
   ],
   "source": [
    "dpos_inc=np.array([dissonance_distr_median(x,model_pos) for x in tqdm(Xpos_test_incomplete)])"
   ]
  },
  {
   "cell_type": "code",
   "execution_count": 53,
   "id": "1b8fe300",
   "metadata": {},
   "outputs": [],
   "source": [
    "dpos.sort()\n",
    "dpos_inc.sort()"
   ]
  },
  {
   "cell_type": "code",
   "execution_count": 44,
   "id": "1487f135",
   "metadata": {},
   "outputs": [
    {
     "data": {
      "text/plain": [
       "[<matplotlib.lines.Line2D at 0x7ff1d18a81c0>]"
      ]
     },
     "execution_count": 44,
     "metadata": {},
     "output_type": "execute_result"
    },
    {
     "data": {
      "image/png": "[encoded data removed]",
      "text/plain": [
       "<Figure size 432x288 with 1 Axes>"
      ]
     },
     "metadata": {
      "needs_background": "dark"
     },
     "output_type": "display_data"
    }
   ],
   "source": [
    "import pylab as plt\n",
    "plt.plot((np.array(dpos)),'-wo')\n",
    "plt.plot((np.array(dpos_inc)),'-o')"
   ]
  },
  {
   "cell_type": "code",
   "execution_count": 65,
   "id": "73b0bee3",
   "metadata": {},
   "outputs": [
    {
     "data": {
      "text/plain": [
       "14"
      ]
     },
     "execution_count": 65,
     "metadata": {},
     "output_type": "execute_result"
    }
   ],
   "source": [
    "len(dpos[dpos>.76])"
   ]
  },
  {
   "cell_type": "code",
   "execution_count": 49,
   "id": "bc0ee9cd",
   "metadata": {},
   "outputs": [
    {
     "data": {
      "text/plain": [
       "15"
      ]
     },
     "execution_count": 49,
     "metadata": {},
     "output_type": "execute_result"
    }
   ],
   "source": [
    "len(dpos_inc[dpos_inc>.8])"
   ]
  },
  {
   "cell_type": "code",
   "execution_count": 54,
   "id": "8c0d78c9",
   "metadata": {},
   "outputs": [
    {
     "data": {
      "text/plain": [
       "[<matplotlib.lines.Line2D at 0x7ff1d17e1e40>]"
      ]
     },
     "execution_count": 54,
     "metadata": {},
     "output_type": "execute_result"
    },
    {
     "data": {
      "image/png": "[encoded data removed]",
      "text/plain": [
       "<Figure size 432x288 with 1 Axes>"
      ]
     },
     "metadata": {
      "needs_background": "dark"
     },
     "output_type": "display_data"
    }
   ],
   "source": [
    "plt.plot((np.array(dpos)),'-wo')\n",
    "plt.plot((np.array(dpos_inc)),'-o')"
   ]
  },
  {
   "cell_type": "code",
   "execution_count": 188,
   "id": "c21fb9d1",
   "metadata": {},
   "outputs": [
    {
     "data": {
      "text/plain": [
       "18"
      ]
     },
     "execution_count": 188,
     "metadata": {},
     "output_type": "execute_result"
    }
   ],
   "source": [
    "len(dpos_inc[dpos_inc>.75])"
   ]
  },
  {
   "cell_type": "code",
   "execution_count": null,
   "id": "333a8e5e",
   "metadata": {},
   "outputs": [],
   "source": [
    "plt.hist(dpos,alpha=.3)\n",
    "plt.hist(dposfull,alpha=.3)"
   ]
  },
  {
   "cell_type": "code",
   "execution_count": 79,
   "id": "11d7346c",
   "metadata": {},
   "outputs": [
    {
     "name": "stdout",
     "output_type": "stream",
     "text": [
      "/home/ishanu/ZED/Research/truthnet/notebooks/deployment-assets/models/ptsd\r\n"
     ]
    }
   ],
   "source": [
    "!pwd"
   ]
  },
  {
   "cell_type": "code",
   "execution_count": 107,
   "id": "aa52b965",
   "metadata": {},
   "outputs": [
    {
     "name": "stderr",
     "output_type": "stream",
     "text": [
      "100%|███████████████████████████████████████████| 56/56 [00:28<00:00,  1.96it/s]\n"
     ]
    }
   ],
   "source": [
    "A=[calcVeritas(x) for x in tqdm(Xpos_test_incomplete)]"
   ]
  },
  {
   "cell_type": "code",
   "execution_count": 111,
   "id": "cddf99f2",
   "metadata": {},
   "outputs": [],
   "source": [
    "Af=pd.DataFrame(A,columns=['mem','mal'])"
   ]
  },
  {
   "cell_type": "code",
   "execution_count": 114,
   "id": "e86e8737",
   "metadata": {},
   "outputs": [
    {
     "data": {
      "text/html": [
       "<div>\n",
       "<style scoped>\n",
       "    .dataframe tbody tr th:only-of-type {\n",
       "        vertical-align: middle;\n",
       "    }\n",
       "\n",
       "    .dataframe tbody tr th {\n",
       "        vertical-align: top;\n",
       "    }\n",
       "\n",
       "    .dataframe thead th {\n",
       "        text-align: right;\n",
       "    }\n",
       "</style>\n",
       "<table border=\"1\" class=\"dataframe\">\n",
       "  <thead>\n",
       "    <tr style=\"text-align: right;\">\n",
       "      <th></th>\n",
       "      <th>mem</th>\n",
       "      <th>mal</th>\n",
       "    </tr>\n",
       "  </thead>\n",
       "  <tbody>\n",
       "    <tr>\n",
       "      <th>6</th>\n",
       "      <td>True</td>\n",
       "      <td>False</td>\n",
       "    </tr>\n",
       "    <tr>\n",
       "      <th>7</th>\n",
       "      <td>True</td>\n",
       "      <td>False</td>\n",
       "    </tr>\n",
       "    <tr>\n",
       "      <th>12</th>\n",
       "      <td>True</td>\n",
       "      <td>False</td>\n",
       "    </tr>\n",
       "    <tr>\n",
       "      <th>15</th>\n",
       "      <td>True</td>\n",
       "      <td>False</td>\n",
       "    </tr>\n",
       "    <tr>\n",
       "      <th>17</th>\n",
       "      <td>True</td>\n",
       "      <td>False</td>\n",
       "    </tr>\n",
       "    <tr>\n",
       "      <th>19</th>\n",
       "      <td>True</td>\n",
       "      <td>False</td>\n",
       "    </tr>\n",
       "    <tr>\n",
       "      <th>22</th>\n",
       "      <td>True</td>\n",
       "      <td>False</td>\n",
       "    </tr>\n",
       "    <tr>\n",
       "      <th>24</th>\n",
       "      <td>True</td>\n",
       "      <td>False</td>\n",
       "    </tr>\n",
       "    <tr>\n",
       "      <th>31</th>\n",
       "      <td>True</td>\n",
       "      <td>False</td>\n",
       "    </tr>\n",
       "    <tr>\n",
       "      <th>33</th>\n",
       "      <td>True</td>\n",
       "      <td>False</td>\n",
       "    </tr>\n",
       "    <tr>\n",
       "      <th>37</th>\n",
       "      <td>True</td>\n",
       "      <td>False</td>\n",
       "    </tr>\n",
       "    <tr>\n",
       "      <th>38</th>\n",
       "      <td>True</td>\n",
       "      <td>False</td>\n",
       "    </tr>\n",
       "    <tr>\n",
       "      <th>42</th>\n",
       "      <td>True</td>\n",
       "      <td>False</td>\n",
       "    </tr>\n",
       "    <tr>\n",
       "      <th>47</th>\n",
       "      <td>True</td>\n",
       "      <td>False</td>\n",
       "    </tr>\n",
       "    <tr>\n",
       "      <th>51</th>\n",
       "      <td>False</td>\n",
       "      <td>False</td>\n",
       "    </tr>\n",
       "    <tr>\n",
       "      <th>53</th>\n",
       "      <td>True</td>\n",
       "      <td>False</td>\n",
       "    </tr>\n",
       "    <tr>\n",
       "      <th>54</th>\n",
       "      <td>True</td>\n",
       "      <td>False</td>\n",
       "    </tr>\n",
       "  </tbody>\n",
       "</table>\n",
       "</div>"
      ],
      "text/plain": [
       "      mem    mal\n",
       "6    True  False\n",
       "7    True  False\n",
       "12   True  False\n",
       "15   True  False\n",
       "17   True  False\n",
       "19   True  False\n",
       "22   True  False\n",
       "24   True  False\n",
       "31   True  False\n",
       "33   True  False\n",
       "37   True  False\n",
       "38   True  False\n",
       "42   True  False\n",
       "47   True  False\n",
       "51  False  False\n",
       "53   True  False\n",
       "54   True  False"
      ]
     },
     "execution_count": 114,
     "metadata": {},
     "output_type": "execute_result"
    }
   ],
   "source": [
    "Af[~Af.mal]"
   ]
  },
  {
   "cell_type": "code",
   "execution_count": 115,
   "id": "bbb1283a",
   "metadata": {},
   "outputs": [
    {
     "data": {
      "text/html": [
       "<div>\n",
       "<style scoped>\n",
       "    .dataframe tbody tr th:only-of-type {\n",
       "        vertical-align: middle;\n",
       "    }\n",
       "\n",
       "    .dataframe tbody tr th {\n",
       "        vertical-align: top;\n",
       "    }\n",
       "\n",
       "    .dataframe thead th {\n",
       "        text-align: right;\n",
       "    }\n",
       "</style>\n",
       "<table border=\"1\" class=\"dataframe\">\n",
       "  <thead>\n",
       "    <tr style=\"text-align: right;\">\n",
       "      <th></th>\n",
       "      <th>mem</th>\n",
       "      <th>mal</th>\n",
       "    </tr>\n",
       "  </thead>\n",
       "  <tbody>\n",
       "    <tr>\n",
       "      <th>0</th>\n",
       "      <td>False</td>\n",
       "      <td>True</td>\n",
       "    </tr>\n",
       "    <tr>\n",
       "      <th>3</th>\n",
       "      <td>False</td>\n",
       "      <td>True</td>\n",
       "    </tr>\n",
       "    <tr>\n",
       "      <th>4</th>\n",
       "      <td>False</td>\n",
       "      <td>True</td>\n",
       "    </tr>\n",
       "    <tr>\n",
       "      <th>8</th>\n",
       "      <td>False</td>\n",
       "      <td>True</td>\n",
       "    </tr>\n",
       "    <tr>\n",
       "      <th>14</th>\n",
       "      <td>False</td>\n",
       "      <td>True</td>\n",
       "    </tr>\n",
       "    <tr>\n",
       "      <th>18</th>\n",
       "      <td>False</td>\n",
       "      <td>True</td>\n",
       "    </tr>\n",
       "    <tr>\n",
       "      <th>20</th>\n",
       "      <td>False</td>\n",
       "      <td>True</td>\n",
       "    </tr>\n",
       "    <tr>\n",
       "      <th>21</th>\n",
       "      <td>False</td>\n",
       "      <td>True</td>\n",
       "    </tr>\n",
       "    <tr>\n",
       "      <th>25</th>\n",
       "      <td>False</td>\n",
       "      <td>True</td>\n",
       "    </tr>\n",
       "    <tr>\n",
       "      <th>26</th>\n",
       "      <td>False</td>\n",
       "      <td>True</td>\n",
       "    </tr>\n",
       "    <tr>\n",
       "      <th>27</th>\n",
       "      <td>False</td>\n",
       "      <td>True</td>\n",
       "    </tr>\n",
       "    <tr>\n",
       "      <th>30</th>\n",
       "      <td>False</td>\n",
       "      <td>True</td>\n",
       "    </tr>\n",
       "    <tr>\n",
       "      <th>32</th>\n",
       "      <td>False</td>\n",
       "      <td>True</td>\n",
       "    </tr>\n",
       "    <tr>\n",
       "      <th>36</th>\n",
       "      <td>False</td>\n",
       "      <td>True</td>\n",
       "    </tr>\n",
       "    <tr>\n",
       "      <th>44</th>\n",
       "      <td>False</td>\n",
       "      <td>True</td>\n",
       "    </tr>\n",
       "    <tr>\n",
       "      <th>45</th>\n",
       "      <td>False</td>\n",
       "      <td>True</td>\n",
       "    </tr>\n",
       "    <tr>\n",
       "      <th>48</th>\n",
       "      <td>False</td>\n",
       "      <td>True</td>\n",
       "    </tr>\n",
       "    <tr>\n",
       "      <th>50</th>\n",
       "      <td>False</td>\n",
       "      <td>True</td>\n",
       "    </tr>\n",
       "    <tr>\n",
       "      <th>51</th>\n",
       "      <td>False</td>\n",
       "      <td>False</td>\n",
       "    </tr>\n",
       "  </tbody>\n",
       "</table>\n",
       "</div>"
      ],
      "text/plain": [
       "      mem    mal\n",
       "0   False   True\n",
       "3   False   True\n",
       "4   False   True\n",
       "8   False   True\n",
       "14  False   True\n",
       "18  False   True\n",
       "20  False   True\n",
       "21  False   True\n",
       "25  False   True\n",
       "26  False   True\n",
       "27  False   True\n",
       "30  False   True\n",
       "32  False   True\n",
       "36  False   True\n",
       "44  False   True\n",
       "45  False   True\n",
       "48  False   True\n",
       "50  False   True\n",
       "51  False  False"
      ]
     },
     "execution_count": 115,
     "metadata": {},
     "output_type": "execute_result"
    }
   ],
   "source": [
    "Af[~Af.mem]"
   ]
  },
  {
   "cell_type": "code",
   "execution_count": 116,
   "id": "a3f29f3d",
   "metadata": {},
   "outputs": [
    {
     "name": "stderr",
     "output_type": "stream",
     "text": [
      "100%|███████████████████████████████████████████| 56/56 [00:03<00:00, 17.01it/s]\n"
     ]
    }
   ],
   "source": [
    "Am=[funcw(x,model_pos,model_neg) for x in tqdm(Xpos_test_incomplete)]"
   ]
  },
  {
   "cell_type": "code",
   "execution_count": 117,
   "id": "7beb6f1c",
   "metadata": {},
   "outputs": [
    {
     "data": {
      "text/plain": [
       "[1.6738080543319331,\n",
       " 1.2639427650396131,\n",
       " 1.7328446661744072,\n",
       " 1.532897969934514,\n",
       " 2.3345800286046225,\n",
       " 1.6252167351781979,\n",
       " 0.7957592205529147,\n",
       " 0.6181862520059739,\n",
       " 1.8529108086109223,\n",
       " 1.7010000266083705,\n",
       " 1.8818547857010968,\n",
       " 1.4470913937557859,\n",
       " 0.8871341214847263,\n",
       " 1.4175453953119446,\n",
       " 2.304382211459258,\n",
       " 0.921689784575087,\n",
       " 1.7679125986086413,\n",
       " 1.15385131875142,\n",
       " 1.6587539942428402,\n",
       " 1.2364857573886814,\n",
       " 1.5243672451763264,\n",
       " 1.4180825550863334,\n",
       " 1.259175123347387,\n",
       " 1.2501203996405894,\n",
       " 1.2320023673582252,\n",
       " 1.730584047839319,\n",
       " 2.1150273621890574,\n",
       " 1.6667433744872135,\n",
       " 1.1115028134327656,\n",
       " 1.9527013073188253,\n",
       " 1.8135109051935372,\n",
       " 0.6513517325669901,\n",
       " 1.2275791236008398,\n",
       " 0.7290102636585651,\n",
       " 1.8973851462036027,\n",
       " 1.5242965839751503,\n",
       " 1.5604415411065882,\n",
       " 0.7167193495947356,\n",
       " 0.817722238314598,\n",
       " 1.2194482581093586,\n",
       " 1.4130490307072532,\n",
       " 1.6938828942762953,\n",
       " 0.7478093909333859,\n",
       " 1.6126008058928778,\n",
       " 1.9349158268469926,\n",
       " 1.4253529670314364,\n",
       " 1.9353205498084975,\n",
       " 0.7738805463187541,\n",
       " 2.1540255779239956,\n",
       " 1.7718215914703952,\n",
       " 1.7453324542301938,\n",
       " 1.3353879969810436,\n",
       " 1.5678005547671152,\n",
       " 1.1433370942343626,\n",
       " 0.9464487367120125,\n",
       " 1.7358646327593588]"
      ]
     },
     "execution_count": 117,
     "metadata": {},
     "output_type": "execute_result"
    }
   ],
   "source": [
    "Am"
   ]
  },
  {
   "cell_type": "code",
   "execution_count": 285,
   "id": "66eb816b",
   "metadata": {},
   "outputs": [
    {
     "name": "stdout",
     "output_type": "stream",
     "text": [
      "['' '' '' '' '' '' '' '' '' '' '' '' '' '' '' '3' '' '' '' '' '' '' '' ''\n",
      " '' '' '' '' '' '' '3' '' '' '' '' '' '' '' '' '3' '' '' '' '' '' '' '' ''\n",
      " '' '3' '' '' '' '' '' '' '' '' '' '' '' '' '' '' '' '' '' '' '' '' '3' ''\n",
      " '' '3' '' '' '' '' '' '' '' '' '' '' '' '' '' '' '' '3' '' '' '' '' '' ''\n",
      " '' '3' '' '' '' '3' '' '' '' '' '' '' '' '' '' '' '' '' '' '' '' '' '' ''\n",
      " '' '' '' '' '' '' '' '' '' '' '' '' '' '' '3' '' '' '' '3' '' '' '3' ''\n",
      " '' '3' '' '' '' '' '' '' '' '' '' '' '' '' '' '' '' '' '' '' '' '3' '3'\n",
      " '' '' '' '3' '3' '3' '' '' '' '' '' '' '3' '' '' '' '' '' '' '' '' '' ''\n",
      " '' '' '' '' '' '' '' '' '' '' '' '' '' '' '' '' '' '' '' '' '3' ''] 0.9779630917707024 0.6353637901861252 1.4180825550863334\n"
     ]
    },
    {
     "data": {
      "text/plain": [
       "(False, True)"
      ]
     },
     "execution_count": 285,
     "metadata": {},
     "output_type": "execute_result"
    }
   ],
   "source": [
    "INDEX=model_pos.shap_index\n",
    "featurenames=model_pos.feature_names\n",
    "XM={i:'3' for i in INDEX[:20]}\n",
    "\n",
    "xm=pd.concat([pd.DataFrame(columns=featurenames),pd.DataFrame(XM,index=['resp'])]).fillna('').values[0].astype(str)\n",
    "\n",
    "#xm=qsample(xm,model_pos,steps=10)\n",
    "\n",
    "print(xm,funcm(xm),dissonance_distr_median(xm,model_pos),funcw(xm,model_pos,model_neg))\n",
    "calcVeritas(xm)"
   ]
  },
  {
   "cell_type": "code",
   "execution_count": 286,
   "id": "10fb559e",
   "metadata": {},
   "outputs": [
    {
     "name": "stdout",
     "output_type": "stream",
     "text": [
      "['' '' '' '' '' '' '' '' '' '' '' '' '' '' '' '3' '' '' '' '' '' '' '' ''\n",
      " '' '' '' '' '' '' '3' '' '' '' '' '' '' '' '' '3' '' '' '' '' '' '' '' ''\n",
      " '' '3' '' '' '' '' '' '' '' '' '' '' '' '' '' '' '' '' '' '' '' '' '3' ''\n",
      " '' '3' '' '' '' '' '' '' '' '' '' '' '' '' '' '' '' '3' '' '' '' '' '' ''\n",
      " '' '3' '' '' '' '3' '' '' '' '' '' '' '' '' '' '' '' '' '' '' '' '' '' ''\n",
      " '' '' '' '' '' '' '3' '' '' '' '' '' '' '' '3' '' '' '' '3' '' '' '3' ''\n",
      " '3' '3' '' '' '' '' '' '1' '' '' '' '' '' '' '' '' '' '' '' '' '' '3' '3'\n",
      " '' '' '' '3' '3' '3' '' '' '' '' '' '' '3' '' '' '' '' '' '' '' '' '' ''\n",
      " '' '' '' '' '' '' '' '' '' '' '' '2' '' '' '' '' '' '' '' '' '3' ''] 0.9960110851315566 0.6353637901861252 1.3518550963216525\n"
     ]
    },
    {
     "data": {
      "text/plain": [
       "(False, True)"
      ]
     },
     "execution_count": 286,
     "metadata": {},
     "output_type": "execute_result"
    }
   ],
   "source": [
    "xm=qsample(xm,model_neg,steps=4)\n",
    "\n",
    "print(xm,funcm(xm),dissonance_distr_median(xm,model_pos),funcw(xm,model_pos,model_neg))\n",
    "calcVeritas(xm)"
   ]
  },
  {
   "cell_type": "code",
   "execution_count": 278,
   "id": "61366620",
   "metadata": {},
   "outputs": [
    {
     "name": "stderr",
     "output_type": "stream",
     "text": [
      "100%|█████████████████████████████████████████| 100/100 [01:09<00:00,  1.43it/s]\n"
     ]
    }
   ],
   "source": [
    "INDEX=model_pos.shap_index\n",
    "featurenames=model_pos.feature_names\n",
    "XM={i:'3' for i in INDEX[:20]}\n",
    "xm=pd.concat([pd.DataFrame(columns=featurenames),pd.DataFrame(XM,index=['resp'])]).fillna('').values[0].astype(str)\n",
    "A=[]\n",
    "B=[]\n",
    "for i in tqdm(range(100)):\n",
    "    xm1=qsample(xm,model_neg,steps=10)\n",
    "    a,b=dissonance_distr_median(xm1,model_pos),funcw(xm1,model_pos,model_neg)\n",
    "    A=np.append(A,a)\n",
    "    B=np.append(B,b)\n"
   ]
  },
  {
   "cell_type": "code",
   "execution_count": 279,
   "id": "ffff11ff",
   "metadata": {},
   "outputs": [
    {
     "data": {
      "text/plain": [
       "<AxesSubplot:ylabel='Density'>"
      ]
     },
     "execution_count": 279,
     "metadata": {},
     "output_type": "execute_result"
    },
    {
     "data": {
      "image/png": "[encoded data removed]",
      "text/plain": [
       "<Figure size 432x288 with 1 Axes>"
      ]
     },
     "metadata": {
      "needs_background": "dark"
     },
     "output_type": "display_data"
    }
   ],
   "source": [
    "import seaborn as sns\n",
    "sns.distplot(B)"
   ]
  },
  {
   "cell_type": "code",
   "execution_count": 280,
   "id": "618505ed",
   "metadata": {},
   "outputs": [
    {
     "data": {
      "text/plain": [
       "array([0.75252648, 0.76668287, 0.84332839, 0.87098942, 0.88220322,\n",
       "       0.88272096, 0.8931212 , 0.91355608, 0.91832775, 0.92198492,\n",
       "       0.93218923, 0.9332891 , 0.93437569, 0.93513988, 0.94780356,\n",
       "       0.95094675, 0.96172672, 0.96828429, 0.9704735 , 0.99712261,\n",
       "       0.99918125, 1.0030802 , 1.00477141, 1.00987539, 1.01556082,\n",
       "       1.02802213, 1.03297884, 1.03371481, 1.03636181, 1.0516113 ,\n",
       "       1.05322755, 1.05794863, 1.06166106, 1.06307283, 1.06797753,\n",
       "       1.07089838, 1.07290186, 1.07585937, 1.07749869, 1.07810769,\n",
       "       1.07818239, 1.08276733, 1.08362727, 1.08462903, 1.09753704,\n",
       "       1.09847071, 1.09895137, 1.10043955, 1.10173082, 1.11558467,\n",
       "       1.11563066, 1.11914822, 1.12217347, 1.13299954, 1.13311776,\n",
       "       1.1388255 , 1.13967889, 1.14811062, 1.15201029, 1.15918856,\n",
       "       1.16825465, 1.17602429, 1.19197469, 1.19551099, 1.20294396,\n",
       "       1.20346083, 1.20969859, 1.23956237, 1.24237744, 1.24434659,\n",
       "       1.26145206, 1.27091671, 1.30005577, 1.31140477, 1.31625831,\n",
       "       1.32480937, 1.3250539 , 1.32759027, 1.33044361, 1.33291127,\n",
       "       1.33668228, 1.34980803, 1.35499926, 1.35667797, 1.35836401,\n",
       "       1.37960947, 1.38116295, 1.38477459, 1.39255138, 1.40011491,\n",
       "       1.40133609, 1.41299975, 1.42300008, 1.43145138, 1.43704721,\n",
       "       1.50200187, 1.51161862, 1.57245741, 1.58745932, 1.63188745])"
      ]
     },
     "execution_count": 280,
     "metadata": {},
     "output_type": "execute_result"
    }
   ],
   "source": [
    "B.sort()\n",
    "B"
   ]
  },
  {
   "cell_type": "code",
   "execution_count": 255,
   "id": "e4298085",
   "metadata": {},
   "outputs": [
    {
     "name": "stdout",
     "output_type": "stream",
     "text": [
      "['' '' '' '' '' '' '' '' '' '' '' '' '' '' '' '4' '' '' '' '' '' '' '' ''\n",
      " '' '' '' '' '3' '' '' '' '' '' '' '' '' '' '' '3' '' '' '' '' '' '' ''\n",
      " '4' '' '' '' '' '' '' '' '' '' '' '' '' '' '' '' '' '' '' '' '' '' '' '3'\n",
      " '4' '' '' '' '' '' '5' '' '' '' '' '' '' '' '' '' '' '' '' '' '' '2' ''\n",
      " '' '' '' '' '' '' '' '4' '' '' '' '' '' '' '' '' '' '' '' '' '' '' '' ''\n",
      " '' '' '' '' '' '' '' '' '' '' '' '' '' '' '' '' '4' '' '' '5' '4' '' ''\n",
      " '3' '' '' '4' '' '' '' '' '' '' '' '' '' '' '' '' '' '4' '' '' '' '' ''\n",
      " '3' '5' '' '' '' '3' '3' '3' '' '' '' '' '' '' '' '' '' '' '' '' '' '' ''\n",
      " '' '' '' '' '' '' '' '' '' '' '' '' '' '' '' '' '' '' '' '' '' '' '' ''] 0.8219936720465831 0.7166666666666667 1.7795270296950128\n"
     ]
    },
    {
     "data": {
      "text/plain": [
       "(False, True)"
      ]
     },
     "execution_count": 255,
     "metadata": {},
     "output_type": "execute_result"
    }
   ],
   "source": [
    "XX={\"ptsd48\": \"4\", \"ptsd78\": \"5\", \"ptsd145\": \"4\", \"ptsd166\": \"5\", \"ptsd71\": \"3\", \"ptsd72\": \"4\", \"ptsd138\": \"5\", \"ptsd170\": \"3\", \"ptsd93\": \"2\", \"ptsd139\": \"4\", \"ptsd29\": \"3\", \"ptsd102\": \"4\", \"ptsd172\": \"3\", \"ptsd159\": \"4\", \"ptsd142\": \"3\", \"ptsd40\": \"3\", \"ptsd165\": \"3\", \"ptsd135\": \"4\", \"ptsd171\": \"3\", \"ptsd16\": \"4\"}\n",
    "\n",
    "xm=pd.concat([pd.DataFrame(columns=featurenames),pd.DataFrame(XX,index=['resp'])]).fillna('').values[0].astype(str)\n",
    "\n",
    "\n",
    "print(xm,funcm(xm),dissonance_distr_median(xm,model_pos),funcw(xm,model_pos,model_neg))\n",
    "calcVeritas(xm)"
   ]
  },
  {
   "cell_type": "code",
   "execution_count": 256,
   "id": "3d9d8331",
   "metadata": {},
   "outputs": [
    {
     "name": "stdout",
     "output_type": "stream",
     "text": [
      "['' '' '' '' '' '' '' '' '' '' '' '' '' '' '' '4' '' '' '' '' '' '' '' '3'\n",
      " '' '' '' '' '3' '' '' '' '' '' '' '' '' '' '' '3' '1' '' '' '' '' '' ''\n",
      " '4' '' '' '' '' '' '' '' '' '' '' '' '' '' '' '' '' '' '' '' '' '' '' '3'\n",
      " '4' '' '' '4' '' '1' '5' '' '' '' '' '' '' '' '' '' '' '' '' '' '' '2' ''\n",
      " '' '' '' '' '' '' '' '4' '' '' '' '' '' '' '' '' '' '' '' '' '' '' '' '3'\n",
      " '' '' '' '' '' '' '' '' '' '' '' '' '' '' '' '' '4' '' '' '5' '4' '' ''\n",
      " '3' '' '2' '4' '' '' '' '' '' '' '' '2' '' '' '' '' '' '4' '4' '' '' ''\n",
      " '' '3' '5' '' '' '' '3' '3' '3' '2' '' '' '' '' '' '' '' '' '' '' '' ''\n",
      " '' '' '' '' '' '' '' '' '' '' '' '' '1' '' '' '' '' '' '' '' '' '' '' ''\n",
      " '' ''] 1.0919727923865759 0.7782377919320594 1.1874806717498445\n"
     ]
    },
    {
     "data": {
      "text/plain": [
       "(True, False)"
      ]
     },
     "execution_count": 256,
     "metadata": {},
     "output_type": "execute_result"
    }
   ],
   "source": [
    "xm=qsample(xm,model_neg,steps=10)\n",
    "\n",
    "print(xm,funcm(xm),dissonance_distr_median(xm,model_pos),funcw(xm,model_pos,model_neg))\n",
    "calcVeritas(xm)"
   ]
  },
  {
   "cell_type": "code",
   "execution_count": null,
   "id": "cd545628",
   "metadata": {},
   "outputs": [],
   "source": []
  }
 ],
 "metadata": {
  "kernelspec": {
   "display_name": "Python 3 (ipykernel)",
   "language": "python",
   "name": "python3"
  },
  "language_info": {
   "codemirror_mode": {
    "name": "ipython",
    "version": 3
   },
   "file_extension": ".py",
   "mimetype": "text/x-python",
   "name": "python",
   "nbconvert_exporter": "python",
   "pygments_lexer": "ipython3",
   "version": "3.10.8"
  }
 },
 "nbformat": 4,
 "nbformat_minor": 5
}
