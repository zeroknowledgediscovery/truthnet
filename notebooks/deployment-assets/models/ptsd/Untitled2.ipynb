{
 "cells": [
  {
   "cell_type": "code",
   "execution_count": 2,
   "id": "02c4d5bc",
   "metadata": {},
   "outputs": [],
   "source": [
    "from quasinet.qnet import load_qnet\n",
    "from quasinet.qnet import qdistance\n",
    "from quasinet.qsampling import qsample\n",
    "from quasinet.qnet import membership_degree\n",
    "import pandas as pd\n",
    "import numpy as np\n",
    "from tqdm import tqdm\n",
    "import random\n",
    "import gzip\n",
    "import dill\n",
    "import json\n",
    "\n",
    "modelnegpath='ptsd_neg.pkl.gz'\n",
    "model=load_qnet(modelnegpath)"
   ]
  },
  {
   "cell_type": "code",
   "execution_count": 4,
   "id": "fac477cd",
   "metadata": {},
   "outputs": [],
   "source": [
    "INDEX=model.shap_index\n",
    "featurenames=model.feature_names"
   ]
  },
  {
   "cell_type": "code",
   "execution_count": 5,
   "id": "503898a5",
   "metadata": {},
   "outputs": [
    {
     "name": "stdout",
     "output_type": "stream",
     "text": [
      "/home/ishanu/ZED/Research/truthnet/notebooks/deployment-assets/models/ptsd\r\n"
     ]
    }
   ],
   "source": []
  },
  {
   "cell_type": "code",
   "execution_count": null,
   "id": "3171e9bb",
   "metadata": {},
   "outputs": [],
   "source": []
  }
 ],
 "metadata": {
  "kernelspec": {
   "display_name": "Python 3 (ipykernel)",
   "language": "python",
   "name": "python3"
  },
  "language_info": {
   "codemirror_mode": {
    "name": "ipython",
    "version": 3
   },
   "file_extension": ".py",
   "mimetype": "text/x-python",
   "name": "python",
   "nbconvert_exporter": "python",
   "pygments_lexer": "ipython3",
   "version": "3.10.8"
  }
 },
 "nbformat": 4,
 "nbformat_minor": 5
}
