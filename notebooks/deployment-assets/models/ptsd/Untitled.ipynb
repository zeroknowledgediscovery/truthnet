{
 "cells": [
  {
   "cell_type": "code",
   "execution_count": 1,
   "id": "de6f8db7",
   "metadata": {},
   "outputs": [],
   "source": [
    "from quasinet.qnet import load_qnet"
   ]
  },
  {
   "cell_type": "code",
   "execution_count": 2,
   "id": "1fde7ff3",
   "metadata": {},
   "outputs": [],
   "source": [
    "model_path_pos='./random_order_pos_model_0.joblib.gz'\n",
    "model_path_neg='./random_order_neg_model_0.joblib.gz'\n"
   ]
  },
  {
   "cell_type": "code",
   "execution_count": 3,
   "id": "baefc32c",
   "metadata": {},
   "outputs": [],
   "source": [
    "model_pos=load_qnet(model_path_pos)\n",
    "model_neg=load_qnet(model_path_neg)\n"
   ]
  },
  {
   "cell_type": "code",
   "execution_count": 4,
   "id": "e8375aa0",
   "metadata": {},
   "outputs": [
    {
     "data": {
      "text/plain": [
       "array(['ptsd1', 'ptsd2', 'ptsd3', 'ptsd4', 'ptsd5', 'ptsd6', 'ptsd7',\n",
       "       'ptsd8', 'ptsd9', 'ptsd10', 'ptsd11', 'ptsd12', 'ptsd13', 'ptsd14',\n",
       "       'ptsd15', 'ptsd16', 'ptsd17', 'ptsd18', 'ptsd19', 'ptsd20',\n",
       "       'ptsd21', 'ptsd22', 'ptsd23', 'ptsd24', 'ptsd25', 'ptsd26',\n",
       "       'ptsd27', 'ptsd28', 'ptsd29', 'ptsd30', 'ptsd31', 'ptsd32',\n",
       "       'ptsd33', 'ptsd34', 'ptsd35', 'ptsd36', 'ptsd37', 'ptsd38',\n",
       "       'ptsd39', 'ptsd40', 'ptsd41', 'ptsd42', 'ptsd43', 'ptsd44',\n",
       "       'ptsd45', 'ptsd46', 'ptsd47', 'ptsd48', 'ptsd49', 'ptsd50',\n",
       "       'ptsd51', 'ptsd52', 'ptsd53', 'ptsd54', 'ptsd55', 'ptsd56',\n",
       "       'ptsd57', 'ptsd58', 'ptsd59', 'ptsd60', 'ptsd61', 'ptsd62',\n",
       "       'ptsd63', 'ptsd64', 'ptsd65', 'ptsd66', 'ptsd67', 'ptsd68',\n",
       "       'ptsd69', 'ptsd70', 'ptsd71', 'ptsd72', 'ptsd73', 'ptsd74',\n",
       "       'ptsd75', 'ptsd76', 'ptsd77', 'ptsd78', 'ptsd79', 'ptsd80',\n",
       "       'ptsd81', 'ptsd82', 'ptsd83', 'ptsd84', 'ptsd85', 'ptsd86',\n",
       "       'ptsd87', 'ptsd88', 'ptsd89', 'ptsd90', 'ptsd91', 'ptsd92',\n",
       "       'ptsd93', 'ptsd94', 'ptsd95', 'ptsd96', 'ptsd97', 'ptsd98',\n",
       "       'ptsd99', 'ptsd100', 'ptsd101', 'ptsd102', 'ptsd103', 'ptsd104',\n",
       "       'ptsd105', 'ptsd106', 'ptsd107', 'ptsd108', 'ptsd109', 'ptsd110',\n",
       "       'ptsd111', 'ptsd112', 'ptsd113', 'ptsd114', 'ptsd115', 'ptsd116',\n",
       "       'ptsd117', 'ptsd118', 'ptsd119', 'ptsd120', 'ptsd121', 'ptsd122',\n",
       "       'ptsd123', 'ptsd124', 'ptsd125', 'ptsd126', 'ptsd127', 'ptsd128',\n",
       "       'ptsd129', 'ptsd130', 'ptsd131', 'ptsd132', 'ptsd133', 'ptsd134',\n",
       "       'ptsd135', 'ptsd136', 'ptsd137', 'ptsd138', 'ptsd139', 'ptsd140',\n",
       "       'ptsd141', 'ptsd142', 'ptsd143', 'ptsd144', 'ptsd145', 'ptsd146',\n",
       "       'ptsd147', 'ptsd148', 'ptsd149', 'ptsd150', 'ptsd151', 'ptsd152',\n",
       "       'ptsd153', 'ptsd154', 'ptsd155', 'ptsd156', 'ptsd157', 'ptsd158',\n",
       "       'ptsd159', 'ptsd160', 'ptsd161', 'ptsd162', 'ptsd163', 'ptsd164',\n",
       "       'ptsd165', 'ptsd166', 'ptsd167', 'ptsd168', 'ptsd169', 'ptsd170',\n",
       "       'ptsd171', 'ptsd172', 'ptsd173', 'ptsd174', 'ptsd175', 'ptsd176',\n",
       "       'ptsd177', 'ptsd178', 'ptsd179', 'ptsd180', 'ptsd181', 'ptsd182',\n",
       "       'ptsd183', 'ptsd184', 'ptsd185', 'ptsd186', 'ptsd187', 'ptsd188',\n",
       "       'ptsd189', 'ptsd190', 'ptsd191', 'ptsd192', 'ptsd193', 'ptsd194',\n",
       "       'ptsd195', 'ptsd196', 'ptsd197', 'ptsd198', 'ptsd199', 'ptsd200',\n",
       "       'ptsd201', 'ptsd202', 'ptsd203', 'ptsd204', 'ptsd205', 'ptsd206',\n",
       "       'ptsd207', 'ptsd208', 'ptsd209', 'ptsd210', 'ptsd211'],\n",
       "      dtype=object)"
      ]
     },
     "execution_count": 4,
     "metadata": {},
     "output_type": "execute_result"
    }
   ],
   "source": [
    "model_pos.feature_names"
   ]
  },
  {
   "cell_type": "code",
   "execution_count": 5,
   "id": "d9c7db2f",
   "metadata": {},
   "outputs": [
    {
     "data": {
      "text/plain": [
       "array(['ptsd1', 'ptsd2', 'ptsd3', 'ptsd4', 'ptsd5', 'ptsd6', 'ptsd7',\n",
       "       'ptsd8', 'ptsd9', 'ptsd10', 'ptsd11', 'ptsd12', 'ptsd13', 'ptsd14',\n",
       "       'ptsd15', 'ptsd16', 'ptsd17', 'ptsd18', 'ptsd19', 'ptsd20',\n",
       "       'ptsd21', 'ptsd22', 'ptsd23', 'ptsd24', 'ptsd25', 'ptsd26',\n",
       "       'ptsd27', 'ptsd28', 'ptsd29', 'ptsd30', 'ptsd31', 'ptsd32',\n",
       "       'ptsd33', 'ptsd34', 'ptsd35', 'ptsd36', 'ptsd37', 'ptsd38',\n",
       "       'ptsd39', 'ptsd40', 'ptsd41', 'ptsd42', 'ptsd43', 'ptsd44',\n",
       "       'ptsd45', 'ptsd46', 'ptsd47', 'ptsd48', 'ptsd49', 'ptsd50',\n",
       "       'ptsd51', 'ptsd52', 'ptsd53', 'ptsd54', 'ptsd55', 'ptsd56',\n",
       "       'ptsd57', 'ptsd58', 'ptsd59', 'ptsd60', 'ptsd61', 'ptsd62',\n",
       "       'ptsd63', 'ptsd64', 'ptsd65', 'ptsd66', 'ptsd67', 'ptsd68',\n",
       "       'ptsd69', 'ptsd70', 'ptsd71', 'ptsd72', 'ptsd73', 'ptsd74',\n",
       "       'ptsd75', 'ptsd76', 'ptsd77', 'ptsd78', 'ptsd79', 'ptsd80',\n",
       "       'ptsd81', 'ptsd82', 'ptsd83', 'ptsd84', 'ptsd85', 'ptsd86',\n",
       "       'ptsd87', 'ptsd88', 'ptsd89', 'ptsd90', 'ptsd91', 'ptsd92',\n",
       "       'ptsd93', 'ptsd94', 'ptsd95', 'ptsd96', 'ptsd97', 'ptsd98',\n",
       "       'ptsd99', 'ptsd100', 'ptsd101', 'ptsd102', 'ptsd103', 'ptsd104',\n",
       "       'ptsd105', 'ptsd106', 'ptsd107', 'ptsd108', 'ptsd109', 'ptsd110',\n",
       "       'ptsd111', 'ptsd112', 'ptsd113', 'ptsd114', 'ptsd115', 'ptsd116',\n",
       "       'ptsd117', 'ptsd118', 'ptsd119', 'ptsd120', 'ptsd121', 'ptsd122',\n",
       "       'ptsd123', 'ptsd124', 'ptsd125', 'ptsd126', 'ptsd127', 'ptsd128',\n",
       "       'ptsd129', 'ptsd130', 'ptsd131', 'ptsd132', 'ptsd133', 'ptsd134',\n",
       "       'ptsd135', 'ptsd136', 'ptsd137', 'ptsd138', 'ptsd139', 'ptsd140',\n",
       "       'ptsd141', 'ptsd142', 'ptsd143', 'ptsd144', 'ptsd145', 'ptsd146',\n",
       "       'ptsd147', 'ptsd148', 'ptsd149', 'ptsd150', 'ptsd151', 'ptsd152',\n",
       "       'ptsd153', 'ptsd154', 'ptsd155', 'ptsd156', 'ptsd157', 'ptsd158',\n",
       "       'ptsd159', 'ptsd160', 'ptsd161', 'ptsd162', 'ptsd163', 'ptsd164',\n",
       "       'ptsd165', 'ptsd166', 'ptsd167', 'ptsd168', 'ptsd169', 'ptsd170',\n",
       "       'ptsd171', 'ptsd172', 'ptsd173', 'ptsd174', 'ptsd175', 'ptsd176',\n",
       "       'ptsd177', 'ptsd178', 'ptsd179', 'ptsd180', 'ptsd181', 'ptsd182',\n",
       "       'ptsd183', 'ptsd184', 'ptsd185', 'ptsd186', 'ptsd187', 'ptsd188',\n",
       "       'ptsd189', 'ptsd190', 'ptsd191', 'ptsd192', 'ptsd193', 'ptsd194',\n",
       "       'ptsd195', 'ptsd196', 'ptsd197', 'ptsd198', 'ptsd199', 'ptsd200',\n",
       "       'ptsd201', 'ptsd202', 'ptsd203', 'ptsd204', 'ptsd205', 'ptsd206',\n",
       "       'ptsd207', 'ptsd208', 'ptsd209', 'ptsd210', 'ptsd211'],\n",
       "      dtype=object)"
      ]
     },
     "execution_count": 5,
     "metadata": {},
     "output_type": "execute_result"
    }
   ],
   "source": [
    "model_neg.feature_names"
   ]
  },
  {
   "cell_type": "code",
   "execution_count": 6,
   "id": "598c8923",
   "metadata": {},
   "outputs": [],
   "source": [
    "import json\n"
   ]
  },
  {
   "cell_type": "code",
   "execution_count": 7,
   "id": "317c6653",
   "metadata": {},
   "outputs": [],
   "source": [
    "filepath='/home/ishanu/Dropbox/paraknowledge/paraknowledgecorp/webpage/veritas/responses1.json'\n",
    "filepath='/home/ishanu/Dropbox/paraknowledge/paraknowledgecorp/saas/cloud_functions/test_deployments/ptsd1.json'\n",
    "with open(filepath, 'r') as file:\n",
    "    data = json.load(file)\n"
   ]
  },
  {
   "cell_type": "code",
   "execution_count": 8,
   "id": "aca3811d",
   "metadata": {},
   "outputs": [],
   "source": [
    "import pandas as pd\n",
    "resp=data[0]['188xx']"
   ]
  },
  {
   "cell_type": "code",
   "execution_count": 9,
   "id": "d6ba750d",
   "metadata": {},
   "outputs": [],
   "source": [
    "s=pd.concat([pd.DataFrame(columns=model_neg.feature_names),\n",
    "           pd.DataFrame(resp,index=['response'])]).fillna('').values[0].astype(str)"
   ]
  },
  {
   "cell_type": "code",
   "execution_count": 10,
   "id": "4addb203",
   "metadata": {},
   "outputs": [
    {
     "data": {
      "text/plain": [
       "array(['4', '1', '3', '3', '4', '3', '4', '4', '2', '4', '3', '3', '5',\n",
       "       '4', '4', '3', '5', '3', '4', '4', '2', '3', '4', '3', '3', '3',\n",
       "       '3', '3', '3', '4', '4', '3', '', '', '', '', '', '', '4', '3',\n",
       "       '3', '3', '', '', '', '', '', '', '', '', '', '', '', '', '', '',\n",
       "       '', '', '', '', '', '', '', '', '', '', '', '', '', '', '', '', '',\n",
       "       '', '', '', '', '', '', '', '', '', '', '', '', '', '', '', '', '',\n",
       "       '', '', '', '', '', '', '', '', '', '', '', '', '', '', '', '', '',\n",
       "       '', '', '', '', '', '', '', '', '', '', '', '', '', '', '', '', '',\n",
       "       '3', '4', '4', '4', '3', '4', '4', '4', '4', '3', '3', '4', '4',\n",
       "       '4', '4', '5', '4', '5', '5', '4', '4', '3', '4', '4', '5', '4',\n",
       "       '2', '3', '4', '4', '4', '4', '3', '5', '5', '', '', '', '', '',\n",
       "       '', '', '', '', '', '', '', '', '', '', '', '', '', '3', '4', '4',\n",
       "       '4', '4', '5', '5', '4', '4', '4', '4', '3', '2', '3', '4', '5',\n",
       "       '4', '5', '5', '5', '5', '', '', '', '', '', '', '', '', '', '',\n",
       "       '', '', '5'], dtype='<U1')"
      ]
     },
     "execution_count": 10,
     "metadata": {},
     "output_type": "execute_result"
    }
   ],
   "source": [
    "s"
   ]
  },
  {
   "cell_type": "code",
   "execution_count": 11,
   "id": "486572e2",
   "metadata": {},
   "outputs": [
    {
     "data": {
      "text/plain": [
       "array(['', '', '', '', '', '', '', '', '', '', '', '', '', '', '', '', '',\n",
       "       '', '', '', '', '', '', '', '', '', '', '', '', '', '', '', '', '',\n",
       "       '', '', '', '', '', '', '', '', '', '', '', '', '', '', '', '', '',\n",
       "       '', '', '', '', '', '', '', '', '', '', '', '', '', '', '', '', '',\n",
       "       '', '', '', '', '', '', '', '', '', '', '', '', '', '', '', '', '',\n",
       "       '', '', '', '', '', '', '', '', '', '', '', '', '', '', '', '', '',\n",
       "       '', '', '', '', '', '', '', '', '', '', '', '', '', '', '', '', '',\n",
       "       '', '', '', '', '', '', '', '', '', '', '', '', '', '', '', '', '',\n",
       "       '', '', '', '', '', '', '', '', '', '', '', '', '', '', '', '', '',\n",
       "       '', '', '', '', '', '', '', '', '', '', '', '', '', '', '', '', '',\n",
       "       '', '', '', '', '', '', '', '', '', '', '', '', '', '', '', '', '',\n",
       "       '', '', '', '', '', '', '', '', '', '', '', '', '', '', '', '', '',\n",
       "       '', '', '', '', '', '', ''], dtype='<U1')"
      ]
     },
     "execution_count": 11,
     "metadata": {},
     "output_type": "execute_result"
    }
   ],
   "source": [
    "import numpy as np\n",
    "NULLSTR=np.array(['']*len(model_neg.feature_names))\n",
    "NULLSTR"
   ]
  },
  {
   "cell_type": "code",
   "execution_count": 12,
   "id": "e3c81b3d",
   "metadata": {},
   "outputs": [],
   "source": [
    "from quasinet.qnet import qdistance\n",
    "from quasinet.qsampling import qsample"
   ]
  },
  {
   "cell_type": "code",
   "execution_count": 13,
   "id": "fb7f1dd7",
   "metadata": {},
   "outputs": [],
   "source": [
    "s1=qsample(NULLSTR,model_pos,steps=100000)\n",
    "s0=qsample(NULLSTR,model_neg,steps=100000)\n"
   ]
  },
  {
   "cell_type": "code",
   "execution_count": 15,
   "id": "31c0ec3a",
   "metadata": {},
   "outputs": [],
   "source": [
    "from quasinet.qnet import membership_degree"
   ]
  },
  {
   "cell_type": "code",
   "execution_count": 27,
   "id": "ae1ab471",
   "metadata": {},
   "outputs": [],
   "source": [
    "def func(s,s0,s1):\n",
    "    return qdistance(s0,s,model_neg,model_neg)/qdistance(s1,s,model_pos,model_pos)\n",
    "\n",
    "def funcw(s,s0,s1):\n",
    "    return membership_degree(s,model_neg)/membership_degree(s,model_pos)\n",
    "\n"
   ]
  },
  {
   "cell_type": "code",
   "execution_count": 20,
   "id": "36536823",
   "metadata": {},
   "outputs": [],
   "source": [
    "pathdata='/home/ishanu/ZED/Research/truthnet/notebooks/data/ptsd/PTSD_cognet_test.csv'"
   ]
  },
  {
   "cell_type": "code",
   "execution_count": 21,
   "id": "f773a0f0",
   "metadata": {},
   "outputs": [],
   "source": [
    "df=pd.read_csv(pathdata,index_col=0)"
   ]
  },
  {
   "cell_type": "code",
   "execution_count": 22,
   "id": "9c3bbb4f",
   "metadata": {},
   "outputs": [
    {
     "data": {
      "text/html": [
       "<div>\n",
       "<style scoped>\n",
       "    .dataframe tbody tr th:only-of-type {\n",
       "        vertical-align: middle;\n",
       "    }\n",
       "\n",
       "    .dataframe tbody tr th {\n",
       "        vertical-align: top;\n",
       "    }\n",
       "\n",
       "    .dataframe thead th {\n",
       "        text-align: right;\n",
       "    }\n",
       "</style>\n",
       "<table border=\"1\" class=\"dataframe\">\n",
       "  <thead>\n",
       "    <tr style=\"text-align: right;\">\n",
       "      <th></th>\n",
       "      <th>PTSDDx</th>\n",
       "      <th>ptsd1</th>\n",
       "      <th>ptsd2</th>\n",
       "      <th>ptsd3</th>\n",
       "      <th>ptsd4</th>\n",
       "      <th>ptsd5</th>\n",
       "      <th>ptsd6</th>\n",
       "      <th>ptsd7</th>\n",
       "      <th>ptsd8</th>\n",
       "      <th>ptsd9</th>\n",
       "      <th>...</th>\n",
       "      <th>ptsd202</th>\n",
       "      <th>ptsd203</th>\n",
       "      <th>ptsd204</th>\n",
       "      <th>ptsd205</th>\n",
       "      <th>ptsd206</th>\n",
       "      <th>ptsd207</th>\n",
       "      <th>ptsd208</th>\n",
       "      <th>ptsd209</th>\n",
       "      <th>ptsd210</th>\n",
       "      <th>ptsd211</th>\n",
       "    </tr>\n",
       "    <tr>\n",
       "      <th>record_id</th>\n",
       "      <th></th>\n",
       "      <th></th>\n",
       "      <th></th>\n",
       "      <th></th>\n",
       "      <th></th>\n",
       "      <th></th>\n",
       "      <th></th>\n",
       "      <th></th>\n",
       "      <th></th>\n",
       "      <th></th>\n",
       "      <th></th>\n",
       "      <th></th>\n",
       "      <th></th>\n",
       "      <th></th>\n",
       "      <th></th>\n",
       "      <th></th>\n",
       "      <th></th>\n",
       "      <th></th>\n",
       "      <th></th>\n",
       "      <th></th>\n",
       "      <th></th>\n",
       "    </tr>\n",
       "  </thead>\n",
       "  <tbody>\n",
       "    <tr>\n",
       "      <th>CAT1001</th>\n",
       "      <td>0</td>\n",
       "      <td>4</td>\n",
       "      <td>2</td>\n",
       "      <td>5</td>\n",
       "      <td>4</td>\n",
       "      <td>2</td>\n",
       "      <td>3</td>\n",
       "      <td>2</td>\n",
       "      <td>3</td>\n",
       "      <td>3</td>\n",
       "      <td>...</td>\n",
       "      <td>2</td>\n",
       "      <td>4</td>\n",
       "      <td>4</td>\n",
       "      <td>3</td>\n",
       "      <td>2</td>\n",
       "      <td>3</td>\n",
       "      <td>2</td>\n",
       "      <td>2</td>\n",
       "      <td>4</td>\n",
       "      <td>2</td>\n",
       "    </tr>\n",
       "    <tr>\n",
       "      <th>CAT1002</th>\n",
       "      <td>0</td>\n",
       "      <td>3</td>\n",
       "      <td>2</td>\n",
       "      <td>3</td>\n",
       "      <td>3</td>\n",
       "      <td>1</td>\n",
       "      <td>3</td>\n",
       "      <td>2</td>\n",
       "      <td>2</td>\n",
       "      <td>2</td>\n",
       "      <td>...</td>\n",
       "      <td>3</td>\n",
       "      <td>4</td>\n",
       "      <td>4</td>\n",
       "      <td>3</td>\n",
       "      <td>3</td>\n",
       "      <td>3</td>\n",
       "      <td>4</td>\n",
       "      <td>3</td>\n",
       "      <td>4</td>\n",
       "      <td>5</td>\n",
       "    </tr>\n",
       "    <tr>\n",
       "      <th>CAT1003</th>\n",
       "      <td>0</td>\n",
       "      <td>2</td>\n",
       "      <td>2</td>\n",
       "      <td>2</td>\n",
       "      <td>4</td>\n",
       "      <td>1</td>\n",
       "      <td>3</td>\n",
       "      <td>3</td>\n",
       "      <td>2</td>\n",
       "      <td>2</td>\n",
       "      <td>...</td>\n",
       "      <td>4</td>\n",
       "      <td>2</td>\n",
       "      <td>2</td>\n",
       "      <td>4</td>\n",
       "      <td>4</td>\n",
       "      <td>2</td>\n",
       "      <td>3</td>\n",
       "      <td>2</td>\n",
       "      <td>2</td>\n",
       "      <td>5</td>\n",
       "    </tr>\n",
       "    <tr>\n",
       "      <th>CAT1004</th>\n",
       "      <td>0</td>\n",
       "      <td>2</td>\n",
       "      <td>2</td>\n",
       "      <td>5</td>\n",
       "      <td>1</td>\n",
       "      <td>3</td>\n",
       "      <td>2</td>\n",
       "      <td>1</td>\n",
       "      <td>2</td>\n",
       "      <td>2</td>\n",
       "      <td>...</td>\n",
       "      <td>1</td>\n",
       "      <td>2</td>\n",
       "      <td>3</td>\n",
       "      <td>3</td>\n",
       "      <td>3</td>\n",
       "      <td>2</td>\n",
       "      <td>1</td>\n",
       "      <td>1</td>\n",
       "      <td>2</td>\n",
       "      <td>2</td>\n",
       "    </tr>\n",
       "    <tr>\n",
       "      <th>CAT1005</th>\n",
       "      <td>0</td>\n",
       "      <td>4</td>\n",
       "      <td>1</td>\n",
       "      <td>1</td>\n",
       "      <td>1</td>\n",
       "      <td>2</td>\n",
       "      <td>2</td>\n",
       "      <td>1</td>\n",
       "      <td>1</td>\n",
       "      <td>1</td>\n",
       "      <td>...</td>\n",
       "      <td>2</td>\n",
       "      <td>2</td>\n",
       "      <td>2</td>\n",
       "      <td>2</td>\n",
       "      <td>1</td>\n",
       "      <td>1</td>\n",
       "      <td>2</td>\n",
       "      <td>2</td>\n",
       "      <td>2</td>\n",
       "      <td>3</td>\n",
       "    </tr>\n",
       "    <tr>\n",
       "      <th>...</th>\n",
       "      <td>...</td>\n",
       "      <td>...</td>\n",
       "      <td>...</td>\n",
       "      <td>...</td>\n",
       "      <td>...</td>\n",
       "      <td>...</td>\n",
       "      <td>...</td>\n",
       "      <td>...</td>\n",
       "      <td>...</td>\n",
       "      <td>...</td>\n",
       "      <td>...</td>\n",
       "      <td>...</td>\n",
       "      <td>...</td>\n",
       "      <td>...</td>\n",
       "      <td>...</td>\n",
       "      <td>...</td>\n",
       "      <td>...</td>\n",
       "      <td>...</td>\n",
       "      <td>...</td>\n",
       "      <td>...</td>\n",
       "      <td>...</td>\n",
       "    </tr>\n",
       "    <tr>\n",
       "      <th>CAT1300</th>\n",
       "      <td>1</td>\n",
       "      <td>4</td>\n",
       "      <td>2</td>\n",
       "      <td>3</td>\n",
       "      <td>4</td>\n",
       "      <td>1</td>\n",
       "      <td>1</td>\n",
       "      <td>1</td>\n",
       "      <td>1</td>\n",
       "      <td>3</td>\n",
       "      <td>...</td>\n",
       "      <td>2</td>\n",
       "      <td>2</td>\n",
       "      <td>2</td>\n",
       "      <td>2</td>\n",
       "      <td>2</td>\n",
       "      <td>2</td>\n",
       "      <td>2</td>\n",
       "      <td>2</td>\n",
       "      <td>2</td>\n",
       "      <td>3</td>\n",
       "    </tr>\n",
       "    <tr>\n",
       "      <th>CAT1301</th>\n",
       "      <td>1</td>\n",
       "      <td>5</td>\n",
       "      <td>2</td>\n",
       "      <td>2</td>\n",
       "      <td>4</td>\n",
       "      <td>4</td>\n",
       "      <td>3</td>\n",
       "      <td>2</td>\n",
       "      <td>5</td>\n",
       "      <td>4</td>\n",
       "      <td>...</td>\n",
       "      <td>5</td>\n",
       "      <td>5</td>\n",
       "      <td>5</td>\n",
       "      <td>5</td>\n",
       "      <td>4</td>\n",
       "      <td>5</td>\n",
       "      <td>5</td>\n",
       "      <td>4</td>\n",
       "      <td>4</td>\n",
       "      <td>5</td>\n",
       "    </tr>\n",
       "    <tr>\n",
       "      <th>CAT1302</th>\n",
       "      <td>0</td>\n",
       "      <td>5</td>\n",
       "      <td>1</td>\n",
       "      <td>2</td>\n",
       "      <td>1</td>\n",
       "      <td>1</td>\n",
       "      <td>3</td>\n",
       "      <td>5</td>\n",
       "      <td>5</td>\n",
       "      <td>3</td>\n",
       "      <td>...</td>\n",
       "      <td>4</td>\n",
       "      <td>3</td>\n",
       "      <td>3</td>\n",
       "      <td>2</td>\n",
       "      <td>3</td>\n",
       "      <td>1</td>\n",
       "      <td>3</td>\n",
       "      <td>2</td>\n",
       "      <td>5</td>\n",
       "      <td>5</td>\n",
       "    </tr>\n",
       "    <tr>\n",
       "      <th>CAT1303</th>\n",
       "      <td>0</td>\n",
       "      <td>2</td>\n",
       "      <td>1</td>\n",
       "      <td>3</td>\n",
       "      <td>3</td>\n",
       "      <td>1</td>\n",
       "      <td>2</td>\n",
       "      <td>2</td>\n",
       "      <td>2</td>\n",
       "      <td>1</td>\n",
       "      <td>...</td>\n",
       "      <td>1</td>\n",
       "      <td>1</td>\n",
       "      <td>1</td>\n",
       "      <td>1</td>\n",
       "      <td>1</td>\n",
       "      <td>2</td>\n",
       "      <td>2</td>\n",
       "      <td>2</td>\n",
       "      <td>2</td>\n",
       "      <td>2</td>\n",
       "    </tr>\n",
       "    <tr>\n",
       "      <th>CAT1304</th>\n",
       "      <td>0</td>\n",
       "      <td>5</td>\n",
       "      <td>2</td>\n",
       "      <td>1</td>\n",
       "      <td>1</td>\n",
       "      <td>1</td>\n",
       "      <td>1</td>\n",
       "      <td>1</td>\n",
       "      <td>1</td>\n",
       "      <td>1</td>\n",
       "      <td>...</td>\n",
       "      <td>2</td>\n",
       "      <td>2</td>\n",
       "      <td>1</td>\n",
       "      <td>2</td>\n",
       "      <td>1</td>\n",
       "      <td>1</td>\n",
       "      <td>2</td>\n",
       "      <td>2</td>\n",
       "      <td>1</td>\n",
       "      <td>4</td>\n",
       "    </tr>\n",
       "  </tbody>\n",
       "</table>\n",
       "<p>304 rows × 212 columns</p>\n",
       "</div>"
      ],
      "text/plain": [
       "           PTSDDx  ptsd1  ptsd2  ptsd3  ptsd4  ptsd5  ptsd6  ptsd7  ptsd8  \\\n",
       "record_id                                                                   \n",
       "CAT1001         0      4      2      5      4      2      3      2      3   \n",
       "CAT1002         0      3      2      3      3      1      3      2      2   \n",
       "CAT1003         0      2      2      2      4      1      3      3      2   \n",
       "CAT1004         0      2      2      5      1      3      2      1      2   \n",
       "CAT1005         0      4      1      1      1      2      2      1      1   \n",
       "...           ...    ...    ...    ...    ...    ...    ...    ...    ...   \n",
       "CAT1300         1      4      2      3      4      1      1      1      1   \n",
       "CAT1301         1      5      2      2      4      4      3      2      5   \n",
       "CAT1302         0      5      1      2      1      1      3      5      5   \n",
       "CAT1303         0      2      1      3      3      1      2      2      2   \n",
       "CAT1304         0      5      2      1      1      1      1      1      1   \n",
       "\n",
       "           ptsd9  ...  ptsd202  ptsd203  ptsd204  ptsd205  ptsd206  ptsd207  \\\n",
       "record_id         ...                                                         \n",
       "CAT1001        3  ...        2        4        4        3        2        3   \n",
       "CAT1002        2  ...        3        4        4        3        3        3   \n",
       "CAT1003        2  ...        4        2        2        4        4        2   \n",
       "CAT1004        2  ...        1        2        3        3        3        2   \n",
       "CAT1005        1  ...        2        2        2        2        1        1   \n",
       "...          ...  ...      ...      ...      ...      ...      ...      ...   \n",
       "CAT1300        3  ...        2        2        2        2        2        2   \n",
       "CAT1301        4  ...        5        5        5        5        4        5   \n",
       "CAT1302        3  ...        4        3        3        2        3        1   \n",
       "CAT1303        1  ...        1        1        1        1        1        2   \n",
       "CAT1304        1  ...        2        2        1        2        1        1   \n",
       "\n",
       "           ptsd208  ptsd209  ptsd210  ptsd211  \n",
       "record_id                                      \n",
       "CAT1001          2        2        4        2  \n",
       "CAT1002          4        3        4        5  \n",
       "CAT1003          3        2        2        5  \n",
       "CAT1004          1        1        2        2  \n",
       "CAT1005          2        2        2        3  \n",
       "...            ...      ...      ...      ...  \n",
       "CAT1300          2        2        2        3  \n",
       "CAT1301          5        4        4        5  \n",
       "CAT1302          3        2        5        5  \n",
       "CAT1303          2        2        2        2  \n",
       "CAT1304          2        2        1        4  \n",
       "\n",
       "[304 rows x 212 columns]"
      ]
     },
     "execution_count": 22,
     "metadata": {},
     "output_type": "execute_result"
    }
   ],
   "source": [
    "df"
   ]
  },
  {
   "cell_type": "code",
   "execution_count": 39,
   "id": "c21f63f8",
   "metadata": {},
   "outputs": [],
   "source": [
    "training_index=np.random.choice(df.index.values, 100, replace=False)\n",
    "df_training=df.loc[training_index,:]\n",
    "df_text = df.loc[[x for x in df.index.values if x not in training_index],:]"
   ]
  },
  {
   "cell_type": "code",
   "execution_count": 40,
   "id": "f5a91695",
   "metadata": {},
   "outputs": [],
   "source": [
    "X=df_training.drop('PTSDDx',axis=1).values.astype(str)\n",
    "dx=df_training.PTSDDx.values"
   ]
  },
  {
   "cell_type": "code",
   "execution_count": null,
   "id": "2dff6353",
   "metadata": {},
   "outputs": [],
   "source": [
    "from quasinet.qnet import Qnet\n",
    "model=Qnet(feature_names=df.drop('PTSDDx',axis=1).values,alpha=.1)\n",
    "model.fit(X)"
   ]
  },
  {
   "cell_type": "code",
   "execution_count": 38,
   "id": "6329a315",
   "metadata": {},
   "outputs": [
    {
     "ename": "NameError",
     "evalue": "name 'X' is not defined",
     "output_type": "error",
     "traceback": [
      "\u001b[0;31m---------------------------------------------------------------------------\u001b[0m",
      "\u001b[0;31mNameError\u001b[0m                                 Traceback (most recent call last)",
      "\u001b[0;32m/tmp/ipykernel_262973/2675991463.py\u001b[0m in \u001b[0;36m<module>\u001b[0;34m\u001b[0m\n\u001b[1;32m      1\u001b[0m \u001b[0;32mfrom\u001b[0m \u001b[0mtqdm\u001b[0m \u001b[0;32mimport\u001b[0m \u001b[0mtqdm\u001b[0m\u001b[0;34m\u001b[0m\u001b[0;34m\u001b[0m\u001b[0m\n\u001b[0;32m----> 2\u001b[0;31m \u001b[0mpred\u001b[0m\u001b[0;34m=\u001b[0m\u001b[0;34m[\u001b[0m\u001b[0mfunc\u001b[0m\u001b[0;34m(\u001b[0m\u001b[0ms\u001b[0m\u001b[0;34m,\u001b[0m\u001b[0ms0\u001b[0m\u001b[0;34m,\u001b[0m\u001b[0ms1\u001b[0m\u001b[0;34m)\u001b[0m \u001b[0;32mfor\u001b[0m \u001b[0ms\u001b[0m \u001b[0;32min\u001b[0m \u001b[0mtqdm\u001b[0m\u001b[0;34m(\u001b[0m\u001b[0mX\u001b[0m\u001b[0;34m)\u001b[0m\u001b[0;34m]\u001b[0m\u001b[0;34m\u001b[0m\u001b[0;34m\u001b[0m\u001b[0m\n\u001b[0m",
      "\u001b[0;31mNameError\u001b[0m: name 'X' is not defined"
     ]
    }
   ],
   "source": [
    "from tqdm import tqdm\n",
    "pred=[func(s,s0,s1) for s in tqdm(X)]"
   ]
  },
  {
   "cell_type": "code",
   "execution_count": 28,
   "id": "348c6e38",
   "metadata": {},
   "outputs": [
    {
     "name": "stderr",
     "output_type": "stream",
     "text": [
      "100%|█████████████████████████████████████████| 304/304 [00:25<00:00, 11.94it/s]\n"
     ]
    }
   ],
   "source": [
    "yw=[funcw(s,s0,s1) for s in tqdm(S)]"
   ]
  },
  {
   "cell_type": "code",
   "execution_count": 26,
   "id": "a5a7e286",
   "metadata": {},
   "outputs": [
    {
     "data": {
      "text/plain": [
       "0.7845103477704288"
      ]
     },
     "execution_count": 26,
     "metadata": {},
     "output_type": "execute_result"
    }
   ],
   "source": [
    "from sklearn import metrics\n",
    "fpr, tpr, thresholds = metrics.roc_curve(dx, y, pos_label=0)\n",
    "metrics.auc(fpr, tpr)"
   ]
  },
  {
   "cell_type": "code",
   "execution_count": 29,
   "id": "3b9f8293",
   "metadata": {},
   "outputs": [
    {
     "data": {
      "text/plain": [
       "0.8585449114572221"
      ]
     },
     "execution_count": 29,
     "metadata": {},
     "output_type": "execute_result"
    }
   ],
   "source": [
    "fprW, tprW, thresholdsW = metrics.roc_curve(dx, yw, pos_label=0)\n",
    "metrics.auc(fprW, tprW)"
   ]
  },
  {
   "cell_type": "code",
   "execution_count": 30,
   "id": "a9f3a909",
   "metadata": {},
   "outputs": [],
   "source": [
    "import pylab as plt"
   ]
  },
  {
   "cell_type": "code",
   "execution_count": 32,
   "id": "fee94728",
   "metadata": {},
   "outputs": [
    {
     "data": {
      "text/plain": [
       "[<matplotlib.lines.Line2D at 0x7f9e325493f0>]"
      ]
     },
     "execution_count": 32,
     "metadata": {},
     "output_type": "execute_result"
    },
    {
     "data": {
      "image/png": "[encoded data removed]",
      "text/plain": [
       "<Figure size 432x288 with 1 Axes>"
      ]
     },
     "metadata": {
      "needs_background": "light"
     },
     "output_type": "display_data"
    }
   ],
   "source": [
    "plt.plot(fpr,tpr)\n",
    "plt.plot(fprW,tprW)\n"
   ]
  },
  {
   "cell_type": "code",
   "execution_count": null,
   "id": "c2ca07b8",
   "metadata": {},
   "outputs": [],
   "source": []
  }
 ],
 "metadata": {
  "kernelspec": {
   "display_name": "Python 3 (ipykernel)",
   "language": "python",
   "name": "python3"
  },
  "language_info": {
   "codemirror_mode": {
    "name": "ipython",
    "version": 3
   },
   "file_extension": ".py",
   "mimetype": "text/x-python",
   "name": "python",
   "nbconvert_exporter": "python",
   "pygments_lexer": "ipython3",
   "version": "3.10.8"
  }
 },
 "nbformat": 4,
 "nbformat_minor": 5
}
