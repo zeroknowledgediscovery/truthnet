{
 "cells": [
  {
   "cell_type": "code",
   "execution_count": 20,
   "id": "e3c81b3d",
   "metadata": {},
   "outputs": [],
   "source": [
    "from quasinet.qnet import load_qnet\n",
    "from quasinet.qnet import qdistance\n",
    "from quasinet.qsampling import qsample\n",
    "from quasinet.qnet import membership_degree\n",
    "import pandas as pd\n",
    "import numpy as np\n",
    "from tqdm import tqdm\n",
    "import pylab as plt\n",
    "from jupyterthemes import jtplot\n",
    "jtplot.style()\n",
    "\n"
   ]
  },
  {
   "cell_type": "code",
   "execution_count": 2,
   "id": "15c256af",
   "metadata": {},
   "outputs": [],
   "source": [
    "def dissonance(pos,seq,model):\n",
    "    if seq[pos]=='':\n",
    "        return np.nan\n",
    "    D=model.predict_distributions(seq) \n",
    "    return 1-D[pos].get(str(seq[pos]),0)\n",
    "def dissonance_distr(seq,model):\n",
    "    return np.array([dissonance(pos,seq,model) for pos in range(len(seq))])\n",
    "\n",
    "def dissonance_distr_median(seq,model):\n",
    "    a=dissonance_distr(seq,model)\n",
    "    return np.median(a[~np.isnan(a)])\n",
    "\n",
    "# create a naive posstr\n",
    "def sample_from_pmf(pmf, L):\n",
    "    \"\"\"\n",
    "    Draw L samples from the given PMF.\n",
    "\n",
    "    :param pmf: A dictionary representing the PMF where keys are outcomes and values are probabilities.\n",
    "    :param L: The number of samples to draw.\n",
    "    :return: A list of L samples.\n",
    "    \"\"\"\n",
    "    # Extract the outcomes and their corresponding probabilities\n",
    "    outcomes = list(pmf.keys())\n",
    "    probabilities = list(pmf.values())\n",
    "\n",
    "    # Draw L samples from the outcomes based on the specified probabilities\n",
    "    samples = np.random.choice(outcomes, size=L, p=probabilities)\n",
    "    return samples   \n"
   ]
  },
  {
   "cell_type": "code",
   "execution_count": 3,
   "id": "a07b454b",
   "metadata": {},
   "outputs": [],
   "source": [
    "pathdata='/home/ishanu/ZED/Research/truthnet/notebooks/data/ptsd/PTSD_cognet_test.csv'\n",
    "df=pd.read_csv(pathdata,index_col=0)\n",
    "model_neg=load_qnet('ptsd_neg.pkl.gz',gz=True)\n",
    "model_pos=load_qnet('ptsd_pos.pkl.gz',gz=True)\n",
    "INDEX=model_neg.shap_index\n",
    "featurenames=df.drop('PTSDDx',axis=1).columns"
   ]
  },
  {
   "cell_type": "code",
   "execution_count": 76,
   "id": "ae1ab471",
   "metadata": {},
   "outputs": [],
   "source": [
    "NULLSTR=np.array(['']*len(model_neg.feature_names))\n",
    "s1=qsample(NULLSTR,model_pos,steps=100000)\n",
    "s0=qsample(NULLSTR,model_neg,steps=100000)\n",
    "\n",
    "def func(s,s0,s1,model_pos,model_neg):\n",
    "    return qdistance(s0,s,model_neg,model_neg)/qdistance(s1,s,model_pos,model_pos)\n",
    "\n",
    "import random\n",
    "def funcw(s,model_pos,model_neg,dropone=False,perturb=False,perturbsteps=100):\n",
    "    if dropone:\n",
    "        s[random.randint(0, len(s) - 1)] = str(random.randint(1,5))\n",
    "    if perturb:\n",
    "        s=qsample(s,model_neg,steps=perturbsteps)\n",
    "    return membership_degree(s,model_neg)/membership_degree(s,model_pos)\n",
    "\n",
    "def funcm(array):\n",
    "    if isinstance(array, np.ndarray):\n",
    "        if isinstance(array[0], str):\n",
    "            return -membership_degree(array,model_pos)/(array!='').sum() \n",
    "        if isinstance(array[0],np.ndarray):\n",
    "            if isinstance(array[0][0], str):\n",
    "                return np.array([-membership_degree(s,model_pos)/(s!='').sum()  for s in array])\n",
    "    raise('incorrect datatype. must be 2d numpy array of strings')\n",
    "    return\n",
    "                \n",
    "def calcVeritas(s):\n",
    "    c0,c1=funcm(s),dissonance_distr_median(s,model_pos)#,funcw(POSSTR)\n",
    "    return (c0>1,c1<0.76)\n",
    "        "
   ]
  },
  {
   "cell_type": "code",
   "execution_count": 12,
   "id": "fd4d239e",
   "metadata": {},
   "outputs": [],
   "source": [
    "df_test_pos=df.loc[[x for x in df.index.values if x not in model_pos.training_index],:]\n",
    "df_test_pos=df_test_pos[df_test_pos.PTSDDx==1].drop('PTSDDx',axis=1)\n",
    "Xpos_test=df_test_pos.values.astype(str)\n",
    "Xpos_test_incomplete=pd.concat([pd.DataFrame(columns=featurenames),df_test_pos[INDEX[:20]]]).fillna('').values.astype(str)"
   ]
  },
  {
   "cell_type": "code",
   "execution_count": 13,
   "id": "f0eb2ae8",
   "metadata": {},
   "outputs": [],
   "source": [
    "df_test_neg=df.loc[[x for x in df.index.values if x not in model_neg.training_index],:]\n",
    "df_test_neg=df_test_neg[df_test_neg.PTSDDx==0].drop('PTSDDx',axis=1)\n",
    "Xneg_test=df_test_neg.values.astype(str)\n",
    "Xneg_test_incomplete=pd.concat([pd.DataFrame(columns=featurenames),df_test_neg[INDEX[:20]]]).fillna('').values.astype(str)"
   ]
  },
  {
   "cell_type": "code",
   "execution_count": 14,
   "id": "cd0e4600",
   "metadata": {},
   "outputs": [],
   "source": [
    "Xtest=np.vstack((Xneg_test,Xpos_test))\n",
    "Xtest_incomplete=np.vstack((Xneg_test_incomplete,Xpos_test_incomplete))\n",
    "dx=np.append(np.zeros(len(Xneg_test)),np.ones(len(Xpos_test)))"
   ]
  },
  {
   "cell_type": "code",
   "execution_count": 175,
   "id": "145308e7",
   "metadata": {},
   "outputs": [
    {
     "data": {
      "image/png": "[encoded data removed]",
      "text/plain": [
       "<Figure size 432x288 with 1 Axes>"
      ]
     },
     "metadata": {
      "needs_background": "dark"
     },
     "output_type": "display_data"
    }
   ],
   "source": [
    "a=[]\n",
    "[a.extend(x) for x in Xtest]\n",
    "a=np.array(a)\n",
    "y=plt.hist(Xtest[13],bins=[.5,1.5,2.5,3.5,4.5,5.5])"
   ]
  },
  {
   "cell_type": "code",
   "execution_count": 231,
   "id": "3d3eaa10",
   "metadata": {},
   "outputs": [],
   "source": [
    "import seaborn as sns\n",
    "mf=pd.concat([pd.DataFrame(pd.DataFrame(x).value_counts()).transpose() for x in Xpos_test_incomplete])\n",
    "mfn=pd.concat([pd.DataFrame(pd.DataFrame(x).value_counts()).transpose() for x in Xneg_test_incomplete])"
   ]
  },
  {
   "cell_type": "code",
   "execution_count": 241,
   "id": "ad107eb4",
   "metadata": {},
   "outputs": [],
   "source": [
    "mf=mf.drop('',axis=1)/20#.sum(axis=1)\n",
    "mfn=mfn.drop('',axis=1)/20#.sum(axis=1)\n"
   ]
  },
  {
   "cell_type": "code",
   "execution_count": 243,
   "id": "4ad4b0e7",
   "metadata": {},
   "outputs": [
    {
     "data": {
      "text/plain": [
       "<AxesSubplot:xlabel='0'>"
      ]
     },
     "execution_count": 243,
     "metadata": {},
     "output_type": "execute_result"
    },
    {
     "data": {
      "image/png": "[encoded data removed]",
      "text/plain": [
       "<Figure size 432x288 with 2 Axes>"
      ]
     },
     "metadata": {
      "needs_background": "dark"
     },
     "output_type": "display_data"
    }
   ],
   "source": [
    "sns.heatmap(mf)\n",
    "#sns.heatmap(mfn)\n"
   ]
  },
  {
   "cell_type": "code",
   "execution_count": null,
   "id": "cf6f85f3",
   "metadata": {},
   "outputs": [],
   "source": [
    "ax=mf.mean().sort_values().plot(kind='bar',alpha=.2,color='r')\n",
    "mfn.mean().sort_values().plot(kind='bar',ax=ax,alpha=.3,color='g')"
   ]
  },
  {
   "cell_type": "code",
   "execution_count": 269,
   "id": "42022d2d",
   "metadata": {},
   "outputs": [
    {
     "data": {
      "text/plain": [
       "[<matplotlib.lines.Line2D at 0x7fb604d5b460>]"
      ]
     },
     "execution_count": 269,
     "metadata": {},
     "output_type": "execute_result"
    },
    {
     "data": {
      "image/png": "[encoded data removed]",
      "text/plain": [
       "<Figure size 432x288 with 1 Axes>"
      ]
     },
     "metadata": {
      "needs_background": "dark"
     },
     "output_type": "display_data"
    }
   ],
   "source": [
    "mfc=pd.concat([pd.DataFrame(pd.DataFrame(x).replace('','0').astype(int).sum()).transpose() for x in Xpos_test_incomplete])\n",
    "b=np.squeeze(mfc.values)\n",
    "b.sort()\n",
    "#mfc\n",
    "mfn=pd.concat([pd.DataFrame(pd.DataFrame(x).replace('','0').astype(int).sum()).transpose() for x in Xneg_test_incomplete])\n",
    "a=np.squeeze(mfn.values)[np.random.choice(148, 56)]\n",
    "a.sort()\n",
    "plt.plot(a)\n",
    "plt.plot(b)\n"
   ]
  },
  {
   "cell_type": "code",
   "execution_count": 300,
   "id": "226a38f9",
   "metadata": {},
   "outputs": [],
   "source": [
    "xx3=np.array(['3']*20)\n",
    "xx3=pd.concat([pd.DataFrame(columns=featurenames),pd.DataFrame(xx3.reshape(1,-1),columns=INDEX[:20])]).fillna('').values[0].astype(str)"
   ]
  },
  {
   "cell_type": "code",
   "execution_count": 301,
   "id": "e57ab2f0",
   "metadata": {},
   "outputs": [
    {
     "data": {
      "text/plain": [
       "0.9779630917707024"
      ]
     },
     "execution_count": 301,
     "metadata": {},
     "output_type": "execute_result"
    }
   ],
   "source": [
    "funcm(xx3)"
   ]
  },
  {
   "cell_type": "code",
   "execution_count": 305,
   "id": "ded32de9",
   "metadata": {},
   "outputs": [
    {
     "data": {
      "text/plain": [
       "[<matplotlib.lines.Line2D at 0x7fb604db2410>]"
      ]
     },
     "execution_count": 305,
     "metadata": {},
     "output_type": "execute_result"
    },
    {
     "data": {
      "image/png": "[encoded data removed]",
      "text/plain": [
       "<Figure size 432x288 with 1 Axes>"
      ]
     },
     "metadata": {
      "needs_background": "dark"
     },
     "output_type": "display_data"
    }
   ],
   "source": [
    "ii=np.array([funcm(i) for i in Xpos_test_incomplete])\n",
    "ii.sort()\n",
    "plt.plot(ii)"
   ]
  },
  {
   "cell_type": "code",
   "execution_count": 306,
   "id": "24c1bc22",
   "metadata": {},
   "outputs": [
    {
     "data": {
      "text/plain": [
       "[<matplotlib.lines.Line2D at 0x7fb604c862c0>]"
      ]
     },
     "execution_count": 306,
     "metadata": {},
     "output_type": "execute_result"
    },
    {
     "data": {
      "image/png": "[encoded data removed]",
      "text/plain": [
       "<Figure size 432x288 with 1 Axes>"
      ]
     },
     "metadata": {
      "needs_background": "dark"
     },
     "output_type": "display_data"
    }
   ],
   "source": [
    "ii=np.array([funcm(i) for i in Xneg_test_incomplete])\n",
    "ii.sort()\n",
    "plt.plot(ii)"
   ]
  },
  {
   "cell_type": "code",
   "execution_count": null,
   "id": "081a99fa",
   "metadata": {},
   "outputs": [],
   "source": [
    "np.sort(list(''.join(Xpos_test_incomplete[0])))"
   ]
  },
  {
   "cell_type": "code",
   "execution_count": 318,
   "id": "3b4ca302",
   "metadata": {},
   "outputs": [
    {
     "data": {
      "text/plain": [
       "'112223'"
      ]
     },
     "execution_count": 318,
     "metadata": {},
     "output_type": "execute_result"
    }
   ],
   "source": [
    "def fst(s):\n",
    "    return ''.join(np.sort(list(s)))\n",
    "\n",
    "fst('221132')"
   ]
  },
  {
   "cell_type": "code",
   "execution_count": 341,
   "id": "02c97004",
   "metadata": {},
   "outputs": [
    {
     "data": {
      "text/plain": [
       "array(['12333333333344444444', '22222233333344444455',\n",
       "       '22333444444445555555', '33333333344444444444',\n",
       "       '33334444444444444555', '22233333344444444445',\n",
       "       '11111111222233333334', '11222222222222333333',\n",
       "       '23333333444444555555', '22333333334444444445',\n",
       "       '33344444444445555555', '12333333444444455555',\n",
       "       '12222222222233333333', '22333333333333444444',\n",
       "       '24444444444444555555', '11222222222333334445',\n",
       "       '22233334444444444445', '11111222334444445555',\n",
       "       '22233333333444444444', '11222222333333444445',\n",
       "       '22223333333333444455', '33333333333333333333',\n",
       "       '12233333333344444455', '11222333333333333444',\n",
       "       '11111111222222233333', '22333333444444444455',\n",
       "       '22333333333344445555', '11222233333444444555',\n",
       "       '11123333333333333444', '23333333344444444555',\n",
       "       '33333444444455555555', '11122222222222333333',\n",
       "       '22222233333333333444', '11222222222333333333',\n",
       "       '13333444444444445555', '22333444444444455555',\n",
       "       '33333344444444444555', '22222222222222222222',\n",
       "       '11111122222333344445', '12222333334444444455',\n",
       "       '22223333333444445555', '33334444444444445555',\n",
       "       '11111112222222223344', '33333444444444455555',\n",
       "       '33333444444444445555', '22333333333444444444',\n",
       "       '34444444444444455555', '11111122222222233345',\n",
       "       '44444444444555555555', '23333333333444444455',\n",
       "       '12333444444444455555', '11111122222333333334',\n",
       "       '22223333333333344444', '22222233334444555555',\n",
       "       '11222222222222333333', '12333333334444444555'], dtype='<U20')"
      ]
     },
     "execution_count": 341,
     "metadata": {},
     "output_type": "execute_result"
    }
   ],
   "source": [
    "sympos=np.array([fst(''.join(x)) for x in Xpos_test_incomplete])\n",
    "symneg=np.array([fst(''.join(x)) for x in Xneg_test_incomplete])\n",
    "\n",
    "sympos\n"
   ]
  },
  {
   "cell_type": "code",
   "execution_count": 329,
   "id": "55ee044c",
   "metadata": {},
   "outputs": [
    {
     "data": {
      "text/plain": [
       "(0.201761325939697, 0.1299046195506894)"
      ]
     },
     "execution_count": 329,
     "metadata": {},
     "output_type": "execute_result"
    }
   ],
   "source": [
    "\n",
    "sympos.mean(),symneg.mean()"
   ]
  },
  {
   "cell_type": "code",
   "execution_count": 334,
   "id": "5621b3c1",
   "metadata": {},
   "outputs": [
    {
     "name": "stderr",
     "output_type": "stream",
     "text": [
      "[distfit] >INFO> fit\n",
      "[distfit] >INFO> transform\n",
      "[distfit] >INFO> [smoothline] >Smoothing by interpolation..\n",
      "[distfit] >INFO> [norm      ] [0.00 sec] [RSS: 85360.9] [loc=0.130 scale=0.050]\n",
      "[distfit] >INFO> [expon     ] [0.00 sec] [RSS: 48221.3] [loc=0.111 scale=0.019]\n",
      "[distfit] >INFO> [pareto    ] [0.00 sec] [RSS: 48221.3] [loc=-8388607.889 scale=8388608.000]\n",
      "[distfit] >INFO> [dweibull  ] [0.11 sec] [RSS: 53935.2] [loc=0.111 scale=0.045]\n",
      "[distfit] >INFO> [t         ] [0.15 sec] [RSS: 96199.1] [loc=0.111 scale=0.000]\n",
      "[distfit] >INFO> [genextreme] [0.09 sec] [RSS: 96107] [loc=0.111 scale=0.000]\n",
      "[distfit] >INFO> [gamma     ] [0.05 sec] [RSS: 44171.9] [loc=0.111 scale=0.076]\n",
      "[distfit] >INFO> [lognorm   ] [0.13 sec] [RSS: 92944.1] [loc=0.111 scale=0.000]\n",
      "[distfit] >INFO> [beta      ] [0.10 sec] [RSS: 163538] [loc=0.111 scale=2.071]\n",
      "[distfit] >INFO> [uniform   ] [0.00 sec] [RSS: 93865.8] [loc=0.111 scale=0.333]\n",
      "[distfit] >INFO> [loggamma  ] [0.07 sec] [RSS: 85716.1] [loc=-17.096 scale=2.274]\n",
      "[distfit] >INFO> Compute confidence intervals [parametric]\n",
      "[distfit] >INFO> Create pdf plot for the parametric method.\n",
      "[distfit] >INFO> Estimated distribution: Gamma(loc:0.111111, scale:0.076101)\n"
     ]
    },
    {
     "data": {
      "text/plain": [
       "(<Figure size 1440x1080 with 1 Axes>,\n",
       " <AxesSubplot:title={'center':'\\ngamma(a=0.385506, loc=0.111111, scale=0.076101)'}, xlabel='Values', ylabel='Frequency'>)"
      ]
     },
     "execution_count": 334,
     "metadata": {},
     "output_type": "execute_result"
    },
    {
     "data": {
      "image/png": "[encoded data removed]",
      "text/plain": [
       "<Figure size 1440x1080 with 1 Axes>"
      ]
     },
     "metadata": {
      "needs_background": "dark"
     },
     "output_type": "display_data"
    }
   ],
   "source": [
    "from distfit import distfit\n",
    "dfit= distfit(smooth=20)\n",
    "dfit.fit_transform(symneg)\n",
    "dfit.plot()"
   ]
  },
  {
   "cell_type": "code",
   "execution_count": 339,
   "id": "36bfae91",
   "metadata": {},
   "outputs": [
    {
     "name": "stderr",
     "output_type": "stream",
     "text": [
      "[distfit] >INFO> fit\n",
      "[distfit] >INFO> transform\n",
      "[distfit] >INFO> [smoothline] >Smoothing by interpolation..\n",
      "[distfit] >INFO> [norm      ] [0.00 sec] [RSS: 893.797] [loc=0.202 scale=0.087]\n",
      "[distfit] >INFO> [expon     ] [0.00 sec] [RSS: 860.774] [loc=0.111 scale=0.091]\n",
      "[distfit] >INFO> [pareto    ] [0.00 sec] [RSS: 865.187] [loc=0.087 scale=0.024]\n",
      "[distfit] >INFO> [dweibull  ] [0.04 sec] [RSS: 873.656] [loc=0.185 scale=0.086]\n",
      "[distfit] >INFO> [t         ] [0.18 sec] [RSS: 893.799] [loc=0.202 scale=0.087]\n",
      "[distfit] >INFO> [genextreme] [0.10 sec] [RSS: 902.578] [loc=0.113 scale=0.006]\n",
      "[distfit] >INFO> [gamma     ] [0.08 sec] [RSS: 882.21] [loc=0.111 scale=0.072]\n",
      "[distfit] >INFO> [lognorm   ] [0.15 sec] [RSS: 917.255] [loc=0.111 scale=0.181]\n",
      "[distfit] >INFO> [beta      ] [0.10 sec] [RSS: 870.287] [loc=0.111 scale=0.361]\n",
      "[distfit] >INFO> [uniform   ] [0.00 sec] [RSS: 915.418] [loc=0.111 scale=0.333]\n",
      "[distfit] >INFO> [loggamma  ] [0.06 sec] [RSS: 893.712] [loc=-22.113 scale=3.138]\n",
      "[distfit] >INFO> Compute confidence intervals [parametric]\n",
      "[distfit] >INFO> Create pdf plot for the parametric method.\n",
      "[distfit] >INFO> Estimated distribution: Expon(loc:0.111111, scale:0.090650)\n",
      "[distfit] >INFO> Compute significance for 1 samples.\n",
      "[distfit] >INFO> Multiple test correction method applied: [fdr_bh].\n"
     ]
    },
    {
     "data": {
      "text/plain": [
       "{'y': array([0.133333]),\n",
       " 'y_proba': array([0.21740412]),\n",
       " 'y_pred': array(['none'], dtype='<U4'),\n",
       " 'P': array([0.21740412]),\n",
       " 'y_bool': array([False]),\n",
       " 'df':           y   y_proba y_pred         P\n",
       " 0  0.133333  0.217404   none  0.217404}"
      ]
     },
     "execution_count": 339,
     "metadata": {},
     "output_type": "execute_result"
    },
    {
     "data": {
      "image/png": "[encoded data removed]",
      "text/plain": [
       "<Figure size 1440x1080 with 1 Axes>"
      ]
     },
     "metadata": {
      "needs_background": "dark"
     },
     "output_type": "display_data"
    }
   ],
   "source": [
    "dfit= distfit(smooth=1)\n",
    "dfit.fit_transform(sympos)\n",
    "dfit.plot()\n",
    "dfit.predict(.133333)"
   ]
  },
  {
   "cell_type": "code",
   "execution_count": 230,
   "id": "99cc764b",
   "metadata": {},
   "outputs": [
    {
     "data": {
      "text/plain": [
       "(     0.006757\n",
       " 2    0.007519\n",
       " 1    0.007752\n",
       " 3    0.008850\n",
       " 4    0.013889\n",
       " 5    0.025000\n",
       " dtype: float64,\n",
       "      0.017857\n",
       " 3    0.018868\n",
       " 4    0.020833\n",
       " 2    0.022727\n",
       " 5    0.027778\n",
       " 1    0.041667\n",
       " dtype: float64)"
      ]
     },
     "execution_count": 230,
     "metadata": {},
     "output_type": "execute_result"
    }
   ],
   "source": [
    "mfn.mean().sort_values(), mf.mean().sort_values()"
   ]
  },
  {
   "cell_type": "code",
   "execution_count": 144,
   "id": "3a64c957",
   "metadata": {},
   "outputs": [
    {
     "name": "stderr",
     "output_type": "stream",
     "text": [
      "\n",
      "  0%|                                                   | 0/204 [00:00<?, ?it/s]\u001b[A\n",
      "  0%|▏                                          | 1/204 [00:00<00:22,  9.09it/s]\u001b[A\n",
      "  1%|▋                                          | 3/204 [00:00<00:16, 12.28it/s]\u001b[A\n",
      "  2%|█                                          | 5/204 [00:00<00:14, 13.57it/s]\u001b[A\n",
      "  3%|█▍                                         | 7/204 [00:00<00:13, 15.06it/s]\u001b[A\n",
      "  4%|█▉                                         | 9/204 [00:00<00:12, 15.68it/s]\u001b[A\n",
      "  5%|██▎                                       | 11/204 [00:00<00:11, 16.18it/s]\u001b[A\n",
      "  6%|██▋                                       | 13/204 [00:00<00:12, 15.87it/s]\u001b[A\n",
      "  7%|███                                       | 15/204 [00:01<00:12, 15.35it/s]\u001b[A\n",
      "  8%|███▌                                      | 17/204 [00:01<00:11, 15.71it/s]\u001b[A\n",
      "  9%|███▉                                      | 19/204 [00:01<00:12, 15.41it/s]\u001b[A\n",
      " 10%|████▎                                     | 21/204 [00:01<00:11, 15.37it/s]\u001b[A\n",
      " 11%|████▋                                     | 23/204 [00:01<00:11, 15.80it/s]\u001b[A\n",
      " 12%|█████▏                                    | 25/204 [00:01<00:11, 16.20it/s]\u001b[A\n",
      " 13%|█████▌                                    | 27/204 [00:01<00:10, 16.62it/s]\u001b[A\n",
      " 14%|█████▉                                    | 29/204 [00:01<00:10, 17.14it/s]\u001b[A\n",
      " 15%|██████▍                                   | 31/204 [00:01<00:09, 17.74it/s]\u001b[A\n",
      " 16%|██████▊                                   | 33/204 [00:02<00:09, 18.08it/s]\u001b[A\n",
      " 17%|███████▏                                  | 35/204 [00:02<00:09, 18.00it/s]\u001b[A\n",
      " 18%|███████▌                                  | 37/204 [00:02<00:09, 17.74it/s]\u001b[A\n",
      " 19%|████████                                  | 39/204 [00:02<00:09, 17.76it/s]\u001b[A\n",
      " 20%|████████▍                                 | 41/204 [00:02<00:09, 17.92it/s]\u001b[A\n",
      " 21%|████████▊                                 | 43/204 [00:02<00:08, 18.07it/s]\u001b[A\n",
      " 22%|█████████▎                                | 45/204 [00:02<00:08, 18.16it/s]\u001b[A\n",
      " 23%|█████████▋                                | 47/204 [00:02<00:08, 18.32it/s]\u001b[A\n",
      " 24%|██████████                                | 49/204 [00:02<00:08, 18.43it/s]\u001b[A\n",
      " 25%|██████████▌                               | 51/204 [00:03<00:08, 18.56it/s]\u001b[A\n",
      " 26%|██████████▉                               | 53/204 [00:03<00:08, 18.04it/s]\u001b[A\n",
      " 27%|███████████▎                              | 55/204 [00:03<00:08, 18.16it/s]\u001b[A\n",
      " 28%|███████████▋                              | 57/204 [00:03<00:08, 17.14it/s]\u001b[A\n",
      " 29%|████████████▏                             | 59/204 [00:03<00:08, 17.39it/s]\u001b[A\n",
      " 30%|████████████▌                             | 61/204 [00:03<00:08, 17.81it/s]\u001b[A\n",
      " 31%|████████████▉                             | 63/204 [00:03<00:07, 17.67it/s]\u001b[A\n",
      " 32%|█████████████▍                            | 65/204 [00:03<00:08, 16.99it/s]\u001b[A\n",
      " 33%|█████████████▊                            | 67/204 [00:03<00:08, 17.04it/s]\u001b[A\n",
      " 34%|██████████████▏                           | 69/204 [00:04<00:07, 17.22it/s]\u001b[A\n",
      " 35%|██████████████▌                           | 71/204 [00:04<00:08, 16.51it/s]\u001b[A\n",
      " 36%|███████████████                           | 73/204 [00:04<00:08, 15.79it/s]\u001b[A\n",
      " 37%|███████████████▍                          | 75/204 [00:04<00:08, 15.30it/s]\u001b[A\n",
      " 38%|███████████████▊                          | 77/204 [00:04<00:07, 16.17it/s]\u001b[A\n",
      " 39%|████████████████▎                         | 79/204 [00:04<00:07, 16.71it/s]\u001b[A\n",
      " 40%|████████████████▋                         | 81/204 [00:04<00:07, 17.18it/s]\u001b[A\n",
      " 41%|█████████████████                         | 83/204 [00:04<00:06, 17.44it/s]\u001b[A\n",
      " 42%|█████████████████▌                        | 85/204 [00:05<00:06, 17.47it/s]\u001b[A\n",
      " 43%|█████████████████▉                        | 87/204 [00:05<00:06, 17.55it/s]\u001b[A\n",
      " 44%|██████████████████▎                       | 89/204 [00:05<00:06, 17.02it/s]\u001b[A\n",
      " 45%|██████████████████▋                       | 91/204 [00:05<00:06, 16.84it/s]\u001b[A\n",
      " 46%|███████████████████▏                      | 93/204 [00:05<00:06, 16.79it/s]\u001b[A\n",
      " 47%|███████████████████▌                      | 95/204 [00:05<00:06, 16.69it/s]\u001b[A\n",
      " 48%|███████████████████▉                      | 97/204 [00:05<00:06, 16.08it/s]\u001b[A\n",
      " 49%|████████████████████▍                     | 99/204 [00:05<00:06, 16.34it/s]\u001b[A\n",
      " 50%|████████████████████▎                    | 101/204 [00:06<00:06, 16.57it/s]\u001b[A\n",
      " 50%|████████████████████▋                    | 103/204 [00:06<00:05, 17.13it/s]\u001b[A\n",
      " 51%|█████████████████████                    | 105/204 [00:06<00:05, 17.08it/s]\u001b[A\n",
      " 52%|█████████████████████▌                   | 107/204 [00:06<00:05, 16.98it/s]\u001b[A\n",
      " 53%|█████████████████████▉                   | 109/204 [00:06<00:05, 17.30it/s]\u001b[A\n",
      " 54%|██████████████████████▎                  | 111/204 [00:06<00:05, 17.15it/s]\u001b[A\n",
      " 55%|██████████████████████▋                  | 113/204 [00:06<00:05, 17.48it/s]\u001b[A\n",
      " 56%|███████████████████████                  | 115/204 [00:06<00:05, 17.54it/s]\u001b[A\n",
      " 57%|███████████████████████▌                 | 117/204 [00:06<00:05, 17.32it/s]\u001b[A\n",
      " 58%|███████████████████████▉                 | 119/204 [00:07<00:05, 16.91it/s]\u001b[A\n",
      " 59%|████████████████████████▎                | 121/204 [00:07<00:05, 16.03it/s]\u001b[A\n",
      " 60%|████████████████████████▋                | 123/204 [00:07<00:05, 16.08it/s]\u001b[A\n",
      " 61%|█████████████████████████                | 125/204 [00:07<00:04, 16.11it/s]\u001b[A\n",
      " 62%|█████████████████████████▌               | 127/204 [00:07<00:04, 16.46it/s]\u001b[A\n",
      " 63%|█████████████████████████▉               | 129/204 [00:07<00:04, 16.15it/s]\u001b[A\n",
      " 64%|██████████████████████████▎              | 131/204 [00:07<00:04, 16.39it/s]\u001b[A\n",
      " 65%|██████████████████████████▋              | 133/204 [00:07<00:04, 16.32it/s]\u001b[A\n",
      " 66%|███████████████████████████▏             | 135/204 [00:08<00:04, 16.25it/s]\u001b[A\n",
      " 67%|███████████████████████████▌             | 137/204 [00:08<00:04, 16.45it/s]\u001b[A\n",
      " 68%|███████████████████████████▉             | 139/204 [00:08<00:03, 16.75it/s]\u001b[A\n",
      " 69%|████████████████████████████▎            | 141/204 [00:08<00:03, 16.96it/s]\u001b[A\n",
      " 70%|████████████████████████████▋            | 143/204 [00:08<00:03, 17.12it/s]\u001b[A\n",
      " 71%|█████████████████████████████▏           | 145/204 [00:08<00:03, 16.42it/s]\u001b[A\n",
      " 72%|█████████████████████████████▌           | 147/204 [00:08<00:03, 16.66it/s]\u001b[A\n",
      " 73%|█████████████████████████████▉           | 149/204 [00:08<00:03, 16.81it/s]\u001b[A\n",
      " 74%|██████████████████████████████▎          | 151/204 [00:09<00:03, 16.44it/s]\u001b[A\n",
      " 75%|██████████████████████████████▊          | 153/204 [00:09<00:03, 16.56it/s]\u001b[A\n",
      " 76%|███████████████████████████████▏         | 155/204 [00:09<00:02, 16.65it/s]\u001b[A\n",
      " 77%|███████████████████████████████▌         | 157/204 [00:09<00:02, 16.78it/s]\u001b[A\n",
      " 78%|███████████████████████████████▉         | 159/204 [00:09<00:02, 16.49it/s]\u001b[A\n",
      " 79%|████████████████████████████████▎        | 161/204 [00:09<00:02, 16.41it/s]\u001b[A\n",
      " 80%|████████████████████████████████▊        | 163/204 [00:09<00:02, 16.37it/s]\u001b[A\n",
      " 81%|█████████████████████████████████▏       | 165/204 [00:09<00:02, 16.65it/s]\u001b[A\n",
      " 82%|█████████████████████████████████▌       | 167/204 [00:09<00:02, 17.19it/s]\u001b[A\n",
      " 83%|█████████████████████████████████▉       | 169/204 [00:10<00:01, 17.68it/s]\u001b[A\n",
      " 84%|██████████████████████████████████▎      | 171/204 [00:10<00:01, 17.96it/s]\u001b[A\n",
      " 85%|██████████████████████████████████▊      | 173/204 [00:10<00:01, 17.76it/s]\u001b[A\n",
      " 86%|███████████████████████████████████▏     | 175/204 [00:10<00:01, 17.70it/s]\u001b[A\n",
      " 87%|███████████████████████████████████▌     | 177/204 [00:10<00:01, 17.97it/s]\u001b[A\n",
      " 88%|███████████████████████████████████▉     | 179/204 [00:10<00:01, 18.08it/s]\u001b[A\n",
      " 89%|████████████████████████████████████▍    | 181/204 [00:10<00:01, 17.31it/s]\u001b[A\n",
      " 90%|████████████████████████████████████▊    | 183/204 [00:10<00:01, 16.76it/s]\u001b[A\n",
      " 91%|█████████████████████████████████████▏   | 185/204 [00:11<00:01, 16.53it/s]\u001b[A\n",
      " 92%|█████████████████████████████████████▌   | 187/204 [00:11<00:01, 16.80it/s]\u001b[A\n",
      " 93%|█████████████████████████████████████▉   | 189/204 [00:11<00:00, 17.31it/s]\u001b[A\n",
      " 94%|██████████████████████████████████████▍  | 191/204 [00:11<00:00, 17.60it/s]\u001b[A\n"
     ]
    },
    {
     "name": "stderr",
     "output_type": "stream",
     "text": [
      " 95%|██████████████████████████████████████▊  | 193/204 [00:11<00:00, 17.74it/s]\u001b[A\n",
      " 96%|███████████████████████████████████████▏ | 195/204 [00:11<00:00, 17.98it/s]\u001b[A\n",
      " 97%|███████████████████████████████████████▌ | 197/204 [00:11<00:00, 18.13it/s]\u001b[A\n",
      " 98%|███████████████████████████████████████▉ | 199/204 [00:11<00:00, 18.18it/s]\u001b[A\n",
      " 99%|████████████████████████████████████████▍| 201/204 [00:11<00:00, 18.24it/s]\u001b[A\n",
      "100%|█████████████████████████████████████████| 204/204 [00:12<00:00, 16.94it/s]\u001b[A\n"
     ]
    }
   ],
   "source": [
    "pred = [funcw(qsample(x,model_pos,steps=5),model_pos,model_neg) for x in tqdm(Xtest_incomplete)]"
   ]
  },
  {
   "cell_type": "code",
   "execution_count": 148,
   "id": "be640130",
   "metadata": {},
   "outputs": [
    {
     "name": "stderr",
     "output_type": "stream",
     "text": [
      "\n",
      "  0%|                                                   | 0/204 [00:00<?, ?it/s]\u001b[A\n",
      "  0%|▏                                          | 1/204 [00:00<00:57,  3.54it/s]\u001b[A\n",
      "  1%|▍                                          | 2/204 [00:00<00:43,  4.60it/s]\u001b[A\n",
      "  1%|▋                                          | 3/204 [00:00<00:41,  4.86it/s]\u001b[A\n",
      "  2%|▊                                          | 4/204 [00:00<00:39,  5.05it/s]\u001b[A\n",
      "  2%|█                                          | 5/204 [00:01<00:38,  5.21it/s]\u001b[A\n",
      "  3%|█▎                                         | 6/204 [00:01<00:38,  5.20it/s]\u001b[A\n",
      "  3%|█▍                                         | 7/204 [00:01<00:36,  5.44it/s]\u001b[A\n",
      "  4%|█▋                                         | 8/204 [00:01<00:38,  5.10it/s]\u001b[A\n",
      "  4%|█▉                                         | 9/204 [00:01<00:37,  5.19it/s]\u001b[A\n",
      "  5%|██                                        | 10/204 [00:01<00:37,  5.12it/s]\u001b[A\n",
      "  5%|██▎                                       | 11/204 [00:02<00:36,  5.30it/s]\u001b[A\n",
      "  6%|██▍                                       | 12/204 [00:02<00:35,  5.46it/s]\u001b[A\n",
      "  6%|██▋                                       | 13/204 [00:02<00:35,  5.31it/s]\u001b[A\n",
      "  7%|██▉                                       | 14/204 [00:02<00:35,  5.37it/s]\u001b[A\n",
      "  7%|███                                       | 15/204 [00:02<00:34,  5.47it/s]\u001b[A\n",
      "  8%|███▎                                      | 16/204 [00:03<00:34,  5.43it/s]\u001b[A\n",
      "  8%|███▌                                      | 17/204 [00:03<00:34,  5.43it/s]\u001b[A\n",
      "  9%|███▋                                      | 18/204 [00:03<00:34,  5.40it/s]\u001b[A\n",
      "  9%|███▉                                      | 19/204 [00:03<00:33,  5.46it/s]\u001b[A\n",
      " 10%|████                                      | 20/204 [00:03<00:32,  5.67it/s]\u001b[A\n",
      " 10%|████▎                                     | 21/204 [00:03<00:32,  5.70it/s]\u001b[A\n",
      " 11%|████▌                                     | 22/204 [00:04<00:31,  5.78it/s]\u001b[A\n",
      " 11%|████▋                                     | 23/204 [00:04<00:31,  5.73it/s]\u001b[A\n",
      " 12%|████▉                                     | 24/204 [00:04<00:33,  5.45it/s]\u001b[A\n",
      " 12%|█████▏                                    | 25/204 [00:04<00:32,  5.55it/s]\u001b[A\n",
      " 13%|█████▎                                    | 26/204 [00:04<00:32,  5.51it/s]\u001b[A\n",
      " 13%|█████▌                                    | 27/204 [00:05<00:31,  5.59it/s]\u001b[A\n",
      " 14%|█████▊                                    | 28/204 [00:05<00:31,  5.55it/s]\u001b[A\n",
      " 14%|█████▉                                    | 29/204 [00:05<00:31,  5.52it/s]\u001b[A\n",
      " 15%|██████▏                                   | 30/204 [00:05<00:31,  5.60it/s]\u001b[A\n",
      " 15%|██████▍                                   | 31/204 [00:05<00:30,  5.60it/s]\u001b[A\n",
      " 16%|██████▌                                   | 32/204 [00:05<00:31,  5.55it/s]\u001b[A\n",
      " 16%|██████▊                                   | 33/204 [00:06<00:30,  5.63it/s]\u001b[A\n",
      " 17%|███████                                   | 34/204 [00:06<00:29,  5.69it/s]\u001b[A\n",
      " 17%|███████▏                                  | 35/204 [00:06<00:29,  5.73it/s]\u001b[A\n",
      " 18%|███████▍                                  | 36/204 [00:06<00:28,  5.81it/s]\u001b[A\n",
      " 18%|███████▌                                  | 37/204 [00:06<00:28,  5.89it/s]\u001b[A\n",
      " 19%|███████▊                                  | 38/204 [00:06<00:28,  5.84it/s]\u001b[A\n",
      " 19%|████████                                  | 39/204 [00:07<00:27,  5.90it/s]\u001b[A\n",
      " 20%|████████▏                                 | 40/204 [00:07<00:27,  5.98it/s]\u001b[A\n",
      " 20%|████████▍                                 | 41/204 [00:07<00:27,  6.02it/s]\u001b[A\n",
      " 21%|████████▋                                 | 42/204 [00:07<00:26,  6.09it/s]\u001b[A\n",
      " 21%|████████▊                                 | 43/204 [00:07<00:26,  6.10it/s]\u001b[A\n",
      " 22%|█████████                                 | 44/204 [00:07<00:26,  6.00it/s]\u001b[A\n",
      " 22%|█████████▎                                | 45/204 [00:08<00:26,  6.09it/s]\u001b[A\n",
      " 23%|█████████▍                                | 46/204 [00:08<00:25,  6.22it/s]\u001b[A\n",
      " 23%|█████████▋                                | 47/204 [00:08<00:25,  6.17it/s]\u001b[A\n",
      " 24%|█████████▉                                | 48/204 [00:08<00:26,  5.90it/s]\u001b[A\n",
      " 24%|██████████                                | 49/204 [00:08<00:26,  5.80it/s]\u001b[A\n",
      " 25%|██████████▎                               | 50/204 [00:08<00:26,  5.77it/s]\u001b[A\n",
      " 25%|██████████▌                               | 51/204 [00:09<00:27,  5.62it/s]\u001b[A\n",
      " 25%|██████████▋                               | 52/204 [00:09<00:27,  5.50it/s]\u001b[A\n",
      " 26%|██████████▉                               | 53/204 [00:09<00:26,  5.66it/s]\u001b[A\n",
      " 26%|███████████                               | 54/204 [00:09<00:26,  5.65it/s]\u001b[A\n",
      " 27%|███████████▎                              | 55/204 [00:09<00:25,  5.76it/s]\u001b[A\n",
      " 27%|███████████▌                              | 56/204 [00:10<00:25,  5.72it/s]\u001b[A\n",
      " 28%|███████████▋                              | 57/204 [00:10<00:25,  5.74it/s]\u001b[A\n",
      " 28%|███████████▉                              | 58/204 [00:10<00:25,  5.83it/s]\u001b[A\n",
      " 29%|████████████▏                             | 59/204 [00:10<00:24,  5.87it/s]\u001b[A\n",
      " 29%|████████████▎                             | 60/204 [00:10<00:24,  5.97it/s]\u001b[A\n",
      " 30%|████████████▌                             | 61/204 [00:10<00:24,  5.90it/s]\u001b[A\n",
      " 30%|████████████▊                             | 62/204 [00:11<00:23,  5.96it/s]\u001b[A\n",
      " 31%|████████████▉                             | 63/204 [00:11<00:24,  5.80it/s]\u001b[A\n",
      " 31%|█████████████▏                            | 64/204 [00:11<00:24,  5.75it/s]\u001b[A\n",
      " 32%|█████████████▍                            | 65/204 [00:11<00:24,  5.76it/s]\u001b[A\n",
      " 32%|█████████████▌                            | 66/204 [00:11<00:23,  5.80it/s]\u001b[A\n",
      " 33%|█████████████▊                            | 67/204 [00:11<00:23,  5.88it/s]\u001b[A\n",
      " 33%|██████████████                            | 68/204 [00:12<00:22,  5.94it/s]\u001b[A\n",
      " 34%|██████████████▏                           | 69/204 [00:12<00:23,  5.87it/s]\u001b[A\n",
      " 34%|██████████████▍                           | 70/204 [00:12<00:23,  5.61it/s]\u001b[A\n",
      " 35%|██████████████▌                           | 71/204 [00:12<00:24,  5.44it/s]\u001b[A\n",
      " 35%|██████████████▊                           | 72/204 [00:12<00:23,  5.52it/s]\u001b[A\n",
      " 36%|███████████████                           | 73/204 [00:12<00:22,  5.73it/s]\u001b[A\n",
      " 36%|███████████████▏                          | 74/204 [00:13<00:22,  5.85it/s]\u001b[A\n",
      " 37%|███████████████▍                          | 75/204 [00:13<00:22,  5.75it/s]\u001b[A\n",
      " 37%|███████████████▋                          | 76/204 [00:13<00:22,  5.58it/s]\u001b[A\n",
      " 38%|███████████████▊                          | 77/204 [00:13<00:23,  5.43it/s]\u001b[A\n",
      " 38%|████████████████                          | 78/204 [00:13<00:22,  5.49it/s]\u001b[A\n",
      " 39%|████████████████▎                         | 79/204 [00:14<00:22,  5.56it/s]\u001b[A\n",
      " 39%|████████████████▍                         | 80/204 [00:14<00:22,  5.59it/s]\u001b[A\n",
      " 40%|████████████████▋                         | 81/204 [00:14<00:21,  5.63it/s]\u001b[A\n",
      " 40%|████████████████▉                         | 82/204 [00:14<00:21,  5.72it/s]\u001b[A\n",
      " 41%|█████████████████                         | 83/204 [00:14<00:21,  5.63it/s]\u001b[A\n",
      " 41%|█████████████████▎                        | 84/204 [00:14<00:21,  5.67it/s]\u001b[A\n",
      " 42%|█████████████████▌                        | 85/204 [00:15<00:20,  5.83it/s]\u001b[A\n",
      " 42%|█████████████████▋                        | 86/204 [00:15<00:19,  5.95it/s]\u001b[A\n",
      " 43%|█████████████████▉                        | 87/204 [00:15<00:19,  6.01it/s]\u001b[A\n",
      " 43%|██████████████████                        | 88/204 [00:15<00:19,  5.92it/s]\u001b[A\n",
      " 44%|██████████████████▎                       | 89/204 [00:15<00:19,  5.75it/s]\u001b[A\n",
      " 44%|██████████████████▌                       | 90/204 [00:15<00:19,  5.74it/s]\u001b[A\n",
      " 45%|██████████████████▋                       | 91/204 [00:16<00:19,  5.82it/s]\u001b[A\n",
      " 45%|██████████████████▉                       | 92/204 [00:16<00:19,  5.84it/s]\u001b[A\n",
      " 46%|███████████████████▏                      | 93/204 [00:16<00:19,  5.62it/s]\u001b[A\n",
      " 46%|███████████████████▎                      | 94/204 [00:16<00:19,  5.67it/s]\u001b[A\n",
      " 47%|███████████████████▌                      | 95/204 [00:16<00:19,  5.57it/s]\u001b[A\n",
      " 47%|███████████████████▊                      | 96/204 [00:17<00:19,  5.47it/s]\u001b[A\n"
     ]
    },
    {
     "name": "stderr",
     "output_type": "stream",
     "text": [
      " 48%|███████████████████▉                      | 97/204 [00:17<00:19,  5.38it/s]\u001b[A\n",
      " 48%|████████████████████▏                     | 98/204 [00:17<00:19,  5.37it/s]\u001b[A\n",
      " 49%|████████████████████▍                     | 99/204 [00:17<00:19,  5.43it/s]\u001b[A\n",
      " 49%|████████████████████                     | 100/204 [00:17<00:19,  5.44it/s]\u001b[A\n",
      " 50%|████████████████████▎                    | 101/204 [00:17<00:19,  5.42it/s]\u001b[A\n",
      " 50%|████████████████████▌                    | 102/204 [00:18<00:18,  5.58it/s]\u001b[A\n",
      " 50%|████████████████████▋                    | 103/204 [00:18<00:17,  5.67it/s]\u001b[A\n",
      " 51%|████████████████████▉                    | 104/204 [00:18<00:17,  5.77it/s]\u001b[A\n",
      " 51%|█████████████████████                    | 105/204 [00:18<00:16,  5.89it/s]\u001b[A\n",
      " 52%|█████████████████████▎                   | 106/204 [00:18<00:16,  5.97it/s]\u001b[A\n",
      " 52%|█████████████████████▌                   | 107/204 [00:18<00:16,  6.03it/s]\u001b[A\n",
      " 53%|█████████████████████▋                   | 108/204 [00:19<00:16,  5.93it/s]\u001b[A\n",
      " 53%|█████████████████████▉                   | 109/204 [00:19<00:15,  5.97it/s]\u001b[A\n",
      " 54%|██████████████████████                   | 110/204 [00:19<00:15,  6.03it/s]\u001b[A\n",
      " 54%|██████████████████████▎                  | 111/204 [00:19<00:15,  6.10it/s]\u001b[A\n",
      " 55%|██████████████████████▌                  | 112/204 [00:19<00:15,  6.10it/s]\u001b[A\n",
      " 55%|██████████████████████▋                  | 113/204 [00:19<00:14,  6.14it/s]\u001b[A\n",
      " 56%|██████████████████████▉                  | 114/204 [00:20<00:14,  6.22it/s]\u001b[A\n",
      " 56%|███████████████████████                  | 115/204 [00:20<00:14,  6.24it/s]\u001b[A\n",
      " 57%|███████████████████████▎                 | 116/204 [00:20<00:14,  6.24it/s]\u001b[A\n",
      " 57%|███████████████████████▌                 | 117/204 [00:20<00:14,  6.19it/s]\u001b[A\n",
      " 58%|███████████████████████▋                 | 118/204 [00:20<00:14,  6.14it/s]\u001b[A\n",
      " 58%|███████████████████████▉                 | 119/204 [00:20<00:14,  5.91it/s]\u001b[A\n",
      " 59%|████████████████████████                 | 120/204 [00:21<00:14,  5.85it/s]\u001b[A\n",
      " 59%|████████████████████████▎                | 121/204 [00:21<00:14,  5.88it/s]\u001b[A\n",
      " 60%|████████████████████████▌                | 122/204 [00:21<00:14,  5.57it/s]\u001b[A\n",
      " 60%|████████████████████████▋                | 123/204 [00:21<00:14,  5.48it/s]\u001b[A\n",
      " 61%|████████████████████████▉                | 124/204 [00:21<00:14,  5.51it/s]\u001b[A\n",
      " 61%|█████████████████████████                | 125/204 [00:22<00:14,  5.51it/s]\u001b[A\n",
      " 62%|█████████████████████████▎               | 126/204 [00:22<00:13,  5.79it/s]\u001b[A\n",
      " 62%|█████████████████████████▌               | 127/204 [00:22<00:13,  5.67it/s]\u001b[A\n",
      " 63%|█████████████████████████▋               | 128/204 [00:22<00:14,  5.39it/s]\u001b[A\n",
      " 63%|█████████████████████████▉               | 129/204 [00:22<00:13,  5.39it/s]\u001b[A\n",
      " 64%|██████████████████████████▏              | 130/204 [00:22<00:13,  5.59it/s]\u001b[A\n",
      " 64%|██████████████████████████▎              | 131/204 [00:23<00:13,  5.61it/s]\u001b[A\n",
      " 65%|██████████████████████████▌              | 132/204 [00:23<00:12,  5.78it/s]\u001b[A\n",
      " 65%|██████████████████████████▋              | 133/204 [00:23<00:12,  5.70it/s]\u001b[A\n",
      " 66%|██████████████████████████▉              | 134/204 [00:23<00:12,  5.60it/s]\u001b[A\n",
      " 66%|███████████████████████████▏             | 135/204 [00:23<00:12,  5.61it/s]\u001b[A\n",
      " 67%|███████████████████████████▎             | 136/204 [00:23<00:12,  5.55it/s]\u001b[A\n",
      " 67%|███████████████████████████▌             | 137/204 [00:24<00:12,  5.44it/s]\u001b[A\n",
      " 68%|███████████████████████████▋             | 138/204 [00:24<00:12,  5.30it/s]\u001b[A\n",
      " 68%|███████████████████████████▉             | 139/204 [00:24<00:12,  5.25it/s]\u001b[A\n",
      " 69%|████████████████████████████▏            | 140/204 [00:24<00:11,  5.43it/s]\u001b[A\n",
      " 69%|████████████████████████████▎            | 141/204 [00:24<00:11,  5.58it/s]\u001b[A\n",
      " 70%|████████████████████████████▌            | 142/204 [00:25<00:10,  5.66it/s]\u001b[A\n",
      " 70%|████████████████████████████▋            | 143/204 [00:25<00:11,  5.42it/s]\u001b[A\n",
      " 71%|████████████████████████████▉            | 144/204 [00:25<00:11,  5.27it/s]\u001b[A\n",
      " 71%|█████████████████████████████▏           | 145/204 [00:25<00:10,  5.50it/s]\u001b[A\n",
      " 72%|█████████████████████████████▎           | 146/204 [00:25<00:10,  5.75it/s]\u001b[A\n",
      " 72%|█████████████████████████████▌           | 147/204 [00:25<00:09,  5.93it/s]\u001b[A\n",
      " 73%|█████████████████████████████▋           | 148/204 [00:26<00:09,  6.10it/s]\u001b[A\n",
      " 73%|█████████████████████████████▉           | 149/204 [00:26<00:08,  6.18it/s]\u001b[A\n",
      " 74%|██████████████████████████████▏          | 150/204 [00:26<00:09,  5.90it/s]\u001b[A\n",
      " 74%|██████████████████████████████▎          | 151/204 [00:26<00:09,  5.59it/s]\u001b[A\n",
      " 75%|██████████████████████████████▌          | 152/204 [00:26<00:09,  5.56it/s]\u001b[A\n",
      " 75%|██████████████████████████████▊          | 153/204 [00:27<00:09,  5.51it/s]\u001b[A\n",
      " 75%|██████████████████████████████▉          | 154/204 [00:27<00:09,  5.55it/s]\u001b[A\n",
      " 76%|███████████████████████████████▏         | 155/204 [00:27<00:08,  5.73it/s]\u001b[A\n",
      " 76%|███████████████████████████████▎         | 156/204 [00:27<00:08,  5.71it/s]\u001b[A\n",
      " 77%|███████████████████████████████▌         | 157/204 [00:27<00:07,  5.92it/s]\u001b[A\n",
      " 77%|███████████████████████████████▊         | 158/204 [00:27<00:07,  5.93it/s]\u001b[A\n",
      " 78%|███████████████████████████████▉         | 159/204 [00:28<00:07,  5.92it/s]\u001b[A\n",
      " 78%|████████████████████████████████▏        | 160/204 [00:28<00:07,  5.97it/s]\u001b[A\n",
      " 79%|████████████████████████████████▎        | 161/204 [00:28<00:07,  6.10it/s]\u001b[A\n",
      " 79%|████████████████████████████████▌        | 162/204 [00:28<00:06,  6.19it/s]\u001b[A\n",
      " 80%|████████████████████████████████▊        | 163/204 [00:28<00:06,  6.10it/s]\u001b[A\n",
      " 80%|████████████████████████████████▉        | 164/204 [00:28<00:06,  5.95it/s]\u001b[A\n",
      " 81%|█████████████████████████████████▏       | 165/204 [00:29<00:06,  5.86it/s]\u001b[A\n",
      " 81%|█████████████████████████████████▎       | 166/204 [00:29<00:06,  5.96it/s]\u001b[A\n",
      " 82%|█████████████████████████████████▌       | 167/204 [00:29<00:06,  5.99it/s]\u001b[A\n",
      " 82%|█████████████████████████████████▊       | 168/204 [00:29<00:06,  5.89it/s]\u001b[A\n",
      " 83%|█████████████████████████████████▉       | 169/204 [00:29<00:06,  5.80it/s]\u001b[A\n",
      " 83%|██████████████████████████████████▏      | 170/204 [00:29<00:05,  5.69it/s]\u001b[A\n",
      " 84%|██████████████████████████████████▎      | 171/204 [00:30<00:05,  5.70it/s]\u001b[A\n",
      " 84%|██████████████████████████████████▌      | 172/204 [00:30<00:05,  5.94it/s]\u001b[A\n",
      " 85%|██████████████████████████████████▊      | 173/204 [00:30<00:05,  6.07it/s]\u001b[A\n",
      " 85%|██████████████████████████████████▉      | 174/204 [00:30<00:04,  6.20it/s]\u001b[A\n",
      " 86%|███████████████████████████████████▏     | 175/204 [00:30<00:04,  6.32it/s]\u001b[A\n",
      " 86%|███████████████████████████████████▎     | 176/204 [00:30<00:04,  6.28it/s]\u001b[A\n",
      " 87%|███████████████████████████████████▌     | 177/204 [00:30<00:04,  6.16it/s]\u001b[A\n",
      " 87%|███████████████████████████████████▊     | 178/204 [00:31<00:04,  6.00it/s]\u001b[A\n",
      " 88%|███████████████████████████████████▉     | 179/204 [00:31<00:04,  5.96it/s]\u001b[A\n",
      " 88%|████████████████████████████████████▏    | 180/204 [00:31<00:04,  5.81it/s]\u001b[A\n",
      " 89%|████████████████████████████████████▍    | 181/204 [00:31<00:04,  5.67it/s]\u001b[A\n",
      " 89%|████████████████████████████████████▌    | 182/204 [00:31<00:03,  5.57it/s]\u001b[A\n",
      " 90%|████████████████████████████████████▊    | 183/204 [00:32<00:03,  5.46it/s]\u001b[A\n",
      " 90%|████████████████████████████████████▉    | 184/204 [00:32<00:03,  5.32it/s]\u001b[A\n",
      " 91%|█████████████████████████████████████▏   | 185/204 [00:32<00:03,  5.47it/s]\u001b[A\n",
      " 91%|█████████████████████████████████████▍   | 186/204 [00:32<00:03,  5.64it/s]\u001b[A\n",
      " 92%|█████████████████████████████████████▌   | 187/204 [00:32<00:03,  5.59it/s]\u001b[A\n",
      " 92%|█████████████████████████████████████▊   | 188/204 [00:33<00:02,  5.49it/s]\u001b[A\n",
      " 93%|█████████████████████████████████████▉   | 189/204 [00:33<00:02,  5.33it/s]\u001b[A\n",
      " 93%|██████████████████████████████████████▏  | 190/204 [00:33<00:02,  5.26it/s]\u001b[A\n",
      " 94%|██████████████████████████████████████▍  | 191/204 [00:33<00:02,  5.41it/s]\u001b[A\n",
      " 94%|██████████████████████████████████████▌  | 192/204 [00:33<00:02,  5.47it/s]\u001b[A\n",
      " 95%|██████████████████████████████████████▊  | 193/204 [00:33<00:01,  5.63it/s]\u001b[A\n"
     ]
    },
    {
     "name": "stderr",
     "output_type": "stream",
     "text": [
      " 95%|██████████████████████████████████████▉  | 194/204 [00:34<00:01,  5.71it/s]\u001b[A\n",
      " 96%|███████████████████████████████████████▏ | 195/204 [00:34<00:01,  5.84it/s]\u001b[A\n",
      " 96%|███████████████████████████████████████▍ | 196/204 [00:34<00:01,  5.83it/s]\u001b[A\n",
      " 97%|███████████████████████████████████████▌ | 197/204 [00:34<00:01,  5.68it/s]\u001b[A\n",
      " 97%|███████████████████████████████████████▊ | 198/204 [00:34<00:01,  5.75it/s]\u001b[A\n",
      " 98%|███████████████████████████████████████▉ | 199/204 [00:34<00:00,  5.64it/s]\u001b[A\n",
      " 98%|████████████████████████████████████████▏| 200/204 [00:35<00:00,  5.71it/s]\u001b[A\n",
      " 99%|████████████████████████████████████████▍| 201/204 [00:35<00:00,  5.58it/s]\u001b[A\n",
      " 99%|████████████████████████████████████████▌| 202/204 [00:35<00:00,  5.65it/s]\u001b[A\n",
      "100%|████████████████████████████████████████▊| 203/204 [00:35<00:00,  5.80it/s]\u001b[A\n",
      "100%|█████████████████████████████████████████| 204/204 [00:35<00:00,  5.70it/s]\u001b[A\n"
     ]
    }
   ],
   "source": [
    "pred1 = [funcw(qsample(x,model_pos,steps=5),model_pos,model_neg)*func(qsample(x,model_pos,steps=5),s0,s1,model_pos,model_neg) for x in tqdm(Xtest_incomplete)]"
   ]
  },
  {
   "cell_type": "code",
   "execution_count": 149,
   "id": "432b9ac8",
   "metadata": {},
   "outputs": [
    {
     "name": "stderr",
     "output_type": "stream",
     "text": [
      "\n",
      "  0%|                                                   | 0/204 [00:00<?, ?it/s]\u001b[A\n",
      "  2%|█                                          | 5/204 [00:00<00:04, 42.93it/s]\u001b[A\n",
      "  5%|██                                        | 10/204 [00:00<00:04, 41.51it/s]\u001b[A\n",
      "  7%|███                                       | 15/204 [00:00<00:04, 41.38it/s]\u001b[A\n",
      " 10%|████                                      | 20/204 [00:00<00:04, 40.35it/s]\u001b[A\n",
      " 12%|█████▏                                    | 25/204 [00:00<00:04, 38.70it/s]\u001b[A\n",
      " 14%|█████▉                                    | 29/204 [00:00<00:04, 38.41it/s]\u001b[A\n",
      " 16%|██████▊                                   | 33/204 [00:00<00:04, 37.67it/s]\u001b[A\n",
      " 18%|███████▌                                  | 37/204 [00:00<00:04, 36.54it/s]\u001b[A\n",
      " 20%|████████▍                                 | 41/204 [00:01<00:04, 35.16it/s]\u001b[A\n",
      " 22%|█████████▎                                | 45/204 [00:01<00:04, 36.17it/s]\u001b[A\n",
      " 24%|██████████                                | 49/204 [00:01<00:04, 36.12it/s]\u001b[A\n",
      " 26%|██████████▉                               | 53/204 [00:01<00:04, 35.42it/s]\u001b[A\n",
      " 28%|███████████▋                              | 57/204 [00:01<00:04, 35.72it/s]\u001b[A\n",
      " 30%|████████████▌                             | 61/204 [00:01<00:03, 36.36it/s]\u001b[A\n",
      " 32%|█████████████▍                            | 65/204 [00:01<00:03, 37.10it/s]\u001b[A\n",
      " 34%|██████████████▏                           | 69/204 [00:01<00:03, 37.39it/s]\u001b[A\n",
      " 36%|███████████████                           | 73/204 [00:01<00:03, 36.74it/s]\u001b[A\n",
      " 38%|███████████████▊                          | 77/204 [00:02<00:03, 37.30it/s]\u001b[A\n",
      " 40%|████████████████▉                         | 82/204 [00:02<00:03, 38.97it/s]\u001b[A\n",
      " 42%|█████████████████▋                        | 86/204 [00:02<00:03, 37.63it/s]\u001b[A\n",
      " 44%|██████████████████▌                       | 90/204 [00:02<00:02, 38.21it/s]\u001b[A\n",
      " 46%|███████████████████▎                      | 94/204 [00:02<00:02, 37.72it/s]\u001b[A\n",
      " 48%|████████████████████▏                     | 98/204 [00:02<00:02, 36.58it/s]\u001b[A\n",
      " 50%|████████████████████▋                    | 103/204 [00:02<00:02, 38.21it/s]\u001b[A\n",
      " 52%|█████████████████████▌                   | 107/204 [00:02<00:02, 37.29it/s]\u001b[A\n",
      " 54%|██████████████████████▎                  | 111/204 [00:02<00:02, 37.83it/s]\u001b[A\n",
      " 56%|███████████████████████                  | 115/204 [00:03<00:02, 38.36it/s]\u001b[A\n",
      " 58%|███████████████████████▉                 | 119/204 [00:03<00:02, 38.15it/s]\u001b[A\n",
      " 60%|████████████████████████▋                | 123/204 [00:03<00:02, 37.74it/s]\u001b[A\n",
      " 62%|█████████████████████████▌               | 127/204 [00:03<00:02, 37.46it/s]\u001b[A\n",
      " 64%|██████████████████████████▎              | 131/204 [00:03<00:01, 36.71it/s]\u001b[A\n",
      " 67%|███████████████████████████▎             | 136/204 [00:03<00:01, 38.41it/s]\u001b[A\n",
      " 69%|████████████████████████████▏            | 140/204 [00:03<00:01, 37.54it/s]\u001b[A\n",
      " 71%|████████████████████████████▉            | 144/204 [00:03<00:01, 35.26it/s]\u001b[A\n",
      " 73%|█████████████████████████████▋           | 148/204 [00:03<00:01, 36.42it/s]\u001b[A\n",
      " 75%|██████████████████████████████▊          | 153/204 [00:04<00:01, 37.98it/s]\u001b[A\n",
      " 77%|███████████████████████████████▊         | 158/204 [00:04<00:01, 40.01it/s]\u001b[A\n",
      " 80%|████████████████████████████████▊        | 163/204 [00:04<00:00, 41.46it/s]\u001b[A\n",
      " 82%|█████████████████████████████████▊       | 168/204 [00:04<00:00, 42.49it/s]\u001b[A\n",
      " 85%|██████████████████████████████████▊      | 173/204 [00:04<00:00, 43.11it/s]\u001b[A\n",
      " 87%|███████████████████████████████████▊     | 178/204 [00:04<00:00, 41.49it/s]\u001b[A\n",
      " 90%|████████████████████████████████████▊    | 183/204 [00:04<00:00, 38.93it/s]\u001b[A\n",
      " 92%|█████████████████████████████████████▌   | 187/204 [00:04<00:00, 38.08it/s]\u001b[A\n",
      " 94%|██████████████████████████████████████▍  | 191/204 [00:05<00:00, 36.34it/s]\u001b[A\n",
      " 96%|███████████████████████████████████████▏ | 195/204 [00:05<00:00, 35.99it/s]\u001b[A\n",
      " 98%|███████████████████████████████████████▉ | 199/204 [00:05<00:00, 36.22it/s]\u001b[A\n",
      "100%|█████████████████████████████████████████| 204/204 [00:05<00:00, 37.92it/s]\u001b[A\n"
     ]
    }
   ],
   "source": [
    "pred2 = [funcm(qsample(x,model_pos,steps=5)) for x in tqdm(Xtest_incomplete)]"
   ]
  },
  {
   "cell_type": "code",
   "execution_count": 138,
   "id": "70aa693f",
   "metadata": {},
   "outputs": [
    {
     "name": "stderr",
     "output_type": "stream",
     "text": [
      "\n",
      "  0%|                                                    | 0/56 [00:00<?, ?it/s]\u001b[A\n",
      "  2%|▊                                           | 1/56 [00:00<00:06,  8.59it/s]\u001b[A\n",
      "  5%|██▎                                         | 3/56 [00:00<00:05, 10.48it/s]\u001b[A\n",
      "  9%|███▉                                        | 5/56 [00:00<00:03, 13.24it/s]\u001b[A\n",
      " 12%|█████▌                                      | 7/56 [00:00<00:03, 14.68it/s]\u001b[A\n",
      " 16%|███████                                     | 9/56 [00:00<00:03, 15.41it/s]\u001b[A\n",
      " 20%|████████▍                                  | 11/56 [00:00<00:02, 15.91it/s]\u001b[A\n",
      " 23%|█████████▉                                 | 13/56 [00:00<00:02, 15.95it/s]\u001b[A\n",
      " 27%|███████████▌                               | 15/56 [00:01<00:02, 15.15it/s]\u001b[A\n",
      " 30%|█████████████                              | 17/56 [00:01<00:02, 14.96it/s]\u001b[A\n",
      " 34%|██████████████▌                            | 19/56 [00:01<00:02, 15.00it/s]\u001b[A\n",
      " 38%|████████████████▏                          | 21/56 [00:01<00:02, 14.57it/s]\u001b[A\n",
      " 41%|█████████████████▋                         | 23/56 [00:01<00:02, 14.15it/s]\u001b[A\n",
      " 45%|███████████████████▏                       | 25/56 [00:01<00:02, 14.69it/s]\u001b[A\n",
      " 48%|████████████████████▋                      | 27/56 [00:01<00:01, 15.03it/s]\u001b[A\n",
      " 52%|██████████████████████▎                    | 29/56 [00:01<00:01, 15.66it/s]\u001b[A\n",
      " 55%|███████████████████████▊                   | 31/56 [00:02<00:01, 16.47it/s]\u001b[A\n",
      " 59%|█████████████████████████▎                 | 33/56 [00:02<00:01, 17.01it/s]\u001b[A\n",
      " 62%|██████████████████████████▉                | 35/56 [00:02<00:01, 16.77it/s]\u001b[A\n",
      " 66%|████████████████████████████▍              | 37/56 [00:02<00:01, 16.93it/s]\u001b[A\n",
      " 70%|█████████████████████████████▉             | 39/56 [00:02<00:00, 17.05it/s]\u001b[A\n",
      " 73%|███████████████████████████████▍           | 41/56 [00:02<00:00, 15.09it/s]\u001b[A\n",
      " 77%|█████████████████████████████████          | 43/56 [00:02<00:00, 14.85it/s]\u001b[A\n",
      " 80%|██████████████████████████████████▌        | 45/56 [00:02<00:00, 15.01it/s]\u001b[A\n",
      " 84%|████████████████████████████████████       | 47/56 [00:03<00:00, 14.65it/s]\u001b[A\n",
      " 88%|█████████████████████████████████████▋     | 49/56 [00:03<00:00, 14.78it/s]\u001b[A\n",
      " 91%|███████████████████████████████████████▏   | 51/56 [00:03<00:00, 14.57it/s]\u001b[A\n",
      " 95%|████████████████████████████████████████▋  | 53/56 [00:03<00:00, 14.69it/s]\u001b[A\n",
      "100%|███████████████████████████████████████████| 56/56 [00:03<00:00, 15.10it/s]\u001b[A\n",
      "\n",
      "  0%|                                                   | 0/148 [00:00<?, ?it/s]\u001b[A\n",
      "  1%|▌                                          | 2/148 [00:00<00:08, 16.65it/s]\u001b[A\n",
      "  3%|█▏                                         | 4/148 [00:00<00:08, 16.02it/s]\u001b[A\n",
      "  4%|█▋                                         | 6/148 [00:00<00:08, 15.90it/s]\u001b[A\n",
      "  5%|██▎                                        | 8/148 [00:00<00:08, 16.08it/s]\u001b[A\n",
      "  7%|██▊                                       | 10/148 [00:00<00:08, 16.23it/s]\u001b[A\n",
      "  8%|███▍                                      | 12/148 [00:00<00:08, 16.39it/s]\u001b[A\n",
      "  9%|███▉                                      | 14/148 [00:00<00:08, 16.41it/s]\u001b[A\n",
      " 11%|████▌                                     | 16/148 [00:00<00:08, 16.43it/s]\u001b[A\n",
      " 12%|█████                                     | 18/148 [00:01<00:07, 16.55it/s]\u001b[A\n",
      " 14%|█████▋                                    | 20/148 [00:01<00:07, 16.80it/s]\u001b[A\n",
      " 15%|██████▏                                   | 22/148 [00:01<00:07, 17.08it/s]\u001b[A\n",
      " 16%|██████▊                                   | 24/148 [00:01<00:07, 17.06it/s]\u001b[A\n",
      " 18%|███████▍                                  | 26/148 [00:01<00:07, 16.81it/s]\u001b[A\n",
      " 19%|███████▉                                  | 28/148 [00:01<00:06, 17.36it/s]\u001b[A\n",
      " 20%|████████▌                                 | 30/148 [00:01<00:06, 17.70it/s]\u001b[A\n",
      " 22%|█████████                                 | 32/148 [00:01<00:06, 17.27it/s]\u001b[A\n",
      " 23%|█████████▋                                | 34/148 [00:02<00:06, 17.16it/s]\u001b[A\n",
      " 24%|██████████▏                               | 36/148 [00:02<00:06, 16.81it/s]\u001b[A\n",
      " 26%|██████████▊                               | 38/148 [00:02<00:06, 17.40it/s]\u001b[A\n",
      " 27%|███████████▎                              | 40/148 [00:02<00:06, 17.32it/s]\u001b[A\n",
      " 28%|███████████▉                              | 42/148 [00:02<00:06, 17.33it/s]\u001b[A\n",
      " 30%|████████████▍                             | 44/148 [00:02<00:06, 16.93it/s]\u001b[A\n",
      " 31%|█████████████                             | 46/148 [00:02<00:05, 17.12it/s]\u001b[A\n",
      " 32%|█████████████▌                            | 48/148 [00:02<00:05, 17.37it/s]\u001b[A\n",
      " 34%|██████████████▏                           | 50/148 [00:02<00:05, 17.45it/s]\u001b[A\n",
      " 35%|██████████████▊                           | 52/148 [00:03<00:05, 17.53it/s]\u001b[A\n",
      " 36%|███████████████▎                          | 54/148 [00:03<00:05, 17.65it/s]\u001b[A\n",
      " 38%|███████████████▉                          | 56/148 [00:03<00:05, 17.40it/s]\u001b[A\n",
      " 39%|████████████████▍                         | 58/148 [00:03<00:05, 17.09it/s]\u001b[A\n",
      " 41%|█████████████████                         | 60/148 [00:03<00:05, 17.31it/s]\u001b[A\n",
      " 42%|█████████████████▌                        | 62/148 [00:03<00:05, 16.57it/s]\u001b[A\n",
      " 43%|██████████████████▏                       | 64/148 [00:03<00:05, 15.99it/s]\u001b[A\n",
      " 45%|██████████████████▋                       | 66/148 [00:03<00:05, 16.18it/s]\u001b[A\n",
      " 46%|███████████████████▎                      | 68/148 [00:04<00:05, 15.96it/s]\u001b[A\n",
      " 47%|███████████████████▊                      | 70/148 [00:04<00:04, 16.01it/s]\u001b[A\n",
      " 49%|████████████████████▍                     | 72/148 [00:04<00:04, 16.06it/s]\u001b[A\n",
      " 50%|█████████████████████                     | 74/148 [00:04<00:04, 16.25it/s]\u001b[A\n",
      " 51%|█████████████████████▌                    | 76/148 [00:04<00:04, 16.31it/s]\u001b[A\n",
      " 53%|██████████████████████▏                   | 78/148 [00:04<00:04, 16.34it/s]\u001b[A\n",
      " 54%|██████████████████████▋                   | 80/148 [00:04<00:04, 16.01it/s]\u001b[A\n",
      " 55%|███████████████████████▎                  | 82/148 [00:04<00:04, 16.42it/s]\u001b[A\n",
      " 57%|███████████████████████▊                  | 84/148 [00:05<00:03, 16.52it/s]\u001b[A\n",
      " 58%|████████████████████████▍                 | 86/148 [00:05<00:03, 16.86it/s]\u001b[A\n",
      " 59%|████████████████████████▉                 | 88/148 [00:05<00:03, 17.07it/s]\u001b[A\n",
      " 61%|█████████████████████████▌                | 90/148 [00:05<00:03, 17.52it/s]\u001b[A\n",
      " 62%|██████████████████████████                | 92/148 [00:05<00:03, 17.71it/s]\u001b[A\n",
      " 64%|██████████████████████████▋               | 94/148 [00:05<00:03, 17.72it/s]\u001b[A\n",
      " 65%|███████████████████████████▏              | 96/148 [00:05<00:03, 16.99it/s]\u001b[A\n",
      " 66%|███████████████████████████▊              | 98/148 [00:05<00:02, 16.71it/s]\u001b[A\n",
      " 68%|███████████████████████████▋             | 100/148 [00:05<00:02, 16.87it/s]\u001b[A\n",
      " 69%|████████████████████████████▎            | 102/148 [00:06<00:02, 17.03it/s]\u001b[A\n",
      " 70%|████████████████████████████▊            | 104/148 [00:06<00:02, 17.29it/s]\u001b[A\n",
      " 72%|█████████████████████████████▎           | 106/148 [00:06<00:02, 17.38it/s]\u001b[A\n",
      " 73%|█████████████████████████████▉           | 108/148 [00:06<00:02, 17.56it/s]\u001b[A\n",
      " 74%|██████████████████████████████▍          | 110/148 [00:06<00:02, 17.67it/s]\u001b[A\n",
      " 76%|███████████████████████████████          | 112/148 [00:06<00:02, 17.84it/s]\u001b[A\n",
      " 77%|███████████████████████████████▌         | 114/148 [00:06<00:01, 17.81it/s]\u001b[A\n",
      " 78%|████████████████████████████████▏        | 116/148 [00:06<00:01, 17.96it/s]\u001b[A\n",
      " 80%|████████████████████████████████▋        | 118/148 [00:06<00:01, 18.09it/s]\u001b[A\n",
      " 81%|█████████████████████████████████▏       | 120/148 [00:07<00:01, 18.32it/s]\u001b[A\n",
      " 82%|█████████████████████████████████▊       | 122/148 [00:07<00:01, 18.41it/s]\u001b[A\n",
      " 84%|██████████████████████████████████▎      | 124/148 [00:07<00:01, 18.62it/s]\u001b[A\n",
      " 85%|██████████████████████████████████▉      | 126/148 [00:07<00:01, 18.52it/s]\u001b[A\n",
      " 86%|███████████████████████████████████▍     | 128/148 [00:07<00:01, 18.16it/s]\u001b[A\n",
      " 88%|████████████████████████████████████     | 130/148 [00:07<00:01, 17.58it/s]\u001b[A\n",
      " 89%|████████████████████████████████████▌    | 132/148 [00:07<00:00, 17.05it/s]\u001b[A\n",
      " 91%|█████████████████████████████████████    | 134/148 [00:07<00:00, 17.35it/s]\u001b[A\n"
     ]
    },
    {
     "name": "stderr",
     "output_type": "stream",
     "text": [
      " 92%|█████████████████████████████████████▋   | 136/148 [00:07<00:00, 17.38it/s]\u001b[A\n",
      " 93%|██████████████████████████████████████▏  | 138/148 [00:08<00:00, 17.60it/s]\u001b[A\n",
      " 95%|██████████████████████████████████████▊  | 140/148 [00:08<00:00, 17.90it/s]\u001b[A\n",
      " 96%|███████████████████████████████████████▎ | 142/148 [00:08<00:00, 17.69it/s]\u001b[A\n",
      " 97%|███████████████████████████████████████▉ | 144/148 [00:08<00:00, 17.87it/s]\u001b[A\n",
      " 99%|████████████████████████████████████████▍| 146/148 [00:08<00:00, 17.67it/s]\u001b[A\n",
      "100%|█████████████████████████████████████████| 148/148 [00:08<00:00, 17.12it/s]\u001b[A\n"
     ]
    }
   ],
   "source": [
    "predpos = [funcw(qsample(x,model_neg,steps=10),model_pos,model_neg) for x in tqdm(Xpos_test_incomplete)]\n",
    "predneg = [funcw(qsample(x,model_neg,steps=10),model_pos,model_neg) for x in tqdm(Xneg_test_incomplete)]"
   ]
  },
  {
   "cell_type": "code",
   "execution_count": 139,
   "id": "daa38447",
   "metadata": {},
   "outputs": [
    {
     "data": {
      "text/plain": [
       "<AxesSubplot:ylabel='Density'>"
      ]
     },
     "execution_count": 139,
     "metadata": {},
     "output_type": "execute_result"
    },
    {
     "data": {
      "image/png": "[encoded data removed]",
      "text/plain": [
       "<Figure size 432x288 with 1 Axes>"
      ]
     },
     "metadata": {
      "needs_background": "dark"
     },
     "output_type": "display_data"
    }
   ],
   "source": [
    "import seaborn as sns\n",
    "sns.distplot(predpos)\n",
    "sns.distplot(predneg)\n"
   ]
  },
  {
   "cell_type": "code",
   "execution_count": 88,
   "id": "236e6e31",
   "metadata": {},
   "outputs": [
    {
     "name": "stderr",
     "output_type": "stream",
     "text": [
      "100%|███████████████████████████████████████████| 56/56 [00:06<00:00,  8.58it/s]\n",
      "100%|█████████████████████████████████████████| 148/148 [00:16<00:00,  8.78it/s]\n"
     ]
    },
    {
     "data": {
      "text/plain": [
       "<AxesSubplot:ylabel='Density'>"
      ]
     },
     "execution_count": 88,
     "metadata": {},
     "output_type": "execute_result"
    },
    {
     "data": {
      "image/png": "[encoded data removed]",
      "text/plain": [
       "<Figure size 432x288 with 1 Axes>"
      ]
     },
     "metadata": {
      "needs_background": "dark"
     },
     "output_type": "display_data"
    }
   ],
   "source": [
    "predpos1 = [func(x,s0,s1,model_pos,model_neg) for x in tqdm(Xpos_test)]\n",
    "predneg1 = [func(x,s0,s1,model_pos,model_neg) for x in tqdm(Xneg_test)]\n",
    "sns.distplot(predpos1)\n",
    "sns.distplot(predneg1)\n"
   ]
  },
  {
   "cell_type": "code",
   "execution_count": 94,
   "id": "5ef5b042",
   "metadata": {},
   "outputs": [
    {
     "name": "stderr",
     "output_type": "stream",
     "text": [
      "100%|███████████████████████████████████████████| 56/56 [00:01<00:00, 38.83it/s]\n",
      "100%|█████████████████████████████████████████| 148/148 [00:03<00:00, 42.66it/s]\n"
     ]
    },
    {
     "data": {
      "text/plain": [
       "<AxesSubplot:ylabel='Density'>"
      ]
     },
     "execution_count": 94,
     "metadata": {},
     "output_type": "execute_result"
    },
    {
     "data": {
      "image/png": "[encoded data removed]",
      "text/plain": [
       "<Figure size 432x288 with 1 Axes>"
      ]
     },
     "metadata": {
      "needs_background": "dark"
     },
     "output_type": "display_data"
    }
   ],
   "source": [
    "predpos2 = [funcm(x) for x in tqdm(Xpos_test)]\n",
    "predneg2 = [funcm(x) for x in tqdm(Xneg_test)]\n",
    "sns.distplot(predpos2)\n",
    "sns.distplot(predneg2)\n"
   ]
  },
  {
   "cell_type": "code",
   "execution_count": 343,
   "id": "8f8b78b2",
   "metadata": {},
   "outputs": [
    {
     "data": {
      "text/plain": [
       "[1.430701230582499,\n",
       " 1.3534476057018041,\n",
       " 1.4234248119587942,\n",
       " 1.9277554034617017,\n",
       " 1.4278004296576265,\n",
       " 1.5164650994411157,\n",
       " 1.6011454344284821,\n",
       " 1.204805722066072,\n",
       " 1.7621920857648994,\n",
       " 2.007860453408733,\n",
       " 2.0393391289814433,\n",
       " 1.4730253152588535,\n",
       " 1.4848541908955841,\n",
       " 1.5557845248585698,\n",
       " 1.6717615329535116,\n",
       " 1.8655515938368459,\n",
       " 1.8873207834531092,\n",
       " 2.017727565478256,\n",
       " 1.1725954364866813,\n",
       " 2.0302240916500396,\n",
       " 1.268136352134364,\n",
       " 1.3909332580698328,\n",
       " 1.4500741283388376,\n",
       " 1.7296731099494163,\n",
       " 1.5417513290182254,\n",
       " 1.5683135490736262,\n",
       " 1.8534441857456319,\n",
       " 1.9912374225679401,\n",
       " 1.3439558632273099,\n",
       " 1.5926824684405438,\n",
       " 1.310394003700264,\n",
       " 1.9747753406991448,\n",
       " 1.7049299604992092,\n",
       " 1.5153613117689573,\n",
       " 1.9680726075589148,\n",
       " 1.596020638614237,\n",
       " 1.895235720788836,\n",
       " 1.8912360198402551,\n",
       " 1.8496409802000366,\n",
       " 1.3822248993556046,\n",
       " 1.3382549463663245,\n",
       " 1.6701758125319655,\n",
       " 2.0780243615229965,\n",
       " 2.027396647053701,\n",
       " 2.0241587217059274,\n",
       " 1.623334606367503,\n",
       " 1.3453176891152008,\n",
       " 1.8000259862271886,\n",
       " 1.6810906751342576,\n",
       " 1.5235709831181465,\n",
       " 1.5314229389759133,\n",
       " 1.3288768045609725,\n",
       " 1.7958905199229283,\n",
       " 2.025672805522914,\n",
       " 1.8262016048774194,\n",
       " 1.9873974094778901,\n",
       " 1.4385198815585791,\n",
       " 1.7269469781068159,\n",
       " 1.53226036620274,\n",
       " 1.4519075866029392,\n",
       " 1.915920575295388,\n",
       " 1.6837511156534688,\n",
       " 2.070102098126475,\n",
       " 1.779739078029547,\n",
       " 1.6402413911359484,\n",
       " 1.968401908464906,\n",
       " 1.4284750750199313,\n",
       " 2.0812564989780302,\n",
       " 1.9563158374821707,\n",
       " 2.1063238800171176,\n",
       " 2.0134798630455846,\n",
       " 1.664690763473559,\n",
       " 1.965216702765653,\n",
       " 1.2139497451530141,\n",
       " 1.9834278886281855,\n",
       " 1.900376158401581,\n",
       " 1.4811354389108522,\n",
       " 2.133826626389186,\n",
       " 1.7734579717785084,\n",
       " 1.9268920478096674,\n",
       " 1.783801924897551,\n",
       " 2.093342312077708,\n",
       " 1.6271686880067198,\n",
       " 1.8695542842664097,\n",
       " 1.8446694036518925,\n",
       " 1.728771721101647,\n",
       " 1.4746737112113601,\n",
       " 1.983514842257486,\n",
       " 1.5020213349332392,\n",
       " 1.3924808825802335,\n",
       " 1.688167484366879,\n",
       " 1.528135986964687,\n",
       " 1.3675775947900128,\n",
       " 1.730847318516338,\n",
       " 1.4574113769000527,\n",
       " 1.2380253100399896,\n",
       " 1.5631570462840763,\n",
       " 1.1779678862856202,\n",
       " 1.4039871419617256,\n",
       " 1.7047922948144865,\n",
       " 1.4611616566568117,\n",
       " 1.4509789685955727,\n",
       " 1.4919903546747653,\n",
       " 2.0179000444186963,\n",
       " 1.9803435278164492,\n",
       " 1.5910917592063445,\n",
       " 1.1172076848171846,\n",
       " 1.9684249629168538,\n",
       " 1.1678061001736117,\n",
       " 1.7890889516663115,\n",
       " 1.70503684631956,\n",
       " 1.7315260763802436,\n",
       " 1.7343891722948144,\n",
       " 1.5882184086894477,\n",
       " 2.053545814918174,\n",
       " 1.6585576207587935,\n",
       " 1.591738050022804,\n",
       " 1.334767086390931,\n",
       " 1.6915162662318477,\n",
       " 1.8498856242884265,\n",
       " 2.051193656948613,\n",
       " 1.8920665526131735,\n",
       " 2.0446589715431305,\n",
       " 1.4125513511360435,\n",
       " 1.2057504969409418,\n",
       " 1.1753822816793997,\n",
       " 1.5898874396726925,\n",
       " 1.4106315457940029,\n",
       " 1.4494181614419577,\n",
       " 1.7128861579085626,\n",
       " 1.7856361624296127,\n",
       " 1.519932611811291,\n",
       " 2.049522461607765,\n",
       " 1.6962876293606874,\n",
       " 1.5145234922162378,\n",
       " 1.5933961385361268,\n",
       " 1.2365178820226401,\n",
       " 1.3695965314794796,\n",
       " 1.7691946150609785,\n",
       " 1.576501053330369,\n",
       " 1.3673861584553326,\n",
       " 1.5490523253626538,\n",
       " 1.9203205046076304,\n",
       " 1.2694462590759383,\n",
       " 1.8577583655540084,\n",
       " 1.4560639282218386,\n",
       " 1.731797069564636,\n",
       " 1.7859122849154097]"
      ]
     },
     "execution_count": 343,
     "metadata": {},
     "output_type": "execute_result"
    }
   ],
   "source": [
    "predneg2"
   ]
  },
  {
   "cell_type": "code",
   "execution_count": 150,
   "id": "2373ae29",
   "metadata": {},
   "outputs": [
    {
     "data": {
      "text/plain": [
       "0.8613658301158301"
      ]
     },
     "execution_count": 150,
     "metadata": {},
     "output_type": "execute_result"
    }
   ],
   "source": [
    "fpr1, tpr1, thresholds1 = metrics.roc_curve(dx, pred1, pos_label=1)\n",
    "metrics.auc(fpr1, tpr1)"
   ]
  },
  {
   "cell_type": "code",
   "execution_count": 151,
   "id": "512293c2",
   "metadata": {},
   "outputs": [
    {
     "data": {
      "text/plain": [
       "0.7182673745173744"
      ]
     },
     "execution_count": 151,
     "metadata": {},
     "output_type": "execute_result"
    }
   ],
   "source": [
    "fpr2, tpr2, thresholds2 = metrics.roc_curve(dx, pred2, pos_label=0)\n",
    "metrics.auc(fpr2, tpr2)"
   ]
  },
  {
   "cell_type": "code",
   "execution_count": 152,
   "id": "10f4c734",
   "metadata": {},
   "outputs": [
    {
     "data": {
      "text/plain": [
       "0.8432673745173745"
      ]
     },
     "execution_count": 152,
     "metadata": {},
     "output_type": "execute_result"
    }
   ],
   "source": [
    "from sklearn import metrics\n",
    "fpr, tpr, thresholds = metrics.roc_curve(dx, pred, pos_label=1)\n",
    "metrics.auc(fpr, tpr)"
   ]
  },
  {
   "cell_type": "code",
   "execution_count": 153,
   "id": "a1dcd372",
   "metadata": {},
   "outputs": [
    {
     "data": {
      "text/plain": [
       "[<matplotlib.lines.Line2D at 0x7fb6112b6b00>]"
      ]
     },
     "execution_count": 153,
     "metadata": {},
     "output_type": "execute_result"
    },
    {
     "data": {
      "image/png": "[encoded data removed]",
      "text/plain": [
       "<Figure size 432x288 with 1 Axes>"
      ]
     },
     "metadata": {
      "needs_background": "dark"
     },
     "output_type": "display_data"
    }
   ],
   "source": [
    "plt.plot(fpr,tpr,'w')\n",
    "plt.plot(fpr1,tpr1,'m')\n",
    "plt.plot(fpr2,tpr2,'g')"
   ]
  },
  {
   "cell_type": "code",
   "execution_count": 154,
   "id": "010cadb5",
   "metadata": {},
   "outputs": [
    {
     "data": {
      "text/plain": [
       "(0.882705357142857, 0.9213913295105771, 0.8440460612298226)"
      ]
     },
     "execution_count": 154,
     "metadata": {},
     "output_type": "execute_result"
    },
    {
     "data": {
      "image/png": "[encoded data removed]",
      "text/plain": [
       "<Figure size 360x360 with 1 Axes>"
      ]
     },
     "metadata": {
      "needs_background": "dark"
     },
     "output_type": "display_data"
    }
   ],
   "source": [
    "from zedstat import zedstat \n",
    "rf2=pd.DataFrame(tpr2,fpr2,columns=['tpr']).assign(threshold=thresholds2)\n",
    "rf2.index.name='fpr'\n",
    "rf1=pd.DataFrame(tpr1,fpr1,columns=['tpr']).assign(threshold=thresholds1)\n",
    "rf1.index.name='fpr'\n",
    "rf=pd.DataFrame(tpr,fpr,columns=['tpr']).assign(threshold=thresholds)\n",
    "rf.index.name='fpr'\n",
    "rf_=pd.concat([rf,rf1]).reset_index()\n",
    "prev=.5\n",
    "zt=zedstat.processRoc(df=rf_,\n",
    "           order=3, \n",
    "           total_samples=303,\n",
    "           positive_samples=150,\n",
    "           alpha=0.01,\n",
    "           prevalence=prev)\n",
    "zt.smooth(STEP=0.001)\n",
    "zt.allmeasures(interpolate=True)\n",
    "zt.usample(precision=3)\n",
    "zt.getBounds()\n",
    "plt.figure(figsize=[5,5])\n",
    "ax=plt.gca()\n",
    "ax=zt.get().tpr.plot(ax=ax)\n",
    "plt.fill_between(x=zt.get().index, y1=zt.df_lim['U'].tpr,y2=zt.df_lim['L'].tpr, color='w',alpha=.2)\n",
    "ax.set_xlim(0,1)\n",
    "ax.set_ylim(0,1)\n",
    "ax.set_ylabel('tpr');\n",
    "zt.auc()\n"
   ]
  },
  {
   "cell_type": "code",
   "execution_count": 346,
   "id": "7fbe92cf",
   "metadata": {},
   "outputs": [
    {
     "data": {
      "text/plain": [
       "0.8542471042471043"
      ]
     },
     "execution_count": 346,
     "metadata": {},
     "output_type": "execute_result"
    }
   ],
   "source": [
    "zt.scoretoprobability(1.33)"
   ]
  },
  {
   "cell_type": "code",
   "execution_count": 155,
   "id": "85aaf7be",
   "metadata": {},
   "outputs": [
    {
     "data": {
      "text/html": [
       "<div>\n",
       "<style scoped>\n",
       "    .dataframe tbody tr th:only-of-type {\n",
       "        vertical-align: middle;\n",
       "    }\n",
       "\n",
       "    .dataframe tbody tr th {\n",
       "        vertical-align: top;\n",
       "    }\n",
       "\n",
       "    .dataframe thead th {\n",
       "        text-align: right;\n",
       "    }\n",
       "</style>\n",
       "<table border=\"1\" class=\"dataframe\">\n",
       "  <thead>\n",
       "    <tr style=\"text-align: right;\">\n",
       "      <th></th>\n",
       "      <th>tpr</th>\n",
       "      <th>ppv</th>\n",
       "      <th>acc</th>\n",
       "      <th>npv</th>\n",
       "      <th>LR+</th>\n",
       "      <th>LR-</th>\n",
       "      <th>threshold</th>\n",
       "    </tr>\n",
       "    <tr>\n",
       "      <th>fpr</th>\n",
       "      <th></th>\n",
       "      <th></th>\n",
       "      <th></th>\n",
       "      <th></th>\n",
       "      <th></th>\n",
       "      <th></th>\n",
       "      <th></th>\n",
       "    </tr>\n",
       "  </thead>\n",
       "  <tbody>\n",
       "    <tr>\n",
       "      <th>0.143</th>\n",
       "      <td>0.750850</td>\n",
       "      <td>0.846346</td>\n",
       "      <td>0.803997</td>\n",
       "      <td>0.775076</td>\n",
       "      <td>5.346892</td>\n",
       "      <td>0.290346</td>\n",
       "      <td>1.352805</td>\n",
       "    </tr>\n",
       "    <tr>\n",
       "      <th>0.144</th>\n",
       "      <td>0.751701</td>\n",
       "      <td>0.845920</td>\n",
       "      <td>0.803939</td>\n",
       "      <td>0.775474</td>\n",
       "      <td>5.316303</td>\n",
       "      <td>0.289682</td>\n",
       "      <td>1.345209</td>\n",
       "    </tr>\n",
       "    <tr>\n",
       "      <th>0.145</th>\n",
       "      <td>0.752551</td>\n",
       "      <td>0.845493</td>\n",
       "      <td>0.803882</td>\n",
       "      <td>0.775873</td>\n",
       "      <td>5.285714</td>\n",
       "      <td>0.289019</td>\n",
       "      <td>1.337612</td>\n",
       "    </tr>\n",
       "    <tr>\n",
       "      <th>0.146</th>\n",
       "      <td>0.753401</td>\n",
       "      <td>0.845066</td>\n",
       "      <td>0.803824</td>\n",
       "      <td>0.776271</td>\n",
       "      <td>5.255126</td>\n",
       "      <td>0.288355</td>\n",
       "      <td>1.330015</td>\n",
       "    </tr>\n",
       "    <tr>\n",
       "      <th>0.147</th>\n",
       "      <td>0.754252</td>\n",
       "      <td>0.844639</td>\n",
       "      <td>0.803767</td>\n",
       "      <td>0.776669</td>\n",
       "      <td>5.224537</td>\n",
       "      <td>0.287691</td>\n",
       "      <td>1.322419</td>\n",
       "    </tr>\n",
       "    <tr>\n",
       "      <th>...</th>\n",
       "      <td>...</td>\n",
       "      <td>...</td>\n",
       "      <td>...</td>\n",
       "      <td>...</td>\n",
       "      <td>...</td>\n",
       "      <td>...</td>\n",
       "      <td>...</td>\n",
       "    </tr>\n",
       "    <tr>\n",
       "      <th>0.356</th>\n",
       "      <td>0.905134</td>\n",
       "      <td>0.752163</td>\n",
       "      <td>0.774629</td>\n",
       "      <td>0.886070</td>\n",
       "      <td>2.718303</td>\n",
       "      <td>0.134135</td>\n",
       "      <td>1.004759</td>\n",
       "    </tr>\n",
       "    <tr>\n",
       "      <th>0.357</th>\n",
       "      <td>0.905692</td>\n",
       "      <td>0.751723</td>\n",
       "      <td>0.774410</td>\n",
       "      <td>0.886649</td>\n",
       "      <td>2.713034</td>\n",
       "      <td>0.133419</td>\n",
       "      <td>1.003672</td>\n",
       "    </tr>\n",
       "    <tr>\n",
       "      <th>0.358</th>\n",
       "      <td>0.906250</td>\n",
       "      <td>0.751283</td>\n",
       "      <td>0.774192</td>\n",
       "      <td>0.887228</td>\n",
       "      <td>2.707765</td>\n",
       "      <td>0.132702</td>\n",
       "      <td>1.002585</td>\n",
       "    </tr>\n",
       "    <tr>\n",
       "      <th>0.359</th>\n",
       "      <td>0.906808</td>\n",
       "      <td>0.750843</td>\n",
       "      <td>0.773973</td>\n",
       "      <td>0.887807</td>\n",
       "      <td>2.702496</td>\n",
       "      <td>0.131986</td>\n",
       "      <td>1.001498</td>\n",
       "    </tr>\n",
       "    <tr>\n",
       "      <th>0.360</th>\n",
       "      <td>0.907366</td>\n",
       "      <td>0.750403</td>\n",
       "      <td>0.773754</td>\n",
       "      <td>0.888386</td>\n",
       "      <td>2.697227</td>\n",
       "      <td>0.131269</td>\n",
       "      <td>1.000411</td>\n",
       "    </tr>\n",
       "  </tbody>\n",
       "</table>\n",
       "<p>218 rows × 7 columns</p>\n",
       "</div>"
      ],
      "text/plain": [
       "            tpr       ppv       acc       npv       LR+       LR-  threshold\n",
       "fpr                                                                         \n",
       "0.143  0.750850  0.846346  0.803997  0.775076  5.346892  0.290346   1.352805\n",
       "0.144  0.751701  0.845920  0.803939  0.775474  5.316303  0.289682   1.345209\n",
       "0.145  0.752551  0.845493  0.803882  0.775873  5.285714  0.289019   1.337612\n",
       "0.146  0.753401  0.845066  0.803824  0.776271  5.255126  0.288355   1.330015\n",
       "0.147  0.754252  0.844639  0.803767  0.776669  5.224537  0.287691   1.322419\n",
       "...         ...       ...       ...       ...       ...       ...        ...\n",
       "0.356  0.905134  0.752163  0.774629  0.886070  2.718303  0.134135   1.004759\n",
       "0.357  0.905692  0.751723  0.774410  0.886649  2.713034  0.133419   1.003672\n",
       "0.358  0.906250  0.751283  0.774192  0.887228  2.707765  0.132702   1.002585\n",
       "0.359  0.906808  0.750843  0.773973  0.887807  2.702496  0.131986   1.001498\n",
       "0.360  0.907366  0.750403  0.773754  0.888386  2.697227  0.131269   1.000411\n",
       "\n",
       "[218 rows x 7 columns]"
      ]
     },
     "execution_count": 155,
     "metadata": {},
     "output_type": "execute_result"
    }
   ],
   "source": [
    "Z=zt.get()\n",
    "Z[Z.threshold.between(1,1.36)]"
   ]
  },
  {
   "cell_type": "code",
   "execution_count": 44,
   "id": "4ab3a78f",
   "metadata": {},
   "outputs": [],
   "source": [
    "from zedstat.zedstat import score_to_probability"
   ]
  },
  {
   "cell_type": "code",
   "execution_count": 57,
   "id": "b44dc90b",
   "metadata": {},
   "outputs": [
    {
     "data": {
      "text/plain": [
       "[array([0.87, 0.82, 0.92])]"
      ]
     },
     "execution_count": 57,
     "metadata": {},
     "output_type": "execute_result"
    }
   ],
   "source": [
    "score_to_probability(scores=[1.35],df=Z.reset_index(),prevalence=.5,total_samples=304,positive_samples=86)"
   ]
  },
  {
   "cell_type": "code",
   "execution_count": 46,
   "id": "c1a0a779",
   "metadata": {},
   "outputs": [
    {
     "data": {
      "text/plain": [
       "148"
      ]
     },
     "execution_count": 46,
     "metadata": {},
     "output_type": "execute_result"
    }
   ],
   "source": [
    "df_test_neg.index.size"
   ]
  },
  {
   "cell_type": "code",
   "execution_count": 47,
   "id": "1038d5fa",
   "metadata": {},
   "outputs": [
    {
     "data": {
      "text/plain": [
       "56"
      ]
     },
     "execution_count": 47,
     "metadata": {},
     "output_type": "execute_result"
    }
   ],
   "source": [
    "df_test_pos.index.size"
   ]
  },
  {
   "cell_type": "code",
   "execution_count": 60,
   "id": "a7517adb",
   "metadata": {},
   "outputs": [
    {
     "data": {
      "text/plain": [
       "0.8664072632944229"
      ]
     },
     "execution_count": 60,
     "metadata": {},
     "output_type": "execute_result"
    }
   ],
   "source": [
    "se=.668\n",
    "sp = 1-.103\n",
    "prevalence=.5\n",
    "se * prevalence / (se * prevalence + (1 - sp) * (1 - prevalence))"
   ]
  },
  {
   "cell_type": "code",
   "execution_count": 77,
   "id": "0d98b24e",
   "metadata": {},
   "outputs": [
    {
     "name": "stderr",
     "output_type": "stream",
     "text": [
      "100%|█████████████████████████████████████████| 204/204 [00:20<00:00,  9.97it/s]\n"
     ]
    }
   ],
   "source": [
    "pred1 = [funcw(x,model_pos,model_neg,perturb=True,perturbsteps=200) for x in tqdm(Xtest)]"
   ]
  },
  {
   "cell_type": "code",
   "execution_count": 78,
   "id": "149370ce",
   "metadata": {},
   "outputs": [
    {
     "data": {
      "text/plain": [
       "0.8354247104247103"
      ]
     },
     "execution_count": 78,
     "metadata": {},
     "output_type": "execute_result"
    }
   ],
   "source": [
    "fpr1, tpr1, thresholds1 = metrics.roc_curve(dx, pred1, pos_label=1)\n",
    "metrics.auc(fpr1, tpr1)"
   ]
  },
  {
   "cell_type": "code",
   "execution_count": 79,
   "id": "829f5e6b",
   "metadata": {},
   "outputs": [
    {
     "data": {
      "text/plain": [
       "[<matplotlib.lines.Line2D at 0x7fb612d763e0>]"
      ]
     },
     "execution_count": 79,
     "metadata": {},
     "output_type": "execute_result"
    },
    {
     "data": {
      "image/png": "[encoded data removed]",
      "text/plain": [
       "<Figure size 432x288 with 1 Axes>"
      ]
     },
     "metadata": {
      "needs_background": "dark"
     },
     "output_type": "display_data"
    }
   ],
   "source": [
    "plt.plot(fpr,tpr)\n",
    "plt.plot(fpr1,tpr1)\n"
   ]
  },
  {
   "cell_type": "code",
   "execution_count": 80,
   "id": "5ee78b8f",
   "metadata": {},
   "outputs": [
    {
     "data": {
      "text/plain": [
       "(0.8620892857142857, 0.9081614745615487, 0.8160332283617102)"
      ]
     },
     "execution_count": 80,
     "metadata": {},
     "output_type": "execute_result"
    },
    {
     "data": {
      "image/png": "[encoded data removed]",
      "text/plain": [
       "<Figure size 360x360 with 1 Axes>"
      ]
     },
     "metadata": {
      "needs_background": "dark"
     },
     "output_type": "display_data"
    }
   ],
   "source": [
    "rf1=pd.DataFrame(tpr1,fpr1,columns=['tpr']).assign(threshold=thresholds1)\n",
    "rf1.index.name='fpr'\n",
    "rf=pd.DataFrame(tpr,fpr,columns=['tpr']).assign(threshold=thresholds)\n",
    "rf.index.name='fpr'\n",
    "#rf_=pd.concat([rf,rfW]).reset_index()\n",
    "prev=.5\n",
    "zt=zedstat.processRoc(df=rf1,\n",
    "           order=3, \n",
    "           total_samples=303,\n",
    "           positive_samples=150,\n",
    "           alpha=0.01,\n",
    "           prevalence=prev)\n",
    "zt.smooth(STEP=0.001)\n",
    "zt.allmeasures(interpolate=True)\n",
    "zt.usample(precision=3)\n",
    "zt.getBounds()\n",
    "plt.figure(figsize=[5,5])\n",
    "ax=plt.gca()\n",
    "ax=zt.get().tpr.plot(ax=ax)\n",
    "plt.fill_between(x=zt.get().index, y1=zt.df_lim['U'].tpr,y2=zt.df_lim['L'].tpr, color='w',alpha=.2)\n",
    "ax.set_xlim(0,1)\n",
    "ax.set_ylim(0,1)\n",
    "ax.set_ylabel('tpr');\n",
    "zt.auc()"
   ]
  },
  {
   "cell_type": "code",
   "execution_count": 344,
   "id": "387f6da0",
   "metadata": {},
   "outputs": [
    {
     "name": "stdout",
     "output_type": "stream",
     "text": [
      "/home/ishanu/ZED/Research/truthnet/notebooks/deployment-assets/models/ptsd\r\n"
     ]
    }
   ],
   "source": [
    " ! pwd"
   ]
  }
 ],
 "metadata": {
  "kernelspec": {
   "display_name": "Python 3 (ipykernel)",
   "language": "python",
   "name": "python3"
  },
  "language_info": {
   "codemirror_mode": {
    "name": "ipython",
    "version": 3
   },
   "file_extension": ".py",
   "mimetype": "text/x-python",
   "name": "python",
   "nbconvert_exporter": "python",
   "pygments_lexer": "ipython3",
   "version": "3.10.8"
  }
 },
 "nbformat": 4,
 "nbformat_minor": 5
}
