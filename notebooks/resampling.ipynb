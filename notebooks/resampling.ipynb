{
 "cells": [
  {
   "cell_type": "code",
   "execution_count": 1,
   "metadata": {},
   "outputs": [],
   "source": [
    "from truthnet import truthnet\n",
    "import pandas as pd\n",
    "import numpy as np\n",
    "import matplotlib.pyplot as plt\n",
    "import seaborn as sns\n",
    "import statsmodels.stats.api as sms\n",
    "from tqdm.notebook import tqdm\n",
    "import tikzplotlib as tpl\n",
    "from datetime import datetime\n",
    "from IPython.display import display, HTML\n",
    "import glob\n",
    "from zedstat import zedstat"
   ]
  },
  {
   "cell_type": "code",
   "execution_count": 2,
   "metadata": {},
   "outputs": [],
   "source": [
    "from quasinet.qnet import load_qnet\n",
    "from quasinet.qsampling import qsample\n",
    "\n",
    "diss = pd.read_pickle(\n",
    "    \"disson_global/core/disson_global_core_with_actual_ff/random_order_disson_1.pkl\"\n",
    ")\n",
    "\n",
    "samps = pd.read_pickle(\n",
    "    \"disson_global/core/disson_global_core_with_actual_ff/random_order_samples_1.pkl\"\n",
    ")\n",
    "\n",
    "model = load_qnet(\n",
    "    \"disson_global/core/disson_global_core_with_actual_ff/random_order_full_model_1.joblib.gz\",\n",
    "    gz=True,\n",
    ")"
   ]
  },
  {
   "cell_type": "code",
   "execution_count": 8,
   "metadata": {},
   "outputs": [],
   "source": [
    "def _diss_linear(s, qnet, missing_value=0):\n",
    "    diss = list()\n",
    "    Ds = qnet.predict_distributions(s)\n",
    "\n",
    "    for i in range(len(s)):\n",
    "        if s[i] != \"\":\n",
    "            if s[i] in Ds[i].keys():\n",
    "                diss.append(1 - Ds[i][s[i]] / np.max(list(Ds[i].values())))\n",
    "            elif s[i] == \"missing\":\n",
    "                diss.append(missing_value)\n",
    "            else:\n",
    "                diss.append(1)\n",
    "\n",
    "    return np.array(diss)\n",
    "\n",
    "\n",
    "def _actual_sample_dissonance(\n",
    "    data_sample, diss_models, diss_fcn, order, length, missing_value=0\n",
    "):\n",
    "    if order is None:\n",
    "        order = range(length)\n",
    "\n",
    "    sample = np.full(length, \"\", dtype=\"<U21\")\n",
    "\n",
    "    diss = [list() for model in diss_models]\n",
    "\n",
    "    # print(data_sample)\n",
    "\n",
    "    for i in order:\n",
    "        if data_sample[i] == \"\":\n",
    "            sample[i] = \"missing\"\n",
    "        else:\n",
    "            sample[i] = data_sample[i]\n",
    "        # [print(diss_fcn(sample, model)) for d, model in zip(diss, diss_models)]\n",
    "        for d, model in zip(diss, diss_models):\n",
    "            d.append(diss_fcn(sample, model, missing_value))\n",
    "        # [d.append(diss_fcn(sample, model)) for d, model in zip(diss, diss_models)]\n",
    "\n",
    "    return sample, diss\n",
    "\n",
    "\n",
    "def _all_actual_samples_dissonance(\n",
    "    data_samples, diss_models, diss_fcn, order, length, missing_value=0\n",
    "):\n",
    "    samples = list()\n",
    "    dissonances = list()\n",
    "\n",
    "    for data_sample in tqdm(data_samples):\n",
    "        samp, diss = _actual_sample_dissonance(\n",
    "            data_sample, diss_models, diss_fcn, order, length, missing_value\n",
    "        )\n",
    "        # print(len(diss), len(diss[0]), len(diss[0][8]), diss[0][8])\n",
    "        # print(len(diss), len(diss[0]), len(diss[0][4]), diss[0][4])\n",
    "        samples.append(samp)\n",
    "        dissonances.append(diss)\n",
    "\n",
    "    return samples, dissonances"
   ]
  },
  {
   "cell_type": "code",
   "execution_count": 3,
   "metadata": {},
   "outputs": [],
   "source": [
    "d = samps[\"qsampled\"]"
   ]
  },
  {
   "cell_type": "code",
   "execution_count": 6,
   "metadata": {},
   "outputs": [
    {
     "data": {
      "application/vnd.jupyter.widget-view+json": {
       "model_id": "4f1cf97533b74012843524ea66a804b4",
       "version_major": 2,
       "version_minor": 0
      },
      "text/plain": [
       "  0%|          | 0/100 [00:00<?, ?it/s]"
      ]
     },
     "metadata": {},
     "output_type": "display_data"
    }
   ],
   "source": [
    "resampled = np.array([qsample(s, model, 1000) for s in tqdm(d)])"
   ]
  },
  {
   "cell_type": "markdown",
   "metadata": {},
   "source": [
    "compare resampled dissonances with actual (from dissonance matrix)"
   ]
  },
  {
   "cell_type": "code",
   "execution_count": null,
   "metadata": {},
   "outputs": [],
   "source": [
    "resampled_diss"
   ]
  },
  {
   "cell_type": "code",
   "execution_count": 9,
   "metadata": {},
   "outputs": [
    {
     "data": {
      "application/vnd.jupyter.widget-view+json": {
       "model_id": "e70d09cf68124b938980b9e268fd2cda",
       "version_major": 2,
       "version_minor": 0
      },
      "text/plain": [
       "  0%|          | 0/100 [00:00<?, ?it/s]"
      ]
     },
     "metadata": {},
     "output_type": "display_data"
    }
   ],
   "source": [
    "resampled_diss = _all_actual_samples_dissonance(\n",
    "    resampled, [model], _diss_linear, range(390), 390\n",
    ")"
   ]
  },
  {
   "cell_type": "code",
   "execution_count": 83,
   "metadata": {},
   "outputs": [],
   "source": [
    "# resampled_diss[dissonances(not samples)][subject][model][questions]\n",
    "resampled = pd.DataFrame(_dissonance_data_at_question(resampled_diss[1], 10)).assign(\n",
    "    y=\"resampled\"\n",
    ")"
   ]
  },
  {
   "cell_type": "code",
   "execution_count": null,
   "metadata": {},
   "outputs": [],
   "source": [
    "pd.concat()"
   ]
  },
  {
   "cell_type": "code",
   "execution_count": 44,
   "metadata": {},
   "outputs": [],
   "source": [
    "actual_diss = pd.read_csv(\n",
    "    \"disson_global/core/disson_global_core_with_actual_ff/random_order_dissonance_matrix_1.csv\",\n",
    "    index_col=0,\n",
    ")"
   ]
  },
  {
   "cell_type": "code",
   "execution_count": 47,
   "metadata": {},
   "outputs": [],
   "source": [
    "resampled_final_diss = pd.DataFrame(\n",
    "    np.array([resampled_diss[1][subj][0][-1] for subj in range(100)])\n",
    ").set_axis(actual_diss.columns, axis=\"columns\")"
   ]
  },
  {
   "cell_type": "code",
   "execution_count": 55,
   "metadata": {},
   "outputs": [],
   "source": [
    "def _dissonance_data_at_question(dissonances, questions_asked):\n",
    "    return np.array(\n",
    "        [np.hstack([d[questions_asked - 1] for d in diss]) for diss in dissonances]\n",
    "    )\n",
    "\n",
    "\n",
    "def _diss_dataset(dissonances, questions_asked, groups=[\"qsampled\", \"m2\"]):\n",
    "    diss_dataset = pd.concat(\n",
    "        [\n",
    "            pd.DataFrame(\n",
    "                _dissonance_data_at_question(dissonances[group], questions_asked)\n",
    "            ).assign(y=group)\n",
    "            for group in groups\n",
    "        ]\n",
    "    )\n",
    "    return diss_dataset"
   ]
  },
  {
   "cell_type": "code",
   "execution_count": 91,
   "metadata": {},
   "outputs": [
    {
     "data": {
      "text/html": [
       "<div>\n",
       "<style scoped>\n",
       "    .dataframe tbody tr th:only-of-type {\n",
       "        vertical-align: middle;\n",
       "    }\n",
       "\n",
       "    .dataframe tbody tr th {\n",
       "        vertical-align: top;\n",
       "    }\n",
       "\n",
       "    .dataframe thead th {\n",
       "        text-align: right;\n",
       "    }\n",
       "</style>\n",
       "<table border=\"1\" class=\"dataframe\">\n",
       "  <thead>\n",
       "    <tr style=\"text-align: right;\">\n",
       "      <th></th>\n",
       "      <th>0</th>\n",
       "      <th>1</th>\n",
       "      <th>2</th>\n",
       "      <th>3</th>\n",
       "      <th>4</th>\n",
       "      <th>5</th>\n",
       "      <th>6</th>\n",
       "      <th>7</th>\n",
       "      <th>8</th>\n",
       "      <th>9</th>\n",
       "      <th>y</th>\n",
       "    </tr>\n",
       "  </thead>\n",
       "  <tbody>\n",
       "    <tr>\n",
       "      <th>0</th>\n",
       "      <td>0.000000</td>\n",
       "      <td>0.000000</td>\n",
       "      <td>0.554217</td>\n",
       "      <td>0.635294</td>\n",
       "      <td>0.0</td>\n",
       "      <td>0.0</td>\n",
       "      <td>0.095745</td>\n",
       "      <td>0.000000</td>\n",
       "      <td>0.333333</td>\n",
       "      <td>0.9</td>\n",
       "      <td>qsampled</td>\n",
       "    </tr>\n",
       "    <tr>\n",
       "      <th>1</th>\n",
       "      <td>0.726619</td>\n",
       "      <td>0.000000</td>\n",
       "      <td>0.084337</td>\n",
       "      <td>0.117647</td>\n",
       "      <td>0.0</td>\n",
       "      <td>0.0</td>\n",
       "      <td>0.531915</td>\n",
       "      <td>0.692308</td>\n",
       "      <td>0.444444</td>\n",
       "      <td>0.3</td>\n",
       "      <td>qsampled</td>\n",
       "    </tr>\n",
       "    <tr>\n",
       "      <th>2</th>\n",
       "      <td>0.000000</td>\n",
       "      <td>0.000000</td>\n",
       "      <td>0.554217</td>\n",
       "      <td>0.000000</td>\n",
       "      <td>0.0</td>\n",
       "      <td>0.0</td>\n",
       "      <td>0.000000</td>\n",
       "      <td>0.153846</td>\n",
       "      <td>0.358025</td>\n",
       "      <td>0.3</td>\n",
       "      <td>qsampled</td>\n",
       "    </tr>\n",
       "    <tr>\n",
       "      <th>3</th>\n",
       "      <td>0.726619</td>\n",
       "      <td>0.000000</td>\n",
       "      <td>0.000000</td>\n",
       "      <td>0.000000</td>\n",
       "      <td>0.0</td>\n",
       "      <td>0.0</td>\n",
       "      <td>0.531915</td>\n",
       "      <td>0.153846</td>\n",
       "      <td>0.333333</td>\n",
       "      <td>0.3</td>\n",
       "      <td>qsampled</td>\n",
       "    </tr>\n",
       "    <tr>\n",
       "      <th>4</th>\n",
       "      <td>0.726619</td>\n",
       "      <td>0.794118</td>\n",
       "      <td>0.554217</td>\n",
       "      <td>0.117647</td>\n",
       "      <td>0.0</td>\n",
       "      <td>0.0</td>\n",
       "      <td>0.276596</td>\n",
       "      <td>0.000000</td>\n",
       "      <td>0.753086</td>\n",
       "      <td>0.9</td>\n",
       "      <td>qsampled</td>\n",
       "    </tr>\n",
       "    <tr>\n",
       "      <th>...</th>\n",
       "      <td>...</td>\n",
       "      <td>...</td>\n",
       "      <td>...</td>\n",
       "      <td>...</td>\n",
       "      <td>...</td>\n",
       "      <td>...</td>\n",
       "      <td>...</td>\n",
       "      <td>...</td>\n",
       "      <td>...</td>\n",
       "      <td>...</td>\n",
       "      <td>...</td>\n",
       "    </tr>\n",
       "    <tr>\n",
       "      <th>95</th>\n",
       "      <td>0.000000</td>\n",
       "      <td>0.000000</td>\n",
       "      <td>0.000000</td>\n",
       "      <td>0.000000</td>\n",
       "      <td>0.0</td>\n",
       "      <td>0.0</td>\n",
       "      <td>0.000000</td>\n",
       "      <td>0.867257</td>\n",
       "      <td>0.000000</td>\n",
       "      <td>0.0</td>\n",
       "      <td>resampled</td>\n",
       "    </tr>\n",
       "    <tr>\n",
       "      <th>96</th>\n",
       "      <td>0.571429</td>\n",
       "      <td>0.111111</td>\n",
       "      <td>0.000000</td>\n",
       "      <td>0.740053</td>\n",
       "      <td>0.0</td>\n",
       "      <td>0.0</td>\n",
       "      <td>0.478632</td>\n",
       "      <td>0.000000</td>\n",
       "      <td>0.000000</td>\n",
       "      <td>0.0</td>\n",
       "      <td>resampled</td>\n",
       "    </tr>\n",
       "    <tr>\n",
       "      <th>97</th>\n",
       "      <td>0.000000</td>\n",
       "      <td>0.000000</td>\n",
       "      <td>0.000000</td>\n",
       "      <td>0.740053</td>\n",
       "      <td>0.0</td>\n",
       "      <td>0.0</td>\n",
       "      <td>0.000000</td>\n",
       "      <td>0.000000</td>\n",
       "      <td>0.000000</td>\n",
       "      <td>0.0</td>\n",
       "      <td>resampled</td>\n",
       "    </tr>\n",
       "    <tr>\n",
       "      <th>98</th>\n",
       "      <td>0.571429</td>\n",
       "      <td>0.111111</td>\n",
       "      <td>0.000000</td>\n",
       "      <td>0.740053</td>\n",
       "      <td>0.0</td>\n",
       "      <td>0.0</td>\n",
       "      <td>0.478632</td>\n",
       "      <td>0.000000</td>\n",
       "      <td>0.726619</td>\n",
       "      <td>0.0</td>\n",
       "      <td>resampled</td>\n",
       "    </tr>\n",
       "    <tr>\n",
       "      <th>99</th>\n",
       "      <td>0.000000</td>\n",
       "      <td>0.000000</td>\n",
       "      <td>0.000000</td>\n",
       "      <td>0.000000</td>\n",
       "      <td>0.0</td>\n",
       "      <td>0.0</td>\n",
       "      <td>0.000000</td>\n",
       "      <td>0.000000</td>\n",
       "      <td>0.726619</td>\n",
       "      <td>0.0</td>\n",
       "      <td>resampled</td>\n",
       "    </tr>\n",
       "  </tbody>\n",
       "</table>\n",
       "<p>1636 rows × 11 columns</p>\n",
       "</div>"
      ],
      "text/plain": [
       "           0         1         2         3    4    5         6         7   \n",
       "0   0.000000  0.000000  0.554217  0.635294  0.0  0.0  0.095745  0.000000  \\\n",
       "1   0.726619  0.000000  0.084337  0.117647  0.0  0.0  0.531915  0.692308   \n",
       "2   0.000000  0.000000  0.554217  0.000000  0.0  0.0  0.000000  0.153846   \n",
       "3   0.726619  0.000000  0.000000  0.000000  0.0  0.0  0.531915  0.153846   \n",
       "4   0.726619  0.794118  0.554217  0.117647  0.0  0.0  0.276596  0.000000   \n",
       "..       ...       ...       ...       ...  ...  ...       ...       ...   \n",
       "95  0.000000  0.000000  0.000000  0.000000  0.0  0.0  0.000000  0.867257   \n",
       "96  0.571429  0.111111  0.000000  0.740053  0.0  0.0  0.478632  0.000000   \n",
       "97  0.000000  0.000000  0.000000  0.740053  0.0  0.0  0.000000  0.000000   \n",
       "98  0.571429  0.111111  0.000000  0.740053  0.0  0.0  0.478632  0.000000   \n",
       "99  0.000000  0.000000  0.000000  0.000000  0.0  0.0  0.000000  0.000000   \n",
       "\n",
       "           8    9          y  \n",
       "0   0.333333  0.9   qsampled  \n",
       "1   0.444444  0.3   qsampled  \n",
       "2   0.358025  0.3   qsampled  \n",
       "3   0.333333  0.3   qsampled  \n",
       "4   0.753086  0.9   qsampled  \n",
       "..       ...  ...        ...  \n",
       "95  0.000000  0.0  resampled  \n",
       "96  0.000000  0.0  resampled  \n",
       "97  0.000000  0.0  resampled  \n",
       "98  0.726619  0.0  resampled  \n",
       "99  0.726619  0.0  resampled  \n",
       "\n",
       "[1636 rows x 11 columns]"
      ]
     },
     "execution_count": 91,
     "metadata": {},
     "output_type": "execute_result"
    }
   ],
   "source": [
    "questions = 10\n",
    "resampled = pd.DataFrame(\n",
    "    _dissonance_data_at_question(resampled_diss[1], questions)\n",
    ").assign(y=\"resampled\")\n",
    "\n",
    "pd.concat(\n",
    "    [\n",
    "        _diss_dataset(\n",
    "            disson, questions, groups=[\"qsampled\", \"m2\", \"runif\", \"actual\"]\n",
    "        ).iloc[:, np.r_[:questions, -1]],\n",
    "        resampled,\n",
    "    ]\n",
    ")"
   ]
  },
  {
   "cell_type": "code",
   "execution_count": 92,
   "metadata": {},
   "outputs": [
    {
     "data": {
      "application/vnd.jupyter.widget-view+json": {
       "model_id": "587423bdfbc74ee99dc07a51089072b1",
       "version_major": 2,
       "version_minor": 0
      },
      "text/plain": [
       "  0%|          | 0/1 [00:00<?, ?it/s]"
      ]
     },
     "metadata": {},
     "output_type": "display_data"
    },
    {
     "data": {
      "application/vnd.jupyter.widget-view+json": {
       "model_id": "3715df9401374487869f2e536ecefaf2",
       "version_major": 2,
       "version_minor": 0
      },
      "text/plain": [
       "  0%|          | 0/100 [00:00<?, ?it/s]"
      ]
     },
     "metadata": {},
     "output_type": "display_data"
    },
    {
     "data": {
      "application/vnd.jupyter.widget-view+json": {
       "model_id": "216e11121b0e4de7a3271c4c3ed7f98a",
       "version_major": 2,
       "version_minor": 0
      },
      "text/plain": [
       "  0%|          | 0/100 [00:00<?, ?it/s]"
      ]
     },
     "metadata": {},
     "output_type": "display_data"
    },
    {
     "data": {
      "application/vnd.jupyter.widget-view+json": {
       "model_id": "c3b1fdd7b5274c248d598e14859d5137",
       "version_major": 2,
       "version_minor": 0
      },
      "text/plain": [
       "  0%|          | 0/389 [00:00<?, ?it/s]"
      ]
     },
     "metadata": {},
     "output_type": "display_data"
    }
   ],
   "source": [
    "for i in tqdm(range(1)):\n",
    "    disson = pd.read_pickle(\n",
    "        f\"disson_global/core/disson_global_core_with_actual_ff/random_order_disson_{i}.pkl\"\n",
    "    )\n",
    "    diss = pd.read_pickle(\n",
    "        f\"disson_global/core/disson_global_core_with_actual_ff/random_order_disson_{i}.pkl\"\n",
    "    )\n",
    "\n",
    "    samps = pd.read_pickle(\n",
    "        f\"disson_global/core/disson_global_core_with_actual_ff/random_order_samples_{i}.pkl\"\n",
    "    )\n",
    "\n",
    "    model = load_qnet(\n",
    "        f\"disson_global/core/disson_global_core_with_actual_ff/random_order_full_model_{i}.joblib.gz\",\n",
    "        gz=True,\n",
    "    )\n",
    "\n",
    "    d = samps[\"qsampled\"]\n",
    "    resampled = np.array([qsample(s, model, 1000) for s in tqdm(d)])\n",
    "    resampled_diss = _all_actual_samples_dissonance(\n",
    "        resampled, [model], _diss_linear, range(390), 390\n",
    "    )\n",
    "\n",
    "    resampled_df = pd.DataFrame(\n",
    "        _dissonance_data_at_question(resampled_diss[1], questions)\n",
    "    ).assign(y=\"resampled\")\n",
    "\n",
    "    [\n",
    "        pd.concat(\n",
    "            [\n",
    "                _diss_dataset(\n",
    "                    disson, questions, groups=[\"qsampled\", \"m2\", \"runif\", \"actual\"]\n",
    "                ),\n",
    "                resampled_df,\n",
    "            ]\n",
    "        ).to_csv(\n",
    "            f\"disson_global/core/disson_global_core_with_actual_ff/csv/{i}/disson_global_core_with_actual_resampled_random_order_disson_{i}-questions_asked_{questions}.csv\",\n",
    "            index=False,\n",
    "        )\n",
    "        for questions in tqdm(range(1, 390))\n",
    "    ]"
   ]
  },
  {
   "cell_type": "code",
   "execution_count": 93,
   "metadata": {},
   "outputs": [],
   "source": [
    "dffg = pd.concat(\n",
    "    [\n",
    "        pd.concat(\n",
    "            [\n",
    "                pd.read_csv(\n",
    "                    f\"disson_global/core/disson_global_core_with_actual_ff/csv/{i}/disson_global_core_with_actual_resampled_random_order_disson_{i}-questions_asked_{questions_asked}.csv\"\n",
    "                ).iloc[:, np.r_[:questions_asked]],\n",
    "                # .mean(axis=1, numeric_only=True),\n",
    "                pd.read_csv(\n",
    "                    f\"disson_global/core/disson_global_core_with_actual_ff/csv/{i}/disson_global_core_with_actual_resampled_random_order_disson_{i}-questions_asked_{questions_asked}.csv\"\n",
    "                )[\"y\"],\n",
    "            ],\n",
    "            axis=1,\n",
    "        )\n",
    "        # .groupby(\"y\", as_index=False)\n",
    "        # .mean()\n",
    "        .assign(questions=str(questions_asked))\n",
    "        for questions_asked in range(1, 390)\n",
    "        for i in range(1)\n",
    "    ]\n",
    ")\n",
    "\n",
    "dffgm = (\n",
    "    pd.melt(dffg, id_vars=[\"y\", \"questions\"])\n",
    "    .query(\"~value.isna()\")\n",
    "    .assign(\n",
    "        questions=lambda x: x[\"questions\"].astype(int),\n",
    "        variable=lambda x: x[\"variable\"].astype(int),\n",
    "    )\n",
    ")\n",
    "\n",
    "dd = pd.concat(\n",
    "    [\n",
    "        dffg.drop([\"y\", \"questions\"], axis=\"columns\").mean(axis=1),\n",
    "        dffg[\"y\"],\n",
    "        dffg[\"questions\"],\n",
    "    ],\n",
    "    axis=1,\n",
    ").set_axis([\"dissonance\", \"y\", \"questions\"], axis=\"columns\")"
   ]
  },
  {
   "cell_type": "code",
   "execution_count": 94,
   "metadata": {},
   "outputs": [
    {
     "data": {
      "text/plain": [
       "<AxesSubplot:xlabel='dissonance', ylabel='Density'>"
      ]
     },
     "execution_count": 94,
     "metadata": {},
     "output_type": "execute_result"
    },
    {
     "data": {
      "image/png": "[encoded data removed]",
      "text/plain": [
       "<Figure size 640x480 with 1 Axes>"
      ]
     },
     "metadata": {},
     "output_type": "display_data"
    }
   ],
   "source": [
    "fig, ax = plt.subplots()\n",
    "sns.histplot(\n",
    "    dd.reset_index(),\n",
    "    x=\"dissonance\",\n",
    "    hue=\"y\",\n",
    "    ax=ax,\n",
    "    element=\"step\",\n",
    "    stat=\"density\",\n",
    "    common_norm=False,\n",
    "    kde=False,\n",
    ")"
   ]
  },
  {
   "cell_type": "code",
   "execution_count": 97,
   "metadata": {},
   "outputs": [
    {
     "data": {
      "text/plain": [
       "<AxesSubplot:xlabel='dissonance', ylabel='Density'>"
      ]
     },
     "execution_count": 97,
     "metadata": {},
     "output_type": "execute_result"
    },
    {
     "data": {
      "image/png": "[encoded data removed]",
      "text/plain": [
       "<Figure size 640x480 with 1 Axes>"
      ]
     },
     "metadata": {},
     "output_type": "display_data"
    }
   ],
   "source": [
    "fig, ax = plt.subplots()\n",
    "sns.histplot(\n",
    "    dd.query('y!=\"resampled\"').reset_index(),\n",
    "    x=\"dissonance\",\n",
    "    hue=\"y\",\n",
    "    ax=ax,\n",
    "    element=\"step\",\n",
    "    stat=\"density\",\n",
    "    common_norm=False,\n",
    "    kde=False,\n",
    ")"
   ]
  },
  {
   "cell_type": "code",
   "execution_count": 100,
   "metadata": {},
   "outputs": [
    {
     "data": {
      "application/vnd.jupyter.widget-view+json": {
       "model_id": "8b75fb5aa9634681ac15f3fef76a843c",
       "version_major": 2,
       "version_minor": 0
      },
      "text/plain": [
       "  0%|          | 0/4 [00:00<?, ?it/s]"
      ]
     },
     "metadata": {},
     "output_type": "display_data"
    },
    {
     "data": {
      "application/vnd.jupyter.widget-view+json": {
       "model_id": "b6a8c5f3678643c9835fb033ef5bf4ea",
       "version_major": 2,
       "version_minor": 0
      },
      "text/plain": [
       "  0%|          | 0/100 [00:00<?, ?it/s]"
      ]
     },
     "metadata": {},
     "output_type": "display_data"
    },
    {
     "data": {
      "application/vnd.jupyter.widget-view+json": {
       "model_id": "e16ffe5dfcb741c69d94fc2cd2d990fc",
       "version_major": 2,
       "version_minor": 0
      },
      "text/plain": [
       "  0%|          | 0/100 [00:00<?, ?it/s]"
      ]
     },
     "metadata": {},
     "output_type": "display_data"
    },
    {
     "data": {
      "application/vnd.jupyter.widget-view+json": {
       "model_id": "128589ca38d04462a45b74554dc6e9b3",
       "version_major": 2,
       "version_minor": 0
      },
      "text/plain": [
       "  0%|          | 0/389 [00:00<?, ?it/s]"
      ]
     },
     "metadata": {},
     "output_type": "display_data"
    },
    {
     "data": {
      "application/vnd.jupyter.widget-view+json": {
       "model_id": "ba5c8d0217c14afca212769c767acca2",
       "version_major": 2,
       "version_minor": 0
      },
      "text/plain": [
       "  0%|          | 0/100 [00:00<?, ?it/s]"
      ]
     },
     "metadata": {},
     "output_type": "display_data"
    },
    {
     "data": {
      "application/vnd.jupyter.widget-view+json": {
       "model_id": "941d462d91154c2aaa32b8bf51fb2198",
       "version_major": 2,
       "version_minor": 0
      },
      "text/plain": [
       "  0%|          | 0/100 [00:00<?, ?it/s]"
      ]
     },
     "metadata": {},
     "output_type": "display_data"
    },
    {
     "data": {
      "application/vnd.jupyter.widget-view+json": {
       "model_id": "91a511931f004391b04833f389d9d1e8",
       "version_major": 2,
       "version_minor": 0
      },
      "text/plain": [
       "  0%|          | 0/389 [00:00<?, ?it/s]"
      ]
     },
     "metadata": {},
     "output_type": "display_data"
    },
    {
     "data": {
      "application/vnd.jupyter.widget-view+json": {
       "model_id": "b603678433e24362aa60bf772fc386ed",
       "version_major": 2,
       "version_minor": 0
      },
      "text/plain": [
       "  0%|          | 0/100 [00:00<?, ?it/s]"
      ]
     },
     "metadata": {},
     "output_type": "display_data"
    },
    {
     "data": {
      "application/vnd.jupyter.widget-view+json": {
       "model_id": "93a1c8058428493f874795e043f74e82",
       "version_major": 2,
       "version_minor": 0
      },
      "text/plain": [
       "  0%|          | 0/100 [00:00<?, ?it/s]"
      ]
     },
     "metadata": {},
     "output_type": "display_data"
    },
    {
     "data": {
      "application/vnd.jupyter.widget-view+json": {
       "model_id": "64458183d99945ba98976fb1b1028219",
       "version_major": 2,
       "version_minor": 0
      },
      "text/plain": [
       "  0%|          | 0/389 [00:00<?, ?it/s]"
      ]
     },
     "metadata": {},
     "output_type": "display_data"
    },
    {
     "data": {
      "application/vnd.jupyter.widget-view+json": {
       "model_id": "3af491cd08a847ebb8a80175f2d407f3",
       "version_major": 2,
       "version_minor": 0
      },
      "text/plain": [
       "  0%|          | 0/100 [00:00<?, ?it/s]"
      ]
     },
     "metadata": {},
     "output_type": "display_data"
    },
    {
     "data": {
      "application/vnd.jupyter.widget-view+json": {
       "model_id": "754d93d9483d4ae6a3b905654dc77333",
       "version_major": 2,
       "version_minor": 0
      },
      "text/plain": [
       "  0%|          | 0/100 [00:00<?, ?it/s]"
      ]
     },
     "metadata": {},
     "output_type": "display_data"
    },
    {
     "data": {
      "application/vnd.jupyter.widget-view+json": {
       "model_id": "6c9beaf9130046d4bb75399820af0232",
       "version_major": 2,
       "version_minor": 0
      },
      "text/plain": [
       "  0%|          | 0/389 [00:00<?, ?it/s]"
      ]
     },
     "metadata": {},
     "output_type": "display_data"
    },
    {
     "data": {
      "text/plain": [
       "<AxesSubplot:xlabel='dissonance', ylabel='Density'>"
      ]
     },
     "execution_count": 100,
     "metadata": {},
     "output_type": "execute_result"
    },
    {
     "data": {
      "image/png": "[encoded data removed]",
      "text/plain": [
       "<Figure size 640x480 with 1 Axes>"
      ]
     },
     "metadata": {},
     "output_type": "display_data"
    }
   ],
   "source": [
    "nquestions = 390\n",
    "qsample_steps = 2500\n",
    "\n",
    "for i in tqdm(range(4)):\n",
    "    disson = pd.read_pickle(\n",
    "        f\"disson_global/core/disson_global_core_with_actual_ff/random_order_disson_{i}.pkl\"\n",
    "    )\n",
    "    diss = pd.read_pickle(\n",
    "        f\"disson_global/core/disson_global_core_with_actual_ff/random_order_disson_{i}.pkl\"\n",
    "    )\n",
    "\n",
    "    samps = pd.read_pickle(\n",
    "        f\"disson_global/core/disson_global_core_with_actual_ff/random_order_samples_{i}.pkl\"\n",
    "    )\n",
    "\n",
    "    model = load_qnet(\n",
    "        f\"disson_global/core/disson_global_core_with_actual_ff/random_order_full_model_{i}.joblib.gz\",\n",
    "        gz=True,\n",
    "    )\n",
    "\n",
    "    d = samps[\"qsampled\"]\n",
    "    resampled = np.array([qsample(s, model, qsample_steps) for s in tqdm(d)])\n",
    "    resampled_diss = _all_actual_samples_dissonance(\n",
    "        resampled, [model], _diss_linear, range(nquestions), nquestions\n",
    "    )\n",
    "\n",
    "    resampled_df = pd.DataFrame(\n",
    "        _dissonance_data_at_question(resampled_diss[1], questions)\n",
    "    ).assign(y=\"resampled\")\n",
    "\n",
    "    [\n",
    "        pd.concat(\n",
    "            [\n",
    "                _diss_dataset(\n",
    "                    disson, questions, groups=[\"qsampled\", \"m2\", \"runif\", \"actual\"]\n",
    "                ),\n",
    "                resampled_df,\n",
    "            ]\n",
    "        ).to_csv(\n",
    "            f\"disson_global/core/disson_global_core_with_actual_ff/csv/{i}/disson_global_core_with_actual_resampled_{qsample_steps}_random_order_disson_{i}-questions_asked_{questions}.csv\",\n",
    "            index=False,\n",
    "        )\n",
    "        for questions in tqdm(range(1, nquestions))\n",
    "    ]\n",
    "\n",
    "dffg = pd.concat(\n",
    "    [\n",
    "        pd.concat(\n",
    "            [\n",
    "                pd.read_csv(\n",
    "                    f\"disson_global/core/disson_global_core_with_actual_ff/csv/{i}/disson_global_core_with_actual_resampled_{qsample_steps}_random_order_disson_{i}-questions_asked_{questions_asked}.csv\"\n",
    "                ).iloc[:, np.r_[:questions_asked]],\n",
    "                # .mean(axis=1, numeric_only=True),\n",
    "                pd.read_csv(\n",
    "                    f\"disson_global/core/disson_global_core_with_actual_ff/csv/{i}/disson_global_core_with_actual_resampled_{qsample_steps}_random_order_disson_{i}-questions_asked_{questions_asked}.csv\"\n",
    "                )[\"y\"],\n",
    "            ],\n",
    "            axis=1,\n",
    "        )\n",
    "        # .groupby(\"y\", as_index=False)\n",
    "        # .mean()\n",
    "        .assign(questions=str(questions_asked))\n",
    "        for questions_asked in range(1, nquestions)\n",
    "        for i in range(4)\n",
    "    ]\n",
    ")\n",
    "\n",
    "dffgm = (\n",
    "    pd.melt(dffg, id_vars=[\"y\", \"questions\"])\n",
    "    .query(\"~value.isna()\")\n",
    "    .assign(\n",
    "        questions=lambda x: x[\"questions\"].astype(int),\n",
    "        variable=lambda x: x[\"variable\"].astype(int),\n",
    "    )\n",
    ")\n",
    "\n",
    "dd = pd.concat(\n",
    "    [\n",
    "        dffg.drop([\"y\", \"questions\"], axis=\"columns\").mean(axis=1),\n",
    "        dffg[\"y\"],\n",
    "        dffg[\"questions\"],\n",
    "    ],\n",
    "    axis=1,\n",
    ").set_axis([\"dissonance\", \"y\", \"questions\"], axis=\"columns\")\n",
    "\n",
    "fig, ax = plt.subplots()\n",
    "sns.histplot(\n",
    "    dd.reset_index(),\n",
    "    x=\"dissonance\",\n",
    "    hue=\"y\",\n",
    "    ax=ax,\n",
    "    element=\"step\",\n",
    "    stat=\"density\",\n",
    "    common_norm=False,\n",
    "    kde=False,\n",
    ")"
   ]
  },
  {
   "cell_type": "code",
   "execution_count": 101,
   "metadata": {},
   "outputs": [
    {
     "data": {
      "text/plain": [
       "<AxesSubplot:xlabel='dissonance', ylabel='Density'>"
      ]
     },
     "execution_count": 101,
     "metadata": {},
     "output_type": "execute_result"
    },
    {
     "data": {
      "image/png": "[encoded data removed]",
      "text/plain": [
       "<Figure size 640x480 with 1 Axes>"
      ]
     },
     "metadata": {},
     "output_type": "display_data"
    }
   ],
   "source": [
    "dffg = pd.concat(\n",
    "    [\n",
    "        pd.concat(\n",
    "            [\n",
    "                pd.read_csv(\n",
    "                    f\"disson_global/core/disson_global_core_with_actual_ff/csv/{i}/disson_global_core_with_actual_resampled_{qsample_steps}_random_order_disson_{i}-questions_asked_{questions_asked}.csv\"\n",
    "                ).iloc[:, np.r_[:questions_asked]],\n",
    "                # .mean(axis=1, numeric_only=True),\n",
    "                pd.read_csv(\n",
    "                    f\"disson_global/core/disson_global_core_with_actual_ff/csv/{i}/disson_global_core_with_actual_resampled_{qsample_steps}_random_order_disson_{i}-questions_asked_{questions_asked}.csv\"\n",
    "                )[\"y\"],\n",
    "            ],\n",
    "            axis=1,\n",
    "        )\n",
    "        # .groupby(\"y\", as_index=False)\n",
    "        # .mean()\n",
    "        .assign(questions=str(questions_asked))\n",
    "        for questions_asked in range(nquestions - 2, nquestions)\n",
    "        for i in range(4)\n",
    "    ]\n",
    ")\n",
    "\n",
    "dffgm = (\n",
    "    pd.melt(dffg, id_vars=[\"y\", \"questions\"])\n",
    "    .query(\"~value.isna()\")\n",
    "    .assign(\n",
    "        questions=lambda x: x[\"questions\"].astype(int),\n",
    "        variable=lambda x: x[\"variable\"].astype(int),\n",
    "    )\n",
    ")\n",
    "\n",
    "dd = pd.concat(\n",
    "    [\n",
    "        dffg.drop([\"y\", \"questions\"], axis=\"columns\").mean(axis=1),\n",
    "        dffg[\"y\"],\n",
    "        dffg[\"questions\"],\n",
    "    ],\n",
    "    axis=1,\n",
    ").set_axis([\"dissonance\", \"y\", \"questions\"], axis=\"columns\")\n",
    "\n",
    "fig, ax = plt.subplots()\n",
    "sns.histplot(\n",
    "    dd.reset_index(),\n",
    "    x=\"dissonance\",\n",
    "    hue=\"y\",\n",
    "    ax=ax,\n",
    "    element=\"step\",\n",
    "    stat=\"density\",\n",
    "    common_norm=False,\n",
    "    kde=False,\n",
    ")"
   ]
  },
  {
   "cell_type": "code",
   "execution_count": 102,
   "metadata": {},
   "outputs": [
    {
     "data": {
      "application/vnd.jupyter.widget-view+json": {
       "model_id": "d5f57de9964e4d0d8062945ec33c5b2e",
       "version_major": 2,
       "version_minor": 0
      },
      "text/plain": [
       "  0%|          | 0/4 [00:00<?, ?it/s]"
      ]
     },
     "metadata": {},
     "output_type": "display_data"
    },
    {
     "data": {
      "application/vnd.jupyter.widget-view+json": {
       "model_id": "d3307dc8e70b4dcaa45170ec34374b66",
       "version_major": 2,
       "version_minor": 0
      },
      "text/plain": [
       "  0%|          | 0/100 [00:00<?, ?it/s]"
      ]
     },
     "metadata": {},
     "output_type": "display_data"
    },
    {
     "data": {
      "application/vnd.jupyter.widget-view+json": {
       "model_id": "c12f02221a2f4a49b4392c0bab347808",
       "version_major": 2,
       "version_minor": 0
      },
      "text/plain": [
       "  0%|          | 0/100 [00:00<?, ?it/s]"
      ]
     },
     "metadata": {},
     "output_type": "display_data"
    },
    {
     "data": {
      "application/vnd.jupyter.widget-view+json": {
       "model_id": "64fabdfafa334a939faf315b8b806d79",
       "version_major": 2,
       "version_minor": 0
      },
      "text/plain": [
       "  0%|          | 0/389 [00:00<?, ?it/s]"
      ]
     },
     "metadata": {},
     "output_type": "display_data"
    },
    {
     "data": {
      "application/vnd.jupyter.widget-view+json": {
       "model_id": "e0829e4a4a104464a9b66f6dc6249926",
       "version_major": 2,
       "version_minor": 0
      },
      "text/plain": [
       "  0%|          | 0/100 [00:00<?, ?it/s]"
      ]
     },
     "metadata": {},
     "output_type": "display_data"
    },
    {
     "data": {
      "application/vnd.jupyter.widget-view+json": {
       "model_id": "d96c2691bcc74d78b2978016dc7fd205",
       "version_major": 2,
       "version_minor": 0
      },
      "text/plain": [
       "  0%|          | 0/100 [00:00<?, ?it/s]"
      ]
     },
     "metadata": {},
     "output_type": "display_data"
    },
    {
     "data": {
      "application/vnd.jupyter.widget-view+json": {
       "model_id": "f161ccfc46684c309a03611656d7ddeb",
       "version_major": 2,
       "version_minor": 0
      },
      "text/plain": [
       "  0%|          | 0/389 [00:00<?, ?it/s]"
      ]
     },
     "metadata": {},
     "output_type": "display_data"
    },
    {
     "data": {
      "application/vnd.jupyter.widget-view+json": {
       "model_id": "167a8af5e8db479f9553668eb985e754",
       "version_major": 2,
       "version_minor": 0
      },
      "text/plain": [
       "  0%|          | 0/100 [00:00<?, ?it/s]"
      ]
     },
     "metadata": {},
     "output_type": "display_data"
    },
    {
     "data": {
      "application/vnd.jupyter.widget-view+json": {
       "model_id": "fadf5c1e0d2042cdb61c9383423278be",
       "version_major": 2,
       "version_minor": 0
      },
      "text/plain": [
       "  0%|          | 0/100 [00:00<?, ?it/s]"
      ]
     },
     "metadata": {},
     "output_type": "display_data"
    },
    {
     "data": {
      "application/vnd.jupyter.widget-view+json": {
       "model_id": "9955181152f84d848ad3d3ed4cd6c237",
       "version_major": 2,
       "version_minor": 0
      },
      "text/plain": [
       "  0%|          | 0/389 [00:00<?, ?it/s]"
      ]
     },
     "metadata": {},
     "output_type": "display_data"
    },
    {
     "data": {
      "application/vnd.jupyter.widget-view+json": {
       "model_id": "97dcde05d331445c8c9ba4bcc3247e28",
       "version_major": 2,
       "version_minor": 0
      },
      "text/plain": [
       "  0%|          | 0/100 [00:00<?, ?it/s]"
      ]
     },
     "metadata": {},
     "output_type": "display_data"
    },
    {
     "data": {
      "application/vnd.jupyter.widget-view+json": {
       "model_id": "051837a7077e4545aff68ac40172517a",
       "version_major": 2,
       "version_minor": 0
      },
      "text/plain": [
       "  0%|          | 0/100 [00:00<?, ?it/s]"
      ]
     },
     "metadata": {},
     "output_type": "display_data"
    },
    {
     "data": {
      "application/vnd.jupyter.widget-view+json": {
       "model_id": "3e4aa9907f0a4479993394ed96b00d5f",
       "version_major": 2,
       "version_minor": 0
      },
      "text/plain": [
       "  0%|          | 0/389 [00:00<?, ?it/s]"
      ]
     },
     "metadata": {},
     "output_type": "display_data"
    },
    {
     "data": {
      "text/plain": [
       "<AxesSubplot:xlabel='dissonance', ylabel='Density'>"
      ]
     },
     "execution_count": 102,
     "metadata": {},
     "output_type": "execute_result"
    },
    {
     "data": {
      "image/png": "[encoded data removed]",
      "text/plain": [
       "<Figure size 640x480 with 1 Axes>"
      ]
     },
     "metadata": {},
     "output_type": "display_data"
    }
   ],
   "source": [
    "nquestions = 390\n",
    "qsample_steps = 5000\n",
    "\n",
    "for i in tqdm(range(4)):\n",
    "    disson = pd.read_pickle(\n",
    "        f\"disson_global/core/disson_global_core_with_actual_ff/random_order_disson_{i}.pkl\"\n",
    "    )\n",
    "    diss = pd.read_pickle(\n",
    "        f\"disson_global/core/disson_global_core_with_actual_ff/random_order_disson_{i}.pkl\"\n",
    "    )\n",
    "\n",
    "    samps = pd.read_pickle(\n",
    "        f\"disson_global/core/disson_global_core_with_actual_ff/random_order_samples_{i}.pkl\"\n",
    "    )\n",
    "\n",
    "    model = load_qnet(\n",
    "        f\"disson_global/core/disson_global_core_with_actual_ff/random_order_full_model_{i}.joblib.gz\",\n",
    "        gz=True,\n",
    "    )\n",
    "\n",
    "    d = samps[\"qsampled\"]\n",
    "    resampled = np.array([qsample(s, model, qsample_steps) for s in tqdm(d)])\n",
    "    resampled_diss = _all_actual_samples_dissonance(\n",
    "        resampled, [model], _diss_linear, range(nquestions), nquestions\n",
    "    )\n",
    "\n",
    "    resampled_df = pd.DataFrame(\n",
    "        _dissonance_data_at_question(resampled_diss[1], questions)\n",
    "    ).assign(y=\"resampled\")\n",
    "\n",
    "    [\n",
    "        pd.concat(\n",
    "            [\n",
    "                _diss_dataset(\n",
    "                    disson, questions, groups=[\"qsampled\", \"m2\", \"runif\", \"actual\"]\n",
    "                ),\n",
    "                resampled_df,\n",
    "            ]\n",
    "        ).to_csv(\n",
    "            f\"disson_global/core/disson_global_core_with_actual_ff/csv/{i}/disson_global_core_with_actual_resampled_{qsample_steps}_random_order_disson_{i}-questions_asked_{questions}.csv\",\n",
    "            index=False,\n",
    "        )\n",
    "        for questions in tqdm(range(1, nquestions))\n",
    "    ]\n",
    "\n",
    "dffg = pd.concat(\n",
    "    [\n",
    "        pd.concat(\n",
    "            [\n",
    "                pd.read_csv(\n",
    "                    f\"disson_global/core/disson_global_core_with_actual_ff/csv/{i}/disson_global_core_with_actual_resampled_{qsample_steps}_random_order_disson_{i}-questions_asked_{questions_asked}.csv\"\n",
    "                ).iloc[:, np.r_[:questions_asked]],\n",
    "                # .mean(axis=1, numeric_only=True),\n",
    "                pd.read_csv(\n",
    "                    f\"disson_global/core/disson_global_core_with_actual_ff/csv/{i}/disson_global_core_with_actual_resampled_{qsample_steps}_random_order_disson_{i}-questions_asked_{questions_asked}.csv\"\n",
    "                )[\"y\"],\n",
    "            ],\n",
    "            axis=1,\n",
    "        )\n",
    "        # .groupby(\"y\", as_index=False)\n",
    "        # .mean()\n",
    "        .assign(questions=str(questions_asked))\n",
    "        for questions_asked in range(1, nquestions)\n",
    "        for i in range(4)\n",
    "    ]\n",
    ")\n",
    "\n",
    "dffgm = (\n",
    "    pd.melt(dffg, id_vars=[\"y\", \"questions\"])\n",
    "    .query(\"~value.isna()\")\n",
    "    .assign(\n",
    "        questions=lambda x: x[\"questions\"].astype(int),\n",
    "        variable=lambda x: x[\"variable\"].astype(int),\n",
    "    )\n",
    ")\n",
    "\n",
    "dd = pd.concat(\n",
    "    [\n",
    "        dffg.drop([\"y\", \"questions\"], axis=\"columns\").mean(axis=1),\n",
    "        dffg[\"y\"],\n",
    "        dffg[\"questions\"],\n",
    "    ],\n",
    "    axis=1,\n",
    ").set_axis([\"dissonance\", \"y\", \"questions\"], axis=\"columns\")\n",
    "\n",
    "fig, ax = plt.subplots()\n",
    "sns.histplot(\n",
    "    dd.reset_index(),\n",
    "    x=\"dissonance\",\n",
    "    hue=\"y\",\n",
    "    ax=ax,\n",
    "    element=\"step\",\n",
    "    stat=\"density\",\n",
    "    common_norm=False,\n",
    "    kde=False,\n",
    ")"
   ]
  },
  {
   "cell_type": "code",
   "execution_count": 103,
   "metadata": {},
   "outputs": [
    {
     "data": {
      "text/plain": [
       "<AxesSubplot:xlabel='dissonance', ylabel='Density'>"
      ]
     },
     "execution_count": 103,
     "metadata": {},
     "output_type": "execute_result"
    },
    {
     "data": {
      "image/png": "[encoded data removed]",
      "text/plain": [
       "<Figure size 640x480 with 1 Axes>"
      ]
     },
     "metadata": {},
     "output_type": "display_data"
    },
    {
     "ename": "",
     "evalue": "",
     "output_type": "error",
     "traceback": [
      "\u001b[1;31mThe Kernel crashed while executing code in the the current cell or a previous cell. Please review the code in the cell(s) to identify a possible cause of the failure. Click <a href='https://aka.ms/vscodeJupyterKernelCrash'>here</a> for more info. View Jupyter <a href='command:jupyter.viewOutput'>log</a> for further details."
     ]
    }
   ],
   "source": [
    "dffg = pd.concat(\n",
    "    [\n",
    "        pd.concat(\n",
    "            [\n",
    "                pd.read_csv(\n",
    "                    f\"disson_global/core/disson_global_core_with_actual_ff/csv/{i}/disson_global_core_with_actual_resampled_{qsample_steps}_random_order_disson_{i}-questions_asked_{questions_asked}.csv\"\n",
    "                ).iloc[:, np.r_[:questions_asked]],\n",
    "                # .mean(axis=1, numeric_only=True),\n",
    "                pd.read_csv(\n",
    "                    f\"disson_global/core/disson_global_core_with_actual_ff/csv/{i}/disson_global_core_with_actual_resampled_{qsample_steps}_random_order_disson_{i}-questions_asked_{questions_asked}.csv\"\n",
    "                )[\"y\"],\n",
    "            ],\n",
    "            axis=1,\n",
    "        )\n",
    "        # .groupby(\"y\", as_index=False)\n",
    "        # .mean()\n",
    "        .assign(questions=str(questions_asked))\n",
    "        for questions_asked in range(nquestions - 2, nquestions)\n",
    "        for i in range(4)\n",
    "    ]\n",
    ")\n",
    "\n",
    "dffgm = (\n",
    "    pd.melt(dffg, id_vars=[\"y\", \"questions\"])\n",
    "    .query(\"~value.isna()\")\n",
    "    .assign(\n",
    "        questions=lambda x: x[\"questions\"].astype(int),\n",
    "        variable=lambda x: x[\"variable\"].astype(int),\n",
    "    )\n",
    ")\n",
    "\n",
    "dd = pd.concat(\n",
    "    [\n",
    "        dffg.drop([\"y\", \"questions\"], axis=\"columns\").mean(axis=1),\n",
    "        dffg[\"y\"],\n",
    "        dffg[\"questions\"],\n",
    "    ],\n",
    "    axis=1,\n",
    ").set_axis([\"dissonance\", \"y\", \"questions\"], axis=\"columns\")\n",
    "\n",
    "fig, ax = plt.subplots()\n",
    "sns.histplot(\n",
    "    dd.reset_index(),\n",
    "    x=\"dissonance\",\n",
    "    hue=\"y\",\n",
    "    ax=ax,\n",
    "    element=\"step\",\n",
    "    stat=\"density\",\n",
    "    common_norm=False,\n",
    "    kde=False,\n",
    ")"
   ]
  },
  {
   "cell_type": "code",
   "execution_count": null,
   "metadata": {},
   "outputs": [],
   "source": []
  },
  {
   "cell_type": "code",
   "execution_count": null,
   "metadata": {},
   "outputs": [],
   "source": []
  },
  {
   "cell_type": "code",
   "execution_count": null,
   "metadata": {},
   "outputs": [],
   "source": [
    "[\n",
    "    _diss_dataset(\n",
    "        disson, questions, groups=[\"qsampled\", \"m2\", \"runif\", \"actual\"]\n",
    "    ).to_csv(\n",
    "        f\"disson_global/core/disson_global_core_with_actual_ff/csv/{i}/disson_global_core_with_actual_random_order_disson_{i}-questions_asked_{questions}.csv\",\n",
    "        index=False,\n",
    "    )\n",
    "    for questions in range(1, 390)\n",
    "]"
   ]
  },
  {
   "cell_type": "code",
   "execution_count": 63,
   "metadata": {},
   "outputs": [],
   "source": [
    "groups = [\"actual\"]\n",
    "\n",
    "questions_asked = 390\n",
    "data = _diss_dataset(diss, questions_asked, groups=groups)\n",
    "\n",
    "datad = data.iloc[:, np.r_[:questions_asked]].set_axis(\n",
    "    actual_diss.columns, axis=\"columns\"\n",
    ")"
   ]
  },
  {
   "cell_type": "code",
   "execution_count": null,
   "metadata": {},
   "outputs": [],
   "source": []
  },
  {
   "cell_type": "code",
   "execution_count": 69,
   "metadata": {},
   "outputs": [
    {
     "data": {
      "text/plain": [
       "<AxesSubplot:xlabel='value', ylabel='Density'>"
      ]
     },
     "execution_count": 69,
     "metadata": {},
     "output_type": "execute_result"
    },
    {
     "data": {
      "image/png": "[encoded data removed]",
      "text/plain": [
       "<Figure size 640x480 with 1 Axes>"
      ]
     },
     "metadata": {},
     "output_type": "display_data"
    }
   ],
   "source": [
    "comb = pd.melt(\n",
    "    pd.concat(\n",
    "        [\n",
    "            datad.assign(type=\"actual\"),\n",
    "            resampled_final_diss.assign(type=\"resampled\"),\n",
    "        ]\n",
    "    ),\n",
    "    id_vars=\"type\",\n",
    ")\n",
    "\n",
    "sns.histplot(\n",
    "    comb.query(\"value > 0\"),\n",
    "    x=\"value\",\n",
    "    element=\"step\",\n",
    "    stat=\"density\",\n",
    "    hue=\"type\",\n",
    "    common_norm=False,\n",
    "    kde=False,\n",
    ")"
   ]
  },
  {
   "cell_type": "code",
   "execution_count": 71,
   "metadata": {},
   "outputs": [
    {
     "data": {
      "application/vnd.jupyter.widget-view+json": {
       "model_id": "22082256b1194ad1bbdd1e53ea5a9d53",
       "version_major": 2,
       "version_minor": 0
      },
      "text/plain": [
       "  0%|          | 0/4 [00:00<?, ?it/s]"
      ]
     },
     "metadata": {},
     "output_type": "display_data"
    }
   ],
   "source": [
    "for i in tqdm(range(4)):\n",
    "    disson = pd.read_pickle(\n",
    "        f\"disson_global/core/disson_global_core_with_actual_ff/random_order_disson_{i}.pkl\"\n",
    "    )\n",
    "\n",
    "    [\n",
    "        _diss_dataset(\n",
    "            disson, questions, groups=[\"qsampled\", \"m2\", \"runif\", \"actual\"]\n",
    "        ).to_csv(\n",
    "            f\"disson_global/core/disson_global_core_with_actual_ff/csv/{i}/disson_global_core_with_actual_random_order_disson_{i}-questions_asked_{questions}.csv\",\n",
    "            index=False,\n",
    "        )\n",
    "        for questions in range(1, 390)\n",
    "    ]"
   ]
  },
  {
   "cell_type": "code",
   "execution_count": 72,
   "metadata": {},
   "outputs": [],
   "source": [
    "dffg = pd.concat(\n",
    "    [\n",
    "        pd.concat(\n",
    "            [\n",
    "                pd.read_csv(\n",
    "                    f\"disson_global/core/disson_global_core_with_actual_ff/csv/{i}/disson_global_core_with_actual_random_order_disson_{i}-questions_asked_{questions_asked}.csv\"\n",
    "                ).iloc[:, np.r_[:questions_asked]],\n",
    "                # .mean(axis=1, numeric_only=True),\n",
    "                pd.read_csv(\n",
    "                    f\"disson_global/core/disson_global_core_with_actual_ff/csv/{i}/disson_global_core_with_actual_random_order_disson_{i}-questions_asked_{questions_asked}.csv\"\n",
    "                )[\"y\"],\n",
    "            ],\n",
    "            axis=1,\n",
    "        )\n",
    "        # .groupby(\"y\", as_index=False)\n",
    "        # .mean()\n",
    "        .assign(questions=str(questions_asked))\n",
    "        for questions_asked in range(1, 345)\n",
    "        for i in range(4)\n",
    "    ]\n",
    ")\n",
    "\n",
    "dffgm = (\n",
    "    pd.melt(dffg, id_vars=[\"y\", \"questions\"])\n",
    "    .query(\"~value.isna()\")\n",
    "    .assign(\n",
    "        questions=lambda x: x[\"questions\"].astype(int),\n",
    "        variable=lambda x: x[\"variable\"].astype(int),\n",
    "    )\n",
    ")\n",
    "\n",
    "dd = pd.concat(\n",
    "    [\n",
    "        dffg.drop([\"y\", \"questions\"], axis=\"columns\").mean(axis=1),\n",
    "        dffg[\"y\"],\n",
    "        dffg[\"questions\"],\n",
    "    ],\n",
    "    axis=1,\n",
    ").set_axis([\"dissonance\", \"y\", \"questions\"], axis=\"columns\")"
   ]
  },
  {
   "cell_type": "code",
   "execution_count": 73,
   "metadata": {},
   "outputs": [
    {
     "data": {
      "text/plain": [
       "<AxesSubplot:xlabel='dissonance', ylabel='Density'>"
      ]
     },
     "execution_count": 73,
     "metadata": {},
     "output_type": "execute_result"
    },
    {
     "data": {
      "image/png": "[encoded data removed]",
      "text/plain": [
       "<Figure size 640x480 with 1 Axes>"
      ]
     },
     "metadata": {},
     "output_type": "display_data"
    }
   ],
   "source": [
    "fig, ax = plt.subplots()\n",
    "sns.histplot(\n",
    "    dd.reset_index(),\n",
    "    x=\"dissonance\",\n",
    "    hue=\"y\",\n",
    "    ax=ax,\n",
    "    element=\"step\",\n",
    "    stat=\"density\",\n",
    "    common_norm=False,\n",
    "    kde=False,\n",
    ")"
   ]
  },
  {
   "cell_type": "code",
   "execution_count": 75,
   "metadata": {},
   "outputs": [
    {
     "data": {
      "text/html": [
       "<div>\n",
       "<style scoped>\n",
       "    .dataframe tbody tr th:only-of-type {\n",
       "        vertical-align: middle;\n",
       "    }\n",
       "\n",
       "    .dataframe tbody tr th {\n",
       "        vertical-align: top;\n",
       "    }\n",
       "\n",
       "    .dataframe thead th {\n",
       "        text-align: right;\n",
       "    }\n",
       "</style>\n",
       "<table border=\"1\" class=\"dataframe\">\n",
       "  <thead>\n",
       "    <tr style=\"text-align: right;\">\n",
       "      <th></th>\n",
       "      <th>dissonance</th>\n",
       "      <th>y</th>\n",
       "      <th>questions</th>\n",
       "    </tr>\n",
       "  </thead>\n",
       "  <tbody>\n",
       "    <tr>\n",
       "      <th>300</th>\n",
       "      <td>0.000000</td>\n",
       "      <td>actual</td>\n",
       "      <td>1</td>\n",
       "    </tr>\n",
       "    <tr>\n",
       "      <th>301</th>\n",
       "      <td>0.000000</td>\n",
       "      <td>actual</td>\n",
       "      <td>1</td>\n",
       "    </tr>\n",
       "    <tr>\n",
       "      <th>302</th>\n",
       "      <td>0.000000</td>\n",
       "      <td>actual</td>\n",
       "      <td>1</td>\n",
       "    </tr>\n",
       "    <tr>\n",
       "      <th>303</th>\n",
       "      <td>0.117647</td>\n",
       "      <td>actual</td>\n",
       "      <td>1</td>\n",
       "    </tr>\n",
       "    <tr>\n",
       "      <th>304</th>\n",
       "      <td>0.117647</td>\n",
       "      <td>actual</td>\n",
       "      <td>1</td>\n",
       "    </tr>\n",
       "    <tr>\n",
       "      <th>...</th>\n",
       "      <td>...</td>\n",
       "      <td>...</td>\n",
       "      <td>...</td>\n",
       "    </tr>\n",
       "    <tr>\n",
       "      <th>1531</th>\n",
       "      <td>0.045066</td>\n",
       "      <td>actual</td>\n",
       "      <td>344</td>\n",
       "    </tr>\n",
       "    <tr>\n",
       "      <th>1532</th>\n",
       "      <td>0.033017</td>\n",
       "      <td>actual</td>\n",
       "      <td>344</td>\n",
       "    </tr>\n",
       "    <tr>\n",
       "      <th>1533</th>\n",
       "      <td>0.036635</td>\n",
       "      <td>actual</td>\n",
       "      <td>344</td>\n",
       "    </tr>\n",
       "    <tr>\n",
       "      <th>1534</th>\n",
       "      <td>0.035962</td>\n",
       "      <td>actual</td>\n",
       "      <td>344</td>\n",
       "    </tr>\n",
       "    <tr>\n",
       "      <th>1535</th>\n",
       "      <td>0.033037</td>\n",
       "      <td>actual</td>\n",
       "      <td>344</td>\n",
       "    </tr>\n",
       "  </tbody>\n",
       "</table>\n",
       "<p>1700736 rows × 3 columns</p>\n",
       "</div>"
      ],
      "text/plain": [
       "      dissonance       y questions\n",
       "300     0.000000  actual         1\n",
       "301     0.000000  actual         1\n",
       "302     0.000000  actual         1\n",
       "303     0.117647  actual         1\n",
       "304     0.117647  actual         1\n",
       "...          ...     ...       ...\n",
       "1531    0.045066  actual       344\n",
       "1532    0.033017  actual       344\n",
       "1533    0.036635  actual       344\n",
       "1534    0.035962  actual       344\n",
       "1535    0.033037  actual       344\n",
       "\n",
       "[1700736 rows x 3 columns]"
      ]
     },
     "execution_count": 75,
     "metadata": {},
     "output_type": "execute_result"
    }
   ],
   "source": [
    "dd.query(\"y=='actual'\")"
   ]
  },
  {
   "cell_type": "code",
   "execution_count": 70,
   "metadata": {},
   "outputs": [],
   "source": [
    "from pathlib import Path\n",
    "\n",
    "for i in range(4):\n",
    "    Path(f\"disson_global/core/disson_global_core_with_actual_ff/csv/{i}/\").mkdir(\n",
    "        parents=True, exist_ok=True\n",
    "    )"
   ]
  },
  {
   "cell_type": "code",
   "execution_count": null,
   "metadata": {},
   "outputs": [],
   "source": []
  }
 ],
 "metadata": {
  "kernelspec": {
   "display_name": "pkgs",
   "language": "python",
   "name": "python3"
  },
  "language_info": {
   "codemirror_mode": {
    "name": "ipython",
    "version": 3
   },
   "file_extension": ".py",
   "mimetype": "text/x-python",
   "name": "python",
   "nbconvert_exporter": "python",
   "pygments_lexer": "ipython3",
   "version": "3.10.11"
  }
 },
 "nbformat": 4,
 "nbformat_minor": 2
}
