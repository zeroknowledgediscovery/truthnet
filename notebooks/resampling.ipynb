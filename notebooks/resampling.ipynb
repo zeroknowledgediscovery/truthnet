{
 "cells": [
  {
   "cell_type": "markdown",
   "metadata": {},
   "source": [
    "# Resampling\n",
    "\n",
    "generate a dataset lik ethe original data by strating from teh empty string and increasing the number of qsampling steps (to generater each full sample), till the average number of missing data per sample in teh original data matches that in the generated dataset. PLot the dissonances and share with me.\n",
    "\n",
    "No question of iteration here for this step\n",
    "\n",
    "We need to worry about it if these two distributions (the origional data dissonance and the above dtaaset generated with correctly tunes number of qsampling steps) do not match closely"
   ]
  },
  {
   "cell_type": "markdown",
   "metadata": {},
   "source": [
    "# Methods and Imports"
   ]
  },
  {
   "cell_type": "code",
   "execution_count": 4,
   "metadata": {},
   "outputs": [],
   "source": [
    "from truthnet import truthnet\n",
    "import pandas as pd\n",
    "import numpy as np\n",
    "import matplotlib.pyplot as plt\n",
    "import seaborn as sns\n",
    "import statsmodels.stats.api as sms\n",
    "from tqdm.notebook import tqdm\n",
    "import tikzplotlib as tpl\n",
    "from datetime import datetime\n",
    "from IPython.display import display, HTML\n",
    "import glob\n",
    "from zedstat import zedstat\n",
    "\n",
    "from quasinet.qnet import load_qnet\n",
    "from quasinet.qsampling import qsample"
   ]
  },
  {
   "cell_type": "code",
   "execution_count": 3,
   "metadata": {},
   "outputs": [],
   "source": [
    "\n",
    "\n",
    "diss = pd.read_pickle(\n",
    "    \"disson_new/global/core/disson_global_qmra_missing_0/random_order_disson_0.pkl\"\n",
    ")\n",
    "\n",
    "samps = pd.read_pickle(\n",
    "    \"disson_new/global/core/disson_global_qmra_missing_0/random_order_disson_0.pkl\"\n",
    ")\n",
    "\n",
    "model = load_qnet(\n",
    "    \"disson_new/global/core/disson_global_qmra_missing_0/random_order_full_model_1.joblib.gz\",\n",
    "    gz=True,\n",
    ")"
   ]
  },
  {
   "cell_type": "code",
   "execution_count": 7,
   "metadata": {},
   "outputs": [],
   "source": [
    "def _diss_linear(s, qnet, missing_value=0):\n",
    "    diss = list()\n",
    "    Ds = qnet.predict_distributions(s)\n",
    "\n",
    "    for i in range(len(s)):\n",
    "        if s[i] != \"\":\n",
    "            if s[i] in Ds[i].keys():\n",
    "                diss.append(1 - Ds[i][s[i]] / np.max(list(Ds[i].values())))\n",
    "            elif s[i] == \"missing\":\n",
    "                diss.append(missing_value)\n",
    "            else:\n",
    "                diss.append(1)\n",
    "\n",
    "    return np.array(diss)\n",
    "\n",
    "\n",
    "def _actual_sample_dissonance(\n",
    "    data_sample, diss_models, diss_fcn, order, length, missing_value=0\n",
    "):\n",
    "    if order is None:\n",
    "        order = range(length)\n",
    "\n",
    "    sample = np.full(length, \"\", dtype=\"<U21\")\n",
    "\n",
    "    diss = [list() for model in diss_models]\n",
    "\n",
    "    # print(data_sample)\n",
    "\n",
    "    for i in order:\n",
    "        if data_sample[i] == \"\":\n",
    "            sample[i] = \"missing\"\n",
    "        else:\n",
    "            sample[i] = data_sample[i]\n",
    "        # [print(diss_fcn(sample, model)) for d, model in zip(diss, diss_models)]\n",
    "        for d, model in zip(diss, diss_models):\n",
    "            d.append(diss_fcn(sample, model, missing_value))\n",
    "        # [d.append(diss_fcn(sample, model)) for d, model in zip(diss, diss_models)]\n",
    "\n",
    "    return sample, diss\n",
    "\n",
    "\n",
    "def _all_actual_samples_dissonance(\n",
    "    data_samples, diss_models, diss_fcn, order, length, missing_value=0\n",
    "):\n",
    "    samples = list()\n",
    "    dissonances = list()\n",
    "\n",
    "    for data_sample in tqdm(data_samples):\n",
    "        samp, diss = _actual_sample_dissonance(\n",
    "            data_sample, diss_models, diss_fcn, order, length, missing_value\n",
    "        )\n",
    "        # print(len(diss), len(diss[0]), len(diss[0][8]), diss[0][8])\n",
    "        # print(len(diss), len(diss[0]), len(diss[0][4]), diss[0][4])\n",
    "        samples.append(samp)\n",
    "        dissonances.append(diss)\n",
    "\n",
    "    return samples, dissonances\n",
    "\n",
    "def _dissonance_data_at_question(dissonances, questions_asked):\n",
    "    return np.array(\n",
    "        [np.hstack([d[questions_asked - 1] for d in diss]) for diss in dissonances]\n",
    "    )\n",
    "\n",
    "\n",
    "def _diss_dataset(dissonances, questions_asked, groups=[\"qsampled\", \"m2\"]):\n",
    "    diss_dataset = pd.concat(\n",
    "        [\n",
    "            pd.DataFrame(\n",
    "                _dissonance_data_at_question(dissonances[group], questions_asked)\n",
    "            ).assign(y=group)\n",
    "            for group in groups\n",
    "        ]\n",
    "    )\n",
    "    return diss_dataset"
   ]
  },
  {
   "cell_type": "code",
   "execution_count": 23,
   "metadata": {},
   "outputs": [],
   "source": [
    "def _pkl_to_csv(basepath, num_questions,make_dirs=True):\n",
    "    num_diss_files = len(glob.glob(f\"{basepath}random_order_disson_*.pkl\"))\n",
    "\n",
    "    if make_dirs is True:\n",
    "        for i in range(num_diss_files):\n",
    "            Path(f\"{basepath}csv/{i}\").mkdir(\n",
    "                parents=True, exist_ok=True\n",
    "            )\n",
    "\n",
    "    for i in tqdm(range(num_diss_files)):\n",
    "        disson = pd.read_pickle(\n",
    "            f\"{basepath}random_order_disson_{i}.pkl\"\n",
    "        )\n",
    "\n",
    "        [\n",
    "            _diss_dataset(\n",
    "                disson, questions,\n",
    "            ).to_csv(\n",
    "                f\"{basepath}csv/{i}/random_order_{i}-questions_asked_{questions}.csv\",\n",
    "                index=False,\n",
    "            )\n",
    "            for questions in range(1, num_questions)\n",
    "        ]    \n",
    "\n",
    "def _process_csvs(basepath, num_questions, dffg = None, dffgm = None, dd = None, get_csvs=False,csv_names=['dffg','dffgm','dd'],extradffg=None,extradffgm=None,extradd=None):\n",
    "    if get_csvs is True:\n",
    "        _pkl_to_csv(basepath, num_questions,groups)\n",
    "\n",
    "    num_diss_files = len(glob.glob(f\"{basepath}random_order_disson_*.pkl\"))\n",
    "\n",
    "    if dffg is None:\n",
    "        dffg = pd.concat(\n",
    "            [\n",
    "                pd.concat(\n",
    "                    [\n",
    "                        pd.read_csv(\n",
    "                            f\"{basepath}csv/{i}/random_order_{i}-questions_asked_{questions_asked}.csv\"\n",
    "                        ).iloc[:, np.r_[:questions_asked]],\n",
    "                        # .mean(axis=1, numeric_only=True),\n",
    "                        pd.read_csv(\n",
    "                            f\"{basepath}csv/{i}/random_order_{i}-questions_asked_{questions_asked}.csv\"\n",
    "                        )[\"y\"],\n",
    "                    ],\n",
    "                    axis=1,\n",
    "                )\n",
    "                # .groupby(\"y\", as_index=False)\n",
    "                # .mean()\n",
    "                .assign(questions=str(questions_asked))\n",
    "                for questions_asked in range(1, num_questions)\n",
    "                for i in range(num_diss_files)\n",
    "            ]\n",
    "        )\n",
    "    if extradffg is not None:\n",
    "        dffg = pd.concat([dffg,extradffg])\n",
    "    dffg.to_csv(f\"{basepath}{csv_names[0]}.csv\", index=False)\n",
    "\n",
    "    if dffgm is None:\n",
    "        pivot_list = list()\n",
    "        chunk_size = 100000\n",
    "\n",
    "        for i in tqdm(range(0, len(dffg), chunk_size)):\n",
    "            row_pivot = (\n",
    "                dffg.iloc[i : i + chunk_size]\n",
    "                .melt(id_vars=[\"y\", \"questions\"])\n",
    "                .query(\"~value.isna()\")\n",
    "                .assign(\n",
    "                    questions=lambda x: x[\"questions\"].astype(int),\n",
    "                    variable=lambda x: x[\"variable\"].astype(int),\n",
    "                )\n",
    "            )\n",
    "            pivot_list.append(row_pivot)\n",
    "\n",
    "        dffgm = pd.concat(pivot_list, copy=False)\n",
    "    if extradffgm is not None:\n",
    "        dffgm = pd.concat([dffgm,extradffgm])\n",
    "    dffgm.to_csv(f\"{basepath}{csv_names[1]}.csv\", index=False)\n",
    "\n",
    "    if dd is None:\n",
    "        pivot_list = list()\n",
    "        chunk_size = 100000\n",
    "\n",
    "        for i in tqdm(range(0, len(dffg), chunk_size)):\n",
    "            row_pivot = pd.concat(\n",
    "                [\n",
    "                    dffg.drop([\"y\", \"questions\"], axis=\"columns\")\n",
    "                    .iloc[i : i + chunk_size]\n",
    "                    .mean(axis=1),\n",
    "                    dffg.iloc[i : i + chunk_size][\"y\"],\n",
    "                    dffg.iloc[i : i + chunk_size][\"questions\"],\n",
    "                ],\n",
    "                axis=1,\n",
    "            ).set_axis([\"dissonance\", \"y\", \"questions\"], axis=\"columns\")\n",
    "            pivot_list.append(row_pivot)\n",
    "\n",
    "        dd = pd.concat(pivot_list, copy=False)\n",
    "    if extradd is not None:\n",
    "        dd = pd.concat([dd,extradd])\n",
    "    dd.to_csv(f\"{basepath}{csv_names[2]}.csv\", index=False)\n",
    "\n",
    "     \n",
    "    \n",
    "    return dffg, dffgm, dd\n",
    "\n",
    "def _plot_diss_dist(dffgm, dd, num_questions, outfile, plots = [\"diss-comp\", \"diss-distr\"],  outfig=None, groups=[\"qsampled\", \"runif\", \"m2\", \"actual\",]):\n",
    "    \n",
    "    if \"diss-comp\" in plots:\n",
    "        res_gdf = list()\n",
    "        conf = 0.95\n",
    "        for questions in tqdm(range(1, num_questions)):\n",
    "            for group in groups:\n",
    "                dfgq = dffgm.query(\"questions==@questions & y==@group\")\n",
    "                mean = dfgq[\"value\"].mean()\n",
    "                var = dfgq[\"value\"].var()\n",
    "                ci = sms.DescrStatsW(dfgq[\"value\"]).tconfint_mean(alpha=1 - conf)\n",
    "                res_gdf.append([group, questions, mean, var, ci[0], ci[1]])\n",
    "\n",
    "        res_gdf = pd.DataFrame(\n",
    "            res_gdf, columns=[\"variable\", \"questions\", \"mean\", \"var\", \"lower\", \"upper\"]\n",
    "        )\n",
    "\n",
    "        res_gdf\n",
    "\n",
    "        for v in groups:\n",
    "            df = res_gdf.query(\"variable==@v\")\n",
    "            plt.plot(df[\"questions\"], df[\"mean\"])\n",
    "            plt.fill_between(df[\"questions\"], df[\"lower\"], df[\"upper\"], alpha=0.3)\n",
    "        if outfig is not None:\n",
    "            plt.savefig(f\"{outfig}diss_comp.png\")\n",
    "\n",
    "        res_gdf.to_csv(\n",
    "            outfile,\n",
    "            index=False,\n",
    "        )\n",
    "\n",
    "    if \"diss-distr\" in plots:\n",
    "        ddp = dd\n",
    "\n",
    "        fig, ax = plt.subplots()\n",
    "        sns.histplot(\n",
    "            ddp.reset_index(),\n",
    "            x=\"dissonance\",\n",
    "            hue=\"y\",\n",
    "            ax=ax,\n",
    "            element=\"step\",\n",
    "            stat=\"density\",\n",
    "            common_norm=False,\n",
    "            kde=False,\n",
    "        )\n",
    "        if outfig is not None:\n",
    "            plt.savefig(f\"{outfig}diss_distr.png\")\n",
    "\n",
    "        tpl.save(\n",
    "        figure=fig,\n",
    "        filepath=f\"{outfig}diss_distr.tex\",\n",
    "        extra_axis_parameters=[\n",
    "            \"basegridstyle\",\n",
    "            \"ignore legend\",\n",
    "            ],\n",
    "            standalone=False,\n",
    "        )"
   ]
  },
  {
   "cell_type": "code",
   "execution_count": 5,
   "metadata": {},
   "outputs": [],
   "source": [
    "actual = pd.read_csv(\"data/gibbons_global/gibbons_global.csv\")"
   ]
  },
  {
   "cell_type": "code",
   "execution_count": 6,
   "metadata": {},
   "outputs": [],
   "source": [
    "order = pd.read_csv(\"disson_new/global/core/disson_global_qmra_missing_0/random_order_0.csv\",index_col=0)[\"0\"]"
   ]
  },
  {
   "cell_type": "code",
   "execution_count": 8,
   "metadata": {},
   "outputs": [],
   "source": [
    "actual_model = actual[model.feature_names].isnull().sum(axis=1)\n",
    "avg_non_null = (1 - actual_model/len(model.feature_names)).mean()"
   ]
  },
  {
   "cell_type": "code",
   "execution_count": 9,
   "metadata": {},
   "outputs": [],
   "source": [
    "empty_string = np.full(len(model.feature_names), \"\", dtype=\"<U21\")"
   ]
  },
  {
   "cell_type": "code",
   "execution_count": 10,
   "metadata": {},
   "outputs": [
    {
     "data": {
      "application/vnd.jupyter.widget-view+json": {
       "model_id": "54c8f99e3def4173a86e8d5e0f14b90f",
       "version_major": 2,
       "version_minor": 0
      },
      "text/plain": [
       "  0%|          | 0/100 [00:00<?, ?it/s]"
      ]
     },
     "metadata": {},
     "output_type": "display_data"
    },
    {
     "data": {
      "text/plain": [
       "0.16761538461538458"
      ]
     },
     "execution_count": 10,
     "metadata": {},
     "output_type": "execute_result"
    }
   ],
   "source": [
    "qsteps = 71\n",
    "nsamples = 100\n",
    "\n",
    "resampled = np.array([qsample(empty_string, model, qsteps) for _ in tqdm(range(nsamples))])\n",
    "\n",
    "resampled_df = pd.DataFrame(resampled).replace('',np.nan)\n",
    "resampled_na = resampled_df.isnull().sum(axis=1)\n",
    "resampled_nonna = (1 - resampled_na/len(model.feature_names)).mean()\n",
    "resampled_nonna\n"
   ]
  },
  {
   "cell_type": "code",
   "execution_count": 67,
   "metadata": {},
   "outputs": [
    {
     "data": {
      "text/plain": [
       "array([['', '', '', ..., '', '', ''],\n",
       "       ['', '', '', ..., '', '', ''],\n",
       "       ['', '', '', ..., '', '', ''],\n",
       "       ...,\n",
       "       ['', '', '', ..., '', '1', ''],\n",
       "       ['', '', '1', ..., '', '', ''],\n",
       "       ['', '', '', ..., '', '', '1']], dtype='<U21')"
      ]
     },
     "execution_count": 67,
     "metadata": {},
     "output_type": "execute_result"
    }
   ],
   "source": [
    "resampled"
   ]
  },
  {
   "cell_type": "code",
   "execution_count": 12,
   "metadata": {},
   "outputs": [
    {
     "data": {
      "application/vnd.jupyter.widget-view+json": {
       "model_id": "e6bfe8af90c04ab5a6dd4b5cf3d873a7",
       "version_major": 2,
       "version_minor": 0
      },
      "text/plain": [
       "  0%|          | 0/100 [00:00<?, ?it/s]"
      ]
     },
     "metadata": {},
     "output_type": "display_data"
    }
   ],
   "source": [
    "resampled_diss = _all_actual_samples_dissonance(\n",
    "    resampled, [model], _diss_linear, order, 390\n",
    ")"
   ]
  },
  {
   "cell_type": "code",
   "execution_count": 28,
   "metadata": {},
   "outputs": [
    {
     "data": {
      "text/html": [
       "<div>\n",
       "<style scoped>\n",
       "    .dataframe tbody tr th:only-of-type {\n",
       "        vertical-align: middle;\n",
       "    }\n",
       "\n",
       "    .dataframe tbody tr th {\n",
       "        vertical-align: top;\n",
       "    }\n",
       "\n",
       "    .dataframe thead th {\n",
       "        text-align: right;\n",
       "    }\n",
       "</style>\n",
       "<table border=\"1\" class=\"dataframe\">\n",
       "  <thead>\n",
       "    <tr style=\"text-align: right;\">\n",
       "      <th></th>\n",
       "      <th>0</th>\n",
       "      <th>y</th>\n",
       "      <th>questions</th>\n",
       "      <th>1</th>\n",
       "      <th>2</th>\n",
       "      <th>3</th>\n",
       "      <th>4</th>\n",
       "      <th>5</th>\n",
       "      <th>6</th>\n",
       "      <th>7</th>\n",
       "      <th>...</th>\n",
       "      <th>379</th>\n",
       "      <th>380</th>\n",
       "      <th>381</th>\n",
       "      <th>382</th>\n",
       "      <th>383</th>\n",
       "      <th>384</th>\n",
       "      <th>385</th>\n",
       "      <th>386</th>\n",
       "      <th>387</th>\n",
       "      <th>388</th>\n",
       "    </tr>\n",
       "  </thead>\n",
       "  <tbody>\n",
       "    <tr>\n",
       "      <th>0</th>\n",
       "      <td>0.000000</td>\n",
       "      <td>resampled</td>\n",
       "      <td>1</td>\n",
       "      <td>NaN</td>\n",
       "      <td>NaN</td>\n",
       "      <td>NaN</td>\n",
       "      <td>NaN</td>\n",
       "      <td>NaN</td>\n",
       "      <td>NaN</td>\n",
       "      <td>NaN</td>\n",
       "      <td>...</td>\n",
       "      <td>NaN</td>\n",
       "      <td>NaN</td>\n",
       "      <td>NaN</td>\n",
       "      <td>NaN</td>\n",
       "      <td>NaN</td>\n",
       "      <td>NaN</td>\n",
       "      <td>NaN</td>\n",
       "      <td>NaN</td>\n",
       "      <td>NaN</td>\n",
       "      <td>NaN</td>\n",
       "    </tr>\n",
       "    <tr>\n",
       "      <th>1</th>\n",
       "      <td>0.000000</td>\n",
       "      <td>resampled</td>\n",
       "      <td>1</td>\n",
       "      <td>NaN</td>\n",
       "      <td>NaN</td>\n",
       "      <td>NaN</td>\n",
       "      <td>NaN</td>\n",
       "      <td>NaN</td>\n",
       "      <td>NaN</td>\n",
       "      <td>NaN</td>\n",
       "      <td>...</td>\n",
       "      <td>NaN</td>\n",
       "      <td>NaN</td>\n",
       "      <td>NaN</td>\n",
       "      <td>NaN</td>\n",
       "      <td>NaN</td>\n",
       "      <td>NaN</td>\n",
       "      <td>NaN</td>\n",
       "      <td>NaN</td>\n",
       "      <td>NaN</td>\n",
       "      <td>NaN</td>\n",
       "    </tr>\n",
       "    <tr>\n",
       "      <th>2</th>\n",
       "      <td>0.000000</td>\n",
       "      <td>resampled</td>\n",
       "      <td>1</td>\n",
       "      <td>NaN</td>\n",
       "      <td>NaN</td>\n",
       "      <td>NaN</td>\n",
       "      <td>NaN</td>\n",
       "      <td>NaN</td>\n",
       "      <td>NaN</td>\n",
       "      <td>NaN</td>\n",
       "      <td>...</td>\n",
       "      <td>NaN</td>\n",
       "      <td>NaN</td>\n",
       "      <td>NaN</td>\n",
       "      <td>NaN</td>\n",
       "      <td>NaN</td>\n",
       "      <td>NaN</td>\n",
       "      <td>NaN</td>\n",
       "      <td>NaN</td>\n",
       "      <td>NaN</td>\n",
       "      <td>NaN</td>\n",
       "    </tr>\n",
       "    <tr>\n",
       "      <th>3</th>\n",
       "      <td>0.000000</td>\n",
       "      <td>resampled</td>\n",
       "      <td>1</td>\n",
       "      <td>NaN</td>\n",
       "      <td>NaN</td>\n",
       "      <td>NaN</td>\n",
       "      <td>NaN</td>\n",
       "      <td>NaN</td>\n",
       "      <td>NaN</td>\n",
       "      <td>NaN</td>\n",
       "      <td>...</td>\n",
       "      <td>NaN</td>\n",
       "      <td>NaN</td>\n",
       "      <td>NaN</td>\n",
       "      <td>NaN</td>\n",
       "      <td>NaN</td>\n",
       "      <td>NaN</td>\n",
       "      <td>NaN</td>\n",
       "      <td>NaN</td>\n",
       "      <td>NaN</td>\n",
       "      <td>NaN</td>\n",
       "    </tr>\n",
       "    <tr>\n",
       "      <th>4</th>\n",
       "      <td>0.000000</td>\n",
       "      <td>resampled</td>\n",
       "      <td>1</td>\n",
       "      <td>NaN</td>\n",
       "      <td>NaN</td>\n",
       "      <td>NaN</td>\n",
       "      <td>NaN</td>\n",
       "      <td>NaN</td>\n",
       "      <td>NaN</td>\n",
       "      <td>NaN</td>\n",
       "      <td>...</td>\n",
       "      <td>NaN</td>\n",
       "      <td>NaN</td>\n",
       "      <td>NaN</td>\n",
       "      <td>NaN</td>\n",
       "      <td>NaN</td>\n",
       "      <td>NaN</td>\n",
       "      <td>NaN</td>\n",
       "      <td>NaN</td>\n",
       "      <td>NaN</td>\n",
       "      <td>NaN</td>\n",
       "    </tr>\n",
       "    <tr>\n",
       "      <th>...</th>\n",
       "      <td>...</td>\n",
       "      <td>...</td>\n",
       "      <td>...</td>\n",
       "      <td>...</td>\n",
       "      <td>...</td>\n",
       "      <td>...</td>\n",
       "      <td>...</td>\n",
       "      <td>...</td>\n",
       "      <td>...</td>\n",
       "      <td>...</td>\n",
       "      <td>...</td>\n",
       "      <td>...</td>\n",
       "      <td>...</td>\n",
       "      <td>...</td>\n",
       "      <td>...</td>\n",
       "      <td>...</td>\n",
       "      <td>...</td>\n",
       "      <td>...</td>\n",
       "      <td>...</td>\n",
       "      <td>...</td>\n",
       "      <td>...</td>\n",
       "    </tr>\n",
       "    <tr>\n",
       "      <th>95</th>\n",
       "      <td>0.000000</td>\n",
       "      <td>resampled</td>\n",
       "      <td>389</td>\n",
       "      <td>0.0</td>\n",
       "      <td>0.0</td>\n",
       "      <td>0.0</td>\n",
       "      <td>0.000000</td>\n",
       "      <td>0.0</td>\n",
       "      <td>0.0</td>\n",
       "      <td>0.0</td>\n",
       "      <td>...</td>\n",
       "      <td>0.0</td>\n",
       "      <td>0.0</td>\n",
       "      <td>1.000000</td>\n",
       "      <td>0.000000</td>\n",
       "      <td>0.0</td>\n",
       "      <td>0.0</td>\n",
       "      <td>0.0</td>\n",
       "      <td>0.0</td>\n",
       "      <td>0.0</td>\n",
       "      <td>0.0</td>\n",
       "    </tr>\n",
       "    <tr>\n",
       "      <th>96</th>\n",
       "      <td>0.000000</td>\n",
       "      <td>resampled</td>\n",
       "      <td>389</td>\n",
       "      <td>0.0</td>\n",
       "      <td>0.0</td>\n",
       "      <td>0.0</td>\n",
       "      <td>0.000000</td>\n",
       "      <td>0.0</td>\n",
       "      <td>0.0</td>\n",
       "      <td>0.0</td>\n",
       "      <td>...</td>\n",
       "      <td>0.0</td>\n",
       "      <td>0.0</td>\n",
       "      <td>0.000000</td>\n",
       "      <td>0.000000</td>\n",
       "      <td>0.0</td>\n",
       "      <td>0.0</td>\n",
       "      <td>0.0</td>\n",
       "      <td>0.0</td>\n",
       "      <td>0.0</td>\n",
       "      <td>0.0</td>\n",
       "    </tr>\n",
       "    <tr>\n",
       "      <th>97</th>\n",
       "      <td>0.000000</td>\n",
       "      <td>resampled</td>\n",
       "      <td>389</td>\n",
       "      <td>0.0</td>\n",
       "      <td>0.0</td>\n",
       "      <td>0.0</td>\n",
       "      <td>0.894737</td>\n",
       "      <td>0.0</td>\n",
       "      <td>0.0</td>\n",
       "      <td>0.0</td>\n",
       "      <td>...</td>\n",
       "      <td>0.0</td>\n",
       "      <td>0.0</td>\n",
       "      <td>0.000000</td>\n",
       "      <td>0.000000</td>\n",
       "      <td>0.0</td>\n",
       "      <td>0.0</td>\n",
       "      <td>0.0</td>\n",
       "      <td>0.0</td>\n",
       "      <td>0.0</td>\n",
       "      <td>0.0</td>\n",
       "    </tr>\n",
       "    <tr>\n",
       "      <th>98</th>\n",
       "      <td>0.571429</td>\n",
       "      <td>resampled</td>\n",
       "      <td>389</td>\n",
       "      <td>0.0</td>\n",
       "      <td>0.0</td>\n",
       "      <td>0.0</td>\n",
       "      <td>0.000000</td>\n",
       "      <td>0.0</td>\n",
       "      <td>0.0</td>\n",
       "      <td>0.0</td>\n",
       "      <td>...</td>\n",
       "      <td>0.0</td>\n",
       "      <td>0.0</td>\n",
       "      <td>0.000000</td>\n",
       "      <td>0.863636</td>\n",
       "      <td>0.0</td>\n",
       "      <td>0.0</td>\n",
       "      <td>0.0</td>\n",
       "      <td>0.0</td>\n",
       "      <td>0.0</td>\n",
       "      <td>0.0</td>\n",
       "    </tr>\n",
       "    <tr>\n",
       "      <th>99</th>\n",
       "      <td>0.000000</td>\n",
       "      <td>resampled</td>\n",
       "      <td>389</td>\n",
       "      <td>0.0</td>\n",
       "      <td>0.0</td>\n",
       "      <td>0.0</td>\n",
       "      <td>0.000000</td>\n",
       "      <td>0.0</td>\n",
       "      <td>0.0</td>\n",
       "      <td>0.0</td>\n",
       "      <td>...</td>\n",
       "      <td>0.0</td>\n",
       "      <td>0.0</td>\n",
       "      <td>0.142857</td>\n",
       "      <td>0.000000</td>\n",
       "      <td>0.0</td>\n",
       "      <td>0.0</td>\n",
       "      <td>0.0</td>\n",
       "      <td>0.0</td>\n",
       "      <td>0.0</td>\n",
       "      <td>0.0</td>\n",
       "    </tr>\n",
       "  </tbody>\n",
       "</table>\n",
       "<p>38900 rows × 391 columns</p>\n",
       "</div>"
      ],
      "text/plain": [
       "           0          y questions    1    2    3         4    5    6    7   \n",
       "0   0.000000  resampled         1  NaN  NaN  NaN       NaN  NaN  NaN  NaN  \\\n",
       "1   0.000000  resampled         1  NaN  NaN  NaN       NaN  NaN  NaN  NaN   \n",
       "2   0.000000  resampled         1  NaN  NaN  NaN       NaN  NaN  NaN  NaN   \n",
       "3   0.000000  resampled         1  NaN  NaN  NaN       NaN  NaN  NaN  NaN   \n",
       "4   0.000000  resampled         1  NaN  NaN  NaN       NaN  NaN  NaN  NaN   \n",
       "..       ...        ...       ...  ...  ...  ...       ...  ...  ...  ...   \n",
       "95  0.000000  resampled       389  0.0  0.0  0.0  0.000000  0.0  0.0  0.0   \n",
       "96  0.000000  resampled       389  0.0  0.0  0.0  0.000000  0.0  0.0  0.0   \n",
       "97  0.000000  resampled       389  0.0  0.0  0.0  0.894737  0.0  0.0  0.0   \n",
       "98  0.571429  resampled       389  0.0  0.0  0.0  0.000000  0.0  0.0  0.0   \n",
       "99  0.000000  resampled       389  0.0  0.0  0.0  0.000000  0.0  0.0  0.0   \n",
       "\n",
       "    ...  379  380       381       382  383  384  385  386  387  388  \n",
       "0   ...  NaN  NaN       NaN       NaN  NaN  NaN  NaN  NaN  NaN  NaN  \n",
       "1   ...  NaN  NaN       NaN       NaN  NaN  NaN  NaN  NaN  NaN  NaN  \n",
       "2   ...  NaN  NaN       NaN       NaN  NaN  NaN  NaN  NaN  NaN  NaN  \n",
       "3   ...  NaN  NaN       NaN       NaN  NaN  NaN  NaN  NaN  NaN  NaN  \n",
       "4   ...  NaN  NaN       NaN       NaN  NaN  NaN  NaN  NaN  NaN  NaN  \n",
       "..  ...  ...  ...       ...       ...  ...  ...  ...  ...  ...  ...  \n",
       "95  ...  0.0  0.0  1.000000  0.000000  0.0  0.0  0.0  0.0  0.0  0.0  \n",
       "96  ...  0.0  0.0  0.000000  0.000000  0.0  0.0  0.0  0.0  0.0  0.0  \n",
       "97  ...  0.0  0.0  0.000000  0.000000  0.0  0.0  0.0  0.0  0.0  0.0  \n",
       "98  ...  0.0  0.0  0.000000  0.863636  0.0  0.0  0.0  0.0  0.0  0.0  \n",
       "99  ...  0.0  0.0  0.142857  0.000000  0.0  0.0  0.0  0.0  0.0  0.0  \n",
       "\n",
       "[38900 rows x 391 columns]"
      ]
     },
     "execution_count": 28,
     "metadata": {},
     "output_type": "execute_result"
    }
   ],
   "source": [
    "num_questions = 390\n",
    "# resampled_diss[dissonances(not samples)][subject][model][questions]\n",
    "rsd = pd.concat([pd.DataFrame(_dissonance_data_at_question(resampled_diss[1], questions_asked)).assign(\n",
    "    y=\"resampled\", questions=str(questions_asked)\n",
    ") for questions_asked in range(1, num_questions)])\n",
    "\n",
    "rsd"
   ]
  },
  {
   "cell_type": "code",
   "execution_count": 13,
   "metadata": {},
   "outputs": [
    {
     "data": {
      "application/vnd.jupyter.widget-view+json": {
       "model_id": "5c9a132c3e50425eb76669addde07c97",
       "version_major": 2,
       "version_minor": 0
      },
      "text/plain": [
       "  0%|          | 0/1 [00:00<?, ?it/s]"
      ]
     },
     "metadata": {},
     "output_type": "display_data"
    },
    {
     "data": {
      "application/vnd.jupyter.widget-view+json": {
       "model_id": "3012359c75f842b48225b429ff9c154d",
       "version_major": 2,
       "version_minor": 0
      },
      "text/plain": [
       "  0%|          | 0/100 [00:00<?, ?it/s]"
      ]
     },
     "metadata": {},
     "output_type": "display_data"
    },
    {
     "data": {
      "application/vnd.jupyter.widget-view+json": {
       "model_id": "4fb7c5182a3445debf12d92ab5c831a9",
       "version_major": 2,
       "version_minor": 0
      },
      "text/plain": [
       "  0%|          | 0/100 [00:00<?, ?it/s]"
      ]
     },
     "metadata": {},
     "output_type": "display_data"
    },
    {
     "data": {
      "application/vnd.jupyter.widget-view+json": {
       "model_id": "6c315642fe614e238f187c6003d1bbc8",
       "version_major": 2,
       "version_minor": 0
      },
      "text/plain": [
       "  0%|          | 0/2 [00:00<?, ?it/s]"
      ]
     },
     "metadata": {},
     "output_type": "display_data"
    },
    {
     "data": {
      "application/vnd.jupyter.widget-view+json": {
       "model_id": "1b2ca4c4431a4cc8815309bceefd4100",
       "version_major": 2,
       "version_minor": 0
      },
      "text/plain": [
       "  0%|          | 0/2 [00:00<?, ?it/s]"
      ]
     },
     "metadata": {},
     "output_type": "display_data"
    },
    {
     "data": {
      "application/vnd.jupyter.widget-view+json": {
       "model_id": "3f9e036836cb4136a840d03fb8b5ad90",
       "version_major": 2,
       "version_minor": 0
      },
      "text/plain": [
       "  0%|          | 0/2 [00:00<?, ?it/s]"
      ]
     },
     "metadata": {},
     "output_type": "display_data"
    },
    {
     "data": {
      "application/vnd.jupyter.widget-view+json": {
       "model_id": "ace2ae4edca547f5a68a1fb85e6f2c0e",
       "version_major": 2,
       "version_minor": 0
      },
      "text/plain": [
       "  0%|          | 0/389 [00:00<?, ?it/s]"
      ]
     },
     "metadata": {},
     "output_type": "display_data"
    },
    {
     "data": {
      "image/png": "[encoded data removed]",
      "text/plain": [
       "<Figure size 640x480 with 1 Axes>"
      ]
     },
     "metadata": {},
     "output_type": "display_data"
    },
    {
     "data": {
      "image/png": "[encoded data removed]",
      "text/plain": [
       "<Figure size 640x480 with 1 Axes>"
      ]
     },
     "metadata": {},
     "output_type": "display_data"
    }
   ],
   "source": [
    "basepath = f\"disson_new/global/core/disson_global_qmra_missing_0/\"\n",
    "qsteps = 71\n",
    "nsamples = 100\n",
    "num_questions=390\n",
    "groups = [\"qsampled\", \"m2\", \"runif\", \"actual\", \"resampled\"]\n",
    "\n",
    "empty_string = np.full(len(model.feature_names), \"\", dtype=\"<U21\")\n",
    "\n",
    "for i in tqdm(range(1)):\n",
    "    diss = pd.read_pickle(\n",
    "        f\"{basepath}random_order_disson_{i}.pkl\"\n",
    "    )\n",
    "\n",
    "    model = load_qnet(\n",
    "        f\"{basepath}random_order_full_model_{i}.joblib.gz\",\n",
    "        gz=True,\n",
    "    )\n",
    "\n",
    "    order = pd.read_csv(f\"{basepath}random_order_{i}.csv\",index_col=0)[\"0\"]\n",
    "    \n",
    "\n",
    "    resampled = np.array([qsample(empty_string, model, qsteps) for _ in tqdm(range(nsamples))])\n",
    "\n",
    "    resampled_df = pd.DataFrame(resampled).replace('',np.nan)\n",
    "    resampled_na = resampled_df.isnull().sum(axis=1)\n",
    "    resampled_nonna = (1 - resampled_na/len(model.feature_names)).mean()\n",
    "\n",
    "\n",
    "    resampled_diss = _all_actual_samples_dissonance(\n",
    "    resampled, [model], _diss_linear, order, 390\n",
    "    )\n",
    "\n",
    "    rsdffg = pd.concat([pd.DataFrame(_dissonance_data_at_question(resampled_diss[1], questions_asked)).assign(\n",
    "    y=\"resampled\", questions=str(questions_asked)\n",
    "    ) for questions_asked in range(1, num_questions)])\n",
    "\n",
    "    rsdffgm = rsdffg.melt(id_vars=[\"y\", \"questions\"]).query(\"~value.isna()\").assign(\n",
    "                    questions=lambda x: x[\"questions\"].astype(int),\n",
    "                    variable=lambda x: x[\"variable\"].astype(int),\n",
    "                )\n",
    "    \n",
    "    rsdd= pd.concat(\n",
    "                [\n",
    "                    rsdffg.drop([\"y\", \"questions\"], axis=\"columns\")\n",
    "                    .mean(axis=1),\n",
    "                    rsdffg[\"y\"],\n",
    "                    rsdffg[\"questions\"],\n",
    "                ],\n",
    "                axis=1,\n",
    "            ).set_axis([\"dissonance\", \"y\", \"questions\"], axis=\"columns\")\n",
    "\n",
    "    _process_csvs(basepath, 390, get_csvs=True,csv_names=[\"dffg_resampled\",\"dffgm_resampled\",\"dd_resampled\"],extradffg=rsdffg,extradffgm=rsdffgm, extradd=rsdd)\n",
    "\n",
    "    \n",
    "\n",
    "    _plot_diss_dist(\n",
    "    dffgm=pd.read_csv(f\"{basepath}dffgm_resampled.csv\"),\n",
    "    dd=pd.read_csv(f\"{basepath}dd_resampled.csv\"),\n",
    "    num_questions=390,\n",
    "    outfile=\"data/dissonance_comparison/diss_comp_global_core_linear_rand_order_with_resampled_melt.csv\",\n",
    "    outfig=basepath,\n",
    "    groups=[\"qsampled\", \"runif\", \"m2\", \"actual\", \"resampled\"]\n",
    "    )"
   ]
  },
  {
   "cell_type": "code",
   "execution_count": null,
   "metadata": {},
   "outputs": [],
   "source": [
    "\n"
   ]
  },
  {
   "cell_type": "code",
   "execution_count": 17,
   "metadata": {},
   "outputs": [],
   "source": [
    "d=pd.read_csv(f\"{basepath}dffgm_resampled.csv\")"
   ]
  },
  {
   "cell_type": "code",
   "execution_count": 20,
   "metadata": {},
   "outputs": [
    {
     "data": {
      "text/html": [
       "<div>\n",
       "<style scoped>\n",
       "    .dataframe tbody tr th:only-of-type {\n",
       "        vertical-align: middle;\n",
       "    }\n",
       "\n",
       "    .dataframe tbody tr th {\n",
       "        vertical-align: top;\n",
       "    }\n",
       "\n",
       "    .dataframe thead th {\n",
       "        text-align: right;\n",
       "    }\n",
       "</style>\n",
       "<table border=\"1\" class=\"dataframe\">\n",
       "  <thead>\n",
       "    <tr style=\"text-align: right;\">\n",
       "      <th></th>\n",
       "      <th>y</th>\n",
       "      <th>questions</th>\n",
       "      <th>variable</th>\n",
       "      <th>value</th>\n",
       "    </tr>\n",
       "  </thead>\n",
       "  <tbody>\n",
       "    <tr>\n",
       "      <th>30342000</th>\n",
       "      <td>resampled</td>\n",
       "      <td>1</td>\n",
       "      <td>0</td>\n",
       "      <td>0.0</td>\n",
       "    </tr>\n",
       "    <tr>\n",
       "      <th>30342001</th>\n",
       "      <td>resampled</td>\n",
       "      <td>1</td>\n",
       "      <td>0</td>\n",
       "      <td>0.0</td>\n",
       "    </tr>\n",
       "    <tr>\n",
       "      <th>30342002</th>\n",
       "      <td>resampled</td>\n",
       "      <td>1</td>\n",
       "      <td>0</td>\n",
       "      <td>0.0</td>\n",
       "    </tr>\n",
       "    <tr>\n",
       "      <th>30342003</th>\n",
       "      <td>resampled</td>\n",
       "      <td>1</td>\n",
       "      <td>0</td>\n",
       "      <td>0.0</td>\n",
       "    </tr>\n",
       "    <tr>\n",
       "      <th>30342004</th>\n",
       "      <td>resampled</td>\n",
       "      <td>1</td>\n",
       "      <td>0</td>\n",
       "      <td>0.0</td>\n",
       "    </tr>\n",
       "    <tr>\n",
       "      <th>...</th>\n",
       "      <td>...</td>\n",
       "      <td>...</td>\n",
       "      <td>...</td>\n",
       "      <td>...</td>\n",
       "    </tr>\n",
       "    <tr>\n",
       "      <th>45512995</th>\n",
       "      <td>resampled</td>\n",
       "      <td>389</td>\n",
       "      <td>388</td>\n",
       "      <td>0.0</td>\n",
       "    </tr>\n",
       "    <tr>\n",
       "      <th>45512996</th>\n",
       "      <td>resampled</td>\n",
       "      <td>389</td>\n",
       "      <td>388</td>\n",
       "      <td>0.0</td>\n",
       "    </tr>\n",
       "    <tr>\n",
       "      <th>45512997</th>\n",
       "      <td>resampled</td>\n",
       "      <td>389</td>\n",
       "      <td>388</td>\n",
       "      <td>0.0</td>\n",
       "    </tr>\n",
       "    <tr>\n",
       "      <th>45512998</th>\n",
       "      <td>resampled</td>\n",
       "      <td>389</td>\n",
       "      <td>388</td>\n",
       "      <td>0.0</td>\n",
       "    </tr>\n",
       "    <tr>\n",
       "      <th>45512999</th>\n",
       "      <td>resampled</td>\n",
       "      <td>389</td>\n",
       "      <td>388</td>\n",
       "      <td>0.0</td>\n",
       "    </tr>\n",
       "  </tbody>\n",
       "</table>\n",
       "<p>15171000 rows × 4 columns</p>\n",
       "</div>"
      ],
      "text/plain": [
       "                  y  questions  variable  value\n",
       "30342000  resampled          1         0    0.0\n",
       "30342001  resampled          1         0    0.0\n",
       "30342002  resampled          1         0    0.0\n",
       "30342003  resampled          1         0    0.0\n",
       "30342004  resampled          1         0    0.0\n",
       "...             ...        ...       ...    ...\n",
       "45512995  resampled        389       388    0.0\n",
       "45512996  resampled        389       388    0.0\n",
       "45512997  resampled        389       388    0.0\n",
       "45512998  resampled        389       388    0.0\n",
       "45512999  resampled        389       388    0.0\n",
       "\n",
       "[15171000 rows x 4 columns]"
      ]
     },
     "execution_count": 20,
     "metadata": {},
     "output_type": "execute_result"
    }
   ],
   "source": [
    "d.query(\"y=='resampled'\")"
   ]
  },
  {
   "cell_type": "code",
   "execution_count": 25,
   "metadata": {},
   "outputs": [
    {
     "data": {
      "application/vnd.jupyter.widget-view+json": {
       "model_id": "2dc6ce9551c74530b8a84ad2e1168811",
       "version_major": 2,
       "version_minor": 0
      },
      "text/plain": [
       "  0%|          | 0/389 [00:00<?, ?it/s]"
      ]
     },
     "metadata": {},
     "output_type": "display_data"
    },
    {
     "data": {
      "image/png": "[encoded data removed]",
      "text/plain": [
       "<Figure size 640x480 with 1 Axes>"
      ]
     },
     "metadata": {},
     "output_type": "display_data"
    },
    {
     "data": {
      "image/png": "[encoded data removed]",
      "text/plain": [
       "<Figure size 640x480 with 1 Axes>"
      ]
     },
     "metadata": {},
     "output_type": "display_data"
    }
   ],
   "source": [
    "_plot_diss_dist(\n",
    "    dffgm=pd.read_csv(f\"{basepath}dffgm.csv\"),\n",
    "    dd=pd.read_csv(f\"{basepath}dd.csv\"),\n",
    "    num_questions=390,\n",
    "    outfile=\"data/dissonance_comparison/diss_comp_global_core_linear_rand_order_with_melt.csv\",\n",
    "    outfig=basepath,\n",
    "    groups=[\"qsampled\", \"runif\", \"m2\", \"actual\"]\n",
    ")"
   ]
  },
  {
   "cell_type": "markdown",
   "metadata": {},
   "source": [
    "# Core"
   ]
  },
  {
   "cell_type": "code",
   "execution_count": 26,
   "metadata": {},
   "outputs": [],
   "source": [
    "dffgm=pd.read_csv(f\"{basepath}dffgm.csv\")\n",
    "dd=pd.read_csv(f\"{basepath}dd.csv\")"
   ]
  },
  {
   "cell_type": "code",
   "execution_count": 27,
   "metadata": {},
   "outputs": [
    {
     "data": {
      "application/vnd.jupyter.widget-view+json": {
       "model_id": "8b0e3d43b433400b98e3c2ad8330c670",
       "version_major": 2,
       "version_minor": 0
      },
      "text/plain": [
       "  0%|          | 0/100 [00:00<?, ?it/s]"
      ]
     },
     "metadata": {},
     "output_type": "display_data"
    },
    {
     "data": {
      "application/vnd.jupyter.widget-view+json": {
       "model_id": "65014703d0f64a5ca50e283464bdfd5e",
       "version_major": 2,
       "version_minor": 0
      },
      "text/plain": [
       "  0%|          | 0/100 [00:00<?, ?it/s]"
      ]
     },
     "metadata": {},
     "output_type": "display_data"
    }
   ],
   "source": [
    "empty_string = np.full(len(model.feature_names), \"\", dtype=\"<U21\")\n",
    "\n",
    "model = load_qnet(\n",
    "        f\"{basepath}random_order_full_model_{i}.joblib.gz\",\n",
    "        gz=True,\n",
    "    )\n",
    "\n",
    "order = pd.read_csv(f\"{basepath}random_order_{i}.csv\",index_col=0)[\"0\"]\n",
    "\n",
    "\n",
    "resampled = np.array([qsample(empty_string, model, qsteps) for _ in tqdm(range(nsamples))])\n",
    "\n",
    "resampled_df = pd.DataFrame(resampled).replace('',np.nan)\n",
    "resampled_na = resampled_df.isnull().sum(axis=1)\n",
    "resampled_nonna = (1 - resampled_na/len(model.feature_names)).mean()\n",
    "\n",
    "\n",
    "resampled_diss = _all_actual_samples_dissonance(\n",
    "resampled, [model], _diss_linear, order, 390\n",
    ")\n",
    "\n",
    "rsdffg = pd.concat([pd.DataFrame(_dissonance_data_at_question(resampled_diss[1], questions_asked)).assign(\n",
    "y=\"resampled\", questions=str(questions_asked)\n",
    ") for questions_asked in range(1, num_questions)])\n",
    "\n",
    "rsdffgm = rsdffg.melt(id_vars=[\"y\", \"questions\"]).query(\"~value.isna()\").assign(\n",
    "                questions=lambda x: x[\"questions\"].astype(int),\n",
    "                variable=lambda x: x[\"variable\"].astype(int),\n",
    "            )\n",
    "\n",
    "rsdd= pd.concat(\n",
    "            [\n",
    "                rsdffg.drop([\"y\", \"questions\"], axis=\"columns\")\n",
    "                .mean(axis=1),\n",
    "                rsdffg[\"y\"],\n",
    "                rsdffg[\"questions\"],\n",
    "            ],\n",
    "            axis=1,\n",
    "        ).set_axis([\"dissonance\", \"y\", \"questions\"], axis=\"columns\")"
   ]
  },
  {
   "cell_type": "code",
   "execution_count": 32,
   "metadata": {},
   "outputs": [
    {
     "data": {
      "text/html": [
       "<div>\n",
       "<style scoped>\n",
       "    .dataframe tbody tr th:only-of-type {\n",
       "        vertical-align: middle;\n",
       "    }\n",
       "\n",
       "    .dataframe tbody tr th {\n",
       "        vertical-align: top;\n",
       "    }\n",
       "\n",
       "    .dataframe thead th {\n",
       "        text-align: right;\n",
       "    }\n",
       "</style>\n",
       "<table border=\"1\" class=\"dataframe\">\n",
       "  <thead>\n",
       "    <tr style=\"text-align: right;\">\n",
       "      <th></th>\n",
       "      <th>y</th>\n",
       "      <th>questions</th>\n",
       "      <th>variable</th>\n",
       "      <th>value</th>\n",
       "    </tr>\n",
       "  </thead>\n",
       "  <tbody>\n",
       "    <tr>\n",
       "      <th>0</th>\n",
       "      <td>qsampled</td>\n",
       "      <td>1</td>\n",
       "      <td>0</td>\n",
       "      <td>0.0</td>\n",
       "    </tr>\n",
       "    <tr>\n",
       "      <th>1</th>\n",
       "      <td>qsampled</td>\n",
       "      <td>1</td>\n",
       "      <td>0</td>\n",
       "      <td>0.0</td>\n",
       "    </tr>\n",
       "    <tr>\n",
       "      <th>2</th>\n",
       "      <td>qsampled</td>\n",
       "      <td>1</td>\n",
       "      <td>0</td>\n",
       "      <td>0.0</td>\n",
       "    </tr>\n",
       "    <tr>\n",
       "      <th>3</th>\n",
       "      <td>qsampled</td>\n",
       "      <td>1</td>\n",
       "      <td>0</td>\n",
       "      <td>0.0</td>\n",
       "    </tr>\n",
       "    <tr>\n",
       "      <th>4</th>\n",
       "      <td>qsampled</td>\n",
       "      <td>1</td>\n",
       "      <td>0</td>\n",
       "      <td>0.0</td>\n",
       "    </tr>\n",
       "    <tr>\n",
       "      <th>...</th>\n",
       "      <td>...</td>\n",
       "      <td>...</td>\n",
       "      <td>...</td>\n",
       "      <td>...</td>\n",
       "    </tr>\n",
       "    <tr>\n",
       "      <th>15132095</th>\n",
       "      <td>resampled</td>\n",
       "      <td>389</td>\n",
       "      <td>388</td>\n",
       "      <td>0.0</td>\n",
       "    </tr>\n",
       "    <tr>\n",
       "      <th>15132096</th>\n",
       "      <td>resampled</td>\n",
       "      <td>389</td>\n",
       "      <td>388</td>\n",
       "      <td>0.0</td>\n",
       "    </tr>\n",
       "    <tr>\n",
       "      <th>15132097</th>\n",
       "      <td>resampled</td>\n",
       "      <td>389</td>\n",
       "      <td>388</td>\n",
       "      <td>0.0</td>\n",
       "    </tr>\n",
       "    <tr>\n",
       "      <th>15132098</th>\n",
       "      <td>resampled</td>\n",
       "      <td>389</td>\n",
       "      <td>388</td>\n",
       "      <td>0.0</td>\n",
       "    </tr>\n",
       "    <tr>\n",
       "      <th>15132099</th>\n",
       "      <td>resampled</td>\n",
       "      <td>389</td>\n",
       "      <td>388</td>\n",
       "      <td>0.0</td>\n",
       "    </tr>\n",
       "  </tbody>\n",
       "</table>\n",
       "<p>240612060 rows × 4 columns</p>\n",
       "</div>"
      ],
      "text/plain": [
       "                  y  questions  variable  value\n",
       "0          qsampled          1         0    0.0\n",
       "1          qsampled          1         0    0.0\n",
       "2          qsampled          1         0    0.0\n",
       "3          qsampled          1         0    0.0\n",
       "4          qsampled          1         0    0.0\n",
       "...             ...        ...       ...    ...\n",
       "15132095  resampled        389       388    0.0\n",
       "15132096  resampled        389       388    0.0\n",
       "15132097  resampled        389       388    0.0\n",
       "15132098  resampled        389       388    0.0\n",
       "15132099  resampled        389       388    0.0\n",
       "\n",
       "[240612060 rows x 4 columns]"
      ]
     },
     "execution_count": 32,
     "metadata": {},
     "output_type": "execute_result"
    }
   ],
   "source": [
    "new_dffgm = pd.concat([dffgm, rsdffgm])\n",
    "new_dffgm"
   ]
  },
  {
   "cell_type": "code",
   "execution_count": 36,
   "metadata": {},
   "outputs": [
    {
     "data": {
      "text/html": [
       "<div>\n",
       "<style scoped>\n",
       "    .dataframe tbody tr th:only-of-type {\n",
       "        vertical-align: middle;\n",
       "    }\n",
       "\n",
       "    .dataframe tbody tr th {\n",
       "        vertical-align: top;\n",
       "    }\n",
       "\n",
       "    .dataframe thead th {\n",
       "        text-align: right;\n",
       "    }\n",
       "</style>\n",
       "<table border=\"1\" class=\"dataframe\">\n",
       "  <thead>\n",
       "    <tr style=\"text-align: right;\">\n",
       "      <th></th>\n",
       "      <th>dissonance</th>\n",
       "      <th>y</th>\n",
       "      <th>questions</th>\n",
       "    </tr>\n",
       "  </thead>\n",
       "  <tbody>\n",
       "    <tr>\n",
       "      <th>0</th>\n",
       "      <td>0.000000</td>\n",
       "      <td>qsampled</td>\n",
       "      <td>1</td>\n",
       "    </tr>\n",
       "    <tr>\n",
       "      <th>1</th>\n",
       "      <td>0.000000</td>\n",
       "      <td>qsampled</td>\n",
       "      <td>1</td>\n",
       "    </tr>\n",
       "    <tr>\n",
       "      <th>2</th>\n",
       "      <td>0.000000</td>\n",
       "      <td>qsampled</td>\n",
       "      <td>1</td>\n",
       "    </tr>\n",
       "    <tr>\n",
       "      <th>3</th>\n",
       "      <td>0.000000</td>\n",
       "      <td>qsampled</td>\n",
       "      <td>1</td>\n",
       "    </tr>\n",
       "    <tr>\n",
       "      <th>4</th>\n",
       "      <td>0.000000</td>\n",
       "      <td>qsampled</td>\n",
       "      <td>1</td>\n",
       "    </tr>\n",
       "    <tr>\n",
       "      <th>...</th>\n",
       "      <td>...</td>\n",
       "      <td>...</td>\n",
       "      <td>...</td>\n",
       "    </tr>\n",
       "    <tr>\n",
       "      <th>95</th>\n",
       "      <td>0.028736</td>\n",
       "      <td>resampled</td>\n",
       "      <td>389</td>\n",
       "    </tr>\n",
       "    <tr>\n",
       "      <th>96</th>\n",
       "      <td>0.021181</td>\n",
       "      <td>resampled</td>\n",
       "      <td>389</td>\n",
       "    </tr>\n",
       "    <tr>\n",
       "      <th>97</th>\n",
       "      <td>0.031506</td>\n",
       "      <td>resampled</td>\n",
       "      <td>389</td>\n",
       "    </tr>\n",
       "    <tr>\n",
       "      <th>98</th>\n",
       "      <td>0.039150</td>\n",
       "      <td>resampled</td>\n",
       "      <td>389</td>\n",
       "    </tr>\n",
       "    <tr>\n",
       "      <th>99</th>\n",
       "      <td>0.034160</td>\n",
       "      <td>resampled</td>\n",
       "      <td>389</td>\n",
       "    </tr>\n",
       "  </tbody>\n",
       "</table>\n",
       "<p>1233908 rows × 3 columns</p>\n",
       "</div>"
      ],
      "text/plain": [
       "    dissonance          y questions\n",
       "0     0.000000   qsampled         1\n",
       "1     0.000000   qsampled         1\n",
       "2     0.000000   qsampled         1\n",
       "3     0.000000   qsampled         1\n",
       "4     0.000000   qsampled         1\n",
       "..         ...        ...       ...\n",
       "95    0.028736  resampled       389\n",
       "96    0.021181  resampled       389\n",
       "97    0.031506  resampled       389\n",
       "98    0.039150  resampled       389\n",
       "99    0.034160  resampled       389\n",
       "\n",
       "[1233908 rows x 3 columns]"
      ]
     },
     "execution_count": 36,
     "metadata": {},
     "output_type": "execute_result"
    }
   ],
   "source": [
    "new_dd = pd.concat([dd, rsdd])\n",
    "new_dd"
   ]
  },
  {
   "cell_type": "code",
   "execution_count": 38,
   "metadata": {},
   "outputs": [
    {
     "data": {
      "application/vnd.jupyter.widget-view+json": {
       "model_id": "a4da2f407e1f4a62889c30c696b1d208",
       "version_major": 2,
       "version_minor": 0
      },
      "text/plain": [
       "  0%|          | 0/389 [00:00<?, ?it/s]"
      ]
     },
     "metadata": {},
     "output_type": "display_data"
    },
    {
     "data": {
      "image/png": "[encoded data removed]",
      "text/plain": [
       "<Figure size 640x480 with 1 Axes>"
      ]
     },
     "metadata": {},
     "output_type": "display_data"
    },
    {
     "data": {
      "image/png": "[encoded data removed]",
      "text/plain": [
       "<Figure size 640x480 with 1 Axes>"
      ]
     },
     "metadata": {},
     "output_type": "display_data"
    }
   ],
   "source": [
    "_plot_diss_dist(\n",
    "    dffgm=new_dffgm,\n",
    "    dd=new_dd,\n",
    "    num_questions=390,\n",
    "    outfile=\"data/dissonance_comparison/diss_comp_global_core_linear_rand_order_with_resampled_melt.csv\",\n",
    "    outfig=basepath,\n",
    "    groups=[\"qsampled\", \"runif\", \"m2\", \"actual\", \"resampled\"]\n",
    ")"
   ]
  },
  {
   "cell_type": "markdown",
   "metadata": {},
   "source": [
    "# Dx"
   ]
  },
  {
   "cell_type": "code",
   "execution_count": 41,
   "metadata": {},
   "outputs": [],
   "source": [
    "order = pd.read_csv(\"disson_new/global/dx/disson_global_qmra_missing_0/random_order_0.csv\",index_col=0)[\"0\"]"
   ]
  },
  {
   "cell_type": "code",
   "execution_count": 42,
   "metadata": {},
   "outputs": [
    {
     "data": {
      "application/vnd.jupyter.widget-view+json": {
       "model_id": "3e117848447f4afcb8ade5d33ae49355",
       "version_major": 2,
       "version_minor": 0
      },
      "text/plain": [
       "  0%|          | 0/100 [00:00<?, ?it/s]"
      ]
     },
     "metadata": {},
     "output_type": "display_data"
    },
    {
     "data": {
      "text/plain": [
       "0.16733333333333322"
      ]
     },
     "execution_count": 42,
     "metadata": {},
     "output_type": "execute_result"
    }
   ],
   "source": [
    "qsteps = 71\n",
    "nsamples = 100\n",
    "\n",
    "resampled = np.array([qsample(empty_string, model, qsteps) for _ in tqdm(range(nsamples))])\n",
    "\n",
    "resampled_df = pd.DataFrame(resampled).replace('',np.nan)\n",
    "resampled_na = resampled_df.isnull().sum(axis=1)\n",
    "resampled_nonna = (1 - resampled_na/len(model.feature_names)).mean()\n",
    "resampled_nonna\n"
   ]
  },
  {
   "cell_type": "code",
   "execution_count": 43,
   "metadata": {},
   "outputs": [],
   "source": [
    "basepath = f\"disson_new/global/dx/disson_global_qmra_missing_0/\"\n",
    "qsteps = 71\n",
    "nsamples = 100\n",
    "num_questions=345,\n",
    "groups = [\"qsampled\", \"m2\", \"runif\", \"actual\", \"resampled\"]\n",
    "\n",
    "empty_string = np.full(len(model.feature_names), \"\", dtype=\"<U21\")"
   ]
  },
  {
   "cell_type": "code",
   "execution_count": 44,
   "metadata": {},
   "outputs": [],
   "source": [
    "dffgm=pd.read_csv(f\"{basepath}dffgm.csv\")\n",
    "dd=pd.read_csv(f\"{basepath}dd.csv\")"
   ]
  },
  {
   "cell_type": "code",
   "execution_count": 48,
   "metadata": {},
   "outputs": [
    {
     "data": {
      "application/vnd.jupyter.widget-view+json": {
       "model_id": "71a467c1d5ad4f738d5173b2fc67992b",
       "version_major": 2,
       "version_minor": 0
      },
      "text/plain": [
       "  0%|          | 0/100 [00:00<?, ?it/s]"
      ]
     },
     "metadata": {},
     "output_type": "display_data"
    },
    {
     "data": {
      "application/vnd.jupyter.widget-view+json": {
       "model_id": "5588224506714700847891cb5bef1a1b",
       "version_major": 2,
       "version_minor": 0
      },
      "text/plain": [
       "  0%|          | 0/100 [00:00<?, ?it/s]"
      ]
     },
     "metadata": {},
     "output_type": "display_data"
    }
   ],
   "source": [
    "empty_string = np.full(len(model.feature_names), \"\", dtype=\"<U21\")\n",
    "\n",
    "model = load_qnet(\n",
    "        f\"{basepath}random_order_full_model_{i}.joblib.gz\",\n",
    "        gz=True,\n",
    "    )\n",
    "\n",
    "order = pd.read_csv(f\"{basepath}random_order_{i}.csv\",index_col=0)[\"0\"]\n",
    "\n",
    "\n",
    "resampled = np.array([qsample(empty_string, model, qsteps) for _ in tqdm(range(nsamples))])\n",
    "\n",
    "resampled_df = pd.DataFrame(resampled).replace('',np.nan)\n",
    "resampled_na = resampled_df.isnull().sum(axis=1)\n",
    "resampled_nonna = (1 - resampled_na/len(model.feature_names)).mean()\n",
    "\n",
    "\n",
    "resampled_diss = _all_actual_samples_dissonance(\n",
    "resampled, [model], _diss_linear, order, 346\n",
    ")\n",
    "\n",
    "rsdffg = pd.concat([pd.DataFrame(_dissonance_data_at_question(resampled_diss[1], questions_asked)).assign(\n",
    "y=\"resampled\", questions=str(questions_asked)\n",
    ") for questions_asked in range(1, num_questions)])\n",
    "\n",
    "rsdffgm = rsdffg.melt(id_vars=[\"y\", \"questions\"]).query(\"~value.isna()\").assign(\n",
    "                questions=lambda x: x[\"questions\"].astype(int),\n",
    "                variable=lambda x: x[\"variable\"].astype(int),\n",
    "            )\n",
    "\n",
    "rsdd= pd.concat(\n",
    "            [\n",
    "                rsdffg.drop([\"y\", \"questions\"], axis=\"columns\")\n",
    "                .mean(axis=1),\n",
    "                rsdffg[\"y\"],\n",
    "                rsdffg[\"questions\"],\n",
    "            ],\n",
    "            axis=1,\n",
    "        ).set_axis([\"dissonance\", \"y\", \"questions\"], axis=\"columns\")"
   ]
  },
  {
   "cell_type": "code",
   "execution_count": null,
   "metadata": {},
   "outputs": [],
   "source": [
    "new_dffgm = pd.concat([dffgm, rsdffgm])\n",
    "new_dd = pd.concat([dd, rsdd])"
   ]
  },
  {
   "cell_type": "code",
   "execution_count": null,
   "metadata": {},
   "outputs": [
    {
     "data": {
      "text/html": [
       "<div>\n",
       "<style scoped>\n",
       "    .dataframe tbody tr th:only-of-type {\n",
       "        vertical-align: middle;\n",
       "    }\n",
       "\n",
       "    .dataframe tbody tr th {\n",
       "        vertical-align: top;\n",
       "    }\n",
       "\n",
       "    .dataframe thead th {\n",
       "        text-align: right;\n",
       "    }\n",
       "</style>\n",
       "<table border=\"1\" class=\"dataframe\">\n",
       "  <thead>\n",
       "    <tr style=\"text-align: right;\">\n",
       "      <th></th>\n",
       "      <th>dissonance</th>\n",
       "      <th>y</th>\n",
       "      <th>questions</th>\n",
       "    </tr>\n",
       "  </thead>\n",
       "  <tbody>\n",
       "    <tr>\n",
       "      <th>0</th>\n",
       "      <td>0.000000</td>\n",
       "      <td>qsampled</td>\n",
       "      <td>1</td>\n",
       "    </tr>\n",
       "    <tr>\n",
       "      <th>1</th>\n",
       "      <td>0.000000</td>\n",
       "      <td>qsampled</td>\n",
       "      <td>1</td>\n",
       "    </tr>\n",
       "    <tr>\n",
       "      <th>2</th>\n",
       "      <td>0.000000</td>\n",
       "      <td>qsampled</td>\n",
       "      <td>1</td>\n",
       "    </tr>\n",
       "    <tr>\n",
       "      <th>3</th>\n",
       "      <td>0.000000</td>\n",
       "      <td>qsampled</td>\n",
       "      <td>1</td>\n",
       "    </tr>\n",
       "    <tr>\n",
       "      <th>4</th>\n",
       "      <td>0.000000</td>\n",
       "      <td>qsampled</td>\n",
       "      <td>1</td>\n",
       "    </tr>\n",
       "    <tr>\n",
       "      <th>...</th>\n",
       "      <td>...</td>\n",
       "      <td>...</td>\n",
       "      <td>...</td>\n",
       "    </tr>\n",
       "    <tr>\n",
       "      <th>95</th>\n",
       "      <td>0.028736</td>\n",
       "      <td>resampled</td>\n",
       "      <td>389</td>\n",
       "    </tr>\n",
       "    <tr>\n",
       "      <th>96</th>\n",
       "      <td>0.021181</td>\n",
       "      <td>resampled</td>\n",
       "      <td>389</td>\n",
       "    </tr>\n",
       "    <tr>\n",
       "      <th>97</th>\n",
       "      <td>0.031506</td>\n",
       "      <td>resampled</td>\n",
       "      <td>389</td>\n",
       "    </tr>\n",
       "    <tr>\n",
       "      <th>98</th>\n",
       "      <td>0.039150</td>\n",
       "      <td>resampled</td>\n",
       "      <td>389</td>\n",
       "    </tr>\n",
       "    <tr>\n",
       "      <th>99</th>\n",
       "      <td>0.034160</td>\n",
       "      <td>resampled</td>\n",
       "      <td>389</td>\n",
       "    </tr>\n",
       "  </tbody>\n",
       "</table>\n",
       "<p>1233908 rows × 3 columns</p>\n",
       "</div>"
      ],
      "text/plain": [
       "    dissonance          y questions\n",
       "0     0.000000   qsampled         1\n",
       "1     0.000000   qsampled         1\n",
       "2     0.000000   qsampled         1\n",
       "3     0.000000   qsampled         1\n",
       "4     0.000000   qsampled         1\n",
       "..         ...        ...       ...\n",
       "95    0.028736  resampled       389\n",
       "96    0.021181  resampled       389\n",
       "97    0.031506  resampled       389\n",
       "98    0.039150  resampled       389\n",
       "99    0.034160  resampled       389\n",
       "\n",
       "[1233908 rows x 3 columns]"
      ]
     },
     "execution_count": 35,
     "metadata": {},
     "output_type": "execute_result"
    }
   ],
   "source": [
    "new_dd"
   ]
  },
  {
   "cell_type": "code",
   "execution_count": null,
   "metadata": {},
   "outputs": [
    {
     "data": {
      "application/vnd.jupyter.widget-view+json": {
       "model_id": "4239ffc9550347f692c18e050c723045",
       "version_major": 2,
       "version_minor": 0
      },
      "text/plain": [
       "  0%|          | 0/389 [00:00<?, ?it/s]"
      ]
     },
     "metadata": {},
     "output_type": "display_data"
    },
    {
     "data": {
      "image/png": "[encoded data removed]",
      "text/plain": [
       "<Figure size 640x480 with 1 Axes>"
      ]
     },
     "metadata": {},
     "output_type": "display_data"
    },
    {
     "data": {
      "image/png": "[encoded data removed]",
      "text/plain": [
       "<Figure size 640x480 with 1 Axes>"
      ]
     },
     "metadata": {},
     "output_type": "display_data"
    }
   ],
   "source": [
    "_plot_diss_dist(\n",
    "    dffgm=new_dffgm,\n",
    "    dd=new_dd,\n",
    "    num_questions=345,\n",
    "    outfile=\"data/dissonance_comparison/diss_comp_global_dx_linear_rand_order_with_resampled_melt.csv\",\n",
    "    outfig=basepath,\n",
    "    groups=[\"qsampled\", \"runif\", \"m2\", \"actual\", \"resampled\"]\n",
    ")"
   ]
  },
  {
   "cell_type": "code",
   "execution_count": null,
   "metadata": {},
   "outputs": [],
   "source": []
  },
  {
   "cell_type": "code",
   "execution_count": null,
   "metadata": {},
   "outputs": [],
   "source": []
  },
  {
   "cell_type": "code",
   "execution_count": null,
   "metadata": {},
   "outputs": [],
   "source": []
  },
  {
   "cell_type": "markdown",
   "metadata": {},
   "source": [
    "# other version"
   ]
  },
  {
   "cell_type": "code",
   "execution_count": null,
   "metadata": {},
   "outputs": [],
   "source": [
    "resampled_diss = _all_actual_samples_dissonance(\n",
    "    resampled, [model], _diss_linear, range(390), 390\n",
    ")"
   ]
  },
  {
   "cell_type": "code",
   "execution_count": 83,
   "metadata": {},
   "outputs": [],
   "source": [
    "# resampled_diss[dissonances(not samples)][subject][model][questions]\n",
    "resampled = pd.DataFrame(_dissonance_data_at_question(resampled_diss[1], 10)).assign(\n",
    "    y=\"resampled\"\n",
    ")"
   ]
  },
  {
   "cell_type": "code",
   "execution_count": null,
   "metadata": {},
   "outputs": [],
   "source": [
    "pd.concat()"
   ]
  },
  {
   "cell_type": "code",
   "execution_count": 44,
   "metadata": {},
   "outputs": [],
   "source": [
    "actual_diss = pd.read_csv(\n",
    "    \"disson_global/core/disson_global_core_with_actual_ff/random_order_dissonance_matrix_1.csv\",\n",
    "    index_col=0,\n",
    ")"
   ]
  },
  {
   "cell_type": "code",
   "execution_count": 47,
   "metadata": {},
   "outputs": [],
   "source": [
    "resampled_final_diss = pd.DataFrame(\n",
    "    np.array([resampled_diss[1][subj][0][-1] for subj in range(100)])\n",
    ").set_axis(actual_diss.columns, axis=\"columns\")"
   ]
  },
  {
   "cell_type": "code",
   "execution_count": 55,
   "metadata": {},
   "outputs": [],
   "source": []
  },
  {
   "cell_type": "code",
   "execution_count": 91,
   "metadata": {},
   "outputs": [
    {
     "data": {
      "text/html": [
       "<div>\n",
       "<style scoped>\n",
       "    .dataframe tbody tr th:only-of-type {\n",
       "        vertical-align: middle;\n",
       "    }\n",
       "\n",
       "    .dataframe tbody tr th {\n",
       "        vertical-align: top;\n",
       "    }\n",
       "\n",
       "    .dataframe thead th {\n",
       "        text-align: right;\n",
       "    }\n",
       "</style>\n",
       "<table border=\"1\" class=\"dataframe\">\n",
       "  <thead>\n",
       "    <tr style=\"text-align: right;\">\n",
       "      <th></th>\n",
       "      <th>0</th>\n",
       "      <th>1</th>\n",
       "      <th>2</th>\n",
       "      <th>3</th>\n",
       "      <th>4</th>\n",
       "      <th>5</th>\n",
       "      <th>6</th>\n",
       "      <th>7</th>\n",
       "      <th>8</th>\n",
       "      <th>9</th>\n",
       "      <th>y</th>\n",
       "    </tr>\n",
       "  </thead>\n",
       "  <tbody>\n",
       "    <tr>\n",
       "      <th>0</th>\n",
       "      <td>0.000000</td>\n",
       "      <td>0.000000</td>\n",
       "      <td>0.554217</td>\n",
       "      <td>0.635294</td>\n",
       "      <td>0.0</td>\n",
       "      <td>0.0</td>\n",
       "      <td>0.095745</td>\n",
       "      <td>0.000000</td>\n",
       "      <td>0.333333</td>\n",
       "      <td>0.9</td>\n",
       "      <td>qsampled</td>\n",
       "    </tr>\n",
       "    <tr>\n",
       "      <th>1</th>\n",
       "      <td>0.726619</td>\n",
       "      <td>0.000000</td>\n",
       "      <td>0.084337</td>\n",
       "      <td>0.117647</td>\n",
       "      <td>0.0</td>\n",
       "      <td>0.0</td>\n",
       "      <td>0.531915</td>\n",
       "      <td>0.692308</td>\n",
       "      <td>0.444444</td>\n",
       "      <td>0.3</td>\n",
       "      <td>qsampled</td>\n",
       "    </tr>\n",
       "    <tr>\n",
       "      <th>2</th>\n",
       "      <td>0.000000</td>\n",
       "      <td>0.000000</td>\n",
       "      <td>0.554217</td>\n",
       "      <td>0.000000</td>\n",
       "      <td>0.0</td>\n",
       "      <td>0.0</td>\n",
       "      <td>0.000000</td>\n",
       "      <td>0.153846</td>\n",
       "      <td>0.358025</td>\n",
       "      <td>0.3</td>\n",
       "      <td>qsampled</td>\n",
       "    </tr>\n",
       "    <tr>\n",
       "      <th>3</th>\n",
       "      <td>0.726619</td>\n",
       "      <td>0.000000</td>\n",
       "      <td>0.000000</td>\n",
       "      <td>0.000000</td>\n",
       "      <td>0.0</td>\n",
       "      <td>0.0</td>\n",
       "      <td>0.531915</td>\n",
       "      <td>0.153846</td>\n",
       "      <td>0.333333</td>\n",
       "      <td>0.3</td>\n",
       "      <td>qsampled</td>\n",
       "    </tr>\n",
       "    <tr>\n",
       "      <th>4</th>\n",
       "      <td>0.726619</td>\n",
       "      <td>0.794118</td>\n",
       "      <td>0.554217</td>\n",
       "      <td>0.117647</td>\n",
       "      <td>0.0</td>\n",
       "      <td>0.0</td>\n",
       "      <td>0.276596</td>\n",
       "      <td>0.000000</td>\n",
       "      <td>0.753086</td>\n",
       "      <td>0.9</td>\n",
       "      <td>qsampled</td>\n",
       "    </tr>\n",
       "    <tr>\n",
       "      <th>...</th>\n",
       "      <td>...</td>\n",
       "      <td>...</td>\n",
       "      <td>...</td>\n",
       "      <td>...</td>\n",
       "      <td>...</td>\n",
       "      <td>...</td>\n",
       "      <td>...</td>\n",
       "      <td>...</td>\n",
       "      <td>...</td>\n",
       "      <td>...</td>\n",
       "      <td>...</td>\n",
       "    </tr>\n",
       "    <tr>\n",
       "      <th>95</th>\n",
       "      <td>0.000000</td>\n",
       "      <td>0.000000</td>\n",
       "      <td>0.000000</td>\n",
       "      <td>0.000000</td>\n",
       "      <td>0.0</td>\n",
       "      <td>0.0</td>\n",
       "      <td>0.000000</td>\n",
       "      <td>0.867257</td>\n",
       "      <td>0.000000</td>\n",
       "      <td>0.0</td>\n",
       "      <td>resampled</td>\n",
       "    </tr>\n",
       "    <tr>\n",
       "      <th>96</th>\n",
       "      <td>0.571429</td>\n",
       "      <td>0.111111</td>\n",
       "      <td>0.000000</td>\n",
       "      <td>0.740053</td>\n",
       "      <td>0.0</td>\n",
       "      <td>0.0</td>\n",
       "      <td>0.478632</td>\n",
       "      <td>0.000000</td>\n",
       "      <td>0.000000</td>\n",
       "      <td>0.0</td>\n",
       "      <td>resampled</td>\n",
       "    </tr>\n",
       "    <tr>\n",
       "      <th>97</th>\n",
       "      <td>0.000000</td>\n",
       "      <td>0.000000</td>\n",
       "      <td>0.000000</td>\n",
       "      <td>0.740053</td>\n",
       "      <td>0.0</td>\n",
       "      <td>0.0</td>\n",
       "      <td>0.000000</td>\n",
       "      <td>0.000000</td>\n",
       "      <td>0.000000</td>\n",
       "      <td>0.0</td>\n",
       "      <td>resampled</td>\n",
       "    </tr>\n",
       "    <tr>\n",
       "      <th>98</th>\n",
       "      <td>0.571429</td>\n",
       "      <td>0.111111</td>\n",
       "      <td>0.000000</td>\n",
       "      <td>0.740053</td>\n",
       "      <td>0.0</td>\n",
       "      <td>0.0</td>\n",
       "      <td>0.478632</td>\n",
       "      <td>0.000000</td>\n",
       "      <td>0.726619</td>\n",
       "      <td>0.0</td>\n",
       "      <td>resampled</td>\n",
       "    </tr>\n",
       "    <tr>\n",
       "      <th>99</th>\n",
       "      <td>0.000000</td>\n",
       "      <td>0.000000</td>\n",
       "      <td>0.000000</td>\n",
       "      <td>0.000000</td>\n",
       "      <td>0.0</td>\n",
       "      <td>0.0</td>\n",
       "      <td>0.000000</td>\n",
       "      <td>0.000000</td>\n",
       "      <td>0.726619</td>\n",
       "      <td>0.0</td>\n",
       "      <td>resampled</td>\n",
       "    </tr>\n",
       "  </tbody>\n",
       "</table>\n",
       "<p>1636 rows × 11 columns</p>\n",
       "</div>"
      ],
      "text/plain": [
       "           0         1         2         3    4    5         6         7   \n",
       "0   0.000000  0.000000  0.554217  0.635294  0.0  0.0  0.095745  0.000000  \\\n",
       "1   0.726619  0.000000  0.084337  0.117647  0.0  0.0  0.531915  0.692308   \n",
       "2   0.000000  0.000000  0.554217  0.000000  0.0  0.0  0.000000  0.153846   \n",
       "3   0.726619  0.000000  0.000000  0.000000  0.0  0.0  0.531915  0.153846   \n",
       "4   0.726619  0.794118  0.554217  0.117647  0.0  0.0  0.276596  0.000000   \n",
       "..       ...       ...       ...       ...  ...  ...       ...       ...   \n",
       "95  0.000000  0.000000  0.000000  0.000000  0.0  0.0  0.000000  0.867257   \n",
       "96  0.571429  0.111111  0.000000  0.740053  0.0  0.0  0.478632  0.000000   \n",
       "97  0.000000  0.000000  0.000000  0.740053  0.0  0.0  0.000000  0.000000   \n",
       "98  0.571429  0.111111  0.000000  0.740053  0.0  0.0  0.478632  0.000000   \n",
       "99  0.000000  0.000000  0.000000  0.000000  0.0  0.0  0.000000  0.000000   \n",
       "\n",
       "           8    9          y  \n",
       "0   0.333333  0.9   qsampled  \n",
       "1   0.444444  0.3   qsampled  \n",
       "2   0.358025  0.3   qsampled  \n",
       "3   0.333333  0.3   qsampled  \n",
       "4   0.753086  0.9   qsampled  \n",
       "..       ...  ...        ...  \n",
       "95  0.000000  0.0  resampled  \n",
       "96  0.000000  0.0  resampled  \n",
       "97  0.000000  0.0  resampled  \n",
       "98  0.726619  0.0  resampled  \n",
       "99  0.726619  0.0  resampled  \n",
       "\n",
       "[1636 rows x 11 columns]"
      ]
     },
     "execution_count": 91,
     "metadata": {},
     "output_type": "execute_result"
    }
   ],
   "source": [
    "questions = 10\n",
    "resampled = pd.DataFrame(\n",
    "    _dissonance_data_at_question(resampled_diss[1], questions)\n",
    ").assign(y=\"resampled\")\n",
    "\n",
    "pd.concat(\n",
    "    [\n",
    "        _diss_dataset(\n",
    "            disson, questions, groups=[\"qsampled\", \"m2\", \"runif\", \"actual\"]\n",
    "        ).iloc[:, np.r_[:questions, -1]],\n",
    "        resampled,\n",
    "    ]\n",
    ")"
   ]
  },
  {
   "cell_type": "code",
   "execution_count": 92,
   "metadata": {},
   "outputs": [
    {
     "data": {
      "application/vnd.jupyter.widget-view+json": {
       "model_id": "587423bdfbc74ee99dc07a51089072b1",
       "version_major": 2,
       "version_minor": 0
      },
      "text/plain": [
       "  0%|          | 0/1 [00:00<?, ?it/s]"
      ]
     },
     "metadata": {},
     "output_type": "display_data"
    },
    {
     "data": {
      "application/vnd.jupyter.widget-view+json": {
       "model_id": "3715df9401374487869f2e536ecefaf2",
       "version_major": 2,
       "version_minor": 0
      },
      "text/plain": [
       "  0%|          | 0/100 [00:00<?, ?it/s]"
      ]
     },
     "metadata": {},
     "output_type": "display_data"
    },
    {
     "data": {
      "application/vnd.jupyter.widget-view+json": {
       "model_id": "216e11121b0e4de7a3271c4c3ed7f98a",
       "version_major": 2,
       "version_minor": 0
      },
      "text/plain": [
       "  0%|          | 0/100 [00:00<?, ?it/s]"
      ]
     },
     "metadata": {},
     "output_type": "display_data"
    },
    {
     "data": {
      "application/vnd.jupyter.widget-view+json": {
       "model_id": "c3b1fdd7b5274c248d598e14859d5137",
       "version_major": 2,
       "version_minor": 0
      },
      "text/plain": [
       "  0%|          | 0/389 [00:00<?, ?it/s]"
      ]
     },
     "metadata": {},
     "output_type": "display_data"
    }
   ],
   "source": [
    "for i in tqdm(range(1)):\n",
    "    disson = pd.read_pickle(\n",
    "        f\"disson_global/core/disson_global_core_with_actual_ff/random_order_disson_{i}.pkl\"\n",
    "    )\n",
    "    diss = pd.read_pickle(\n",
    "        f\"disson_global/core/disson_global_core_with_actual_ff/random_order_disson_{i}.pkl\"\n",
    "    )\n",
    "\n",
    "    samps = pd.read_pickle(\n",
    "        f\"disson_global/core/disson_global_core_with_actual_ff/random_order_samples_{i}.pkl\"\n",
    "    )\n",
    "\n",
    "    model = load_qnet(\n",
    "        f\"disson_global/core/disson_global_core_with_actual_ff/random_order_full_model_{i}.joblib.gz\",\n",
    "        gz=True,\n",
    "    )\n",
    "\n",
    "    d = samps[\"qsampled\"]\n",
    "    resampled = np.array([qsample(s, model, 1000) for s in tqdm(d)])\n",
    "    resampled_diss = _all_actual_samples_dissonance(\n",
    "        resampled, [model], _diss_linear, range(390), 390\n",
    "    )\n",
    "\n",
    "    resampled_df = pd.DataFrame(\n",
    "        _dissonance_data_at_question(resampled_diss[1], questions)\n",
    "    ).assign(y=\"resampled\")\n",
    "\n",
    "    [\n",
    "        pd.concat(\n",
    "            [\n",
    "                _diss_dataset(\n",
    "                    disson, questions, groups=[\"qsampled\", \"m2\", \"runif\", \"actual\"]\n",
    "                ),\n",
    "                resampled_df,\n",
    "            ]\n",
    "        ).to_csv(\n",
    "            f\"disson_global/core/disson_global_core_with_actual_ff/csv/{i}/disson_global_core_with_actual_resampled_random_order_disson_{i}-questions_asked_{questions}.csv\",\n",
    "            index=False,\n",
    "        )\n",
    "        for questions in tqdm(range(1, 390))\n",
    "    ]"
   ]
  },
  {
   "cell_type": "code",
   "execution_count": 93,
   "metadata": {},
   "outputs": [],
   "source": [
    "dffg = pd.concat(\n",
    "    [\n",
    "        pd.concat(\n",
    "            [\n",
    "                pd.read_csv(\n",
    "                    f\"disson_global/core/disson_global_core_with_actual_ff/csv/{i}/disson_global_core_with_actual_resampled_random_order_disson_{i}-questions_asked_{questions_asked}.csv\"\n",
    "                ).iloc[:, np.r_[:questions_asked]],\n",
    "                # .mean(axis=1, numeric_only=True),\n",
    "                pd.read_csv(\n",
    "                    f\"disson_global/core/disson_global_core_with_actual_ff/csv/{i}/disson_global_core_with_actual_resampled_random_order_disson_{i}-questions_asked_{questions_asked}.csv\"\n",
    "                )[\"y\"],\n",
    "            ],\n",
    "            axis=1,\n",
    "        )\n",
    "        # .groupby(\"y\", as_index=False)\n",
    "        # .mean()\n",
    "        .assign(questions=str(questions_asked))\n",
    "        for questions_asked in range(1, 390)\n",
    "        for i in range(1)\n",
    "    ]\n",
    ")\n",
    "\n",
    "dffgm = (\n",
    "    pd.melt(dffg, id_vars=[\"y\", \"questions\"])\n",
    "    .query(\"~value.isna()\")\n",
    "    .assign(\n",
    "        questions=lambda x: x[\"questions\"].astype(int),\n",
    "        variable=lambda x: x[\"variable\"].astype(int),\n",
    "    )\n",
    ")\n",
    "\n",
    "dd = pd.concat(\n",
    "    [\n",
    "        dffg.drop([\"y\", \"questions\"], axis=\"columns\").mean(axis=1),\n",
    "        dffg[\"y\"],\n",
    "        dffg[\"questions\"],\n",
    "    ],\n",
    "    axis=1,\n",
    ").set_axis([\"dissonance\", \"y\", \"questions\"], axis=\"columns\")"
   ]
  },
  {
   "cell_type": "code",
   "execution_count": 94,
   "metadata": {},
   "outputs": [
    {
     "data": {
      "text/plain": [
       "<AxesSubplot:xlabel='dissonance', ylabel='Density'>"
      ]
     },
     "execution_count": 94,
     "metadata": {},
     "output_type": "execute_result"
    },
    {
     "data": {
      "image/png": "[encoded data removed]",
      "text/plain": [
       "<Figure size 640x480 with 1 Axes>"
      ]
     },
     "metadata": {},
     "output_type": "display_data"
    }
   ],
   "source": [
    "fig, ax = plt.subplots()\n",
    "sns.histplot(\n",
    "    dd.reset_index(),\n",
    "    x=\"dissonance\",\n",
    "    hue=\"y\",\n",
    "    ax=ax,\n",
    "    element=\"step\",\n",
    "    stat=\"density\",\n",
    "    common_norm=False,\n",
    "    kde=False,\n",
    ")"
   ]
  },
  {
   "cell_type": "code",
   "execution_count": 100,
   "metadata": {},
   "outputs": [
    {
     "data": {
      "application/vnd.jupyter.widget-view+json": {
       "model_id": "8b75fb5aa9634681ac15f3fef76a843c",
       "version_major": 2,
       "version_minor": 0
      },
      "text/plain": [
       "  0%|          | 0/4 [00:00<?, ?it/s]"
      ]
     },
     "metadata": {},
     "output_type": "display_data"
    },
    {
     "data": {
      "application/vnd.jupyter.widget-view+json": {
       "model_id": "b6a8c5f3678643c9835fb033ef5bf4ea",
       "version_major": 2,
       "version_minor": 0
      },
      "text/plain": [
       "  0%|          | 0/100 [00:00<?, ?it/s]"
      ]
     },
     "metadata": {},
     "output_type": "display_data"
    },
    {
     "data": {
      "application/vnd.jupyter.widget-view+json": {
       "model_id": "e16ffe5dfcb741c69d94fc2cd2d990fc",
       "version_major": 2,
       "version_minor": 0
      },
      "text/plain": [
       "  0%|          | 0/100 [00:00<?, ?it/s]"
      ]
     },
     "metadata": {},
     "output_type": "display_data"
    },
    {
     "data": {
      "application/vnd.jupyter.widget-view+json": {
       "model_id": "128589ca38d04462a45b74554dc6e9b3",
       "version_major": 2,
       "version_minor": 0
      },
      "text/plain": [
       "  0%|          | 0/389 [00:00<?, ?it/s]"
      ]
     },
     "metadata": {},
     "output_type": "display_data"
    },
    {
     "data": {
      "application/vnd.jupyter.widget-view+json": {
       "model_id": "ba5c8d0217c14afca212769c767acca2",
       "version_major": 2,
       "version_minor": 0
      },
      "text/plain": [
       "  0%|          | 0/100 [00:00<?, ?it/s]"
      ]
     },
     "metadata": {},
     "output_type": "display_data"
    },
    {
     "data": {
      "application/vnd.jupyter.widget-view+json": {
       "model_id": "941d462d91154c2aaa32b8bf51fb2198",
       "version_major": 2,
       "version_minor": 0
      },
      "text/plain": [
       "  0%|          | 0/100 [00:00<?, ?it/s]"
      ]
     },
     "metadata": {},
     "output_type": "display_data"
    },
    {
     "data": {
      "application/vnd.jupyter.widget-view+json": {
       "model_id": "91a511931f004391b04833f389d9d1e8",
       "version_major": 2,
       "version_minor": 0
      },
      "text/plain": [
       "  0%|          | 0/389 [00:00<?, ?it/s]"
      ]
     },
     "metadata": {},
     "output_type": "display_data"
    },
    {
     "data": {
      "application/vnd.jupyter.widget-view+json": {
       "model_id": "b603678433e24362aa60bf772fc386ed",
       "version_major": 2,
       "version_minor": 0
      },
      "text/plain": [
       "  0%|          | 0/100 [00:00<?, ?it/s]"
      ]
     },
     "metadata": {},
     "output_type": "display_data"
    },
    {
     "data": {
      "application/vnd.jupyter.widget-view+json": {
       "model_id": "93a1c8058428493f874795e043f74e82",
       "version_major": 2,
       "version_minor": 0
      },
      "text/plain": [
       "  0%|          | 0/100 [00:00<?, ?it/s]"
      ]
     },
     "metadata": {},
     "output_type": "display_data"
    },
    {
     "data": {
      "application/vnd.jupyter.widget-view+json": {
       "model_id": "64458183d99945ba98976fb1b1028219",
       "version_major": 2,
       "version_minor": 0
      },
      "text/plain": [
       "  0%|          | 0/389 [00:00<?, ?it/s]"
      ]
     },
     "metadata": {},
     "output_type": "display_data"
    },
    {
     "data": {
      "application/vnd.jupyter.widget-view+json": {
       "model_id": "3af491cd08a847ebb8a80175f2d407f3",
       "version_major": 2,
       "version_minor": 0
      },
      "text/plain": [
       "  0%|          | 0/100 [00:00<?, ?it/s]"
      ]
     },
     "metadata": {},
     "output_type": "display_data"
    },
    {
     "data": {
      "application/vnd.jupyter.widget-view+json": {
       "model_id": "754d93d9483d4ae6a3b905654dc77333",
       "version_major": 2,
       "version_minor": 0
      },
      "text/plain": [
       "  0%|          | 0/100 [00:00<?, ?it/s]"
      ]
     },
     "metadata": {},
     "output_type": "display_data"
    },
    {
     "data": {
      "application/vnd.jupyter.widget-view+json": {
       "model_id": "6c9beaf9130046d4bb75399820af0232",
       "version_major": 2,
       "version_minor": 0
      },
      "text/plain": [
       "  0%|          | 0/389 [00:00<?, ?it/s]"
      ]
     },
     "metadata": {},
     "output_type": "display_data"
    },
    {
     "data": {
      "text/plain": [
       "<AxesSubplot:xlabel='dissonance', ylabel='Density'>"
      ]
     },
     "execution_count": 100,
     "metadata": {},
     "output_type": "execute_result"
    },
    {
     "data": {
      "image/png": "[encoded data removed]",
      "text/plain": [
       "<Figure size 640x480 with 1 Axes>"
      ]
     },
     "metadata": {},
     "output_type": "display_data"
    }
   ],
   "source": [
    "nquestions = 390\n",
    "qsample_steps = 2500\n",
    "\n",
    "for i in tqdm(range(4)):\n",
    "    disson = pd.read_pickle(\n",
    "        f\"disson_global/core/disson_global_core_with_actual_ff/random_order_disson_{i}.pkl\"\n",
    "    )\n",
    "    diss = pd.read_pickle(\n",
    "        f\"disson_global/core/disson_global_core_with_actual_ff/random_order_disson_{i}.pkl\"\n",
    "    )\n",
    "\n",
    "    samps = pd.read_pickle(\n",
    "        f\"disson_global/core/disson_global_core_with_actual_ff/random_order_samples_{i}.pkl\"\n",
    "    )\n",
    "\n",
    "    model = load_qnet(\n",
    "        f\"disson_global/core/disson_global_core_with_actual_ff/random_order_full_model_{i}.joblib.gz\",\n",
    "        gz=True,\n",
    "    )\n",
    "\n",
    "    d = samps[\"qsampled\"]\n",
    "    resampled = np.array([qsample(s, model, qsample_steps) for s in tqdm(d)])\n",
    "    resampled_diss = _all_actual_samples_dissonance(\n",
    "        resampled, [model], _diss_linear, range(nquestions), nquestions\n",
    "    )\n",
    "\n",
    "    resampled_df = pd.DataFrame(\n",
    "        _dissonance_data_at_question(resampled_diss[1], questions)\n",
    "    ).assign(y=\"resampled\")\n",
    "\n",
    "    [\n",
    "        pd.concat(\n",
    "            [\n",
    "                _diss_dataset(\n",
    "                    disson, questions, groups=[\"qsampled\", \"m2\", \"runif\", \"actual\"]\n",
    "                ),\n",
    "                resampled_df,\n",
    "            ]\n",
    "        ).to_csv(\n",
    "            f\"disson_global/core/disson_global_core_with_actual_ff/csv/{i}/disson_global_core_with_actual_resampled_{qsample_steps}_random_order_disson_{i}-questions_asked_{questions}.csv\",\n",
    "            index=False,\n",
    "        )\n",
    "        for questions in tqdm(range(1, nquestions))\n",
    "    ]\n",
    "\n",
    "dffg = pd.concat(\n",
    "    [\n",
    "        pd.concat(\n",
    "            [\n",
    "                pd.read_csv(\n",
    "                    f\"disson_global/core/disson_global_core_with_actual_ff/csv/{i}/disson_global_core_with_actual_resampled_{qsample_steps}_random_order_disson_{i}-questions_asked_{questions_asked}.csv\"\n",
    "                ).iloc[:, np.r_[:questions_asked]],\n",
    "                # .mean(axis=1, numeric_only=True),\n",
    "                pd.read_csv(\n",
    "                    f\"disson_global/core/disson_global_core_with_actual_ff/csv/{i}/disson_global_core_with_actual_resampled_{qsample_steps}_random_order_disson_{i}-questions_asked_{questions_asked}.csv\"\n",
    "                )[\"y\"],\n",
    "            ],\n",
    "            axis=1,\n",
    "        )\n",
    "        # .groupby(\"y\", as_index=False)\n",
    "        # .mean()\n",
    "        .assign(questions=str(questions_asked))\n",
    "        for questions_asked in range(1, nquestions)\n",
    "        for i in range(4)\n",
    "    ]\n",
    ")\n",
    "\n",
    "dffgm = (\n",
    "    pd.melt(dffg, id_vars=[\"y\", \"questions\"])\n",
    "    .query(\"~value.isna()\")\n",
    "    .assign(\n",
    "        questions=lambda x: x[\"questions\"].astype(int),\n",
    "        variable=lambda x: x[\"variable\"].astype(int),\n",
    "    )\n",
    ")\n",
    "\n",
    "dd = pd.concat(\n",
    "    [\n",
    "        dffg.drop([\"y\", \"questions\"], axis=\"columns\").mean(axis=1),\n",
    "        dffg[\"y\"],\n",
    "        dffg[\"questions\"],\n",
    "    ],\n",
    "    axis=1,\n",
    ").set_axis([\"dissonance\", \"y\", \"questions\"], axis=\"columns\")\n",
    "\n",
    "fig, ax = plt.subplots()\n",
    "sns.histplot(\n",
    "    dd.reset_index(),\n",
    "    x=\"dissonance\",\n",
    "    hue=\"y\",\n",
    "    ax=ax,\n",
    "    element=\"step\",\n",
    "    stat=\"density\",\n",
    "    common_norm=False,\n",
    "    kde=False,\n",
    ")"
   ]
  },
  {
   "cell_type": "code",
   "execution_count": 101,
   "metadata": {},
   "outputs": [
    {
     "data": {
      "text/plain": [
       "<AxesSubplot:xlabel='dissonance', ylabel='Density'>"
      ]
     },
     "execution_count": 101,
     "metadata": {},
     "output_type": "execute_result"
    },
    {
     "data": {
      "image/png": "[encoded data removed]",
      "text/plain": [
       "<Figure size 640x480 with 1 Axes>"
      ]
     },
     "metadata": {},
     "output_type": "display_data"
    }
   ],
   "source": [
    "dffg = pd.concat(\n",
    "    [\n",
    "        pd.concat(\n",
    "            [\n",
    "                pd.read_csv(\n",
    "                    f\"disson_global/core/disson_global_core_with_actual_ff/csv/{i}/disson_global_core_with_actual_resampled_{qsample_steps}_random_order_disson_{i}-questions_asked_{questions_asked}.csv\"\n",
    "                ).iloc[:, np.r_[:questions_asked]],\n",
    "                # .mean(axis=1, numeric_only=True),\n",
    "                pd.read_csv(\n",
    "                    f\"disson_global/core/disson_global_core_with_actual_ff/csv/{i}/disson_global_core_with_actual_resampled_{qsample_steps}_random_order_disson_{i}-questions_asked_{questions_asked}.csv\"\n",
    "                )[\"y\"],\n",
    "            ],\n",
    "            axis=1,\n",
    "        )\n",
    "        # .groupby(\"y\", as_index=False)\n",
    "        # .mean()\n",
    "        .assign(questions=str(questions_asked))\n",
    "        for questions_asked in range(nquestions - 2, nquestions)\n",
    "        for i in range(4)\n",
    "    ]\n",
    ")\n",
    "\n",
    "dffgm = (\n",
    "    pd.melt(dffg, id_vars=[\"y\", \"questions\"])\n",
    "    .query(\"~value.isna()\")\n",
    "    .assign(\n",
    "        questions=lambda x: x[\"questions\"].astype(int),\n",
    "        variable=lambda x: x[\"variable\"].astype(int),\n",
    "    )\n",
    ")\n",
    "\n",
    "dd = pd.concat(\n",
    "    [\n",
    "        dffg.drop([\"y\", \"questions\"], axis=\"columns\").mean(axis=1),\n",
    "        dffg[\"y\"],\n",
    "        dffg[\"questions\"],\n",
    "    ],\n",
    "    axis=1,\n",
    ").set_axis([\"dissonance\", \"y\", \"questions\"], axis=\"columns\")\n",
    "\n",
    "fig, ax = plt.subplots()\n",
    "sns.histplot(\n",
    "    dd.reset_index(),\n",
    "    x=\"dissonance\",\n",
    "    hue=\"y\",\n",
    "    ax=ax,\n",
    "    element=\"step\",\n",
    "    stat=\"density\",\n",
    "    common_norm=False,\n",
    "    kde=False,\n",
    ")"
   ]
  },
  {
   "cell_type": "code",
   "execution_count": 102,
   "metadata": {},
   "outputs": [
    {
     "data": {
      "application/vnd.jupyter.widget-view+json": {
       "model_id": "d5f57de9964e4d0d8062945ec33c5b2e",
       "version_major": 2,
       "version_minor": 0
      },
      "text/plain": [
       "  0%|          | 0/4 [00:00<?, ?it/s]"
      ]
     },
     "metadata": {},
     "output_type": "display_data"
    },
    {
     "data": {
      "application/vnd.jupyter.widget-view+json": {
       "model_id": "d3307dc8e70b4dcaa45170ec34374b66",
       "version_major": 2,
       "version_minor": 0
      },
      "text/plain": [
       "  0%|          | 0/100 [00:00<?, ?it/s]"
      ]
     },
     "metadata": {},
     "output_type": "display_data"
    },
    {
     "data": {
      "application/vnd.jupyter.widget-view+json": {
       "model_id": "c12f02221a2f4a49b4392c0bab347808",
       "version_major": 2,
       "version_minor": 0
      },
      "text/plain": [
       "  0%|          | 0/100 [00:00<?, ?it/s]"
      ]
     },
     "metadata": {},
     "output_type": "display_data"
    },
    {
     "data": {
      "application/vnd.jupyter.widget-view+json": {
       "model_id": "64fabdfafa334a939faf315b8b806d79",
       "version_major": 2,
       "version_minor": 0
      },
      "text/plain": [
       "  0%|          | 0/389 [00:00<?, ?it/s]"
      ]
     },
     "metadata": {},
     "output_type": "display_data"
    },
    {
     "data": {
      "application/vnd.jupyter.widget-view+json": {
       "model_id": "e0829e4a4a104464a9b66f6dc6249926",
       "version_major": 2,
       "version_minor": 0
      },
      "text/plain": [
       "  0%|          | 0/100 [00:00<?, ?it/s]"
      ]
     },
     "metadata": {},
     "output_type": "display_data"
    },
    {
     "data": {
      "application/vnd.jupyter.widget-view+json": {
       "model_id": "d96c2691bcc74d78b2978016dc7fd205",
       "version_major": 2,
       "version_minor": 0
      },
      "text/plain": [
       "  0%|          | 0/100 [00:00<?, ?it/s]"
      ]
     },
     "metadata": {},
     "output_type": "display_data"
    },
    {
     "data": {
      "application/vnd.jupyter.widget-view+json": {
       "model_id": "f161ccfc46684c309a03611656d7ddeb",
       "version_major": 2,
       "version_minor": 0
      },
      "text/plain": [
       "  0%|          | 0/389 [00:00<?, ?it/s]"
      ]
     },
     "metadata": {},
     "output_type": "display_data"
    },
    {
     "data": {
      "application/vnd.jupyter.widget-view+json": {
       "model_id": "167a8af5e8db479f9553668eb985e754",
       "version_major": 2,
       "version_minor": 0
      },
      "text/plain": [
       "  0%|          | 0/100 [00:00<?, ?it/s]"
      ]
     },
     "metadata": {},
     "output_type": "display_data"
    },
    {
     "data": {
      "application/vnd.jupyter.widget-view+json": {
       "model_id": "fadf5c1e0d2042cdb61c9383423278be",
       "version_major": 2,
       "version_minor": 0
      },
      "text/plain": [
       "  0%|          | 0/100 [00:00<?, ?it/s]"
      ]
     },
     "metadata": {},
     "output_type": "display_data"
    },
    {
     "data": {
      "application/vnd.jupyter.widget-view+json": {
       "model_id": "9955181152f84d848ad3d3ed4cd6c237",
       "version_major": 2,
       "version_minor": 0
      },
      "text/plain": [
       "  0%|          | 0/389 [00:00<?, ?it/s]"
      ]
     },
     "metadata": {},
     "output_type": "display_data"
    },
    {
     "data": {
      "application/vnd.jupyter.widget-view+json": {
       "model_id": "97dcde05d331445c8c9ba4bcc3247e28",
       "version_major": 2,
       "version_minor": 0
      },
      "text/plain": [
       "  0%|          | 0/100 [00:00<?, ?it/s]"
      ]
     },
     "metadata": {},
     "output_type": "display_data"
    },
    {
     "data": {
      "application/vnd.jupyter.widget-view+json": {
       "model_id": "051837a7077e4545aff68ac40172517a",
       "version_major": 2,
       "version_minor": 0
      },
      "text/plain": [
       "  0%|          | 0/100 [00:00<?, ?it/s]"
      ]
     },
     "metadata": {},
     "output_type": "display_data"
    },
    {
     "data": {
      "application/vnd.jupyter.widget-view+json": {
       "model_id": "3e4aa9907f0a4479993394ed96b00d5f",
       "version_major": 2,
       "version_minor": 0
      },
      "text/plain": [
       "  0%|          | 0/389 [00:00<?, ?it/s]"
      ]
     },
     "metadata": {},
     "output_type": "display_data"
    },
    {
     "data": {
      "text/plain": [
       "<AxesSubplot:xlabel='dissonance', ylabel='Density'>"
      ]
     },
     "execution_count": 102,
     "metadata": {},
     "output_type": "execute_result"
    },
    {
     "data": {
      "image/png": "[encoded data removed]",
      "text/plain": [
       "<Figure size 640x480 with 1 Axes>"
      ]
     },
     "metadata": {},
     "output_type": "display_data"
    }
   ],
   "source": [
    "nquestions = 390\n",
    "qsample_steps = 5000\n",
    "\n",
    "for i in tqdm(range(4)):\n",
    "    disson = pd.read_pickle(\n",
    "        f\"disson_global/core/disson_global_core_with_actual_ff/random_order_disson_{i}.pkl\"\n",
    "    )\n",
    "    diss = pd.read_pickle(\n",
    "        f\"disson_global/core/disson_global_core_with_actual_ff/random_order_disson_{i}.pkl\"\n",
    "    )\n",
    "\n",
    "    samps = pd.read_pickle(\n",
    "        f\"disson_global/core/disson_global_core_with_actual_ff/random_order_samples_{i}.pkl\"\n",
    "    )\n",
    "\n",
    "    model = load_qnet(\n",
    "        f\"disson_global/core/disson_global_core_with_actual_ff/random_order_full_model_{i}.joblib.gz\",\n",
    "        gz=True,\n",
    "    )\n",
    "\n",
    "    d = samps[\"qsampled\"]\n",
    "    resampled = np.array([qsample(s, model, qsample_steps) for s in tqdm(d)])\n",
    "    resampled_diss = _all_actual_samples_dissonance(\n",
    "        resampled, [model], _diss_linear, range(nquestions), nquestions\n",
    "    )\n",
    "\n",
    "    resampled_df = pd.DataFrame(\n",
    "        _dissonance_data_at_question(resampled_diss[1], questions)\n",
    "    ).assign(y=\"resampled\")\n",
    "\n",
    "    [\n",
    "        pd.concat(\n",
    "            [\n",
    "                _diss_dataset(\n",
    "                    disson, questions, groups=[\"qsampled\", \"m2\", \"runif\", \"actual\"]\n",
    "                ),\n",
    "                resampled_df,\n",
    "            ]\n",
    "        ).to_csv(\n",
    "            f\"disson_global/core/disson_global_core_with_actual_ff/csv/{i}/disson_global_core_with_actual_resampled_{qsample_steps}_random_order_disson_{i}-questions_asked_{questions}.csv\",\n",
    "            index=False,\n",
    "        )\n",
    "        for questions in tqdm(range(1, nquestions))\n",
    "    ]\n",
    "\n",
    "dffg = pd.concat(\n",
    "    [\n",
    "        pd.concat(\n",
    "            [\n",
    "                pd.read_csv(\n",
    "                    f\"disson_global/core/disson_global_core_with_actual_ff/csv/{i}/disson_global_core_with_actual_resampled_{qsample_steps}_random_order_disson_{i}-questions_asked_{questions_asked}.csv\"\n",
    "                ).iloc[:, np.r_[:questions_asked]],\n",
    "                # .mean(axis=1, numeric_only=True),\n",
    "                pd.read_csv(\n",
    "                    f\"disson_global/core/disson_global_core_with_actual_ff/csv/{i}/disson_global_core_with_actual_resampled_{qsample_steps}_random_order_disson_{i}-questions_asked_{questions_asked}.csv\"\n",
    "                )[\"y\"],\n",
    "            ],\n",
    "            axis=1,\n",
    "        )\n",
    "        # .groupby(\"y\", as_index=False)\n",
    "        # .mean()\n",
    "        .assign(questions=str(questions_asked))\n",
    "        for questions_asked in range(1, nquestions)\n",
    "        for i in range(4)\n",
    "    ]\n",
    ")\n",
    "\n",
    "dffgm = (\n",
    "    pd.melt(dffg, id_vars=[\"y\", \"questions\"])\n",
    "    .query(\"~value.isna()\")\n",
    "    .assign(\n",
    "        questions=lambda x: x[\"questions\"].astype(int),\n",
    "        variable=lambda x: x[\"variable\"].astype(int),\n",
    "    )\n",
    ")\n",
    "\n",
    "dd = pd.concat(\n",
    "    [\n",
    "        dffg.drop([\"y\", \"questions\"], axis=\"columns\").mean(axis=1),\n",
    "        dffg[\"y\"],\n",
    "        dffg[\"questions\"],\n",
    "    ],\n",
    "    axis=1,\n",
    ").set_axis([\"dissonance\", \"y\", \"questions\"], axis=\"columns\")\n",
    "\n",
    "fig, ax = plt.subplots()\n",
    "sns.histplot(\n",
    "    dd.reset_index(),\n",
    "    x=\"dissonance\",\n",
    "    hue=\"y\",\n",
    "    ax=ax,\n",
    "    element=\"step\",\n",
    "    stat=\"density\",\n",
    "    common_norm=False,\n",
    "    kde=False,\n",
    ")"
   ]
  },
  {
   "cell_type": "code",
   "execution_count": 103,
   "metadata": {},
   "outputs": [
    {
     "data": {
      "text/plain": [
       "<AxesSubplot:xlabel='dissonance', ylabel='Density'>"
      ]
     },
     "execution_count": 103,
     "metadata": {},
     "output_type": "execute_result"
    },
    {
     "data": {
      "image/png": "[encoded data removed]",
      "text/plain": [
       "<Figure size 640x480 with 1 Axes>"
      ]
     },
     "metadata": {},
     "output_type": "display_data"
    },
    {
     "ename": "",
     "evalue": "",
     "output_type": "error",
     "traceback": [
      "\u001b[1;31mThe Kernel crashed while executing code in the the current cell or a previous cell. Please review the code in the cell(s) to identify a possible cause of the failure. Click <a href='https://aka.ms/vscodeJupyterKernelCrash'>here</a> for more info. View Jupyter <a href='command:jupyter.viewOutput'>log</a> for further details."
     ]
    }
   ],
   "source": [
    "dffg = pd.concat(\n",
    "    [\n",
    "        pd.concat(\n",
    "            [\n",
    "                pd.read_csv(\n",
    "                    f\"disson_global/core/disson_global_core_with_actual_ff/csv/{i}/disson_global_core_with_actual_resampled_{qsample_steps}_random_order_disson_{i}-questions_asked_{questions_asked}.csv\"\n",
    "                ).iloc[:, np.r_[:questions_asked]],\n",
    "                # .mean(axis=1, numeric_only=True),\n",
    "                pd.read_csv(\n",
    "                    f\"disson_global/core/disson_global_core_with_actual_ff/csv/{i}/disson_global_core_with_actual_resampled_{qsample_steps}_random_order_disson_{i}-questions_asked_{questions_asked}.csv\"\n",
    "                )[\"y\"],\n",
    "            ],\n",
    "            axis=1,\n",
    "        )\n",
    "        # .groupby(\"y\", as_index=False)\n",
    "        # .mean()\n",
    "        .assign(questions=str(questions_asked))\n",
    "        for questions_asked in range(nquestions - 2, nquestions)\n",
    "        for i in range(4)\n",
    "    ]\n",
    ")\n",
    "\n",
    "dffgm = (\n",
    "    pd.melt(dffg, id_vars=[\"y\", \"questions\"])\n",
    "    .query(\"~value.isna()\")\n",
    "    .assign(\n",
    "        questions=lambda x: x[\"questions\"].astype(int),\n",
    "        variable=lambda x: x[\"variable\"].astype(int),\n",
    "    )\n",
    ")\n",
    "\n",
    "dd = pd.concat(\n",
    "    [\n",
    "        dffg.drop([\"y\", \"questions\"], axis=\"columns\").mean(axis=1),\n",
    "        dffg[\"y\"],\n",
    "        dffg[\"questions\"],\n",
    "    ],\n",
    "    axis=1,\n",
    ").set_axis([\"dissonance\", \"y\", \"questions\"], axis=\"columns\")\n",
    "\n",
    "fig, ax = plt.subplots()\n",
    "sns.histplot(\n",
    "    dd.reset_index(),\n",
    "    x=\"dissonance\",\n",
    "    hue=\"y\",\n",
    "    ax=ax,\n",
    "    element=\"step\",\n",
    "    stat=\"density\",\n",
    "    common_norm=False,\n",
    "    kde=False,\n",
    ")"
   ]
  },
  {
   "cell_type": "code",
   "execution_count": null,
   "metadata": {},
   "outputs": [],
   "source": []
  },
  {
   "cell_type": "code",
   "execution_count": null,
   "metadata": {},
   "outputs": [],
   "source": []
  },
  {
   "cell_type": "code",
   "execution_count": null,
   "metadata": {},
   "outputs": [],
   "source": [
    "[\n",
    "    _diss_dataset(\n",
    "        disson, questions, groups=[\"qsampled\", \"m2\", \"runif\", \"actual\"]\n",
    "    ).to_csv(\n",
    "        f\"disson_global/core/disson_global_core_with_actual_ff/csv/{i}/disson_global_core_with_actual_random_order_disson_{i}-questions_asked_{questions}.csv\",\n",
    "        index=False,\n",
    "    )\n",
    "    for questions in range(1, 390)\n",
    "]"
   ]
  },
  {
   "cell_type": "code",
   "execution_count": 63,
   "metadata": {},
   "outputs": [],
   "source": [
    "groups = [\"actual\"]\n",
    "\n",
    "questions_asked = 390\n",
    "data = _diss_dataset(diss, questions_asked, groups=groups)\n",
    "\n",
    "datad = data.iloc[:, np.r_[:questions_asked]].set_axis(\n",
    "    actual_diss.columns, axis=\"columns\"\n",
    ")"
   ]
  },
  {
   "cell_type": "code",
   "execution_count": null,
   "metadata": {},
   "outputs": [],
   "source": []
  },
  {
   "cell_type": "code",
   "execution_count": 69,
   "metadata": {},
   "outputs": [
    {
     "data": {
      "text/plain": [
       "<AxesSubplot:xlabel='value', ylabel='Density'>"
      ]
     },
     "execution_count": 69,
     "metadata": {},
     "output_type": "execute_result"
    },
    {
     "data": {
      "image/png": "[encoded data removed]",
      "text/plain": [
       "<Figure size 640x480 with 1 Axes>"
      ]
     },
     "metadata": {},
     "output_type": "display_data"
    }
   ],
   "source": [
    "comb = pd.melt(\n",
    "    pd.concat(\n",
    "        [\n",
    "            datad.assign(type=\"actual\"),\n",
    "            resampled_final_diss.assign(type=\"resampled\"),\n",
    "        ]\n",
    "    ),\n",
    "    id_vars=\"type\",\n",
    ")\n",
    "\n",
    "sns.histplot(\n",
    "    comb.query(\"value > 0\"),\n",
    "    x=\"value\",\n",
    "    element=\"step\",\n",
    "    stat=\"density\",\n",
    "    hue=\"type\",\n",
    "    common_norm=False,\n",
    "    kde=False,\n",
    ")"
   ]
  },
  {
   "cell_type": "code",
   "execution_count": 71,
   "metadata": {},
   "outputs": [
    {
     "data": {
      "application/vnd.jupyter.widget-view+json": {
       "model_id": "22082256b1194ad1bbdd1e53ea5a9d53",
       "version_major": 2,
       "version_minor": 0
      },
      "text/plain": [
       "  0%|          | 0/4 [00:00<?, ?it/s]"
      ]
     },
     "metadata": {},
     "output_type": "display_data"
    }
   ],
   "source": [
    "for i in tqdm(range(4)):\n",
    "    disson = pd.read_pickle(\n",
    "        f\"disson_global/core/disson_global_core_with_actual_ff/random_order_disson_{i}.pkl\"\n",
    "    )\n",
    "\n",
    "    [\n",
    "        _diss_dataset(\n",
    "            disson, questions, groups=[\"qsampled\", \"m2\", \"runif\", \"actual\"]\n",
    "        ).to_csv(\n",
    "            f\"disson_global/core/disson_global_core_with_actual_ff/csv/{i}/disson_global_core_with_actual_random_order_disson_{i}-questions_asked_{questions}.csv\",\n",
    "            index=False,\n",
    "        )\n",
    "        for questions in range(1, 390)\n",
    "    ]"
   ]
  },
  {
   "cell_type": "code",
   "execution_count": 72,
   "metadata": {},
   "outputs": [],
   "source": [
    "dffg = pd.concat(\n",
    "    [\n",
    "        pd.concat(\n",
    "            [\n",
    "                pd.read_csv(\n",
    "                    f\"disson_global/core/disson_global_core_with_actual_ff/csv/{i}/disson_global_core_with_actual_random_order_disson_{i}-questions_asked_{questions_asked}.csv\"\n",
    "                ).iloc[:, np.r_[:questions_asked]],\n",
    "                # .mean(axis=1, numeric_only=True),\n",
    "                pd.read_csv(\n",
    "                    f\"disson_global/core/disson_global_core_with_actual_ff/csv/{i}/disson_global_core_with_actual_random_order_disson_{i}-questions_asked_{questions_asked}.csv\"\n",
    "                )[\"y\"],\n",
    "            ],\n",
    "            axis=1,\n",
    "        )\n",
    "        # .groupby(\"y\", as_index=False)\n",
    "        # .mean()\n",
    "        .assign(questions=str(questions_asked))\n",
    "        for questions_asked in range(1, 345)\n",
    "        for i in range(4)\n",
    "    ]\n",
    ")\n",
    "\n",
    "dffgm = (\n",
    "    pd.melt(dffg, id_vars=[\"y\", \"questions\"])\n",
    "    .query(\"~value.isna()\")\n",
    "    .assign(\n",
    "        questions=lambda x: x[\"questions\"].astype(int),\n",
    "        variable=lambda x: x[\"variable\"].astype(int),\n",
    "    )\n",
    ")\n",
    "\n",
    "dd = pd.concat(\n",
    "    [\n",
    "        dffg.drop([\"y\", \"questions\"], axis=\"columns\").mean(axis=1),\n",
    "        dffg[\"y\"],\n",
    "        dffg[\"questions\"],\n",
    "    ],\n",
    "    axis=1,\n",
    ").set_axis([\"dissonance\", \"y\", \"questions\"], axis=\"columns\")"
   ]
  },
  {
   "cell_type": "code",
   "execution_count": 73,
   "metadata": {},
   "outputs": [
    {
     "data": {
      "text/plain": [
       "<AxesSubplot:xlabel='dissonance', ylabel='Density'>"
      ]
     },
     "execution_count": 73,
     "metadata": {},
     "output_type": "execute_result"
    },
    {
     "data": {
      "image/png": "[encoded data removed]",
      "text/plain": [
       "<Figure size 640x480 with 1 Axes>"
      ]
     },
     "metadata": {},
     "output_type": "display_data"
    }
   ],
   "source": [
    "fig, ax = plt.subplots()\n",
    "sns.histplot(\n",
    "    dd.reset_index(),\n",
    "    x=\"dissonance\",\n",
    "    hue=\"y\",\n",
    "    ax=ax,\n",
    "    element=\"step\",\n",
    "    stat=\"density\",\n",
    "    common_norm=False,\n",
    "    kde=False,\n",
    ")"
   ]
  },
  {
   "cell_type": "code",
   "execution_count": 75,
   "metadata": {},
   "outputs": [
    {
     "data": {
      "text/html": [
       "<div>\n",
       "<style scoped>\n",
       "    .dataframe tbody tr th:only-of-type {\n",
       "        vertical-align: middle;\n",
       "    }\n",
       "\n",
       "    .dataframe tbody tr th {\n",
       "        vertical-align: top;\n",
       "    }\n",
       "\n",
       "    .dataframe thead th {\n",
       "        text-align: right;\n",
       "    }\n",
       "</style>\n",
       "<table border=\"1\" class=\"dataframe\">\n",
       "  <thead>\n",
       "    <tr style=\"text-align: right;\">\n",
       "      <th></th>\n",
       "      <th>dissonance</th>\n",
       "      <th>y</th>\n",
       "      <th>questions</th>\n",
       "    </tr>\n",
       "  </thead>\n",
       "  <tbody>\n",
       "    <tr>\n",
       "      <th>300</th>\n",
       "      <td>0.000000</td>\n",
       "      <td>actual</td>\n",
       "      <td>1</td>\n",
       "    </tr>\n",
       "    <tr>\n",
       "      <th>301</th>\n",
       "      <td>0.000000</td>\n",
       "      <td>actual</td>\n",
       "      <td>1</td>\n",
       "    </tr>\n",
       "    <tr>\n",
       "      <th>302</th>\n",
       "      <td>0.000000</td>\n",
       "      <td>actual</td>\n",
       "      <td>1</td>\n",
       "    </tr>\n",
       "    <tr>\n",
       "      <th>303</th>\n",
       "      <td>0.117647</td>\n",
       "      <td>actual</td>\n",
       "      <td>1</td>\n",
       "    </tr>\n",
       "    <tr>\n",
       "      <th>304</th>\n",
       "      <td>0.117647</td>\n",
       "      <td>actual</td>\n",
       "      <td>1</td>\n",
       "    </tr>\n",
       "    <tr>\n",
       "      <th>...</th>\n",
       "      <td>...</td>\n",
       "      <td>...</td>\n",
       "      <td>...</td>\n",
       "    </tr>\n",
       "    <tr>\n",
       "      <th>1531</th>\n",
       "      <td>0.045066</td>\n",
       "      <td>actual</td>\n",
       "      <td>344</td>\n",
       "    </tr>\n",
       "    <tr>\n",
       "      <th>1532</th>\n",
       "      <td>0.033017</td>\n",
       "      <td>actual</td>\n",
       "      <td>344</td>\n",
       "    </tr>\n",
       "    <tr>\n",
       "      <th>1533</th>\n",
       "      <td>0.036635</td>\n",
       "      <td>actual</td>\n",
       "      <td>344</td>\n",
       "    </tr>\n",
       "    <tr>\n",
       "      <th>1534</th>\n",
       "      <td>0.035962</td>\n",
       "      <td>actual</td>\n",
       "      <td>344</td>\n",
       "    </tr>\n",
       "    <tr>\n",
       "      <th>1535</th>\n",
       "      <td>0.033037</td>\n",
       "      <td>actual</td>\n",
       "      <td>344</td>\n",
       "    </tr>\n",
       "  </tbody>\n",
       "</table>\n",
       "<p>1700736 rows × 3 columns</p>\n",
       "</div>"
      ],
      "text/plain": [
       "      dissonance       y questions\n",
       "300     0.000000  actual         1\n",
       "301     0.000000  actual         1\n",
       "302     0.000000  actual         1\n",
       "303     0.117647  actual         1\n",
       "304     0.117647  actual         1\n",
       "...          ...     ...       ...\n",
       "1531    0.045066  actual       344\n",
       "1532    0.033017  actual       344\n",
       "1533    0.036635  actual       344\n",
       "1534    0.035962  actual       344\n",
       "1535    0.033037  actual       344\n",
       "\n",
       "[1700736 rows x 3 columns]"
      ]
     },
     "execution_count": 75,
     "metadata": {},
     "output_type": "execute_result"
    }
   ],
   "source": [
    "dd.query(\"y=='actual'\")"
   ]
  },
  {
   "cell_type": "code",
   "execution_count": 70,
   "metadata": {},
   "outputs": [],
   "source": [
    "from pathlib import Path\n",
    "\n",
    "for i in range(4):\n",
    "    Path(f\"disson_global/core/disson_global_core_with_actual_ff/csv/{i}/\").mkdir(\n",
    "        parents=True, exist_ok=True\n",
    "    )"
   ]
  },
  {
   "cell_type": "code",
   "execution_count": null,
   "metadata": {},
   "outputs": [],
   "source": []
  }
 ],
 "metadata": {
  "kernelspec": {
   "display_name": "pkgs",
   "language": "python",
   "name": "python3"
  },
  "language_info": {
   "codemirror_mode": {
    "name": "ipython",
    "version": 3
   },
   "file_extension": ".py",
   "mimetype": "text/x-python",
   "name": "python",
   "nbconvert_exporter": "python",
   "pygments_lexer": "ipython3",
   "version": "3.10.11"
  }
 },
 "nbformat": 4,
 "nbformat_minor": 2
}
