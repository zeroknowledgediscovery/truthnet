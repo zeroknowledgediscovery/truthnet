{
 "cells": [
  {
   "cell_type": "code",
   "execution_count": null,
   "id": "b9c53dcd",
   "metadata": {},
   "outputs": [],
   "source": [
    "from infer_veritas import  *\n",
    "from truthfinder import *\n",
    "import gzip"
   ]
  },
  {
   "cell_type": "code",
   "execution_count": null,
   "id": "c941e33b",
   "metadata": {},
   "outputs": [],
   "source": [
    "! pwd"
   ]
  },
  {
   "cell_type": "code",
   "execution_count": null,
   "id": "3f0f9be5",
   "metadata": {},
   "outputs": [],
   "source": [
    "with gzip.open('response_jsons/validation_cat.pkl.gz', 'rb') as filepath:\n",
    "    catadata = pickle.load(filepath)\n",
    "with gzip.open('response_jsons/validation_index20.pkl.gz', 'rb') as filepath:\n",
    "    fulldata20 = pickle.load(filepath)\n",
    "with gzip.open('response_jsons/validation_ptsd_full.pkl.gz', 'rb') as filepath:\n",
    "    fulldata = pickle.load(filepath)\n",
    "Veritas_model_path='veritas_models/veritas_001.pkl.gz'"
   ]
  },
  {
   "cell_type": "code",
   "execution_count": null,
   "id": "f9f823dd",
   "metadata": {},
   "outputs": [],
   "source": [
    "Rcat=reveal(catadata,Veritas_model_path,perturb=0)"
   ]
  },
  {
   "cell_type": "code",
   "execution_count": null,
   "id": "87898445",
   "metadata": {},
   "outputs": [],
   "source": [
    "R=reveal(fulldata,Veritas_model_path,perturb=0)"
   ]
  },
  {
   "cell_type": "code",
   "execution_count": null,
   "id": "8a7c0f84",
   "metadata": {},
   "outputs": [],
   "source": [
    "RcatP5=reveal(catadata,Veritas_model_path,perturb=5)"
   ]
  },
  {
   "cell_type": "code",
   "execution_count": null,
   "id": "8ac7e206",
   "metadata": {},
   "outputs": [],
   "source": [
    "RcatP10=reveal(catadata,Veritas_model_path,perturb=5)"
   ]
  },
  {
   "cell_type": "code",
   "execution_count": null,
   "id": "d2a6a867",
   "metadata": {},
   "outputs": [],
   "source": [
    "Rcat"
   ]
  },
  {
   "cell_type": "code",
   "execution_count": null,
   "id": "4229a7a7",
   "metadata": {},
   "outputs": [],
   "source": [
    "catadata"
   ]
  },
  {
   "cell_type": "code",
   "execution_count": null,
   "id": "2ec1ad7f",
   "metadata": {},
   "outputs": [],
   "source": [
    "fulldata"
   ]
  },
  {
   "cell_type": "code",
   "execution_count": 1,
   "id": "61099307",
   "metadata": {},
   "outputs": [
    {
     "name": "stdout",
     "output_type": "stream",
     "text": [
      "/home/ishanu/ZED/Research/truthnet/veritas_test\r\n"
     ]
    }
   ],
   "source": [
    "! pwd"
   ]
  }
 ],
 "metadata": {
  "kernelspec": {
   "display_name": "Python 3 (ipykernel)",
   "language": "python",
   "name": "python3"
  },
  "language_info": {
   "codemirror_mode": {
    "name": "ipython",
    "version": 3
   },
   "file_extension": ".py",
   "mimetype": "text/x-python",
   "name": "python",
   "nbconvert_exporter": "python",
   "pygments_lexer": "ipython3",
   "version": "3.10.8"
  }
 },
 "nbformat": 4,
 "nbformat_minor": 5
}
