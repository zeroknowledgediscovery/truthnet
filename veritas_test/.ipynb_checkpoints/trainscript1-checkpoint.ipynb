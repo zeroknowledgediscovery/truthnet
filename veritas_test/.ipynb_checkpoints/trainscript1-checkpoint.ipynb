{
 "cells": [
  {
   "cell_type": "code",
   "execution_count": 1,
   "id": "b9c53dcd",
   "metadata": {},
   "outputs": [],
   "source": [
    "from infer_veritas import  *\n",
    "from truthfinder import *"
   ]
  },
  {
   "cell_type": "code",
   "execution_count": 2,
   "id": "8cc3406c",
   "metadata": {},
   "outputs": [
    {
     "data": {
      "application/vnd.jupyter.widget-view+json": {
       "model_id": "7332659521a840499e41ff28b23f26ae",
       "version_major": 2,
       "version_minor": 0
      },
      "text/plain": [
       "  0%|          | 0/10 [00:00<?, ?it/s]"
      ]
     },
     "metadata": {},
     "output_type": "display_data"
    },
    {
     "name": "stderr",
     "output_type": "stream",
     "text": [
      "100%|███████████████████████████████████████| 5000/5000 [12:58<00:00,  6.42it/s]\n"
     ]
    },
    {
     "name": "stdout",
     "output_type": "stream",
     "text": [
      "ckeck passed\n"
     ]
    },
    {
     "name": "stderr",
     "output_type": "stream",
     "text": [
      "[distfit] >INFO> fit\n",
      "[distfit] >INFO> transform\n",
      "[distfit] >INFO> [lognorm] [0.10 sec] [RSS: 0.38042] [loc=0.135 scale=0.922]\n",
      "[distfit] >INFO> Compute confidence intervals [parametric]\n",
      "[distfit] >INFO> fit\n",
      "[distfit] >INFO> transform\n",
      "[distfit] >INFO> [smoothline] >Smoothing by interpolation..\n",
      "[distfit] >INFO> [lognorm] [0.13 sec] [RSS: 123.019] [loc=0.556 scale=0.106]\n",
      "[distfit] >INFO> Compute confidence intervals [parametric]\n"
     ]
    },
    {
     "name": "stdout",
     "output_type": "stream",
     "text": [
      "ckeck passed\n",
      "CPU times: user 1h 12min 36s, sys: 54.2 s, total: 1h 13min 31s\n",
      "Wall time: 1h 12min 26s\n"
     ]
    }
   ],
   "source": [
    "%%time\n",
    "TR=truthnet(datapath='/home/ishanu/ZED/Research/truthnet/notebooks/data/ptsd/PTSD_cognet_test.csv',target_label='PTSDDx',query_limit=20)\n",
    "TR.fit(shapnum=10)\n",
    "rf=TR.calibrate(calibration_num=5000)"
   ]
  },
  {
   "cell_type": "code",
   "execution_count": 5,
   "id": "e41a37ea",
   "metadata": {},
   "outputs": [],
   "source": [
    "M=TR.veritas_model"
   ]
  },
  {
   "cell_type": "code",
   "execution_count": 4,
   "id": "69d6f4dc",
   "metadata": {},
   "outputs": [
    {
     "data": {
      "text/plain": [
       "1.368082401681037"
      ]
     },
     "execution_count": 4,
     "metadata": {},
     "output_type": "execute_result"
    }
   ],
   "source": [
    "rf[1].lower.mean()"
   ]
  },
  {
   "cell_type": "code",
   "execution_count": 6,
   "id": "36d35817",
   "metadata": {},
   "outputs": [
    {
     "data": {
      "text/plain": [
       "{'version': '0.0.1',\n",
       " 'model': qnet.Qnet,\n",
       " 'model_neg': qnet.Qnet,\n",
       " 'problem': '',\n",
       " 'dist_lower': <scipy.stats._distn_infrastructure.rv_continuous_frozen at 0x7f3ab9fbb8e0>,\n",
       " 'LOWER_THRESHOLD': 0.9154097135778224,\n",
       " 'dist_veritas': <scipy.stats._distn_infrastructure.rv_continuous_frozen at 0x7f3ab9fbb700>,\n",
       " 'VERITAS_THRESHOLD': 0.7766973222129768,\n",
       " 'upper_scoretoprobability': <bound method processRoc.scoretoprobability of <zedstat.zedstat.processRoc object at 0x7f3abaad80d0>>,\n",
       " 'UPPER_THRESHOLD': 1.297963929289763,\n",
       " 'AUC': (0.8575819672131147, 0.8657822325456725, 0.849381701880557)}"
      ]
     },
     "execution_count": 6,
     "metadata": {},
     "output_type": "execute_result"
    }
   ],
   "source": [
    "M"
   ]
  },
  {
   "cell_type": "code",
   "execution_count": 7,
   "id": "6819f2d7",
   "metadata": {},
   "outputs": [],
   "source": [
    "import dill as pickle\n",
    "with gzip.open('veritas_001.pkl.gz', 'wb') as file:\n",
    "    pickle.dump(M, file)"
   ]
  },
  {
   "cell_type": "code",
   "execution_count": 8,
   "id": "a98cfc03",
   "metadata": {},
   "outputs": [
    {
     "name": "stdout",
     "output_type": "stream",
     "text": [
      "total 1.5M\r\n",
      "drwxr-xr-x 1 ishanu ishanu   38 Dec 28 15:12  veritas_models\r\n",
      "drwxr-xr-x 1 ishanu ishanu   14 Dec 28 15:13  validation\r\n",
      "-rw-r--r-- 1 ishanu ishanu  26K Dec 29 15:21  Untitled1.ipynb\r\n",
      "-rw-r--r-- 1 ishanu ishanu 6.1K Dec 29 15:56  truthfinder.py\r\n",
      "-rw-r--r-- 1 ishanu ishanu 2.6K Dec 30 03:36  README.md\r\n",
      "-rw-r--r-- 1 ishanu ishanu 9.9K Dec 30 12:38  truthnet.py\r\n",
      "-rw-r--r-- 1 ishanu ishanu   21 Dec 30 12:39  methods.tex~\r\n",
      "-rw-r--r-- 1 ishanu ishanu 1.2K Dec 30 13:06  methods.tex\r\n",
      "-rw-r--r-- 1 ishanu ishanu 1.3K Dec 30 13:10 '#methods.tex#'\r\n",
      "drwxr-xr-x 1 ishanu ishanu  112 Dec 30 17:46  __pycache__\r\n",
      "-rw-r--r-- 1 ishanu ishanu 219K Dec 30 19:46  Untitled.ipynb\r\n",
      "-rw-r--r-- 1 ishanu ishanu  13K Dec 30 22:04  infer_veritas.py\r\n",
      "-rw-r--r-- 1 ishanu ishanu 3.6K Dec 31 00:13  Untitled-Copy1.ipynb\r\n",
      "-rw-r--r-- 1 ishanu ishanu 4.2K Dec 31 01:27  trainscript1.ipynb\r\n",
      "-rw-r--r-- 1 ishanu ishanu 1.2M Dec 31 01:28  veritas_001.pkl.gz\r\n"
     ]
    }
   ],
   "source": [
    "! ls -lhtr"
   ]
  },
  {
   "cell_type": "code",
   "execution_count": 9,
   "id": "8968a9c1",
   "metadata": {},
   "outputs": [],
   "source": [
    "with gzip.open('veritas_001.pkl.gz', 'rb') as file:\n",
    "    vmodel = pickle.load(file)\n"
   ]
  },
  {
   "cell_type": "code",
   "execution_count": 13,
   "id": "47a881a3",
   "metadata": {},
   "outputs": [
    {
     "data": {
      "text/plain": [
       "0.8514837625979842"
      ]
     },
     "execution_count": 13,
     "metadata": {},
     "output_type": "execute_result"
    }
   ],
   "source": [
    "vmodel['upper_scoretoprobability'](1.35)"
   ]
  },
  {
   "cell_type": "code",
   "execution_count": 15,
   "id": "0c1a121c",
   "metadata": {},
   "outputs": [
    {
     "data": {
      "text/plain": [
       "0.8792018963029281"
      ]
     },
     "execution_count": 15,
     "metadata": {},
     "output_type": "execute_result"
    }
   ],
   "source": [
    "vmodel['dist_lower'].ppf(.05)"
   ]
  },
  {
   "cell_type": "code",
   "execution_count": 12,
   "id": "195186ca",
   "metadata": {},
   "outputs": [
    {
     "data": {
      "text/plain": [
       "{'version': '0.0.1',\n",
       " 'model': qnet.Qnet,\n",
       " 'model_neg': qnet.Qnet,\n",
       " 'problem': '',\n",
       " 'dist_lower': <scipy.stats._distn_infrastructure.rv_continuous_frozen at 0x7f3aa9d1c6a0>,\n",
       " 'LOWER_THRESHOLD': 0.9154097135778224,\n",
       " 'dist_veritas': <scipy.stats._distn_infrastructure.rv_continuous_frozen at 0x7f3aa9d384c0>,\n",
       " 'VERITAS_THRESHOLD': 0.7766973222129768,\n",
       " 'upper_scoretoprobability': <bound method processRoc.scoretoprobability of <zedstat.zedstat.processRoc object at 0x7f3aa9d395d0>>,\n",
       " 'UPPER_THRESHOLD': 1.297963929289763,\n",
       " 'AUC': (0.8575819672131147, 0.8657822325456725, 0.849381701880557)}"
      ]
     },
     "execution_count": 12,
     "metadata": {},
     "output_type": "execute_result"
    }
   ],
   "source": [
    "vmodel"
   ]
  },
  {
   "cell_type": "code",
   "execution_count": null,
   "id": "e10bff1f",
   "metadata": {},
   "outputs": [],
   "source": [
    "save_veritas_model()"
   ]
  }
 ],
 "metadata": {
  "kernelspec": {
   "display_name": "Python 3 (ipykernel)",
   "language": "python",
   "name": "python3"
  },
  "language_info": {
   "codemirror_mode": {
    "name": "ipython",
    "version": 3
   },
   "file_extension": ".py",
   "mimetype": "text/x-python",
   "name": "python",
   "nbconvert_exporter": "python",
   "pygments_lexer": "ipython3",
   "version": "3.10.8"
  }
 },
 "nbformat": 4,
 "nbformat_minor": 5
}
