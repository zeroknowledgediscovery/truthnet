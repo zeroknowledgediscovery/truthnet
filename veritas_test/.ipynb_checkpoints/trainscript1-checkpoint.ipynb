{
 "cells": [
  {
   "cell_type": "code",
   "execution_count": 1,
   "id": "b9c53dcd",
   "metadata": {},
   "outputs": [],
   "source": [
    "from infer_veritas import  *\n",
    "from truthfinder import *"
   ]
  },
  {
   "cell_type": "code",
   "execution_count": 3,
   "id": "e23a6ae8",
   "metadata": {},
   "outputs": [
    {
     "data": {
      "application/vnd.jupyter.widget-view+json": {
       "model_id": "f9437e26a963479a95b8a6c24febf9c0",
       "version_major": 2,
       "version_minor": 0
      },
      "text/plain": [
       "  0%|          | 0/2 [00:00<?, ?it/s]"
      ]
     },
     "metadata": {},
     "output_type": "display_data"
    },
    {
     "name": "stdout",
     "output_type": "stream",
     "text": [
      "CPU times: user 10min 5s, sys: 5.38 s, total: 10min 10s\n",
      "Wall time: 10min 6s\n"
     ]
    }
   ],
   "source": [
    "%%time\n",
    "TR=truthnet(datapath='/home/ishanu/ZED/Research/truthnet/notebooks/data/ptsd/PTSD_cognet_test.csv',\n",
    "            target_label='PTSDDx',query_limit=20,VERBOSE=False)\n",
    "TR.fit(shapnum=10)\n",
    "rf=TR.calibrate(calibration_num=5000)"
   ]
  },
  {
   "cell_type": "code",
   "execution_count": 12,
   "id": "60f2279a",
   "metadata": {},
   "outputs": [],
   "source": [
    "#with gzip.open('small_veritas_007.pkl.gz', 'wb') as file:\n",
    "#    pickle.dump(TR.veritas_model, file)"
   ]
  },
  {
   "cell_type": "code",
   "execution_count": null,
   "id": "3ab4cd20",
   "metadata": {},
   "outputs": [],
   "source": [
    "TR.save('small_veritas_007.pkl.gz')"
   ]
  },
  {
   "cell_type": "code",
   "execution_count": 10,
   "id": "e41a37ea",
   "metadata": {},
   "outputs": [],
   "source": [
    "TR.veritas_model"
   ]
  },
  {
   "cell_type": "code",
   "execution_count": null,
   "id": "a98cfc03",
   "metadata": {},
   "outputs": [],
   "source": [
    "M1 = load_veritas_model('small_veritas_007.pkl.gz') \n",
    "M1"
   ]
  },
  {
   "cell_type": "code",
   "execution_count": null,
   "id": "47a881a3",
   "metadata": {},
   "outputs": [],
   "source": [
    "M1['upper_scoretoprobability'](1.35)"
   ]
  },
  {
   "cell_type": "code",
   "execution_count": null,
   "id": "0c1a121c",
   "metadata": {},
   "outputs": [],
   "source": [
    "M1['dist_lower'].ppf(.05)"
   ]
  }
 ],
 "metadata": {
  "kernelspec": {
   "display_name": "Python 3 (ipykernel)",
   "language": "python",
   "name": "python3"
  },
  "language_info": {
   "codemirror_mode": {
    "name": "ipython",
    "version": 3
   },
   "file_extension": ".py",
   "mimetype": "text/x-python",
   "name": "python",
   "nbconvert_exporter": "python",
   "pygments_lexer": "ipython3",
   "version": "3.10.8"
  }
 },
 "nbformat": 4,
 "nbformat_minor": 5
}
