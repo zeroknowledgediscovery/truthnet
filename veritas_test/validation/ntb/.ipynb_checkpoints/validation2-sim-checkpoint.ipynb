{
 "cells": [
  {
   "cell_type": "code",
   "execution_count": 8,
   "id": "c5578915",
   "metadata": {},
   "outputs": [],
   "source": [
    "from  truthfinder import *\n",
    "import json\n",
    "veritas_modelpath='../../veritas_models/veritas_ptsd.pkl.gz'"
   ]
  },
  {
   "cell_type": "code",
   "execution_count": 6,
   "id": "0ea10818",
   "metadata": {},
   "outputs": [
    {
     "data": {
      "text/plain": [
       "1.35"
      ]
     },
     "execution_count": 6,
     "metadata": {},
     "output_type": "execute_result"
    }
   ],
   "source": [
    "DIAGNOSIS_THRESHOLD"
   ]
  },
  {
   "cell_type": "code",
   "execution_count": 14,
   "id": "18d28eb2",
   "metadata": {},
   "outputs": [],
   "source": [
    "filepath='/home/ishanu/Dropbox/paraknowledge/paraknowledgecorp/saas/cloud_functions/test_deployments/ptsd.json'\n",
    "with open(filepath, 'r') as file:\n",
    "    data = json.load(file)"
   ]
  },
  {
   "cell_type": "code",
   "execution_count": 15,
   "id": "a6686437",
   "metadata": {},
   "outputs": [
    {
     "name": "stdout",
     "output_type": "stream",
     "text": [
      "ckeck passed\n"
     ]
    }
   ],
   "source": [
    "R=reveal(data,veritas_modelpath)"
   ]
  },
  {
   "cell_type": "code",
   "execution_count": 19,
   "id": "3af9e75c",
   "metadata": {},
   "outputs": [
    {
     "data": {
      "text/plain": [
       "[(0.9097560975609756, 0.33509215406485493),\n",
       " (0.9171483622350675, 0.32206048570689677),\n",
       " (0.9023090586145648, 0.40335636243749823),\n",
       " (0.8835616438356164, 0.48732794286450404),\n",
       " (0.9002932551319648, 0.36275254499520077),\n",
       " (0.7718120805369127, 0.6875845596857845),\n",
       " (0.8459796149490374, 0.5723146803202088),\n",
       " (0.8036363636363637, 0.7346105039217373),\n",
       " (0.7209062821833162, 1.2676665250829504),\n",
       " (0.6861702127659575, 1.8425360174376486),\n",
       " (0.6759656652360515, 1.7322245556420828)]"
      ]
     },
     "execution_count": 19,
     "metadata": {},
     "output_type": "execute_result"
    }
   ],
   "source": [
    "[(x.get('veritas'),x.get('score')) for x in R[0]]"
   ]
  },
  {
   "cell_type": "code",
   "execution_count": 114,
   "id": "28b66f11",
   "metadata": {},
   "outputs": [],
   "source": [
    "pathdata='/home/ishanu/ZED/Research/truthnet/notebooks/data/ptsd/PTSD_cognet_test.csv'\n",
    "df=pd.read_csv(pathdata,index_col=0)\n",
    "featurenames=df.drop('PTSDDx',axis=1).columns\n",
    "INDEX=load_from_pkl_gz(veritas_modelpath)['model'].shap_index\n",
    "training_index=load_from_pkl_gz(veritas_modelpath)['model'].training_index\n",
    "test_index=[x for x in df.index.values if x not in training_index]\n",
    "df_test=df.loc[test_index,:]\n",
    "df_test_pos=df_test[df_test.PTSDDx==1]\n",
    "df_test_neg=df_test[df_test.PTSDDx==0]\n",
    "X_pos=pd.concat([pd.DataFrame(columns=featurenames),\n",
    "                 df_test_pos.drop('PTSDDx',axis=1)[INDEX[:20]]])\\\n",
    "                .fillna('').values.astype(str)\n",
    "\n",
    "X_neg=pd.concat([pd.DataFrame(columns=featurenames),\n",
    "                 df_test_neg.drop('PTSDDx',axis=1)[INDEX[:20]]])\\\n",
    "                .fillna('').values.astype(str)\n",
    "D=df_test_pos.drop('PTSDDx',axis=1)[INDEX[:20]].T.to_dict()\n",
    "X_pos_json=[{key:D[key]} for key in D.keys()]\n",
    "D=df_test_neg.drop('PTSDDx',axis=1)[INDEX[:20]].T.to_dict()\n",
    "X_neg_json=[{key:D[key]} for key in D.keys()]"
   ]
  },
  {
   "cell_type": "code",
   "execution_count": 116,
   "id": "238077ad",
   "metadata": {},
   "outputs": [
    {
     "name": "stdout",
     "output_type": "stream",
     "text": [
      "ckeck passed\n"
     ]
    }
   ],
   "source": [
    "Rposjson=reveal(X_pos_json,veritas_modelpath,perturb=0)\n",
    "rpos_=[(x.get('veritas'),x.get('score'),x.get('lower_threshold')) for x in Rposjson[0]]\n",
    "rpos=pd.DataFrame(rpos_,columns=['veritas','upper','lower'])"
   ]
  },
  {
   "cell_type": "code",
   "execution_count": 117,
   "id": "c9a3ed77",
   "metadata": {},
   "outputs": [
    {
     "name": "stdout",
     "output_type": "stream",
     "text": [
      "ckeck passed\n"
     ]
    }
   ],
   "source": [
    "Rnegjson=reveal(X_neg_json,veritas_modelpath,perturb=0)\n",
    "rneg_=[(x.get('veritas'),x.get('score'),x.get('lower_threshold')) for x in Rnegjson[0]]\n",
    "rneg=pd.DataFrame(rneg_,columns=['veritas','upper','lower'])"
   ]
  },
  {
   "cell_type": "code",
   "execution_count": 118,
   "id": "ea3fb07c",
   "metadata": {},
   "outputs": [
    {
     "data": {
      "text/html": [
       "<div>\n",
       "<style scoped>\n",
       "    .dataframe tbody tr th:only-of-type {\n",
       "        vertical-align: middle;\n",
       "    }\n",
       "\n",
       "    .dataframe tbody tr th {\n",
       "        vertical-align: top;\n",
       "    }\n",
       "\n",
       "    .dataframe thead th {\n",
       "        text-align: right;\n",
       "    }\n",
       "</style>\n",
       "<table border=\"1\" class=\"dataframe\">\n",
       "  <thead>\n",
       "    <tr style=\"text-align: right;\">\n",
       "      <th></th>\n",
       "      <th>veritas</th>\n",
       "      <th>upper</th>\n",
       "      <th>lower</th>\n",
       "    </tr>\n",
       "  </thead>\n",
       "  <tbody>\n",
       "    <tr>\n",
       "      <th>6</th>\n",
       "      <td>0.866667</td>\n",
       "      <td>0.795759</td>\n",
       "      <td>1.097593</td>\n",
       "    </tr>\n",
       "    <tr>\n",
       "      <th>7</th>\n",
       "      <td>0.827381</td>\n",
       "      <td>0.618186</td>\n",
       "      <td>1.666876</td>\n",
       "    </tr>\n",
       "    <tr>\n",
       "      <th>12</th>\n",
       "      <td>0.827381</td>\n",
       "      <td>0.887134</td>\n",
       "      <td>1.519650</td>\n",
       "    </tr>\n",
       "    <tr>\n",
       "      <th>15</th>\n",
       "      <td>0.821429</td>\n",
       "      <td>0.921690</td>\n",
       "      <td>1.386687</td>\n",
       "    </tr>\n",
       "    <tr>\n",
       "      <th>17</th>\n",
       "      <td>0.816667</td>\n",
       "      <td>1.153851</td>\n",
       "      <td>1.262134</td>\n",
       "    </tr>\n",
       "    <tr>\n",
       "      <th>19</th>\n",
       "      <td>0.837719</td>\n",
       "      <td>1.236486</td>\n",
       "      <td>1.267416</td>\n",
       "    </tr>\n",
       "    <tr>\n",
       "      <th>22</th>\n",
       "      <td>0.800000</td>\n",
       "      <td>1.259175</td>\n",
       "      <td>1.342402</td>\n",
       "    </tr>\n",
       "    <tr>\n",
       "      <th>24</th>\n",
       "      <td>0.879762</td>\n",
       "      <td>1.232002</td>\n",
       "      <td>1.007534</td>\n",
       "    </tr>\n",
       "    <tr>\n",
       "      <th>31</th>\n",
       "      <td>0.804115</td>\n",
       "      <td>0.651352</td>\n",
       "      <td>1.527723</td>\n",
       "    </tr>\n",
       "    <tr>\n",
       "      <th>33</th>\n",
       "      <td>0.861905</td>\n",
       "      <td>0.729010</td>\n",
       "      <td>1.686308</td>\n",
       "    </tr>\n",
       "    <tr>\n",
       "      <th>37</th>\n",
       "      <td>0.833333</td>\n",
       "      <td>0.716719</td>\n",
       "      <td>1.737460</td>\n",
       "    </tr>\n",
       "    <tr>\n",
       "      <th>38</th>\n",
       "      <td>0.877352</td>\n",
       "      <td>0.817722</td>\n",
       "      <td>1.616848</td>\n",
       "    </tr>\n",
       "    <tr>\n",
       "      <th>42</th>\n",
       "      <td>0.883333</td>\n",
       "      <td>0.747809</td>\n",
       "      <td>1.314477</td>\n",
       "    </tr>\n",
       "    <tr>\n",
       "      <th>47</th>\n",
       "      <td>0.896429</td>\n",
       "      <td>0.773881</td>\n",
       "      <td>1.484928</td>\n",
       "    </tr>\n",
       "    <tr>\n",
       "      <th>51</th>\n",
       "      <td>0.948810</td>\n",
       "      <td>1.335388</td>\n",
       "      <td>0.958926</td>\n",
       "    </tr>\n",
       "    <tr>\n",
       "      <th>53</th>\n",
       "      <td>0.800000</td>\n",
       "      <td>1.143337</td>\n",
       "      <td>1.347411</td>\n",
       "    </tr>\n",
       "    <tr>\n",
       "      <th>54</th>\n",
       "      <td>0.827381</td>\n",
       "      <td>0.946449</td>\n",
       "      <td>1.428499</td>\n",
       "    </tr>\n",
       "  </tbody>\n",
       "</table>\n",
       "</div>"
      ],
      "text/plain": [
       "     veritas     upper     lower\n",
       "6   0.866667  0.795759  1.097593\n",
       "7   0.827381  0.618186  1.666876\n",
       "12  0.827381  0.887134  1.519650\n",
       "15  0.821429  0.921690  1.386687\n",
       "17  0.816667  1.153851  1.262134\n",
       "19  0.837719  1.236486  1.267416\n",
       "22  0.800000  1.259175  1.342402\n",
       "24  0.879762  1.232002  1.007534\n",
       "31  0.804115  0.651352  1.527723\n",
       "33  0.861905  0.729010  1.686308\n",
       "37  0.833333  0.716719  1.737460\n",
       "38  0.877352  0.817722  1.616848\n",
       "42  0.883333  0.747809  1.314477\n",
       "47  0.896429  0.773881  1.484928\n",
       "51  0.948810  1.335388  0.958926\n",
       "53  0.800000  1.143337  1.347411\n",
       "54  0.827381  0.946449  1.428499"
      ]
     },
     "execution_count": 118,
     "metadata": {},
     "output_type": "execute_result"
    }
   ],
   "source": [
    "rpos[rpos.veritas>.76]"
   ]
  },
  {
   "cell_type": "code",
   "execution_count": 119,
   "id": "d83c0d18",
   "metadata": {},
   "outputs": [
    {
     "name": "stderr",
     "output_type": "stream",
     "text": [
      "[distfit] >INFO> fit\n",
      "[distfit] >INFO> transform\n",
      "[distfit] >INFO> [lognorm] [0.05 sec] [RSS: 2.91877] [loc=0.713 scale=0.360]\n",
      "[distfit] >INFO> Compute confidence intervals [parametric]\n"
     ]
    },
    {
     "data": {
      "text/plain": [
       "0.09210331827725049"
      ]
     },
     "execution_count": 119,
     "metadata": {},
     "output_type": "execute_result"
    }
   ],
   "source": [
    "from jupyterthemes import jtplot\n",
    "jtplot.style()\n",
    "import  seaborn  as sns\n",
    "from distfit import distfit\n",
    "from scipy.stats import norm\n",
    "from scipy.stats import t, lognorm\n",
    "dfit=distfit(distr='lognorm')\n",
    "dfit.fit_transform(rpos.lower.values)\n",
    "df,loc,scale=dfit.model['params']\n",
    "dist = lognorm(df, loc=loc, scale=scale)\n",
    "dist.cdf(.895)"
   ]
  },
  {
   "cell_type": "code",
   "execution_count": 120,
   "id": "2db87f29",
   "metadata": {},
   "outputs": [
    {
     "name": "stderr",
     "output_type": "stream",
     "text": [
      "[distfit] >INFO> fit\n",
      "[distfit] >INFO> transform\n",
      "[distfit] >INFO> [lognorm] [0.15 sec] [RSS: 1.63105] [loc=-3.207 scale=4.535]\n",
      "[distfit] >INFO> Compute confidence intervals [parametric]\n"
     ]
    },
    {
     "data": {
      "text/plain": [
       "0.025977047176188865"
      ]
     },
     "execution_count": 120,
     "metadata": {},
     "output_type": "execute_result"
    }
   ],
   "source": [
    "dfit1=distfit(distr='lognorm')\n",
    "dfit1.fit_transform(rneg.lower.values)\n",
    "df,loc,scale=dfit1.model['params']\n",
    "dist1 = lognorm(df, loc=loc, scale=scale)\n",
    "dist1.cdf(.895)"
   ]
  },
  {
   "cell_type": "code",
   "execution_count": 121,
   "id": "7497fb7f",
   "metadata": {},
   "outputs": [
    {
     "data": {
      "text/plain": [
       "5.953058928441974e-05"
      ]
     },
     "execution_count": 121,
     "metadata": {},
     "output_type": "execute_result"
    }
   ],
   "source": [
    "dist.cdf(.763)"
   ]
  },
  {
   "cell_type": "code",
   "execution_count": null,
   "id": "0cd95707",
   "metadata": {},
   "outputs": [],
   "source": []
  }
 ],
 "metadata": {
  "kernelspec": {
   "display_name": "Python 3 (ipykernel)",
   "language": "python",
   "name": "python3"
  },
  "language_info": {
   "codemirror_mode": {
    "name": "ipython",
    "version": 3
   },
   "file_extension": ".py",
   "mimetype": "text/x-python",
   "name": "python",
   "nbconvert_exporter": "python",
   "pygments_lexer": "ipython3",
   "version": "3.10.8"
  }
 },
 "nbformat": 4,
 "nbformat_minor": 5
}
