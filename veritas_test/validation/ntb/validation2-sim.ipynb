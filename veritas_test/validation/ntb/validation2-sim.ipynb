{
 "cells": [
  {
   "cell_type": "code",
   "execution_count": 1,
   "id": "c5578915",
   "metadata": {},
   "outputs": [],
   "source": [
    "from  truthfinder import *\n",
    "import json\n",
    "from jupyterthemes import jtplot\n",
    "jtplot.style()\n",
    "\n",
    "veritas_modelpath='../../veritas_models/veritas_ptsd.pkl.gz'"
   ]
  },
  {
   "cell_type": "code",
   "execution_count": 2,
   "id": "0ea10818",
   "metadata": {},
   "outputs": [
    {
     "data": {
      "text/plain": [
       "1.35"
      ]
     },
     "execution_count": 2,
     "metadata": {},
     "output_type": "execute_result"
    }
   ],
   "source": [
    "DIAGNOSIS_THRESHOLD"
   ]
  },
  {
   "cell_type": "code",
   "execution_count": 3,
   "id": "fb310d03",
   "metadata": {},
   "outputs": [],
   "source": [
    "def getPTSDid(n):\n",
    "    idmap=np.array([1,2,3,4,5,6,7,8,9,10,11,12,13,14,15,16,17,18,19,20,21,22,23,24,25,26,27,28,29,30,31,32,33,34,35,36,37,38,39,40,41,42,44,46,47,48,49,50,51,52,53,54,55,56,57,58,59,60,61,62,63,64,65,66,67,68,71,72,73,75,76,77,78,79,80,81,82,83,84,85,86,87,88,89,90,91,92,93,94,95,96,97,98,99,100,101,102,103,104,105,106,107,108,109,110,111,112,113,114,115,116,117,118,119,121,124,125,126,127,128,129,130,131,132,133,134,135,136,137,138,139,140,141,142,143,144,145,146,147,148,149,150,151,152,153,154,155,156,157,158,159,160,161,162,163,164,165,166,167,168,169,170,171,172,173,174,175,176,177,178,179,180,181,182,183,184,185,186,187,188,189,190,191,192,193,194,195,196,197,198,199,200,201,202,203,204,205,206,207,208,209,210,211])\n",
    "    return 'ptsd'+str(idmap[n])\n"
   ]
  },
  {
   "cell_type": "code",
   "execution_count": 4,
   "id": "0cd95707",
   "metadata": {},
   "outputs": [],
   "source": [
    "import pandas as pd\n",
    "resp=pd.read_csv('../data/processed_cat.csv',\n",
    "            names=['subid','qid','catid','resp'])"
   ]
  },
  {
   "cell_type": "code",
   "execution_count": 5,
   "id": "9670d646",
   "metadata": {},
   "outputs": [],
   "source": [
    "resp['PTSDid'] = [getPTSDid(x-1) for x in resp.catid.values]"
   ]
  },
  {
   "cell_type": "code",
   "execution_count": 6,
   "id": "ca952b13",
   "metadata": {},
   "outputs": [],
   "source": [
    "catindex=np.array(list(set(resp.PTSDid.values)))\n",
    "np.savetxt('catindex.txt',catindex,fmt='%s')"
   ]
  },
  {
   "cell_type": "code",
   "execution_count": 7,
   "id": "a82f7486",
   "metadata": {},
   "outputs": [],
   "source": [
    "def getDIct(df):\n",
    "    # Process the DataFrame to create a nested dictionary as described: {'1': {'PTSD156': 3, 'PTSD147': 3, ...}}\n",
    "    processed_data = {}\n",
    "\n",
    "    for index, row in df.iterrows():\n",
    "        subject_id = str(row['subid'])  # Assuming 'qid' is the subject ID.\n",
    "        PTSDid = row['PTSDid']\n",
    "        resp = row['resp']\n",
    "\n",
    "        if subject_id not in processed_data:\n",
    "            processed_data[subject_id] = {}\n",
    "\n",
    "        processed_data[subject_id][PTSDid] = resp\n",
    "    return processed_data"
   ]
  },
  {
   "cell_type": "code",
   "execution_count": 8,
   "id": "959e3879",
   "metadata": {},
   "outputs": [],
   "source": [
    "respjson15=[getDIct(resp[resp.subid==i]) for i in np.arange(1,714) if resp[resp.subid==i].index.size > 15]\n",
    "respjson=[getDIct(resp[resp.subid==i]) for i in np.arange(1,714)]"
   ]
  },
  {
   "cell_type": "code",
   "execution_count": 18,
   "id": "5693f2e3",
   "metadata": {},
   "outputs": [
    {
     "name": "stdout",
     "output_type": "stream",
     "text": [
      "ckeck passed\n"
     ]
    },
    {
     "data": {
      "text/plain": [
       "array([[<AxesSubplot:title={'center':'veritas'}>,\n",
       "        <AxesSubplot:title={'center':'upper'}>],\n",
       "       [<AxesSubplot:title={'center':'lower'}>, <AxesSubplot:>]],\n",
       "      dtype=object)"
      ]
     },
     "execution_count": 18,
     "metadata": {},
     "output_type": "execute_result"
    },
    {
     "data": {
      "image/png": "[encoded data removed]",
      "text/plain": [
       "<Figure size 432x288 with 4 Axes>"
      ]
     },
     "metadata": {
      "needs_background": "dark"
     },
     "output_type": "display_data"
    }
   ],
   "source": [
    "Rs=reveal(respjson,veritas_modelpath)\n",
    "r_=[(x.get('veritas'),x.get('score'),x.get('lower_threshold')) for x in Rs[0]]\n",
    "r=pd.DataFrame(r_,columns=['veritas','upper','lower'])\n",
    "r.hist()"
   ]
  },
  {
   "cell_type": "code",
   "execution_count": 17,
   "id": "b835c93f",
   "metadata": {},
   "outputs": [
    {
     "data": {
      "text/html": [
       "<div>\n",
       "<style scoped>\n",
       "    .dataframe tbody tr th:only-of-type {\n",
       "        vertical-align: middle;\n",
       "    }\n",
       "\n",
       "    .dataframe tbody tr th {\n",
       "        vertical-align: top;\n",
       "    }\n",
       "\n",
       "    .dataframe thead th {\n",
       "        text-align: right;\n",
       "    }\n",
       "</style>\n",
       "<table border=\"1\" class=\"dataframe\">\n",
       "  <thead>\n",
       "    <tr style=\"text-align: right;\">\n",
       "      <th></th>\n",
       "      <th>veritas</th>\n",
       "      <th>upper</th>\n",
       "      <th>lower</th>\n",
       "    </tr>\n",
       "  </thead>\n",
       "  <tbody>\n",
       "    <tr>\n",
       "      <th>0</th>\n",
       "      <td>0.766667</td>\n",
       "      <td>1.248321</td>\n",
       "      <td>1.296300</td>\n",
       "    </tr>\n",
       "    <tr>\n",
       "      <th>1</th>\n",
       "      <td>0.800000</td>\n",
       "      <td>0.799385</td>\n",
       "      <td>1.354138</td>\n",
       "    </tr>\n",
       "    <tr>\n",
       "      <th>2</th>\n",
       "      <td>0.866667</td>\n",
       "      <td>1.098912</td>\n",
       "      <td>1.820996</td>\n",
       "    </tr>\n",
       "    <tr>\n",
       "      <th>3</th>\n",
       "      <td>0.933333</td>\n",
       "      <td>0.631032</td>\n",
       "      <td>1.409223</td>\n",
       "    </tr>\n",
       "    <tr>\n",
       "      <th>4</th>\n",
       "      <td>0.957123</td>\n",
       "      <td>0.539697</td>\n",
       "      <td>2.417792</td>\n",
       "    </tr>\n",
       "    <tr>\n",
       "      <th>...</th>\n",
       "      <td>...</td>\n",
       "      <td>...</td>\n",
       "      <td>...</td>\n",
       "    </tr>\n",
       "    <tr>\n",
       "      <th>708</th>\n",
       "      <td>0.850000</td>\n",
       "      <td>0.725496</td>\n",
       "      <td>1.657372</td>\n",
       "    </tr>\n",
       "    <tr>\n",
       "      <th>709</th>\n",
       "      <td>0.833333</td>\n",
       "      <td>1.834566</td>\n",
       "      <td>0.940032</td>\n",
       "    </tr>\n",
       "    <tr>\n",
       "      <th>710</th>\n",
       "      <td>0.950000</td>\n",
       "      <td>0.380633</td>\n",
       "      <td>1.975486</td>\n",
       "    </tr>\n",
       "    <tr>\n",
       "      <th>711</th>\n",
       "      <td>0.824992</td>\n",
       "      <td>0.762877</td>\n",
       "      <td>1.911551</td>\n",
       "    </tr>\n",
       "    <tr>\n",
       "      <th>712</th>\n",
       "      <td>0.887500</td>\n",
       "      <td>0.210674</td>\n",
       "      <td>1.605548</td>\n",
       "    </tr>\n",
       "  </tbody>\n",
       "</table>\n",
       "<p>713 rows × 3 columns</p>\n",
       "</div>"
      ],
      "text/plain": [
       "      veritas     upper     lower\n",
       "0    0.766667  1.248321  1.296300\n",
       "1    0.800000  0.799385  1.354138\n",
       "2    0.866667  1.098912  1.820996\n",
       "3    0.933333  0.631032  1.409223\n",
       "4    0.957123  0.539697  2.417792\n",
       "..        ...       ...       ...\n",
       "708  0.850000  0.725496  1.657372\n",
       "709  0.833333  1.834566  0.940032\n",
       "710  0.950000  0.380633  1.975486\n",
       "711  0.824992  0.762877  1.911551\n",
       "712  0.887500  0.210674  1.605548\n",
       "\n",
       "[713 rows x 3 columns]"
      ]
     },
     "execution_count": 17,
     "metadata": {},
     "output_type": "execute_result"
    }
   ],
   "source": [
    "r#[r>1.245]"
   ]
  },
  {
   "cell_type": "code",
   "execution_count": 14,
   "id": "0e3afd59",
   "metadata": {},
   "outputs": [
    {
     "data": {
      "text/plain": [
       "713"
      ]
     },
     "execution_count": 14,
     "metadata": {},
     "output_type": "execute_result"
    }
   ],
   "source": [
    "len(respjson)"
   ]
  },
  {
   "cell_type": "code",
   "execution_count": 15,
   "id": "087b5ccc",
   "metadata": {},
   "outputs": [
    {
     "data": {
      "text/plain": [
       "{'713': {'ptsd156': 1,\n",
       "  'ptsd210': 1,\n",
       "  'ptsd152': 1,\n",
       "  'ptsd189': 1,\n",
       "  'ptsd155': 1,\n",
       "  'ptsd25': 1,\n",
       "  'ptsd146': 1,\n",
       "  'ptsd147': 1,\n",
       "  'ptsd48': 1,\n",
       "  'ptsd207': 1,\n",
       "  'ptsd188': 1,\n",
       "  'ptsd150': 1,\n",
       "  'ptsd37': 1,\n",
       "  'ptsd84': 1,\n",
       "  'ptsd151': 1,\n",
       "  'ptsd16': 1,\n",
       "  'ptsd184': 1,\n",
       "  'ptsd77': 1,\n",
       "  'ptsd89': 1,\n",
       "  'ptsd81': 1,\n",
       "  'ptsd195': 1,\n",
       "  'ptsd173': 1}}"
      ]
     },
     "execution_count": 15,
     "metadata": {},
     "output_type": "execute_result"
    }
   ],
   "source": [
    "respjson[712]"
   ]
  },
  {
   "cell_type": "code",
   "execution_count": 16,
   "id": "c083dccb",
   "metadata": {},
   "outputs": [
    {
     "name": "stdout",
     "output_type": "stream",
     "text": [
      "ckeck passed\n"
     ]
    },
    {
     "data": {
      "text/plain": [
       "([{'subject_id': '713',\n",
       "   'responses': {'ptsd156': '1',\n",
       "    'ptsd210': '1',\n",
       "    'ptsd152': '1',\n",
       "    'ptsd189': '1',\n",
       "    'ptsd155': '1',\n",
       "    'ptsd25': '1',\n",
       "    'ptsd146': '1',\n",
       "    'ptsd147': '1',\n",
       "    'ptsd48': '1',\n",
       "    'ptsd207': '1',\n",
       "    'ptsd188': '1',\n",
       "    'ptsd150': '1',\n",
       "    'ptsd37': '1',\n",
       "    'ptsd84': '1',\n",
       "    'ptsd151': '1',\n",
       "    'ptsd16': '1',\n",
       "    'ptsd184': '1',\n",
       "    'ptsd77': '1',\n",
       "    'ptsd89': '1',\n",
       "    'ptsd81': '1',\n",
       "    'ptsd195': '1',\n",
       "    'ptsd173': '1'},\n",
       "   'veritas': 0.8666666666666667,\n",
       "   'veritas_prob': 0.9978175324268892,\n",
       "   'score': 0.3406611117597447,\n",
       "   'lower_threshold': 1.5542711967601646}],\n",
       " ['No PTSD indicated. Malingering test unnecessary'])"
      ]
     },
     "execution_count": 16,
     "metadata": {},
     "output_type": "execute_result"
    }
   ],
   "source": [
    "reveal([respjson[712]],veritas_modelpath)"
   ]
  },
  {
   "cell_type": "code",
   "execution_count": 19,
   "id": "5aa025c3",
   "metadata": {},
   "outputs": [
    {
     "name": "stdout",
     "output_type": "stream",
     "text": [
      "ckeck passed\n"
     ]
    },
    {
     "data": {
      "text/plain": [
       "array([[<AxesSubplot:title={'center':'veritas'}>,\n",
       "        <AxesSubplot:title={'center':'upper'}>],\n",
       "       [<AxesSubplot:title={'center':'lower'}>, <AxesSubplot:>]],\n",
       "      dtype=object)"
      ]
     },
     "execution_count": 19,
     "metadata": {},
     "output_type": "execute_result"
    },
    {
     "data": {
      "image/png": "[encoded data removed]",
      "text/plain": [
       "<Figure size 432x288 with 4 Axes>"
      ]
     },
     "metadata": {
      "needs_background": "dark"
     },
     "output_type": "display_data"
    }
   ],
   "source": [
    "Rs15=reveal(respjson15,veritas_modelpath)\n",
    "r15_=[(x.get('veritas'),x.get('score'),x.get('lower_threshold')) for x in Rs15[0]]\n",
    "r15=pd.DataFrame(r15_,columns=['veritas','upper','lower'])\n",
    "r15.hist()"
   ]
  },
  {
   "cell_type": "code",
   "execution_count": 22,
   "id": "97f12fc0",
   "metadata": {},
   "outputs": [
    {
     "data": {
      "text/html": [
       "<div>\n",
       "<style scoped>\n",
       "    .dataframe tbody tr th:only-of-type {\n",
       "        vertical-align: middle;\n",
       "    }\n",
       "\n",
       "    .dataframe tbody tr th {\n",
       "        vertical-align: top;\n",
       "    }\n",
       "\n",
       "    .dataframe thead th {\n",
       "        text-align: right;\n",
       "    }\n",
       "</style>\n",
       "<table border=\"1\" class=\"dataframe\">\n",
       "  <thead>\n",
       "    <tr style=\"text-align: right;\">\n",
       "      <th></th>\n",
       "      <th>veritas</th>\n",
       "      <th>upper</th>\n",
       "      <th>lower</th>\n",
       "    </tr>\n",
       "  </thead>\n",
       "  <tbody>\n",
       "    <tr>\n",
       "      <th>0</th>\n",
       "      <td>0.900000</td>\n",
       "      <td>0.332980</td>\n",
       "      <td>1.626566</td>\n",
       "    </tr>\n",
       "    <tr>\n",
       "      <th>1</th>\n",
       "      <td>0.900000</td>\n",
       "      <td>1.101811</td>\n",
       "      <td>1.122658</td>\n",
       "    </tr>\n",
       "    <tr>\n",
       "      <th>3</th>\n",
       "      <td>0.952381</td>\n",
       "      <td>0.267430</td>\n",
       "      <td>2.104426</td>\n",
       "    </tr>\n",
       "    <tr>\n",
       "      <th>4</th>\n",
       "      <td>0.959853</td>\n",
       "      <td>0.242684</td>\n",
       "      <td>1.831524</td>\n",
       "    </tr>\n",
       "    <tr>\n",
       "      <th>5</th>\n",
       "      <td>0.900000</td>\n",
       "      <td>0.522524</td>\n",
       "      <td>1.780190</td>\n",
       "    </tr>\n",
       "    <tr>\n",
       "      <th>...</th>\n",
       "      <td>...</td>\n",
       "      <td>...</td>\n",
       "      <td>...</td>\n",
       "    </tr>\n",
       "    <tr>\n",
       "      <th>91</th>\n",
       "      <td>0.833333</td>\n",
       "      <td>0.994009</td>\n",
       "      <td>1.434346</td>\n",
       "    </tr>\n",
       "    <tr>\n",
       "      <th>92</th>\n",
       "      <td>0.900000</td>\n",
       "      <td>0.403821</td>\n",
       "      <td>1.214477</td>\n",
       "    </tr>\n",
       "    <tr>\n",
       "      <th>93</th>\n",
       "      <td>0.910581</td>\n",
       "      <td>0.371037</td>\n",
       "      <td>1.710925</td>\n",
       "    </tr>\n",
       "    <tr>\n",
       "      <th>94</th>\n",
       "      <td>0.777778</td>\n",
       "      <td>0.238443</td>\n",
       "      <td>1.710605</td>\n",
       "    </tr>\n",
       "    <tr>\n",
       "      <th>95</th>\n",
       "      <td>0.887500</td>\n",
       "      <td>0.267305</td>\n",
       "      <td>1.641770</td>\n",
       "    </tr>\n",
       "  </tbody>\n",
       "</table>\n",
       "<p>90 rows × 3 columns</p>\n",
       "</div>"
      ],
      "text/plain": [
       "     veritas     upper     lower\n",
       "0   0.900000  0.332980  1.626566\n",
       "1   0.900000  1.101811  1.122658\n",
       "3   0.952381  0.267430  2.104426\n",
       "4   0.959853  0.242684  1.831524\n",
       "5   0.900000  0.522524  1.780190\n",
       "..       ...       ...       ...\n",
       "91  0.833333  0.994009  1.434346\n",
       "92  0.900000  0.403821  1.214477\n",
       "93  0.910581  0.371037  1.710925\n",
       "94  0.777778  0.238443  1.710605\n",
       "95  0.887500  0.267305  1.641770\n",
       "\n",
       "[90 rows x 3 columns]"
      ]
     },
     "execution_count": 22,
     "metadata": {},
     "output_type": "execute_result"
    }
   ],
   "source": [
    "r15[r15.upper<1.245]"
   ]
  },
  {
   "cell_type": "code",
   "execution_count": 23,
   "id": "dc82ca9d",
   "metadata": {},
   "outputs": [
    {
     "data": {
      "text/html": [
       "<div>\n",
       "<style scoped>\n",
       "    .dataframe tbody tr th:only-of-type {\n",
       "        vertical-align: middle;\n",
       "    }\n",
       "\n",
       "    .dataframe tbody tr th {\n",
       "        vertical-align: top;\n",
       "    }\n",
       "\n",
       "    .dataframe thead th {\n",
       "        text-align: right;\n",
       "    }\n",
       "</style>\n",
       "<table border=\"1\" class=\"dataframe\">\n",
       "  <thead>\n",
       "    <tr style=\"text-align: right;\">\n",
       "      <th></th>\n",
       "      <th>veritas</th>\n",
       "      <th>upper</th>\n",
       "      <th>lower</th>\n",
       "    </tr>\n",
       "  </thead>\n",
       "  <tbody>\n",
       "    <tr>\n",
       "      <th>2</th>\n",
       "      <td>0.700000</td>\n",
       "      <td>1.380465</td>\n",
       "      <td>1.083402</td>\n",
       "    </tr>\n",
       "    <tr>\n",
       "      <th>20</th>\n",
       "      <td>0.733333</td>\n",
       "      <td>1.379716</td>\n",
       "      <td>1.159107</td>\n",
       "    </tr>\n",
       "    <tr>\n",
       "      <th>21</th>\n",
       "      <td>0.600000</td>\n",
       "      <td>1.797375</td>\n",
       "      <td>0.883229</td>\n",
       "    </tr>\n",
       "    <tr>\n",
       "      <th>29</th>\n",
       "      <td>0.743758</td>\n",
       "      <td>1.596197</td>\n",
       "      <td>1.101566</td>\n",
       "    </tr>\n",
       "    <tr>\n",
       "      <th>30</th>\n",
       "      <td>0.733333</td>\n",
       "      <td>1.539804</td>\n",
       "      <td>1.148937</td>\n",
       "    </tr>\n",
       "    <tr>\n",
       "      <th>40</th>\n",
       "      <td>0.866667</td>\n",
       "      <td>1.274734</td>\n",
       "      <td>1.154279</td>\n",
       "    </tr>\n",
       "  </tbody>\n",
       "</table>\n",
       "</div>"
      ],
      "text/plain": [
       "     veritas     upper     lower\n",
       "2   0.700000  1.380465  1.083402\n",
       "20  0.733333  1.379716  1.159107\n",
       "21  0.600000  1.797375  0.883229\n",
       "29  0.743758  1.596197  1.101566\n",
       "30  0.733333  1.539804  1.148937\n",
       "40  0.866667  1.274734  1.154279"
      ]
     },
     "execution_count": 23,
     "metadata": {},
     "output_type": "execute_result"
    }
   ],
   "source": [
    "r15[r15.upper>1.245]"
   ]
  },
  {
   "cell_type": "code",
   "execution_count": 24,
   "id": "50a3c4fb",
   "metadata": {},
   "outputs": [
    {
     "data": {
      "text/plain": [
       "{'33': {'ptsd156': 3,\n",
       "  'ptsd148': 3,\n",
       "  'ptsd160': 5,\n",
       "  'ptsd190': 2,\n",
       "  'ptsd147': 3,\n",
       "  'ptsd189': 3,\n",
       "  'ptsd153': 4,\n",
       "  'ptsd155': 3,\n",
       "  'ptsd18': 5,\n",
       "  'ptsd146': 3,\n",
       "  'ptsd211': 4,\n",
       "  'ptsd152': 4,\n",
       "  'ptsd145': 3,\n",
       "  'ptsd207': 4,\n",
       "  'ptsd25': 4,\n",
       "  'ptsd169': 3,\n",
       "  'ptsd159': 3,\n",
       "  'ptsd180': 3}}"
      ]
     },
     "execution_count": 24,
     "metadata": {},
     "output_type": "execute_result"
    }
   ],
   "source": [
    "respjson15[2]"
   ]
  },
  {
   "cell_type": "code",
   "execution_count": 47,
   "id": "c0fcc798",
   "metadata": {},
   "outputs": [
    {
     "data": {
      "text/plain": [
       "{'nodx': 570,\n",
       " 'dx': 143,\n",
       " 'malingering1': 22,\n",
       " 'malingering2': 20,\n",
       " 'malingering_total': 42}"
      ]
     },
     "execution_count": 47,
     "metadata": {},
     "output_type": "execute_result"
    }
   ],
   "source": [
    "RESULT={}\n",
    "RESULT['nodx']=r[r.upper<1.245].index.size\n",
    "RESULT['dx']=r.index.size-RESULT['nodx']\n",
    "RESULT['malingering1'] = r[(r.upper>1.245) & (r.veritas>.81)].index.size\n",
    "RESULT['malingering2'] = r[(r.lower<.9) & (r.upper>1.245)].index.size\n",
    "RESULT['malingering_total'] = RESULT['malingering1']+RESULT['malingering2']\n",
    "\n",
    "RESULT"
   ]
  },
  {
   "cell_type": "code",
   "execution_count": 36,
   "id": "a8b6e26a",
   "metadata": {},
   "outputs": [
    {
     "data": {
      "text/plain": [
       "0.27450980392156865"
      ]
     },
     "execution_count": 36,
     "metadata": {},
     "output_type": "execute_result"
    }
   ],
   "source": [
    "56/204"
   ]
  },
  {
   "cell_type": "code",
   "execution_count": 45,
   "id": "14f8e6ec",
   "metadata": {},
   "outputs": [
    {
     "data": {
      "text/plain": [
       "0.2005610098176718"
      ]
     },
     "execution_count": 45,
     "metadata": {},
     "output_type": "execute_result"
    }
   ],
   "source": [
    "143/(713)\n"
   ]
  },
  {
   "cell_type": "code",
   "execution_count": 46,
   "id": "ec8b9452",
   "metadata": {},
   "outputs": [
    {
     "data": {
      "text/plain": [
       "0.2857142857142857"
      ]
     },
     "execution_count": 46,
     "metadata": {},
     "output_type": "execute_result"
    }
   ],
   "source": [
    "42/147"
   ]
  },
  {
   "cell_type": "code",
   "execution_count": null,
   "id": "66c5fa5c",
   "metadata": {},
   "outputs": [],
   "source": []
  }
 ],
 "metadata": {
  "kernelspec": {
   "display_name": "Python 3 (ipykernel)",
   "language": "python",
   "name": "python3"
  },
  "language_info": {
   "codemirror_mode": {
    "name": "ipython",
    "version": 3
   },
   "file_extension": ".py",
   "mimetype": "text/x-python",
   "name": "python",
   "nbconvert_exporter": "python",
   "pygments_lexer": "ipython3",
   "version": "3.10.8"
  }
 },
 "nbformat": 4,
 "nbformat_minor": 5
}
