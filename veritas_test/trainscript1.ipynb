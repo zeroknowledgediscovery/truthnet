{
 "cells": [
  {
   "cell_type": "code",
   "execution_count": 5,
   "id": "b9c53dcd",
   "metadata": {},
   "outputs": [],
   "source": [
    "from truthnet import  truthnet, load_veritas_model"
   ]
  },
  {
   "cell_type": "code",
   "execution_count": 6,
   "id": "e2efaa42",
   "metadata": {},
   "outputs": [
    {
     "data": {
      "application/vnd.jupyter.widget-view+json": {
       "model_id": "1bbd675c66d14dbbbc4d401848aa1fbc",
       "version_major": 2,
       "version_minor": 0
      },
      "text/plain": [
       "  0%|          | 0/10 [00:00<?, ?it/s]"
      ]
     },
     "metadata": {},
     "output_type": "display_data"
    },
    {
     "name": "stderr",
     "output_type": "stream",
     "text": [
      "100%|█████████████████████████████████████| 5000/5000 [1:07:04<00:00,  1.24it/s]\n"
     ]
    },
    {
     "name": "stdout",
     "output_type": "stream",
     "text": [
      "CPU times: user 27min 41s, sys: 27.3 s, total: 28min 8s\n",
      "Wall time: 1h 34min 34s\n"
     ]
    }
   ],
   "source": [
    "%%time\n",
    "TR=truthnet(datapath='/home/ishanu/ZED/Research/truthnet/notebooks/data/ptsd/PTSD_cognet_test.csv',\n",
    "            target_label='PTSDDx',query_limit=20,VERBOSE=False)\n",
    "TR.fit(shapnum=10)\n",
    "rf=TR.calibrate(calibration_num=5000)\n",
    "TR.save('./veritas_models/veritas_002.pkl.gz')"
   ]
  },
  {
   "cell_type": "code",
   "execution_count": 7,
   "id": "a98cfc03",
   "metadata": {},
   "outputs": [
    {
     "data": {
      "text/plain": [
       "{'version': '0.0.1',\n",
       " 'model': qnet.Qnet,\n",
       " 'model_neg': qnet.Qnet,\n",
       " 'problem': '',\n",
       " 'calibration_lower': array([1.20398725, 1.20398725, 1.20398725, ..., 1.29696621, 1.29880653,\n",
       "        1.29880653]),\n",
       " 'calibration_veritas': array([0.65791448, 0.65791448, 0.65791448, ..., 0.69963702, 0.68822158,\n",
       "        0.68822158]),\n",
       " 'dist_lower': <scipy.stats._distn_infrastructure.rv_continuous_frozen at 0x7f3b21a31150>,\n",
       " 'LOWER_THRESHOLD': 1.1457407246215392,\n",
       " 'dist_veritas': <scipy.stats._distn_infrastructure.rv_continuous_frozen at 0x7f3b21a31ab0>,\n",
       " 'VERITAS_THRESHOLD': 0.6971038897415065,\n",
       " 'upper_scoretoprobability': <bound method processRoc.scoretoprobability of <zedstat.zedstat.processRoc object at 0x7f3b21a329e0>>,\n",
       " 'UPPER_THRESHOLD': 1.2683587177075477,\n",
       " 'AUC': (0.844551724137931, 0.8521131405190563, 0.8369903077568057)}"
      ]
     },
     "execution_count": 7,
     "metadata": {},
     "output_type": "execute_result"
    }
   ],
   "source": [
    "M1 = load_veritas_model('./veritas_models/veritas_002.pkl.gz') \n",
    "M1"
   ]
  },
  {
   "cell_type": "code",
   "execution_count": 8,
   "id": "47a881a3",
   "metadata": {},
   "outputs": [
    {
     "data": {
      "text/plain": [
       "0.9493796526054589"
      ]
     },
     "execution_count": 8,
     "metadata": {},
     "output_type": "execute_result"
    }
   ],
   "source": [
    "M1['upper_scoretoprobability'](1.35)"
   ]
  },
  {
   "cell_type": "code",
   "execution_count": 9,
   "id": "0c1a121c",
   "metadata": {},
   "outputs": [
    {
     "data": {
      "text/plain": [
       "0.999999996561564"
      ]
     },
     "execution_count": 9,
     "metadata": {},
     "output_type": "execute_result"
    }
   ],
   "source": [
    "M1['dist_veritas'].cdf(.75)"
   ]
  },
  {
   "cell_type": "code",
   "execution_count": null,
   "id": "3091bfcd",
   "metadata": {},
   "outputs": [],
   "source": []
  },
  {
   "cell_type": "code",
   "execution_count": null,
   "id": "c448a4b2",
   "metadata": {},
   "outputs": [],
   "source": []
  }
 ],
 "metadata": {
  "kernelspec": {
   "display_name": "Python 3 (ipykernel)",
   "language": "python",
   "name": "python3"
  },
  "language_info": {
   "codemirror_mode": {
    "name": "ipython",
    "version": 3
   },
   "file_extension": ".py",
   "mimetype": "text/x-python",
   "name": "python",
   "nbconvert_exporter": "python",
   "pygments_lexer": "ipython3",
   "version": "3.10.8"
  }
 },
 "nbformat": 4,
 "nbformat_minor": 5
}
