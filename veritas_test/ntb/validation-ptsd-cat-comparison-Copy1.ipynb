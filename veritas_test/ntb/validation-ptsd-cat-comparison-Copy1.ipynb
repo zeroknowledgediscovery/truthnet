{
 "cells": [
  {
   "cell_type": "code",
   "execution_count": 190,
   "id": "fa9b9b30",
   "metadata": {},
   "outputs": [],
   "source": [
    "# validationf VeRITAS\n",
    "# we validate how well veritas is doing when we cannot ask too many question\n",
    "# Typically, we want to evaluate performance in conjunction with a CAT framework\n",
    "# Conclusion: It seems CAT's question generation is not abest for Veritas\n",
    "# we can ask similar number of questions, but get much better performance if we \n",
    "# generate the questiosn differently, namely questions that not only \n",
    "# take into account the goal of getting to diagnosis, but also detection of malingering"
   ]
  },
  {
   "cell_type": "code",
   "execution_count": 191,
   "id": "3745309f",
   "metadata": {},
   "outputs": [],
   "source": [
    "def selrandomq(jsondata,num):\n",
    "    '''\n",
    "    sel random num number of responses from a json\n",
    "    '''\n",
    "    from random import sample \n",
    "    subname=list(jsondata.keys())[0]\n",
    "    keys=list(jsondata[subname].keys())\n",
    "    return {subname: {k:jsondata[subname][k] for k in sample(keys,num)}}\n",
    "#selrandomq(fulldata20[0],5)    "
   ]
  },
  {
   "cell_type": "code",
   "execution_count": 192,
   "id": "b9c53dcd",
   "metadata": {},
   "outputs": [],
   "source": [
    "import sys\n",
    "sys.path.append(\"../\") \n",
    "from infer_veritas import  *\n",
    "from truthfinder import *\n",
    "import gzip"
   ]
  },
  {
   "cell_type": "code",
   "execution_count": 193,
   "id": "bc77720c",
   "metadata": {},
   "outputs": [
    {
     "name": "stdout",
     "output_type": "stream",
     "text": [
      "/home/ishanu/ZED/Research/truthnet/veritas_test/ntb\r\n"
     ]
    }
   ],
   "source": [
    "! pwd"
   ]
  },
  {
   "cell_type": "code",
   "execution_count": 194,
   "id": "787b2477",
   "metadata": {},
   "outputs": [],
   "source": [
    "CATTHETA=pd.read_csv('../response_jsons/cattheta713.csv',index_col=0)\n",
    "with gzip.open('../response_jsons/validation_cat713.pkl.gz', 'rb') as filepath:\n",
    "    cat713data = pickle.load(filepath)\n",
    "Veritas_model_path='../veritas_models/veritas_ptsd.pkl.gz'    \n",
    "\n",
    "Veritas_model_path='../veritas_models/veritas_001.pkl.gz'"
   ]
  },
  {
   "cell_type": "code",
   "execution_count": 195,
   "id": "60956a5e",
   "metadata": {},
   "outputs": [],
   "source": [
    "with gzip.open(Veritas_model_path, 'rb') as filepath:\n",
    "    TR= pickle.load(filepath)"
   ]
  },
  {
   "cell_type": "code",
   "execution_count": 197,
   "id": "4feb7e32",
   "metadata": {},
   "outputs": [
    {
     "data": {
      "text/plain": [
       "{'version': '0.0.1',\n",
       " 'model': qnet.Qnet,\n",
       " 'model_neg': qnet.Qnet,\n",
       " 'problem': '',\n",
       " 'dist_lower': <scipy.stats._distn_infrastructure.rv_continuous_frozen at 0x7f0204989ff0>,\n",
       " 'LOWER_THRESHOLD': 0.9154097135778224,\n",
       " 'dist_veritas': <scipy.stats._distn_infrastructure.rv_continuous_frozen at 0x7f020498a950>,\n",
       " 'VERITAS_THRESHOLD': 0.7766973222129768,\n",
       " 'upper_scoretoprobability': <bound method processRoc.scoretoprobability of <zedstat.zedstat.processRoc object at 0x7f020498b850>>,\n",
       " 'UPPER_THRESHOLD': 1.297963929289763,\n",
       " 'AUC': (0.8575819672131147, 0.8657822325456725, 0.849381701880557)}"
      ]
     },
     "execution_count": 197,
     "metadata": {},
     "output_type": "execute_result"
    }
   ],
   "source": [
    "TR"
   ]
  },
  {
   "cell_type": "code",
   "execution_count": 199,
   "id": "d949616f",
   "metadata": {},
   "outputs": [],
   "source": [
    "Vm=TR"
   ]
  },
  {
   "cell_type": "code",
   "execution_count": 200,
   "id": "169ffc1f",
   "metadata": {},
   "outputs": [
    {
     "data": {
      "text/plain": [
       "423"
      ]
     },
     "execution_count": 200,
     "metadata": {},
     "output_type": "execute_result"
    }
   ],
   "source": [
    "CATTHRESHOLD=0\n",
    "DX=(CATTHETA.theta<CATTHRESHOLD).values.astype(int)\n",
    "DX.sum()"
   ]
  },
  {
   "cell_type": "code",
   "execution_count": 201,
   "id": "1aa126ad",
   "metadata": {},
   "outputs": [
    {
     "name": "stdout",
     "output_type": "stream",
     "text": [
      "ckeck passed\n"
     ]
    }
   ],
   "source": [
    "Rcat=reveal(cat713data,Vm,perturb=0,model_path=False)"
   ]
  },
  {
   "cell_type": "code",
   "execution_count": 205,
   "id": "0adb22d4",
   "metadata": {},
   "outputs": [],
   "source": [
    "def malingering(lower_threshold,veritas,upper,C0=1,C1=0.76,C2=1.35):\n",
    "    M=False\n",
    "    if (lower_threshold < C0) and (upper > C2):\n",
    "        M=True\n",
    "    if (veritas > C1) and (upper > C2):\n",
    "        M=True\n",
    "    return int(M)\n",
    "\n",
    "\n",
    "def malingeringCAT(lower_threshold,veritas,theta,C0=1,C1=0.76,C2=0):\n",
    "    M=False\n",
    "    if (lower_threshold < C0) and (theta > C2):\n",
    "        M=True\n",
    "    if (veritas > C1) and (theta > C2):\n",
    "        M=True\n",
    "    return int(M)"
   ]
  },
  {
   "cell_type": "code",
   "execution_count": 219,
   "id": "6db6e832",
   "metadata": {
    "scrolled": true
   },
   "outputs": [
    {
     "data": {
      "text/html": [
       "<div>\n",
       "<style scoped>\n",
       "    .dataframe tbody tr th:only-of-type {\n",
       "        vertical-align: middle;\n",
       "    }\n",
       "\n",
       "    .dataframe tbody tr th {\n",
       "        vertical-align: top;\n",
       "    }\n",
       "\n",
       "    .dataframe thead th {\n",
       "        text-align: right;\n",
       "    }\n",
       "</style>\n",
       "<table border=\"1\" class=\"dataframe\">\n",
       "  <thead>\n",
       "    <tr style=\"text-align: right;\">\n",
       "      <th></th>\n",
       "      <th>mgRcat</th>\n",
       "      <th>theta</th>\n",
       "      <th>mgcat</th>\n",
       "      <th>k</th>\n",
       "      <th>v</th>\n",
       "      <th>s</th>\n",
       "      <th>dxRcat</th>\n",
       "      <th>dxcat</th>\n",
       "    </tr>\n",
       "  </thead>\n",
       "  <tbody>\n",
       "    <tr>\n",
       "      <th>mgRcat</th>\n",
       "      <td>1.000000</td>\n",
       "      <td>-0.112392</td>\n",
       "      <td>-0.193858</td>\n",
       "      <td>-0.537014</td>\n",
       "      <td>-0.305197</td>\n",
       "      <td>0.696912</td>\n",
       "      <td>0.789156</td>\n",
       "      <td>-0.227536</td>\n",
       "    </tr>\n",
       "    <tr>\n",
       "      <th>theta</th>\n",
       "      <td>-0.112392</td>\n",
       "      <td>1.000000</td>\n",
       "      <td>0.724377</td>\n",
       "      <td>0.110626</td>\n",
       "      <td>-0.042609</td>\n",
       "      <td>0.008210</td>\n",
       "      <td>-0.166595</td>\n",
       "      <td>0.793376</td>\n",
       "    </tr>\n",
       "    <tr>\n",
       "      <th>mgcat</th>\n",
       "      <td>-0.193858</td>\n",
       "      <td>0.724377</td>\n",
       "      <td>1.000000</td>\n",
       "      <td>0.279723</td>\n",
       "      <td>0.250390</td>\n",
       "      <td>-0.183162</td>\n",
       "      <td>-0.290597</td>\n",
       "      <td>0.906683</td>\n",
       "    </tr>\n",
       "    <tr>\n",
       "      <th>k</th>\n",
       "      <td>-0.537014</td>\n",
       "      <td>0.110626</td>\n",
       "      <td>0.279723</td>\n",
       "      <td>1.000000</td>\n",
       "      <td>0.559244</td>\n",
       "      <td>-0.723635</td>\n",
       "      <td>-0.602481</td>\n",
       "      <td>0.283344</td>\n",
       "    </tr>\n",
       "    <tr>\n",
       "      <th>v</th>\n",
       "      <td>-0.305197</td>\n",
       "      <td>-0.042609</td>\n",
       "      <td>0.250390</td>\n",
       "      <td>0.559244</td>\n",
       "      <td>1.000000</td>\n",
       "      <td>-0.613250</td>\n",
       "      <td>-0.489902</td>\n",
       "      <td>0.150687</td>\n",
       "    </tr>\n",
       "    <tr>\n",
       "      <th>s</th>\n",
       "      <td>0.696912</td>\n",
       "      <td>0.008210</td>\n",
       "      <td>-0.183162</td>\n",
       "      <td>-0.723635</td>\n",
       "      <td>-0.613250</td>\n",
       "      <td>1.000000</td>\n",
       "      <td>0.826580</td>\n",
       "      <td>-0.193375</td>\n",
       "    </tr>\n",
       "    <tr>\n",
       "      <th>dxRcat</th>\n",
       "      <td>0.789156</td>\n",
       "      <td>-0.166595</td>\n",
       "      <td>-0.290597</td>\n",
       "      <td>-0.602481</td>\n",
       "      <td>-0.489902</td>\n",
       "      <td>0.826580</td>\n",
       "      <td>1.000000</td>\n",
       "      <td>-0.318177</td>\n",
       "    </tr>\n",
       "    <tr>\n",
       "      <th>dxcat</th>\n",
       "      <td>-0.227536</td>\n",
       "      <td>0.793376</td>\n",
       "      <td>0.906683</td>\n",
       "      <td>0.283344</td>\n",
       "      <td>0.150687</td>\n",
       "      <td>-0.193375</td>\n",
       "      <td>-0.318177</td>\n",
       "      <td>1.000000</td>\n",
       "    </tr>\n",
       "  </tbody>\n",
       "</table>\n",
       "</div>"
      ],
      "text/plain": [
       "          mgRcat     theta     mgcat         k         v         s    dxRcat  \\\n",
       "mgRcat  1.000000 -0.112392 -0.193858 -0.537014 -0.305197  0.696912  0.789156   \n",
       "theta  -0.112392  1.000000  0.724377  0.110626 -0.042609  0.008210 -0.166595   \n",
       "mgcat  -0.193858  0.724377  1.000000  0.279723  0.250390 -0.183162 -0.290597   \n",
       "k      -0.537014  0.110626  0.279723  1.000000  0.559244 -0.723635 -0.602481   \n",
       "v      -0.305197 -0.042609  0.250390  0.559244  1.000000 -0.613250 -0.489902   \n",
       "s       0.696912  0.008210 -0.183162 -0.723635 -0.613250  1.000000  0.826580   \n",
       "dxRcat  0.789156 -0.166595 -0.290597 -0.602481 -0.489902  0.826580  1.000000   \n",
       "dxcat  -0.227536  0.793376  0.906683  0.283344  0.150687 -0.193375 -0.318177   \n",
       "\n",
       "           dxcat  \n",
       "mgRcat -0.227536  \n",
       "theta   0.793376  \n",
       "mgcat   0.906683  \n",
       "k       0.283344  \n",
       "v       0.150687  \n",
       "s      -0.193375  \n",
       "dxRcat -0.318177  \n",
       "dxcat   1.000000  "
      ]
     },
     "execution_count": 219,
     "metadata": {},
     "output_type": "execute_result"
    }
   ],
   "source": [
    "dxRcat=[i['score']>1.35 for i in Rcat[0]]\n",
    "theta=[x[0] for x in pd.read_csv('../response_jsons/cattheta713.csv',index_col=0).values.astype(float)]\n",
    "mgcat=[malingeringCAT(i['lower_threshold'],i['veritas'],j) for i,j in zip(Rcat[0],theta)]\n",
    "mgRcat=[malingering(i['lower_threshold'],i['veritas'],i['score']) for i in Rcat[0]]\n",
    "k=[i['lower_threshold'] for i in Rcat[0]]\n",
    "v=[i['veritas'] for i in Rcat[0]]\n",
    "s=[i['score'] for i in Rcat[0]]\n",
    "\n",
    "dxcat=[x>0 for x in theta]\n",
    "\n",
    "\n",
    "Dcat=pd.DataFrame([(i['subject_id'],malingering(i['lower_threshold'],i['veritas'],i['score'])) for i in Rcat[0]],columns=['sub','mgRcat'])\n",
    "#print(Dcat[(Dcat.dx==1) & (Dcat.mgRcat==1)].index.size)\n",
    "Dcat=Dcat.assign(theta=theta,mgcat=mgcat,k=k,v=v,s=s,dxRcat=dxRcat,dxcat=dxcat)#.corr()\n",
    "Dcat.corr()"
   ]
  },
  {
   "cell_type": "code",
   "execution_count": 220,
   "id": "647d9d1c",
   "metadata": {},
   "outputs": [
    {
     "data": {
      "text/plain": [
       "sub       CAT1001CAT1002CAT1003CAT1004CAT1005CAT1006CAT1...\n",
       "mgRcat                                                  100\n",
       "theta                                              -101.946\n",
       "mgcat                                                   257\n",
       "k                                               1019.673255\n",
       "v                                                590.362601\n",
       "s                                                657.997557\n",
       "dxRcat                                                  148\n",
       "dxcat                                                   290\n",
       "dtype: object"
      ]
     },
     "execution_count": 220,
     "metadata": {},
     "output_type": "execute_result"
    }
   ],
   "source": [
    "Dcat.sum()"
   ]
  },
  {
   "cell_type": "code",
   "execution_count": 212,
   "id": "6888ca3a",
   "metadata": {},
   "outputs": [
    {
     "data": {
      "text/html": [
       "<div>\n",
       "<style scoped>\n",
       "    .dataframe tbody tr th:only-of-type {\n",
       "        vertical-align: middle;\n",
       "    }\n",
       "\n",
       "    .dataframe tbody tr th {\n",
       "        vertical-align: top;\n",
       "    }\n",
       "\n",
       "    .dataframe thead th {\n",
       "        text-align: right;\n",
       "    }\n",
       "</style>\n",
       "<table border=\"1\" class=\"dataframe\">\n",
       "  <thead>\n",
       "    <tr style=\"text-align: right;\">\n",
       "      <th></th>\n",
       "      <th>dx</th>\n",
       "      <th>mgRcat</th>\n",
       "      <th>theta</th>\n",
       "      <th>mgcat</th>\n",
       "      <th>k</th>\n",
       "      <th>v</th>\n",
       "      <th>s</th>\n",
       "      <th>dxRcat</th>\n",
       "    </tr>\n",
       "  </thead>\n",
       "  <tbody>\n",
       "    <tr>\n",
       "      <th>0</th>\n",
       "      <td>1</td>\n",
       "      <td>0</td>\n",
       "      <td>-0.012</td>\n",
       "      <td>0</td>\n",
       "      <td>1.620533</td>\n",
       "      <td>0.720000</td>\n",
       "      <td>1.030817</td>\n",
       "      <td>False</td>\n",
       "    </tr>\n",
       "    <tr>\n",
       "      <th>1</th>\n",
       "      <td>2</td>\n",
       "      <td>0</td>\n",
       "      <td>-0.013</td>\n",
       "      <td>0</td>\n",
       "      <td>1.199156</td>\n",
       "      <td>0.800000</td>\n",
       "      <td>1.236916</td>\n",
       "      <td>False</td>\n",
       "    </tr>\n",
       "    <tr>\n",
       "      <th>2</th>\n",
       "      <td>3</td>\n",
       "      <td>1</td>\n",
       "      <td>-0.077</td>\n",
       "      <td>0</td>\n",
       "      <td>1.404334</td>\n",
       "      <td>0.900000</td>\n",
       "      <td>1.513398</td>\n",
       "      <td>True</td>\n",
       "    </tr>\n",
       "    <tr>\n",
       "      <th>3</th>\n",
       "      <td>4</td>\n",
       "      <td>0</td>\n",
       "      <td>0.303</td>\n",
       "      <td>1</td>\n",
       "      <td>1.918270</td>\n",
       "      <td>0.920000</td>\n",
       "      <td>0.449951</td>\n",
       "      <td>False</td>\n",
       "    </tr>\n",
       "    <tr>\n",
       "      <th>4</th>\n",
       "      <td>5</td>\n",
       "      <td>0</td>\n",
       "      <td>0.043</td>\n",
       "      <td>1</td>\n",
       "      <td>1.454088</td>\n",
       "      <td>0.920000</td>\n",
       "      <td>0.757492</td>\n",
       "      <td>False</td>\n",
       "    </tr>\n",
       "    <tr>\n",
       "      <th>...</th>\n",
       "      <td>...</td>\n",
       "      <td>...</td>\n",
       "      <td>...</td>\n",
       "      <td>...</td>\n",
       "      <td>...</td>\n",
       "      <td>...</td>\n",
       "      <td>...</td>\n",
       "      <td>...</td>\n",
       "    </tr>\n",
       "    <tr>\n",
       "      <th>708</th>\n",
       "      <td>9</td>\n",
       "      <td>1</td>\n",
       "      <td>0.294</td>\n",
       "      <td>1</td>\n",
       "      <td>1.388919</td>\n",
       "      <td>0.840000</td>\n",
       "      <td>1.630983</td>\n",
       "      <td>True</td>\n",
       "    </tr>\n",
       "    <tr>\n",
       "      <th>709</th>\n",
       "      <td>0</td>\n",
       "      <td>0</td>\n",
       "      <td>0.463</td>\n",
       "      <td>1</td>\n",
       "      <td>1.024627</td>\n",
       "      <td>0.888889</td>\n",
       "      <td>1.328577</td>\n",
       "      <td>False</td>\n",
       "    </tr>\n",
       "    <tr>\n",
       "      <th>710</th>\n",
       "      <td>1</td>\n",
       "      <td>0</td>\n",
       "      <td>0.062</td>\n",
       "      <td>1</td>\n",
       "      <td>2.113787</td>\n",
       "      <td>0.920000</td>\n",
       "      <td>0.229213</td>\n",
       "      <td>False</td>\n",
       "    </tr>\n",
       "    <tr>\n",
       "      <th>711</th>\n",
       "      <td>2</td>\n",
       "      <td>0</td>\n",
       "      <td>0.081</td>\n",
       "      <td>1</td>\n",
       "      <td>1.072690</td>\n",
       "      <td>0.839485</td>\n",
       "      <td>1.308845</td>\n",
       "      <td>False</td>\n",
       "    </tr>\n",
       "    <tr>\n",
       "      <th>712</th>\n",
       "      <td>3</td>\n",
       "      <td>0</td>\n",
       "      <td>-0.877</td>\n",
       "      <td>0</td>\n",
       "      <td>1.678676</td>\n",
       "      <td>0.906333</td>\n",
       "      <td>0.292454</td>\n",
       "      <td>False</td>\n",
       "    </tr>\n",
       "  </tbody>\n",
       "</table>\n",
       "<p>713 rows × 8 columns</p>\n",
       "</div>"
      ],
      "text/plain": [
       "     dx  mgRcat  theta  mgcat         k         v         s  dxRcat\n",
       "0     1       0 -0.012      0  1.620533  0.720000  1.030817   False\n",
       "1     2       0 -0.013      0  1.199156  0.800000  1.236916   False\n",
       "2     3       1 -0.077      0  1.404334  0.900000  1.513398    True\n",
       "3     4       0  0.303      1  1.918270  0.920000  0.449951   False\n",
       "4     5       0  0.043      1  1.454088  0.920000  0.757492   False\n",
       "..   ..     ...    ...    ...       ...       ...       ...     ...\n",
       "708   9       1  0.294      1  1.388919  0.840000  1.630983    True\n",
       "709   0       0  0.463      1  1.024627  0.888889  1.328577   False\n",
       "710   1       0  0.062      1  2.113787  0.920000  0.229213   False\n",
       "711   2       0  0.081      1  1.072690  0.839485  1.308845   False\n",
       "712   3       0 -0.877      0  1.678676  0.906333  0.292454   False\n",
       "\n",
       "[713 rows x 8 columns]"
      ]
     },
     "execution_count": 212,
     "metadata": {},
     "output_type": "execute_result"
    }
   ],
   "source": [
    "Dcat"
   ]
  },
  {
   "cell_type": "code",
   "execution_count": null,
   "id": "42ec3603",
   "metadata": {},
   "outputs": [],
   "source": []
  }
 ],
 "metadata": {
  "kernelspec": {
   "display_name": "Python 3 (ipykernel)",
   "language": "python",
   "name": "python3"
  },
  "language_info": {
   "codemirror_mode": {
    "name": "ipython",
    "version": 3
   },
   "file_extension": ".py",
   "mimetype": "text/x-python",
   "name": "python",
   "nbconvert_exporter": "python",
   "pygments_lexer": "ipython3",
   "version": "3.10.8"
  }
 },
 "nbformat": 4,
 "nbformat_minor": 5
}
