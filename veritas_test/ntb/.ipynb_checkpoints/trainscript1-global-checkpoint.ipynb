{
 "cells": [
  {
   "cell_type": "code",
   "execution_count": 1,
   "id": "b9c53dcd",
   "metadata": {},
   "outputs": [],
   "source": [
    "import sys\n",
    "sys.path.append(\"../\") \n",
    "from infer_veritas import  *\n",
    "from truthfinder import *\n",
    "\n",
    "import dill as pickle"
   ]
  },
  {
   "cell_type": "code",
   "execution_count": null,
   "id": "8cc3406c",
   "metadata": {},
   "outputs": [],
   "source": [
    "%%time\n",
    "TR=truthnet(datapath='../validation/data/global1.csv',target_label='Dx',query_limit=20,VERBOSE=True)\n",
    "TR.fit(shapnum=10)\n",
    "\n",
    "with gzip.open('tmp_veritas_001_global.pkl.gz', 'wb') as file:\n",
    "    pickle.dump(TR, file)\n",
    "\n",
    "rf=TR.calibrate(calibration_num=5000)\n",
    "\n",
    "with gzip.open('veritas_001_global.pkl.gz', 'wb') as file:\n",
    "    pickle.dump(TR, file)\n"
   ]
  },
  {
   "cell_type": "code",
   "execution_count": null,
   "id": "0ef35b30",
   "metadata": {},
   "outputs": [],
   "source": [
    "TR.veritas_model"
   ]
  },
  {
   "cell_type": "code",
   "execution_count": null,
   "id": "e41a37ea",
   "metadata": {},
   "outputs": [],
   "source": [
    "M=TR.veritas_model"
   ]
  },
  {
   "cell_type": "code",
   "execution_count": null,
   "id": "bceb0a70",
   "metadata": {},
   "outputs": [],
   "source": []
  }
 ],
 "metadata": {
  "kernelspec": {
   "display_name": "Python 3 (ipykernel)",
   "language": "python",
   "name": "python3"
  },
  "language_info": {
   "codemirror_mode": {
    "name": "ipython",
    "version": 3
   },
   "file_extension": ".py",
   "mimetype": "text/x-python",
   "name": "python",
   "nbconvert_exporter": "python",
   "pygments_lexer": "ipython3",
   "version": "3.10.8"
  }
 },
 "nbformat": 4,
 "nbformat_minor": 5
}
