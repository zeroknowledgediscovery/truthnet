{
 "cells": [
  {
   "cell_type": "code",
   "execution_count": 4,
   "id": "b9c53dcd",
   "metadata": {},
   "outputs": [],
   "source": [
    "import sys\n",
    "sys.path.append(\"../\") \n",
    "from infer_veritas import  *\n",
    "from truthfinder import *\n",
    "import gzip"
   ]
  },
  {
   "cell_type": "code",
   "execution_count": 5,
   "id": "bc77720c",
   "metadata": {},
   "outputs": [
    {
     "name": "stdout",
     "output_type": "stream",
     "text": [
      "/home/ishanu/ZED/Research/truthnet/veritas_test/ntb\r\n"
     ]
    }
   ],
   "source": [
    "! pwd"
   ]
  },
  {
   "cell_type": "code",
   "execution_count": 6,
   "id": "787b2477",
   "metadata": {},
   "outputs": [],
   "source": [
    "with gzip.open('../response_jsons/validation_cat.pkl.gz', 'rb') as filepath:\n",
    "    catadata = pickle.load(filepath)\n",
    "with gzip.open('../response_jsons/validation_index20.pkl.gz', 'rb') as filepath:\n",
    "    fulldata20 = pickle.load(filepath)\n",
    "with gzip.open('../response_jsons/validation_ptsd_full.pkl.gz', 'rb') as filepath:\n",
    "    fulldata = pickle.load(filepath)\n",
    "Veritas_model_path='../veritas_models/veritas_001.pkl.gz'"
   ]
  },
  {
   "cell_type": "code",
   "execution_count": null,
   "id": "1aa126ad",
   "metadata": {},
   "outputs": [
    {
     "name": "stdout",
     "output_type": "stream",
     "text": [
      "ckeck passed\n"
     ]
    }
   ],
   "source": [
    "Rcat=reveal(catadata,Veritas_model_path,perturb=0)"
   ]
  },
  {
   "cell_type": "code",
   "execution_count": null,
   "id": "5d773155",
   "metadata": {},
   "outputs": [],
   "source": [
    "R=reveal(fulldata,Veritas_model_path,perturb=0)"
   ]
  },
  {
   "cell_type": "code",
   "execution_count": null,
   "id": "8a7c0f84",
   "metadata": {},
   "outputs": [],
   "source": [
    "RcatP5=reveal(catadata,Veritas_model_path,perturb=5)"
   ]
  },
  {
   "cell_type": "code",
   "execution_count": null,
   "id": "0625b937",
   "metadata": {},
   "outputs": [],
   "source": [
    "RcatP10=reveal(catadata,Veritas_model_path,perturb=5)"
   ]
  },
  {
   "cell_type": "code",
   "execution_count": null,
   "id": "3baed0cc",
   "metadata": {},
   "outputs": [],
   "source": [
    "Rcat"
   ]
  },
  {
   "cell_type": "code",
   "execution_count": null,
   "id": "0adcf535",
   "metadata": {},
   "outputs": [],
   "source": [
    "catadata"
   ]
  },
  {
   "cell_type": "code",
   "execution_count": null,
   "id": "bfd4a1e0",
   "metadata": {},
   "outputs": [],
   "source": [
    "fulldata"
   ]
  },
  {
   "cell_type": "code",
   "execution_count": null,
   "id": "f394b522",
   "metadata": {},
   "outputs": [],
   "source": []
  }
 ],
 "metadata": {
  "kernelspec": {
   "display_name": "Python 3 (ipykernel)",
   "language": "python",
   "name": "python3"
  },
  "language_info": {
   "codemirror_mode": {
    "name": "ipython",
    "version": 3
   },
   "file_extension": ".py",
   "mimetype": "text/x-python",
   "name": "python",
   "nbconvert_exporter": "python",
   "pygments_lexer": "ipython3",
   "version": "3.10.8"
  }
 },
 "nbformat": 4,
 "nbformat_minor": 5
}
