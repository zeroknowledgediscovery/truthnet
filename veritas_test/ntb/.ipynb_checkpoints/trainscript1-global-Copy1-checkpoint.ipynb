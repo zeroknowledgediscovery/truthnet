{
 "cells": [
  {
   "cell_type": "code",
   "execution_count": 1,
   "id": "b9c53dcd",
   "metadata": {},
   "outputs": [],
   "source": [
    "import sys\n",
    "sys.path.append(\"../\") \n",
    "from infer_veritas import  *\n",
    "from truthfinder import *\n",
    "\n",
    "import dill as pickle"
   ]
  },
  {
   "cell_type": "code",
   "execution_count": null,
   "id": "8cc3406c",
   "metadata": {},
   "outputs": [
    {
     "name": "stdout",
     "output_type": "stream",
     "text": [
      "         Dx 2  3   5  6 7   8  9 10 11  ... 4590 4591 4592 4593 4594 4596  \\\n",
      "ID                                      ...                                 \n",
      "CIM12536  0                             ...                                 \n",
      "CIS69110  1                 1           ...                                 \n",
      "CIQ85803  1                             ...    3                        3   \n",
      "CIM76210  0           1           1     ...                             3   \n",
      "CIM49950  1        1  1                 ...    1                        1   \n",
      "...      .. .. .. .. .. .. .. .. .. ..  ...  ...  ...  ...  ...  ...  ...   \n",
      "MHB77415  1           2                 ...    3                        5   \n",
      "KHA81506  1        1           1        ...    2                        3   \n",
      "KHA93184  1                          1  ...    1                        4   \n",
      "MHB54874           2           2        ...                             2   \n",
      "KHB84319  0                 1     1     ...    1                        1   \n",
      "\n",
      "         4631 4632 4634 4635  \n",
      "ID                            \n",
      "CIM12536                      \n",
      "CIS69110                      \n",
      "CIQ85803                      \n",
      "CIM76210                      \n",
      "CIM49950                      \n",
      "...       ...  ...  ...  ...  \n",
      "MHB77415                      \n",
      "KHA81506                      \n",
      "KHA93184                      \n",
      "MHB54874              2       \n",
      "KHB84319              1       \n",
      "\n",
      "[1236 rows x 344 columns]\n"
     ]
    },
    {
     "data": {
      "application/vnd.jupyter.widget-view+json": {
       "model_id": "d5ff43e92f3444e692c2e21ac433c72e",
       "version_major": 2,
       "version_minor": 0
      },
      "text/plain": [
       "  0%|          | 0/10 [00:00<?, ?it/s]"
      ]
     },
     "metadata": {},
     "output_type": "display_data"
    },
    {
     "name": "stderr",
     "output_type": "stream",
     "text": [
      "100%|███████████████████████████████████████| 5000/5000 [10:13<00:00,  8.15it/s]\n"
     ]
    },
    {
     "name": "stdout",
     "output_type": "stream",
     "text": [
      "ckeck passed\n"
     ]
    }
   ],
   "source": [
    "%%time\n",
    "TR=truthnet(datapath='../validation/data/global1.csv',target_label='Dx',VERBOSE=True)\n",
    "TR.fit(shapnum=10)\n",
    "\n",
    "with gzip.open('tmp1_veritas_001_global.pkl.gz', 'wb') as file:\n",
    "    pickle.dump(TR, file)\n",
    "\n",
    "rf=TR.calibrate(calibration_num=5000)\n",
    "\n",
    "with gzip.open('veritas_001_global.pkl.gz', 'wb') as file:\n",
    "    pickle.dump(TR, file)\n"
   ]
  },
  {
   "cell_type": "code",
   "execution_count": null,
   "id": "b8a9eca3",
   "metadata": {},
   "outputs": [],
   "source": [
    "TR.veritas_model"
   ]
  },
  {
   "cell_type": "code",
   "execution_count": null,
   "id": "e41a37ea",
   "metadata": {},
   "outputs": [],
   "source": [
    "M=TR.veritas_model"
   ]
  },
  {
   "cell_type": "code",
   "execution_count": null,
   "id": "2660bcfd",
   "metadata": {},
   "outputs": [],
   "source": [
    "M['upper_scoretoprobability'](.8)\n"
   ]
  },
  {
   "cell_type": "code",
   "execution_count": null,
   "id": "a0ca480e",
   "metadata": {},
   "outputs": [],
   "source": [
    "pred=M['calibration_df'].upper.values\n",
    "len(pred)"
   ]
  },
  {
   "cell_type": "code",
   "execution_count": null,
   "id": "f6a7ccad",
   "metadata": {},
   "outputs": [],
   "source": [
    "df_test = TR.data.loc[[x for x in TR.data.index.values\n",
    "                       if x not in TR.training_index],:][np.array(\n",
    "                               list(TR.veritas_model['model']\\\n",
    "                                    .feature_names)+[TR.target_label])]\n",
    "featurenames=df_test.drop(TR.target_label, axis=1).columns\n",
    "adictn=df_test[featurenames[TR.shap_index[:TR.query_limit]]].T.to_dict()\n",
    "adictn=[{key:value} for key,value in adictn.items()]\n",
    "\n",
    "keyindex=[list(x.keys())[0] for x in adictn]\n",
    "labels = df_test.loc[keyindex,TR.target_label]#.values\n",
    "lf=pd.DataFrame(labels)"
   ]
  },
  {
   "cell_type": "code",
   "execution_count": null,
   "id": "c359eeff",
   "metadata": {},
   "outputs": [],
   "source": [
    "lf=lf[lf!=''].dropna()"
   ]
  },
  {
   "cell_type": "code",
   "execution_count": null,
   "id": "f147e782",
   "metadata": {},
   "outputs": [],
   "source": [
    "xf=pd.DataFrame(pred,lf.values).reset_index().replace('',pd.NA).dropna()"
   ]
  },
  {
   "cell_type": "code",
   "execution_count": null,
   "id": "da9202bf",
   "metadata": {},
   "outputs": [],
   "source": [
    "xf.columns=['dx','pred']\n",
    "xf.dx=[x[0] for x in xf.dx]\n",
    "xf"
   ]
  },
  {
   "cell_type": "code",
   "execution_count": null,
   "id": "d25d8a14",
   "metadata": {},
   "outputs": [],
   "source": [
    "xf.dx=xf.dx.astype(int)\n",
    "fpr, tpr, thresholds = metrics.roc_curve(xf.dx, xf.pred, pos_label=1)\n",
    "import pylab as plt\n",
    "plt.plot(fpr,tpr)\n",
    "rf=pd.DataFrame(tpr,fpr,columns=['tpr']).assign(threshold=thresholds)\n",
    "rf.index.name='fpr'\n",
    "zt=zedstat.processRoc(df=rf.reset_index(),\n",
    "                      order=3, \n",
    "                      total_samples=1000,\n",
    "                      positive_samples=500,\n",
    "                      alpha=0.01,\n",
    "                      prevalence=0.5)\n",
    "zt.smooth(STEP=0.001)\n",
    "zt.allmeasures(interpolate=True)\n",
    "zt.usample(precision=3)\n",
    "Z=zt.get()"
   ]
  },
  {
   "cell_type": "code",
   "execution_count": null,
   "id": "68719676",
   "metadata": {},
   "outputs": [],
   "source": [
    "zt.auc()"
   ]
  },
  {
   "cell_type": "code",
   "execution_count": null,
   "id": "b8b1f622",
   "metadata": {},
   "outputs": [],
   "source": [
    "zt.scoretoprobability(1.3)"
   ]
  },
  {
   "cell_type": "code",
   "execution_count": null,
   "id": "71e719b9",
   "metadata": {},
   "outputs": [],
   "source": [
    "rf"
   ]
  },
  {
   "cell_type": "code",
   "execution_count": null,
   "id": "65878e11",
   "metadata": {},
   "outputs": [],
   "source": []
  }
 ],
 "metadata": {
  "kernelspec": {
   "display_name": "Python 3 (ipykernel)",
   "language": "python",
   "name": "python3"
  },
  "language_info": {
   "codemirror_mode": {
    "name": "ipython",
    "version": 3
   },
   "file_extension": ".py",
   "mimetype": "text/x-python",
   "name": "python",
   "nbconvert_exporter": "python",
   "pygments_lexer": "ipython3",
   "version": "3.10.8"
  }
 },
 "nbformat": 4,
 "nbformat_minor": 5
}
