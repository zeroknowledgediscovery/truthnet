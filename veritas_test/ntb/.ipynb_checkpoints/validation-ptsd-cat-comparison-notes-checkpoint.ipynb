{
 "cells": [
  {
   "cell_type": "code",
   "execution_count": 155,
   "id": "bb4f4098",
   "metadata": {},
   "outputs": [],
   "source": [
    "# validationf VeRITAS\n",
    "# we validate how well veritas is doing when we cannot ask too many question\n",
    "# Typically, we want to evaluate performance in conjunction with a CAT framework\n",
    "# Conclusion: It seems CAT's question generation is not abest for Veritas\n",
    "# we can ask similar number of questions, but get much better performance if we \n",
    "# generate the questiosn differently, namely questions that not only \n",
    "# take into account the goal of getting to diagnosis, but also detection of malingering"
   ]
  },
  {
   "cell_type": "code",
   "execution_count": 182,
   "id": "85090487",
   "metadata": {},
   "outputs": [],
   "source": [
    "def selrandomq(jsondata,num):\n",
    "    '''\n",
    "    sel random num number of responses from a json\n",
    "    '''\n",
    "    from random import sample \n",
    "    subname=list(jsondata.keys())[0]\n",
    "    keys=list(jsondata[subname].keys())\n",
    "    return {subname: {k:jsondata[subname][k] for k in sample(keys,num)}}\n",
    "#selrandomq(fulldata20[0],5)    "
   ]
  },
  {
   "cell_type": "code",
   "execution_count": 183,
   "id": "b9c53dcd",
   "metadata": {},
   "outputs": [],
   "source": [
    "import sys\n",
    "sys.path.append(\"../\") \n",
    "from infer_veritas import  *\n",
    "from truthfinder import *\n",
    "import gzip"
   ]
  },
  {
   "cell_type": "code",
   "execution_count": 2,
   "id": "bc77720c",
   "metadata": {},
   "outputs": [
    {
     "name": "stdout",
     "output_type": "stream",
     "text": [
      "/home/ishanu/ZED/Research/truthnet/veritas_test/ntb\r\n"
     ]
    }
   ],
   "source": [
    "! pwd"
   ]
  },
  {
   "cell_type": "code",
   "execution_count": 3,
   "id": "787b2477",
   "metadata": {},
   "outputs": [],
   "source": [
    "with gzip.open('../response_jsons/validation_cat.pkl.gz', 'rb') as filepath:\n",
    "    catadata = pickle.load(filepath)\n",
    "with gzip.open('../response_jsons/validation_index20.pkl.gz', 'rb') as filepath:\n",
    "    fulldata20 = pickle.load(filepath)\n",
    "with gzip.open('../response_jsons/validation_ptsd_full.pkl.gz', 'rb') as filepath:\n",
    "    fulldata = pickle.load(filepath)\n",
    "Veritas_model_path='../veritas_models/veritas_001.pkl.gz'"
   ]
  },
  {
   "cell_type": "code",
   "execution_count": 184,
   "id": "b937154d",
   "metadata": {},
   "outputs": [],
   "source": [
    "with gzip.open('../response_jsons/validation_index20.pkl.gz', 'rb') as filepath:\n",
    "    fulldatar_ = pickle.load(filepath)\n",
    "num=12\n",
    "fulldatarand=[selrandomq(i,num) for i in fulldatar_]"
   ]
  },
  {
   "cell_type": "code",
   "execution_count": 185,
   "id": "cd5a96a9",
   "metadata": {},
   "outputs": [
    {
     "name": "stdout",
     "output_type": "stream",
     "text": [
      "ckeck passed\n"
     ]
    }
   ],
   "source": [
    "Rrnd=reveal(fulldatarand,Veritas_model_path,perturb=0)"
   ]
  },
  {
   "cell_type": "code",
   "execution_count": 4,
   "id": "1aa126ad",
   "metadata": {},
   "outputs": [
    {
     "name": "stdout",
     "output_type": "stream",
     "text": [
      "ckeck passed\n"
     ]
    }
   ],
   "source": [
    "Rcat=reveal(catadata,Veritas_model_path,perturb=0)"
   ]
  },
  {
   "cell_type": "code",
   "execution_count": 5,
   "id": "5d773155",
   "metadata": {},
   "outputs": [
    {
     "name": "stdout",
     "output_type": "stream",
     "text": [
      "ckeck passed\n"
     ]
    }
   ],
   "source": [
    "R=reveal(fulldata,Veritas_model_path,perturb=0)"
   ]
  },
  {
   "cell_type": "code",
   "execution_count": 6,
   "id": "8a7c0f84",
   "metadata": {},
   "outputs": [
    {
     "name": "stdout",
     "output_type": "stream",
     "text": [
      "ckeck passed\n"
     ]
    }
   ],
   "source": [
    "RcatP5=reveal(catadata,Veritas_model_path,perturb=5)"
   ]
  },
  {
   "cell_type": "code",
   "execution_count": 7,
   "id": "98ca77fa",
   "metadata": {},
   "outputs": [
    {
     "name": "stdout",
     "output_type": "stream",
     "text": [
      "ckeck passed\n"
     ]
    }
   ],
   "source": [
    "R20=reveal(fulldata20,Veritas_model_path,perturb=0)"
   ]
  },
  {
   "cell_type": "code",
   "execution_count": 8,
   "id": "0625b937",
   "metadata": {},
   "outputs": [
    {
     "name": "stdout",
     "output_type": "stream",
     "text": [
      "ckeck passed\n"
     ]
    }
   ],
   "source": [
    "RcatP10=reveal(catadata,Veritas_model_path,perturb=5)"
   ]
  },
  {
   "cell_type": "code",
   "execution_count": 43,
   "id": "3baed0cc",
   "metadata": {},
   "outputs": [
    {
     "data": {
      "text/plain": [
       "{'subject_id': 'CAT10061',\n",
       " 'responses': {'ptsd156': '3',\n",
       "  'ptsd148': '4',\n",
       "  'ptsd210': '4',\n",
       "  'ptsd160': '4',\n",
       "  'ptsd187': '4',\n",
       "  'ptsd188': '4',\n",
       "  'ptsd189': '4',\n",
       "  'ptsd155': '3',\n",
       "  'ptsd145': '3',\n",
       "  'ptsd153': '3',\n",
       "  'ptsd169': '3',\n",
       "  'ptsd18': '3',\n",
       "  'ptsd184': '3',\n",
       "  'ptsd77': '3'},\n",
       " 'veritas': 0.6438095238095238,\n",
       " 'score': 1.3893441416921837,\n",
       " 'lower_threshold': 1.0057738724810028,\n",
       " 'veritas_prob': 0.28310089932496163,\n",
       " 'lower_prob': 0.3286226495484607}"
      ]
     },
     "execution_count": 43,
     "metadata": {},
     "output_type": "execute_result"
    }
   ],
   "source": [
    "Rcat[0][5]"
   ]
  },
  {
   "cell_type": "code",
   "execution_count": 186,
   "id": "77f3cbcc",
   "metadata": {},
   "outputs": [
    {
     "data": {
      "text/html": [
       "<div>\n",
       "<style scoped>\n",
       "    .dataframe tbody tr th:only-of-type {\n",
       "        vertical-align: middle;\n",
       "    }\n",
       "\n",
       "    .dataframe tbody tr th {\n",
       "        vertical-align: top;\n",
       "    }\n",
       "\n",
       "    .dataframe thead th {\n",
       "        text-align: right;\n",
       "    }\n",
       "</style>\n",
       "<table border=\"1\" class=\"dataframe\">\n",
       "  <thead>\n",
       "    <tr style=\"text-align: right;\">\n",
       "      <th></th>\n",
       "      <th>cat</th>\n",
       "      <th>cat5</th>\n",
       "      <th>r20</th>\n",
       "      <th>full</th>\n",
       "      <th>rrnd</th>\n",
       "    </tr>\n",
       "  </thead>\n",
       "  <tbody>\n",
       "    <tr>\n",
       "      <th>cat</th>\n",
       "      <td>1.000000</td>\n",
       "      <td>0.862653</td>\n",
       "      <td>0.757177</td>\n",
       "      <td>0.791940</td>\n",
       "      <td>0.784064</td>\n",
       "    </tr>\n",
       "    <tr>\n",
       "      <th>cat5</th>\n",
       "      <td>0.862653</td>\n",
       "      <td>1.000000</td>\n",
       "      <td>0.659112</td>\n",
       "      <td>0.691014</td>\n",
       "      <td>0.680677</td>\n",
       "    </tr>\n",
       "    <tr>\n",
       "      <th>r20</th>\n",
       "      <td>0.757177</td>\n",
       "      <td>0.659112</td>\n",
       "      <td>1.000000</td>\n",
       "      <td>0.935782</td>\n",
       "      <td>0.926869</td>\n",
       "    </tr>\n",
       "    <tr>\n",
       "      <th>full</th>\n",
       "      <td>0.791940</td>\n",
       "      <td>0.691014</td>\n",
       "      <td>0.935782</td>\n",
       "      <td>1.000000</td>\n",
       "      <td>0.893550</td>\n",
       "    </tr>\n",
       "    <tr>\n",
       "      <th>rrnd</th>\n",
       "      <td>0.784064</td>\n",
       "      <td>0.680677</td>\n",
       "      <td>0.926869</td>\n",
       "      <td>0.893550</td>\n",
       "      <td>1.000000</td>\n",
       "    </tr>\n",
       "  </tbody>\n",
       "</table>\n",
       "</div>"
      ],
      "text/plain": [
       "           cat      cat5       r20      full      rrnd\n",
       "cat   1.000000  0.862653  0.757177  0.791940  0.784064\n",
       "cat5  0.862653  1.000000  0.659112  0.691014  0.680677\n",
       "r20   0.757177  0.659112  1.000000  0.935782  0.926869\n",
       "full  0.791940  0.691014  0.935782  1.000000  0.893550\n",
       "rrnd  0.784064  0.680677  0.926869  0.893550  1.000000"
      ]
     },
     "execution_count": 186,
     "metadata": {},
     "output_type": "execute_result"
    }
   ],
   "source": [
    "pd.DataFrame().assign(cat=[i['score'] for i in Rcat[0]], cat5=[i['score'] for i in RcatP5[0]], \n",
    "                      r20=[i['score'] for i in R20[0]],\n",
    "                      full= [i['score'] for i in R[0]],rrnd=[i['score'] for i in Rrnd[0]]).corr()"
   ]
  },
  {
   "cell_type": "code",
   "execution_count": 187,
   "id": "81015f58",
   "metadata": {},
   "outputs": [
    {
     "data": {
      "text/html": [
       "<div>\n",
       "<style scoped>\n",
       "    .dataframe tbody tr th:only-of-type {\n",
       "        vertical-align: middle;\n",
       "    }\n",
       "\n",
       "    .dataframe tbody tr th {\n",
       "        vertical-align: top;\n",
       "    }\n",
       "\n",
       "    .dataframe thead th {\n",
       "        text-align: right;\n",
       "    }\n",
       "</style>\n",
       "<table border=\"1\" class=\"dataframe\">\n",
       "  <thead>\n",
       "    <tr style=\"text-align: right;\">\n",
       "      <th></th>\n",
       "      <th>cat</th>\n",
       "      <th>cat5</th>\n",
       "      <th>r20</th>\n",
       "      <th>full</th>\n",
       "      <th>rrnd</th>\n",
       "    </tr>\n",
       "  </thead>\n",
       "  <tbody>\n",
       "    <tr>\n",
       "      <th>cat</th>\n",
       "      <td>1.000000</td>\n",
       "      <td>0.736365</td>\n",
       "      <td>0.632128</td>\n",
       "      <td>0.687034</td>\n",
       "      <td>0.614216</td>\n",
       "    </tr>\n",
       "    <tr>\n",
       "      <th>cat5</th>\n",
       "      <td>0.736365</td>\n",
       "      <td>1.000000</td>\n",
       "      <td>0.471229</td>\n",
       "      <td>0.491666</td>\n",
       "      <td>0.430322</td>\n",
       "    </tr>\n",
       "    <tr>\n",
       "      <th>r20</th>\n",
       "      <td>0.632128</td>\n",
       "      <td>0.471229</td>\n",
       "      <td>1.000000</td>\n",
       "      <td>0.901674</td>\n",
       "      <td>0.919375</td>\n",
       "    </tr>\n",
       "    <tr>\n",
       "      <th>full</th>\n",
       "      <td>0.687034</td>\n",
       "      <td>0.491666</td>\n",
       "      <td>0.901674</td>\n",
       "      <td>1.000000</td>\n",
       "      <td>0.856520</td>\n",
       "    </tr>\n",
       "    <tr>\n",
       "      <th>rrnd</th>\n",
       "      <td>0.614216</td>\n",
       "      <td>0.430322</td>\n",
       "      <td>0.919375</td>\n",
       "      <td>0.856520</td>\n",
       "      <td>1.000000</td>\n",
       "    </tr>\n",
       "  </tbody>\n",
       "</table>\n",
       "</div>"
      ],
      "text/plain": [
       "           cat      cat5       r20      full      rrnd\n",
       "cat   1.000000  0.736365  0.632128  0.687034  0.614216\n",
       "cat5  0.736365  1.000000  0.471229  0.491666  0.430322\n",
       "r20   0.632128  0.471229  1.000000  0.901674  0.919375\n",
       "full  0.687034  0.491666  0.901674  1.000000  0.856520\n",
       "rrnd  0.614216  0.430322  0.919375  0.856520  1.000000"
      ]
     },
     "execution_count": 187,
     "metadata": {},
     "output_type": "execute_result"
    }
   ],
   "source": [
    "pd.DataFrame().assign(cat=[i['veritas'] for i in Rcat[0]], cat5=[i['veritas'] for i in RcatP5[0]], \n",
    "                      r20=[i['veritas'] for i in R20[0]],\n",
    "                      full= [i['veritas'] for i in R[0]],rrnd=[i['veritas'] for i in Rrnd[0]]).corr()"
   ]
  },
  {
   "cell_type": "code",
   "execution_count": 188,
   "id": "8ba335b7",
   "metadata": {},
   "outputs": [
    {
     "data": {
      "text/html": [
       "<div>\n",
       "<style scoped>\n",
       "    .dataframe tbody tr th:only-of-type {\n",
       "        vertical-align: middle;\n",
       "    }\n",
       "\n",
       "    .dataframe tbody tr th {\n",
       "        vertical-align: top;\n",
       "    }\n",
       "\n",
       "    .dataframe thead th {\n",
       "        text-align: right;\n",
       "    }\n",
       "</style>\n",
       "<table border=\"1\" class=\"dataframe\">\n",
       "  <thead>\n",
       "    <tr style=\"text-align: right;\">\n",
       "      <th></th>\n",
       "      <th>cat</th>\n",
       "      <th>cat5</th>\n",
       "      <th>r20</th>\n",
       "      <th>full</th>\n",
       "      <th>rrnd</th>\n",
       "    </tr>\n",
       "  </thead>\n",
       "  <tbody>\n",
       "    <tr>\n",
       "      <th>cat</th>\n",
       "      <td>1.000000</td>\n",
       "      <td>0.828158</td>\n",
       "      <td>0.407477</td>\n",
       "      <td>0.541270</td>\n",
       "      <td>0.474462</td>\n",
       "    </tr>\n",
       "    <tr>\n",
       "      <th>cat5</th>\n",
       "      <td>0.828158</td>\n",
       "      <td>1.000000</td>\n",
       "      <td>0.342750</td>\n",
       "      <td>0.427449</td>\n",
       "      <td>0.393214</td>\n",
       "    </tr>\n",
       "    <tr>\n",
       "      <th>r20</th>\n",
       "      <td>0.407477</td>\n",
       "      <td>0.342750</td>\n",
       "      <td>1.000000</td>\n",
       "      <td>0.715465</td>\n",
       "      <td>0.751639</td>\n",
       "    </tr>\n",
       "    <tr>\n",
       "      <th>full</th>\n",
       "      <td>0.541270</td>\n",
       "      <td>0.427449</td>\n",
       "      <td>0.715465</td>\n",
       "      <td>1.000000</td>\n",
       "      <td>0.712362</td>\n",
       "    </tr>\n",
       "    <tr>\n",
       "      <th>rrnd</th>\n",
       "      <td>0.474462</td>\n",
       "      <td>0.393214</td>\n",
       "      <td>0.751639</td>\n",
       "      <td>0.712362</td>\n",
       "      <td>1.000000</td>\n",
       "    </tr>\n",
       "  </tbody>\n",
       "</table>\n",
       "</div>"
      ],
      "text/plain": [
       "           cat      cat5       r20      full      rrnd\n",
       "cat   1.000000  0.828158  0.407477  0.541270  0.474462\n",
       "cat5  0.828158  1.000000  0.342750  0.427449  0.393214\n",
       "r20   0.407477  0.342750  1.000000  0.715465  0.751639\n",
       "full  0.541270  0.427449  0.715465  1.000000  0.712362\n",
       "rrnd  0.474462  0.393214  0.751639  0.712362  1.000000"
      ]
     },
     "execution_count": 188,
     "metadata": {},
     "output_type": "execute_result"
    }
   ],
   "source": [
    "pd.DataFrame().assign(cat=[i['lower_threshold'] for i in Rcat[0]], cat5=[i['lower_threshold'] for i in RcatP5[0]],\n",
    "                      r20=[i['lower_threshold'] for i in R20[0]],\n",
    "                      full= [i['lower_threshold'] for i in R[0]],rrnd=[i['lower_threshold'] for i in Rrnd[0]]).corr()"
   ]
  },
  {
   "cell_type": "code",
   "execution_count": 189,
   "id": "33794413",
   "metadata": {},
   "outputs": [
    {
     "data": {
      "text/html": [
       "<div>\n",
       "<style scoped>\n",
       "    .dataframe tbody tr th:only-of-type {\n",
       "        vertical-align: middle;\n",
       "    }\n",
       "\n",
       "    .dataframe tbody tr th {\n",
       "        vertical-align: top;\n",
       "    }\n",
       "\n",
       "    .dataframe thead th {\n",
       "        text-align: right;\n",
       "    }\n",
       "</style>\n",
       "<table border=\"1\" class=\"dataframe\">\n",
       "  <thead>\n",
       "    <tr style=\"text-align: right;\">\n",
       "      <th></th>\n",
       "      <th>0</th>\n",
       "      <th>1</th>\n",
       "    </tr>\n",
       "  </thead>\n",
       "  <tbody>\n",
       "    <tr>\n",
       "      <th>0</th>\n",
       "      <td>0</td>\n",
       "      <td>1.082355</td>\n",
       "    </tr>\n",
       "    <tr>\n",
       "      <th>1</th>\n",
       "      <td>0</td>\n",
       "      <td>1.421729</td>\n",
       "    </tr>\n",
       "    <tr>\n",
       "      <th>2</th>\n",
       "      <td>0</td>\n",
       "      <td>1.425484</td>\n",
       "    </tr>\n",
       "    <tr>\n",
       "      <th>3</th>\n",
       "      <td>0</td>\n",
       "      <td>1.621437</td>\n",
       "    </tr>\n",
       "    <tr>\n",
       "      <th>4</th>\n",
       "      <td>0</td>\n",
       "      <td>1.880801</td>\n",
       "    </tr>\n",
       "    <tr>\n",
       "      <th>...</th>\n",
       "      <td>...</td>\n",
       "      <td>...</td>\n",
       "    </tr>\n",
       "    <tr>\n",
       "      <th>299</th>\n",
       "      <td>1</td>\n",
       "      <td>1.676385</td>\n",
       "    </tr>\n",
       "    <tr>\n",
       "      <th>300</th>\n",
       "      <td>1</td>\n",
       "      <td>0.995974</td>\n",
       "    </tr>\n",
       "    <tr>\n",
       "      <th>301</th>\n",
       "      <td>0</td>\n",
       "      <td>1.128964</td>\n",
       "    </tr>\n",
       "    <tr>\n",
       "      <th>302</th>\n",
       "      <td>0</td>\n",
       "      <td>2.122038</td>\n",
       "    </tr>\n",
       "    <tr>\n",
       "      <th>303</th>\n",
       "      <td>0</td>\n",
       "      <td>1.795984</td>\n",
       "    </tr>\n",
       "  </tbody>\n",
       "</table>\n",
       "<p>304 rows × 2 columns</p>\n",
       "</div>"
      ],
      "text/plain": [
       "     0         1\n",
       "0    0  1.082355\n",
       "1    0  1.421729\n",
       "2    0  1.425484\n",
       "3    0  1.621437\n",
       "4    0  1.880801\n",
       "..  ..       ...\n",
       "299  1  1.676385\n",
       "300  1  0.995974\n",
       "301  0  1.128964\n",
       "302  0  2.122038\n",
       "303  0  1.795984\n",
       "\n",
       "[304 rows x 2 columns]"
      ]
     },
     "execution_count": 189,
     "metadata": {},
     "output_type": "execute_result"
    }
   ],
   "source": [
    "pd.DataFrame([(int(i['subject_id'][-1]),i['lower_threshold']) for i in Rcat[0]])#.corr()"
   ]
  },
  {
   "cell_type": "code",
   "execution_count": 220,
   "id": "3dc501bc",
   "metadata": {},
   "outputs": [],
   "source": [
    "def malingering(lower_threshold,veritas,upper,C0=1,C1=0.76,C2=1.35):\n",
    "    M=False\n",
    "    if (lower_threshold < C0) and (upper > C2):\n",
    "        M=True\n",
    "    if (veritas > C1) and (upper > C2):\n",
    "        M=True\n",
    "    return int(M)"
   ]
  },
  {
   "cell_type": "code",
   "execution_count": 221,
   "id": "54cabb70",
   "metadata": {},
   "outputs": [
    {
     "name": "stdout",
     "output_type": "stream",
     "text": [
      "27\n"
     ]
    },
    {
     "data": {
      "text/html": [
       "<div>\n",
       "<style scoped>\n",
       "    .dataframe tbody tr th:only-of-type {\n",
       "        vertical-align: middle;\n",
       "    }\n",
       "\n",
       "    .dataframe tbody tr th {\n",
       "        vertical-align: top;\n",
       "    }\n",
       "\n",
       "    .dataframe thead th {\n",
       "        text-align: right;\n",
       "    }\n",
       "</style>\n",
       "<table border=\"1\" class=\"dataframe\">\n",
       "  <thead>\n",
       "    <tr style=\"text-align: right;\">\n",
       "      <th></th>\n",
       "      <th>dx</th>\n",
       "      <th>mg</th>\n",
       "    </tr>\n",
       "  </thead>\n",
       "  <tbody>\n",
       "    <tr>\n",
       "      <th>dx</th>\n",
       "      <td>1.000000</td>\n",
       "      <td>0.302082</td>\n",
       "    </tr>\n",
       "    <tr>\n",
       "      <th>mg</th>\n",
       "      <td>0.302082</td>\n",
       "      <td>1.000000</td>\n",
       "    </tr>\n",
       "  </tbody>\n",
       "</table>\n",
       "</div>"
      ],
      "text/plain": [
       "          dx        mg\n",
       "dx  1.000000  0.302082\n",
       "mg  0.302082  1.000000"
      ]
     },
     "execution_count": 221,
     "metadata": {},
     "output_type": "execute_result"
    }
   ],
   "source": [
    "Dcat=pd.DataFrame([(int(i['subject_id'][-1]),malingering(i['lower_threshold'],i['veritas'],i['score'])) for i in Rcat[0]],columns=['dx','mg'])\n",
    "print(Dcat[(Dcat.dx==1) & (Dcat.mg==1)].index.size)\n",
    "Dcat.corr()"
   ]
  },
  {
   "cell_type": "code",
   "execution_count": 222,
   "id": "bf138a71",
   "metadata": {},
   "outputs": [
    {
     "data": {
      "text/html": [
       "<div>\n",
       "<style scoped>\n",
       "    .dataframe tbody tr th:only-of-type {\n",
       "        vertical-align: middle;\n",
       "    }\n",
       "\n",
       "    .dataframe tbody tr th {\n",
       "        vertical-align: top;\n",
       "    }\n",
       "\n",
       "    .dataframe thead th {\n",
       "        text-align: right;\n",
       "    }\n",
       "</style>\n",
       "<table border=\"1\" class=\"dataframe\">\n",
       "  <thead>\n",
       "    <tr style=\"text-align: right;\">\n",
       "      <th></th>\n",
       "      <th>0</th>\n",
       "      <th>1</th>\n",
       "    </tr>\n",
       "  </thead>\n",
       "  <tbody>\n",
       "    <tr>\n",
       "      <th>0</th>\n",
       "      <td>1.000000</td>\n",
       "      <td>0.085064</td>\n",
       "    </tr>\n",
       "    <tr>\n",
       "      <th>1</th>\n",
       "      <td>0.085064</td>\n",
       "      <td>1.000000</td>\n",
       "    </tr>\n",
       "  </tbody>\n",
       "</table>\n",
       "</div>"
      ],
      "text/plain": [
       "          0         1\n",
       "0  1.000000  0.085064\n",
       "1  0.085064  1.000000"
      ]
     },
     "execution_count": 222,
     "metadata": {},
     "output_type": "execute_result"
    }
   ],
   "source": [
    "pd.DataFrame([(int(i['subject_id'][-1]),malingering(i['lower_threshold'],i['veritas'],i['score'])) for i in R20[0]]).corr()"
   ]
  },
  {
   "cell_type": "code",
   "execution_count": 223,
   "id": "ef395953",
   "metadata": {},
   "outputs": [
    {
     "data": {
      "text/html": [
       "<div>\n",
       "<style scoped>\n",
       "    .dataframe tbody tr th:only-of-type {\n",
       "        vertical-align: middle;\n",
       "    }\n",
       "\n",
       "    .dataframe tbody tr th {\n",
       "        vertical-align: top;\n",
       "    }\n",
       "\n",
       "    .dataframe thead th {\n",
       "        text-align: right;\n",
       "    }\n",
       "</style>\n",
       "<table border=\"1\" class=\"dataframe\">\n",
       "  <thead>\n",
       "    <tr style=\"text-align: right;\">\n",
       "      <th></th>\n",
       "      <th>dx</th>\n",
       "      <th>mg</th>\n",
       "    </tr>\n",
       "  </thead>\n",
       "  <tbody>\n",
       "    <tr>\n",
       "      <th>dx</th>\n",
       "      <td>1.000000</td>\n",
       "      <td>0.085064</td>\n",
       "    </tr>\n",
       "    <tr>\n",
       "      <th>mg</th>\n",
       "      <td>0.085064</td>\n",
       "      <td>1.000000</td>\n",
       "    </tr>\n",
       "  </tbody>\n",
       "</table>\n",
       "</div>"
      ],
      "text/plain": [
       "          dx        mg\n",
       "dx  1.000000  0.085064\n",
       "mg  0.085064  1.000000"
      ]
     },
     "execution_count": 223,
     "metadata": {},
     "output_type": "execute_result"
    }
   ],
   "source": [
    "rf20=pd.DataFrame([(int(i['subject_id'][-1]),malingering(i['lower_threshold'],i['veritas'],i['score'])) for i in R20[0]],columns=['dx','mg'])\n",
    "rf20.corr()"
   ]
  },
  {
   "cell_type": "code",
   "execution_count": 224,
   "id": "9ce77e5c",
   "metadata": {},
   "outputs": [
    {
     "data": {
      "text/plain": [
       "86"
      ]
     },
     "execution_count": 224,
     "metadata": {},
     "output_type": "execute_result"
    }
   ],
   "source": [
    "rf20[rf20.dx==1].index.size"
   ]
  },
  {
   "cell_type": "code",
   "execution_count": 225,
   "id": "75dc31c5",
   "metadata": {},
   "outputs": [
    {
     "data": {
      "text/html": [
       "<div>\n",
       "<style scoped>\n",
       "    .dataframe tbody tr th:only-of-type {\n",
       "        vertical-align: middle;\n",
       "    }\n",
       "\n",
       "    .dataframe tbody tr th {\n",
       "        vertical-align: top;\n",
       "    }\n",
       "\n",
       "    .dataframe thead th {\n",
       "        text-align: right;\n",
       "    }\n",
       "</style>\n",
       "<table border=\"1\" class=\"dataframe\">\n",
       "  <thead>\n",
       "    <tr style=\"text-align: right;\">\n",
       "      <th></th>\n",
       "      <th>dx</th>\n",
       "      <th>mg</th>\n",
       "    </tr>\n",
       "  </thead>\n",
       "  <tbody>\n",
       "    <tr>\n",
       "      <th>20</th>\n",
       "      <td>1</td>\n",
       "      <td>1</td>\n",
       "    </tr>\n",
       "    <tr>\n",
       "      <th>39</th>\n",
       "      <td>1</td>\n",
       "      <td>1</td>\n",
       "    </tr>\n",
       "  </tbody>\n",
       "</table>\n",
       "</div>"
      ],
      "text/plain": [
       "    dx  mg\n",
       "20   1   1\n",
       "39   1   1"
      ]
     },
     "execution_count": 225,
     "metadata": {},
     "output_type": "execute_result"
    }
   ],
   "source": [
    "rf20[(rf20.dx==1) & (rf20.mg==1)]"
   ]
  },
  {
   "cell_type": "code",
   "execution_count": 226,
   "id": "addca160",
   "metadata": {},
   "outputs": [
    {
     "data": {
      "text/plain": [
       "3"
      ]
     },
     "execution_count": 226,
     "metadata": {},
     "output_type": "execute_result"
    }
   ],
   "source": [
    "rf20[(rf20.mg==1)].index.size"
   ]
  },
  {
   "cell_type": "code",
   "execution_count": 227,
   "id": "495e77ac",
   "metadata": {},
   "outputs": [
    {
     "data": {
      "text/html": [
       "<div>\n",
       "<style scoped>\n",
       "    .dataframe tbody tr th:only-of-type {\n",
       "        vertical-align: middle;\n",
       "    }\n",
       "\n",
       "    .dataframe tbody tr th {\n",
       "        vertical-align: top;\n",
       "    }\n",
       "\n",
       "    .dataframe thead th {\n",
       "        text-align: right;\n",
       "    }\n",
       "</style>\n",
       "<table border=\"1\" class=\"dataframe\">\n",
       "  <thead>\n",
       "    <tr style=\"text-align: right;\">\n",
       "      <th></th>\n",
       "      <th>dx</th>\n",
       "      <th>mg</th>\n",
       "    </tr>\n",
       "  </thead>\n",
       "  <tbody>\n",
       "    <tr>\n",
       "      <th>dx</th>\n",
       "      <td>1.000000</td>\n",
       "      <td>0.244427</td>\n",
       "    </tr>\n",
       "    <tr>\n",
       "      <th>mg</th>\n",
       "      <td>0.244427</td>\n",
       "      <td>1.000000</td>\n",
       "    </tr>\n",
       "  </tbody>\n",
       "</table>\n",
       "</div>"
      ],
      "text/plain": [
       "          dx        mg\n",
       "dx  1.000000  0.244427\n",
       "mg  0.244427  1.000000"
      ]
     },
     "execution_count": 227,
     "metadata": {},
     "output_type": "execute_result"
    }
   ],
   "source": [
    "rf=pd.DataFrame([(int(i['subject_id'][-1]),malingering(i['lower_threshold'],i['veritas'],i['score'])) for i in R[0]],columns=['dx','mg'])\n",
    "rf.corr()"
   ]
  },
  {
   "cell_type": "code",
   "execution_count": 228,
   "id": "afd5b032",
   "metadata": {},
   "outputs": [
    {
     "data": {
      "text/html": [
       "<div>\n",
       "<style scoped>\n",
       "    .dataframe tbody tr th:only-of-type {\n",
       "        vertical-align: middle;\n",
       "    }\n",
       "\n",
       "    .dataframe tbody tr th {\n",
       "        vertical-align: top;\n",
       "    }\n",
       "\n",
       "    .dataframe thead th {\n",
       "        text-align: right;\n",
       "    }\n",
       "</style>\n",
       "<table border=\"1\" class=\"dataframe\">\n",
       "  <thead>\n",
       "    <tr style=\"text-align: right;\">\n",
       "      <th></th>\n",
       "      <th>dx</th>\n",
       "      <th>mg</th>\n",
       "    </tr>\n",
       "  </thead>\n",
       "  <tbody>\n",
       "    <tr>\n",
       "      <th>20</th>\n",
       "      <td>1</td>\n",
       "      <td>1</td>\n",
       "    </tr>\n",
       "    <tr>\n",
       "      <th>58</th>\n",
       "      <td>1</td>\n",
       "      <td>1</td>\n",
       "    </tr>\n",
       "    <tr>\n",
       "      <th>69</th>\n",
       "      <td>1</td>\n",
       "      <td>1</td>\n",
       "    </tr>\n",
       "    <tr>\n",
       "      <th>152</th>\n",
       "      <td>1</td>\n",
       "      <td>1</td>\n",
       "    </tr>\n",
       "    <tr>\n",
       "      <th>213</th>\n",
       "      <td>1</td>\n",
       "      <td>1</td>\n",
       "    </tr>\n",
       "    <tr>\n",
       "      <th>246</th>\n",
       "      <td>1</td>\n",
       "      <td>1</td>\n",
       "    </tr>\n",
       "    <tr>\n",
       "      <th>293</th>\n",
       "      <td>1</td>\n",
       "      <td>1</td>\n",
       "    </tr>\n",
       "  </tbody>\n",
       "</table>\n",
       "</div>"
      ],
      "text/plain": [
       "     dx  mg\n",
       "20    1   1\n",
       "58    1   1\n",
       "69    1   1\n",
       "152   1   1\n",
       "213   1   1\n",
       "246   1   1\n",
       "293   1   1"
      ]
     },
     "execution_count": 228,
     "metadata": {},
     "output_type": "execute_result"
    }
   ],
   "source": [
    "rf[(rf.dx==1) & (rf.mg==1)]"
   ]
  },
  {
   "cell_type": "code",
   "execution_count": 229,
   "id": "98920e49",
   "metadata": {},
   "outputs": [
    {
     "data": {
      "text/plain": [
       "7"
      ]
     },
     "execution_count": 229,
     "metadata": {},
     "output_type": "execute_result"
    }
   ],
   "source": [
    "rf[(rf.mg==1)].index.size"
   ]
  },
  {
   "cell_type": "code",
   "execution_count": 230,
   "id": "38b6fa15",
   "metadata": {},
   "outputs": [
    {
     "data": {
      "text/html": [
       "<div>\n",
       "<style scoped>\n",
       "    .dataframe tbody tr th:only-of-type {\n",
       "        vertical-align: middle;\n",
       "    }\n",
       "\n",
       "    .dataframe tbody tr th {\n",
       "        vertical-align: top;\n",
       "    }\n",
       "\n",
       "    .dataframe thead th {\n",
       "        text-align: right;\n",
       "    }\n",
       "</style>\n",
       "<table border=\"1\" class=\"dataframe\">\n",
       "  <thead>\n",
       "    <tr style=\"text-align: right;\">\n",
       "      <th></th>\n",
       "      <th>dx</th>\n",
       "      <th>mg</th>\n",
       "    </tr>\n",
       "  </thead>\n",
       "  <tbody>\n",
       "    <tr>\n",
       "      <th>dx</th>\n",
       "      <td>1.000000</td>\n",
       "      <td>0.302082</td>\n",
       "    </tr>\n",
       "    <tr>\n",
       "      <th>mg</th>\n",
       "      <td>0.302082</td>\n",
       "      <td>1.000000</td>\n",
       "    </tr>\n",
       "  </tbody>\n",
       "</table>\n",
       "</div>"
      ],
      "text/plain": [
       "          dx        mg\n",
       "dx  1.000000  0.302082\n",
       "mg  0.302082  1.000000"
      ]
     },
     "execution_count": 230,
     "metadata": {},
     "output_type": "execute_result"
    }
   ],
   "source": [
    "rfcat=pd.DataFrame([(int(i['subject_id'][-1]),malingering(i['lower_threshold'],i['veritas'],i['score'])) for i in Rcat[0]],columns=['dx','mg'])\n",
    "rfcat.corr()"
   ]
  },
  {
   "cell_type": "code",
   "execution_count": 231,
   "id": "faf79b25",
   "metadata": {},
   "outputs": [
    {
     "data": {
      "text/html": [
       "<div>\n",
       "<style scoped>\n",
       "    .dataframe tbody tr th:only-of-type {\n",
       "        vertical-align: middle;\n",
       "    }\n",
       "\n",
       "    .dataframe tbody tr th {\n",
       "        vertical-align: top;\n",
       "    }\n",
       "\n",
       "    .dataframe thead th {\n",
       "        text-align: right;\n",
       "    }\n",
       "</style>\n",
       "<table border=\"1\" class=\"dataframe\">\n",
       "  <thead>\n",
       "    <tr style=\"text-align: right;\">\n",
       "      <th></th>\n",
       "      <th>dx</th>\n",
       "      <th>mg</th>\n",
       "    </tr>\n",
       "  </thead>\n",
       "  <tbody>\n",
       "    <tr>\n",
       "      <th>18</th>\n",
       "      <td>1</td>\n",
       "      <td>1</td>\n",
       "    </tr>\n",
       "    <tr>\n",
       "      <th>39</th>\n",
       "      <td>1</td>\n",
       "      <td>1</td>\n",
       "    </tr>\n",
       "    <tr>\n",
       "      <th>57</th>\n",
       "      <td>1</td>\n",
       "      <td>1</td>\n",
       "    </tr>\n",
       "    <tr>\n",
       "      <th>63</th>\n",
       "      <td>1</td>\n",
       "      <td>1</td>\n",
       "    </tr>\n",
       "    <tr>\n",
       "      <th>76</th>\n",
       "      <td>1</td>\n",
       "      <td>1</td>\n",
       "    </tr>\n",
       "    <tr>\n",
       "      <th>85</th>\n",
       "      <td>1</td>\n",
       "      <td>1</td>\n",
       "    </tr>\n",
       "    <tr>\n",
       "      <th>86</th>\n",
       "      <td>1</td>\n",
       "      <td>1</td>\n",
       "    </tr>\n",
       "    <tr>\n",
       "      <th>88</th>\n",
       "      <td>1</td>\n",
       "      <td>1</td>\n",
       "    </tr>\n",
       "    <tr>\n",
       "      <th>90</th>\n",
       "      <td>1</td>\n",
       "      <td>1</td>\n",
       "    </tr>\n",
       "    <tr>\n",
       "      <th>97</th>\n",
       "      <td>1</td>\n",
       "      <td>1</td>\n",
       "    </tr>\n",
       "    <tr>\n",
       "      <th>98</th>\n",
       "      <td>1</td>\n",
       "      <td>1</td>\n",
       "    </tr>\n",
       "    <tr>\n",
       "      <th>103</th>\n",
       "      <td>1</td>\n",
       "      <td>1</td>\n",
       "    </tr>\n",
       "    <tr>\n",
       "      <th>106</th>\n",
       "      <td>1</td>\n",
       "      <td>1</td>\n",
       "    </tr>\n",
       "    <tr>\n",
       "      <th>139</th>\n",
       "      <td>1</td>\n",
       "      <td>1</td>\n",
       "    </tr>\n",
       "    <tr>\n",
       "      <th>141</th>\n",
       "      <td>1</td>\n",
       "      <td>1</td>\n",
       "    </tr>\n",
       "    <tr>\n",
       "      <th>142</th>\n",
       "      <td>1</td>\n",
       "      <td>1</td>\n",
       "    </tr>\n",
       "    <tr>\n",
       "      <th>152</th>\n",
       "      <td>1</td>\n",
       "      <td>1</td>\n",
       "    </tr>\n",
       "    <tr>\n",
       "      <th>167</th>\n",
       "      <td>1</td>\n",
       "      <td>1</td>\n",
       "    </tr>\n",
       "    <tr>\n",
       "      <th>188</th>\n",
       "      <td>1</td>\n",
       "      <td>1</td>\n",
       "    </tr>\n",
       "    <tr>\n",
       "      <th>213</th>\n",
       "      <td>1</td>\n",
       "      <td>1</td>\n",
       "    </tr>\n",
       "    <tr>\n",
       "      <th>225</th>\n",
       "      <td>1</td>\n",
       "      <td>1</td>\n",
       "    </tr>\n",
       "    <tr>\n",
       "      <th>230</th>\n",
       "      <td>1</td>\n",
       "      <td>1</td>\n",
       "    </tr>\n",
       "    <tr>\n",
       "      <th>246</th>\n",
       "      <td>1</td>\n",
       "      <td>1</td>\n",
       "    </tr>\n",
       "    <tr>\n",
       "      <th>252</th>\n",
       "      <td>1</td>\n",
       "      <td>1</td>\n",
       "    </tr>\n",
       "    <tr>\n",
       "      <th>262</th>\n",
       "      <td>1</td>\n",
       "      <td>1</td>\n",
       "    </tr>\n",
       "    <tr>\n",
       "      <th>290</th>\n",
       "      <td>1</td>\n",
       "      <td>1</td>\n",
       "    </tr>\n",
       "    <tr>\n",
       "      <th>300</th>\n",
       "      <td>1</td>\n",
       "      <td>1</td>\n",
       "    </tr>\n",
       "  </tbody>\n",
       "</table>\n",
       "</div>"
      ],
      "text/plain": [
       "     dx  mg\n",
       "18    1   1\n",
       "39    1   1\n",
       "57    1   1\n",
       "63    1   1\n",
       "76    1   1\n",
       "85    1   1\n",
       "86    1   1\n",
       "88    1   1\n",
       "90    1   1\n",
       "97    1   1\n",
       "98    1   1\n",
       "103   1   1\n",
       "106   1   1\n",
       "139   1   1\n",
       "141   1   1\n",
       "142   1   1\n",
       "152   1   1\n",
       "167   1   1\n",
       "188   1   1\n",
       "213   1   1\n",
       "225   1   1\n",
       "230   1   1\n",
       "246   1   1\n",
       "252   1   1\n",
       "262   1   1\n",
       "290   1   1\n",
       "300   1   1"
      ]
     },
     "execution_count": 231,
     "metadata": {},
     "output_type": "execute_result"
    }
   ],
   "source": [
    "rfcat[(rfcat.dx==1) & (rfcat.mg==1)]"
   ]
  },
  {
   "cell_type": "code",
   "execution_count": 232,
   "id": "04bc253f",
   "metadata": {},
   "outputs": [
    {
     "data": {
      "text/plain": [
       "44"
      ]
     },
     "execution_count": 232,
     "metadata": {},
     "output_type": "execute_result"
    }
   ],
   "source": [
    "rfcat[(rfcat.mg==1)].index.size"
   ]
  },
  {
   "cell_type": "code",
   "execution_count": 233,
   "id": "9e5627dc",
   "metadata": {},
   "outputs": [
    {
     "data": {
      "text/html": [
       "<div>\n",
       "<style scoped>\n",
       "    .dataframe tbody tr th:only-of-type {\n",
       "        vertical-align: middle;\n",
       "    }\n",
       "\n",
       "    .dataframe tbody tr th {\n",
       "        vertical-align: top;\n",
       "    }\n",
       "\n",
       "    .dataframe thead th {\n",
       "        text-align: right;\n",
       "    }\n",
       "</style>\n",
       "<table border=\"1\" class=\"dataframe\">\n",
       "  <thead>\n",
       "    <tr style=\"text-align: right;\">\n",
       "      <th></th>\n",
       "      <th>dx</th>\n",
       "      <th>mg</th>\n",
       "    </tr>\n",
       "  </thead>\n",
       "  <tbody>\n",
       "    <tr>\n",
       "      <th>dx</th>\n",
       "      <td>1.000000</td>\n",
       "      <td>0.113614</td>\n",
       "    </tr>\n",
       "    <tr>\n",
       "      <th>mg</th>\n",
       "      <td>0.113614</td>\n",
       "      <td>1.000000</td>\n",
       "    </tr>\n",
       "  </tbody>\n",
       "</table>\n",
       "</div>"
      ],
      "text/plain": [
       "          dx        mg\n",
       "dx  1.000000  0.113614\n",
       "mg  0.113614  1.000000"
      ]
     },
     "execution_count": 233,
     "metadata": {},
     "output_type": "execute_result"
    }
   ],
   "source": [
    "rfrnd=pd.DataFrame([(int(i['subject_id'][-1]),malingering(i['lower_threshold'],i['veritas'],i['score'])) for i in Rrnd[0]],\n",
    "                   columns=['dx','mg'])\n",
    "rfrnd.corr()"
   ]
  },
  {
   "cell_type": "code",
   "execution_count": 234,
   "id": "39203641",
   "metadata": {},
   "outputs": [
    {
     "data": {
      "text/html": [
       "<div>\n",
       "<style scoped>\n",
       "    .dataframe tbody tr th:only-of-type {\n",
       "        vertical-align: middle;\n",
       "    }\n",
       "\n",
       "    .dataframe tbody tr th {\n",
       "        vertical-align: top;\n",
       "    }\n",
       "\n",
       "    .dataframe thead th {\n",
       "        text-align: right;\n",
       "    }\n",
       "</style>\n",
       "<table border=\"1\" class=\"dataframe\">\n",
       "  <thead>\n",
       "    <tr style=\"text-align: right;\">\n",
       "      <th></th>\n",
       "      <th>dx</th>\n",
       "      <th>mg</th>\n",
       "    </tr>\n",
       "  </thead>\n",
       "  <tbody>\n",
       "    <tr>\n",
       "      <th>8</th>\n",
       "      <td>1</td>\n",
       "      <td>1</td>\n",
       "    </tr>\n",
       "    <tr>\n",
       "      <th>39</th>\n",
       "      <td>1</td>\n",
       "      <td>1</td>\n",
       "    </tr>\n",
       "    <tr>\n",
       "      <th>58</th>\n",
       "      <td>1</td>\n",
       "      <td>1</td>\n",
       "    </tr>\n",
       "    <tr>\n",
       "      <th>88</th>\n",
       "      <td>1</td>\n",
       "      <td>1</td>\n",
       "    </tr>\n",
       "    <tr>\n",
       "      <th>106</th>\n",
       "      <td>1</td>\n",
       "      <td>1</td>\n",
       "    </tr>\n",
       "    <tr>\n",
       "      <th>127</th>\n",
       "      <td>1</td>\n",
       "      <td>1</td>\n",
       "    </tr>\n",
       "    <tr>\n",
       "      <th>188</th>\n",
       "      <td>1</td>\n",
       "      <td>1</td>\n",
       "    </tr>\n",
       "    <tr>\n",
       "      <th>252</th>\n",
       "      <td>1</td>\n",
       "      <td>1</td>\n",
       "    </tr>\n",
       "  </tbody>\n",
       "</table>\n",
       "</div>"
      ],
      "text/plain": [
       "     dx  mg\n",
       "8     1   1\n",
       "39    1   1\n",
       "58    1   1\n",
       "88    1   1\n",
       "106   1   1\n",
       "127   1   1\n",
       "188   1   1\n",
       "252   1   1"
      ]
     },
     "execution_count": 234,
     "metadata": {},
     "output_type": "execute_result"
    }
   ],
   "source": [
    "rfrnd[(rfrnd.dx==1) & (rfrnd.mg==1)]"
   ]
  },
  {
   "cell_type": "code",
   "execution_count": 235,
   "id": "12157b89",
   "metadata": {},
   "outputs": [
    {
     "data": {
      "text/plain": [
       "16"
      ]
     },
     "execution_count": 235,
     "metadata": {},
     "output_type": "execute_result"
    }
   ],
   "source": [
    "rfrnd[(rfrnd.mg==1)].index.size"
   ]
  },
  {
   "cell_type": "code",
   "execution_count": 206,
   "id": "d088ac31",
   "metadata": {},
   "outputs": [],
   "source": [
    "from sklearn import metrics\n",
    "from zedstat import zedstat\n",
    "from jupyterthemes import jtplot\n",
    "import pylab as plt\n",
    "jtplot.style()"
   ]
  },
  {
   "cell_type": "code",
   "execution_count": 241,
   "id": "85717696",
   "metadata": {},
   "outputs": [
    {
     "data": {
      "text/html": [
       "<div>\n",
       "<style scoped>\n",
       "    .dataframe tbody tr th:only-of-type {\n",
       "        vertical-align: middle;\n",
       "    }\n",
       "\n",
       "    .dataframe tbody tr th {\n",
       "        vertical-align: top;\n",
       "    }\n",
       "\n",
       "    .dataframe thead th {\n",
       "        text-align: right;\n",
       "    }\n",
       "</style>\n",
       "<table border=\"1\" class=\"dataframe\">\n",
       "  <thead>\n",
       "    <tr style=\"text-align: right;\">\n",
       "      <th></th>\n",
       "      <th>tpr</th>\n",
       "      <th>ppv</th>\n",
       "      <th>acc</th>\n",
       "      <th>npv</th>\n",
       "      <th>LR+</th>\n",
       "      <th>LR-</th>\n",
       "      <th>threshold</th>\n",
       "    </tr>\n",
       "    <tr>\n",
       "      <th>fpr</th>\n",
       "      <th></th>\n",
       "      <th></th>\n",
       "      <th></th>\n",
       "      <th></th>\n",
       "      <th></th>\n",
       "      <th></th>\n",
       "      <th></th>\n",
       "    </tr>\n",
       "  </thead>\n",
       "  <tbody>\n",
       "    <tr>\n",
       "      <th>0.000</th>\n",
       "      <td>0.000000</td>\n",
       "      <td>0.911834</td>\n",
       "      <td>0.500000</td>\n",
       "      <td>0.500000</td>\n",
       "      <td>13.934402</td>\n",
       "      <td>1.000000</td>\n",
       "      <td>3.2880</td>\n",
       "    </tr>\n",
       "    <tr>\n",
       "      <th>0.001</th>\n",
       "      <td>0.013953</td>\n",
       "      <td>0.911413</td>\n",
       "      <td>0.506518</td>\n",
       "      <td>0.503521</td>\n",
       "      <td>14.061892</td>\n",
       "      <td>0.986843</td>\n",
       "      <td>3.1263</td>\n",
       "    </tr>\n",
       "    <tr>\n",
       "      <th>0.002</th>\n",
       "      <td>0.027907</td>\n",
       "      <td>0.910993</td>\n",
       "      <td>0.513036</td>\n",
       "      <td>0.507042</td>\n",
       "      <td>14.189382</td>\n",
       "      <td>0.973686</td>\n",
       "      <td>2.9646</td>\n",
       "    </tr>\n",
       "    <tr>\n",
       "      <th>0.003</th>\n",
       "      <td>0.041860</td>\n",
       "      <td>0.910573</td>\n",
       "      <td>0.519554</td>\n",
       "      <td>0.510562</td>\n",
       "      <td>14.316872</td>\n",
       "      <td>0.960530</td>\n",
       "      <td>2.8029</td>\n",
       "    </tr>\n",
       "    <tr>\n",
       "      <th>0.004</th>\n",
       "      <td>0.055814</td>\n",
       "      <td>0.910153</td>\n",
       "      <td>0.526072</td>\n",
       "      <td>0.514083</td>\n",
       "      <td>14.444362</td>\n",
       "      <td>0.947373</td>\n",
       "      <td>2.6412</td>\n",
       "    </tr>\n",
       "    <tr>\n",
       "      <th>...</th>\n",
       "      <td>...</td>\n",
       "      <td>...</td>\n",
       "      <td>...</td>\n",
       "      <td>...</td>\n",
       "      <td>...</td>\n",
       "      <td>...</td>\n",
       "      <td>...</td>\n",
       "    </tr>\n",
       "    <tr>\n",
       "      <th>0.996</th>\n",
       "      <td>1.000000</td>\n",
       "      <td>0.455627</td>\n",
       "      <td>0.501998</td>\n",
       "      <td>1.323023</td>\n",
       "      <td>1.005155</td>\n",
       "      <td>0.000000</td>\n",
       "      <td>0.0000</td>\n",
       "    </tr>\n",
       "    <tr>\n",
       "      <th>0.997</th>\n",
       "      <td>1.000000</td>\n",
       "      <td>0.455170</td>\n",
       "      <td>0.501498</td>\n",
       "      <td>1.324485</td>\n",
       "      <td>1.003866</td>\n",
       "      <td>0.000000</td>\n",
       "      <td>0.0000</td>\n",
       "    </tr>\n",
       "    <tr>\n",
       "      <th>0.998</th>\n",
       "      <td>1.000000</td>\n",
       "      <td>0.454712</td>\n",
       "      <td>0.500999</td>\n",
       "      <td>1.325947</td>\n",
       "      <td>1.002577</td>\n",
       "      <td>0.000000</td>\n",
       "      <td>0.0000</td>\n",
       "    </tr>\n",
       "    <tr>\n",
       "      <th>0.999</th>\n",
       "      <td>1.000000</td>\n",
       "      <td>0.454255</td>\n",
       "      <td>0.500499</td>\n",
       "      <td>1.327408</td>\n",
       "      <td>1.001289</td>\n",
       "      <td>0.000000</td>\n",
       "      <td>0.0000</td>\n",
       "    </tr>\n",
       "    <tr>\n",
       "      <th>1.000</th>\n",
       "      <td>1.000000</td>\n",
       "      <td>0.453797</td>\n",
       "      <td>0.500000</td>\n",
       "      <td>1.328870</td>\n",
       "      <td>1.000000</td>\n",
       "      <td>0.000000</td>\n",
       "      <td>0.0000</td>\n",
       "    </tr>\n",
       "  </tbody>\n",
       "</table>\n",
       "<p>1001 rows × 7 columns</p>\n",
       "</div>"
      ],
      "text/plain": [
       "            tpr       ppv       acc       npv        LR+       LR-  threshold\n",
       "fpr                                                                          \n",
       "0.000  0.000000  0.911834  0.500000  0.500000  13.934402  1.000000     3.2880\n",
       "0.001  0.013953  0.911413  0.506518  0.503521  14.061892  0.986843     3.1263\n",
       "0.002  0.027907  0.910993  0.513036  0.507042  14.189382  0.973686     2.9646\n",
       "0.003  0.041860  0.910573  0.519554  0.510562  14.316872  0.960530     2.8029\n",
       "0.004  0.055814  0.910153  0.526072  0.514083  14.444362  0.947373     2.6412\n",
       "...         ...       ...       ...       ...        ...       ...        ...\n",
       "0.996  1.000000  0.455627  0.501998  1.323023   1.005155  0.000000     0.0000\n",
       "0.997  1.000000  0.455170  0.501498  1.324485   1.003866  0.000000     0.0000\n",
       "0.998  1.000000  0.454712  0.500999  1.325947   1.002577  0.000000     0.0000\n",
       "0.999  1.000000  0.454255  0.500499  1.327408   1.001289  0.000000     0.0000\n",
       "1.000  1.000000  0.453797  0.500000  1.328870   1.000000  0.000000     0.0000\n",
       "\n",
       "[1001 rows x 7 columns]"
      ]
     },
     "execution_count": 241,
     "metadata": {},
     "output_type": "execute_result"
    }
   ],
   "source": [
    "fpr, tpr, thresholds = metrics.roc_curve(rf.dx.values,[1/(1+ (1/x['score'])) for x in R[0]], pos_label=1)\n",
    "ff=pd.DataFrame(tpr,fpr,columns=['tpr']).assign(threshold=thresholds)\n",
    "ff.index.name='fpr'\n",
    "zt=zedstat.processRoc(df=ff.reset_index(),\n",
    "                      order=3, \n",
    "                      total_samples=304,\n",
    "                      positive_samples=86,\n",
    "                      alpha=0.01,\n",
    "                      prevalence=0.5)\n",
    "zt.smooth(STEP=0.001)\n",
    "zt.allmeasures(interpolate=True)\n",
    "zt.usample(precision=3)\n",
    "\n",
    "fpr20, tpr20, thresholds20 = metrics.roc_curve(rf.dx.values,[1/(1+ (1/x['score'])) for x in R20[0]], pos_label=1)\n",
    "ff20=pd.DataFrame(tpr20,fpr20,columns=['tpr']).assign(threshold=thresholds20)\n",
    "ff20.index.name='fpr'\n",
    "zt20=zedstat.processRoc(df=ff20.reset_index(),\n",
    "                      order=3, \n",
    "                      total_samples=304,\n",
    "                      positive_samples=86,\n",
    "                      alpha=0.01,\n",
    "                      prevalence=0.5)\n",
    "zt20.smooth(STEP=0.001)\n",
    "zt20.allmeasures(interpolate=True)\n",
    "zt20.usample(precision=3)\n",
    "\n",
    "fprcat, tprcat, thresholdscat = metrics.roc_curve(rfcat.dx.values,[1/(1+ (1/x['score'])) for x in Rcat[0]], pos_label=1)\n",
    "ffcat=pd.DataFrame(tprcat,fprcat,columns=['tpr']).assign(threshold=thresholdscat)\n",
    "ffcat.index.name='fpr'\n",
    "ztcat=zedstat.processRoc(df=ffcat.reset_index(),\n",
    "                      order=3, \n",
    "                      total_samples=304,\n",
    "                      positive_samples=86,\n",
    "                      alpha=0.01,\n",
    "                      prevalence=0.5)\n",
    "ztcat.smooth(STEP=0.001)\n",
    "ztcat.allmeasures(interpolate=True)\n",
    "ztcat.usample(precision=3)\n",
    "\n",
    "fprrnd, tprrnd, thresholdsrnd = metrics.roc_curve(rfrnd.dx.values,[1/(1+ (1/x['score'])) for x in Rrnd[0]], pos_label=1)\n",
    "ffrnd=pd.DataFrame(tprrnd,fprrnd,columns=['tpr']).assign(threshold=thresholdsrnd)\n",
    "ffrnd.index.name='fpr'\n",
    "ztrnd=zedstat.processRoc(df=ffrnd.reset_index(),\n",
    "                      order=3, \n",
    "                      total_samples=304,\n",
    "                      positive_samples=86,\n",
    "                      alpha=0.01,\n",
    "                      prevalence=0.5)\n",
    "ztrnd.smooth(STEP=0.001)\n",
    "ztrnd.allmeasures(interpolate=True)\n",
    "ztrnd.usample(precision=3)\n",
    "\n",
    "\n",
    "CATTHETA=pd.read_csv('../response_jsons/cattheta304.csv',index_col=0).values\n",
    "fprcat0, tprcat0, thresholdscat0 = metrics.roc_curve(rfcat.dx.values,CATTHETA, pos_label=1)\n",
    "ffcat0=pd.DataFrame(tprcat0,fprcat0,columns=['tpr']).assign(threshold=thresholdscat0)\n",
    "ffcat0.index.name='fpr'\n",
    "ztcat0=zedstat.processRoc(df=ffcat0.reset_index(),\n",
    "                      order=3, \n",
    "                      total_samples=304,\n",
    "                      positive_samples=86,\n",
    "                      alpha=0.01,\n",
    "                      prevalence=0.5)\n",
    "ztcat0.smooth(STEP=0.001)\n",
    "ztcat0.allmeasures(interpolate=True)\n",
    "ztcat0.usample(precision=3)"
   ]
  },
  {
   "cell_type": "code",
   "execution_count": 243,
   "id": "25ed9e8b",
   "metadata": {},
   "outputs": [
    {
     "data": {
      "text/plain": [
       "<matplotlib.legend.Legend at 0x7f7500014280>"
      ]
     },
     "execution_count": 243,
     "metadata": {},
     "output_type": "execute_result"
    },
    {
     "data": {
      "image/png": "[encoded data removed]",
      "text/plain": [
       "<Figure size 460.8x403.2 with 1 Axes>"
      ]
     },
     "metadata": {},
     "output_type": "display_data"
    }
   ],
   "source": [
    "plt.plot(fpr,tpr,'g',lw=2)\n",
    "plt.plot(fpr20,tpr20,'r',lw=2)\n",
    "#plt.plot(fprcat,tprcat,'b',lw=2)\n",
    "#plt.plot(fprrnd,tprrnd,'m',lw=1)\n",
    "plt.plot(fprcat0,tprcat0,'--w',lw=2)\n",
    "plt.gca().legend(['qnetfull','qnet12max','cattheta'])"
   ]
  },
  {
   "cell_type": "code",
   "execution_count": 245,
   "id": "ef63f0d7",
   "metadata": {},
   "outputs": [
    {
     "name": "stdout",
     "output_type": "stream",
     "text": [
      "rrnd:  (0.8601918604651162, 0.913788740161741, 0.8066810360061523) cat0:  (0.8738720930232557, 0.9321944097985972, 0.8156089531527262)\n",
      "full:  (0.8836744186046512, 0.9371185426558697, 0.8302674818183453) r20:  (0.8781569767441861, 0.9314922823849526, 0.8248891542974541) rcat:  (0.8390697674418606, 0.9026818502071612, 0.7756098878227193) rrnd:  (0.8601918604651162, 0.913788740161741, 0.8066810360061523) cat0:  (0.8738720930232557, 0.9321944097985972, 0.8156089531527262)\n"
     ]
    },
    {
     "data": {
      "image/png": "[encoded data removed]",
      "text/plain": [
       "<Figure size 460.8x403.2 with 1 Axes>"
      ]
     },
     "metadata": {},
     "output_type": "display_data"
    }
   ],
   "source": [
    "ztcat0.get().tpr.plot(style='-w',lw=2)\n",
    "zt20.get().tpr.plot(style='-r',lw=2)\n",
    "ztrnd.get().tpr.plot(style='-m',lw=2)\n",
    "zt.get().tpr.plot(style='-b',lw=2)\n",
    "#ztcat.get().tpr.plot(style='-b',lw=2)\n",
    "print('rrnd: ',ztrnd.auc(), 'cat0: ',ztcat0.auc())\n",
    "print('full: ',zt.auc(),'r20: ',zt20.auc(), 'rcat: ',ztcat.auc(), 'rrnd: ',ztrnd.auc(), 'cat0: ',ztcat0.auc())\n"
   ]
  },
  {
   "cell_type": "code",
   "execution_count": 209,
   "id": "9b02d4d6",
   "metadata": {},
   "outputs": [
    {
     "data": {
      "text/plain": [
       "0.8596907679476486"
      ]
     },
     "execution_count": 209,
     "metadata": {},
     "output_type": "execute_result"
    }
   ],
   "source": [
    "zt.scoretoprobability(1.3)"
   ]
  },
  {
   "cell_type": "code",
   "execution_count": 210,
   "id": "8c02745f",
   "metadata": {},
   "outputs": [
    {
     "data": {
      "text/plain": [
       "0.9147421701993039"
      ]
     },
     "execution_count": 210,
     "metadata": {},
     "output_type": "execute_result"
    }
   ],
   "source": [
    "zt20.scoretoprobability(1.3)"
   ]
  },
  {
   "cell_type": "code",
   "execution_count": 211,
   "id": "67b9a91d",
   "metadata": {},
   "outputs": [
    {
     "data": {
      "text/plain": [
       "0.8409785932721713"
      ]
     },
     "execution_count": 211,
     "metadata": {},
     "output_type": "execute_result"
    }
   ],
   "source": [
    "ztrnd.scoretoprobability(1.3)"
   ]
  },
  {
   "cell_type": "code",
   "execution_count": 212,
   "id": "c0b524e9",
   "metadata": {},
   "outputs": [
    {
     "name": "stdout",
     "output_type": "stream",
     "text": [
      "/home/ishanu/ZED/Research/truthnet/veritas_test/ntb\r\n"
     ]
    }
   ],
   "source": [
    "! pwd"
   ]
  },
  {
   "cell_type": "code",
   "execution_count": 253,
   "id": "2b9f7e0e",
   "metadata": {},
   "outputs": [
    {
     "data": {
      "text/html": [
       "<div>\n",
       "<style scoped>\n",
       "    .dataframe tbody tr th:only-of-type {\n",
       "        vertical-align: middle;\n",
       "    }\n",
       "\n",
       "    .dataframe tbody tr th {\n",
       "        vertical-align: top;\n",
       "    }\n",
       "\n",
       "    .dataframe thead th {\n",
       "        text-align: right;\n",
       "    }\n",
       "</style>\n",
       "<table border=\"1\" class=\"dataframe\">\n",
       "  <thead>\n",
       "    <tr style=\"text-align: right;\">\n",
       "      <th></th>\n",
       "      <th>tpr</th>\n",
       "      <th>ppv</th>\n",
       "      <th>acc</th>\n",
       "      <th>npv</th>\n",
       "      <th>LR+</th>\n",
       "      <th>LR-</th>\n",
       "      <th>threshold</th>\n",
       "    </tr>\n",
       "    <tr>\n",
       "      <th>fpr</th>\n",
       "      <th></th>\n",
       "      <th></th>\n",
       "      <th></th>\n",
       "      <th></th>\n",
       "      <th></th>\n",
       "      <th></th>\n",
       "      <th></th>\n",
       "    </tr>\n",
       "  </thead>\n",
       "  <tbody>\n",
       "    <tr>\n",
       "      <th>0.025</th>\n",
       "      <td>0.240801</td>\n",
       "      <td>0.900397</td>\n",
       "      <td>0.607916</td>\n",
       "      <td>0.572008</td>\n",
       "      <td>13.615078</td>\n",
       "      <td>0.772523</td>\n",
       "      <td>1.424519</td>\n",
       "    </tr>\n",
       "  </tbody>\n",
       "</table>\n",
       "</div>"
      ],
      "text/plain": [
       "            tpr       ppv       acc       npv        LR+       LR-  threshold\n",
       "fpr                                                                          \n",
       "0.025  0.240801  0.900397  0.607916  0.572008  13.615078  0.772523   1.424519"
      ]
     },
     "execution_count": 253,
     "metadata": {},
     "output_type": "execute_result"
    }
   ],
   "source": [
    "a=ztcat0.get()\n",
    "a[a.ppv>.9].tail(1)"
   ]
  },
  {
   "cell_type": "code",
   "execution_count": 256,
   "id": "21e02ee6",
   "metadata": {},
   "outputs": [
    {
     "data": {
      "text/plain": [
       "(-2.769, 2.288)"
      ]
     },
     "execution_count": 256,
     "metadata": {},
     "output_type": "execute_result"
    }
   ],
   "source": [
    "np.array([x[0] for x in CATTHETA]).min(),np.array([x[0] for x in CATTHETA]).max()"
   ]
  },
  {
   "cell_type": "code",
   "execution_count": 248,
   "id": "133dd6e2",
   "metadata": {},
   "outputs": [
    {
     "data": {
      "text/html": [
       "<div>\n",
       "<style scoped>\n",
       "    .dataframe tbody tr th:only-of-type {\n",
       "        vertical-align: middle;\n",
       "    }\n",
       "\n",
       "    .dataframe tbody tr th {\n",
       "        vertical-align: top;\n",
       "    }\n",
       "\n",
       "    .dataframe thead th {\n",
       "        text-align: right;\n",
       "    }\n",
       "</style>\n",
       "<table border=\"1\" class=\"dataframe\">\n",
       "  <thead>\n",
       "    <tr style=\"text-align: right;\">\n",
       "      <th></th>\n",
       "      <th>tpr</th>\n",
       "      <th>threshold</th>\n",
       "    </tr>\n",
       "    <tr>\n",
       "      <th>fpr</th>\n",
       "      <th></th>\n",
       "      <th></th>\n",
       "    </tr>\n",
       "  </thead>\n",
       "  <tbody>\n",
       "    <tr>\n",
       "      <th>0.000000</th>\n",
       "      <td>0.000000</td>\n",
       "      <td>3.288</td>\n",
       "    </tr>\n",
       "    <tr>\n",
       "      <th>0.000000</th>\n",
       "      <td>0.011628</td>\n",
       "      <td>2.288</td>\n",
       "    </tr>\n",
       "    <tr>\n",
       "      <th>0.000000</th>\n",
       "      <td>0.023256</td>\n",
       "      <td>2.222</td>\n",
       "    </tr>\n",
       "    <tr>\n",
       "      <th>0.004587</th>\n",
       "      <td>0.023256</td>\n",
       "      <td>1.777</td>\n",
       "    </tr>\n",
       "    <tr>\n",
       "      <th>0.004587</th>\n",
       "      <td>0.034884</td>\n",
       "      <td>1.689</td>\n",
       "    </tr>\n",
       "    <tr>\n",
       "      <th>...</th>\n",
       "      <td>...</td>\n",
       "      <td>...</td>\n",
       "    </tr>\n",
       "    <tr>\n",
       "      <th>0.876147</th>\n",
       "      <td>1.000000</td>\n",
       "      <td>-1.998</td>\n",
       "    </tr>\n",
       "    <tr>\n",
       "      <th>0.885321</th>\n",
       "      <td>1.000000</td>\n",
       "      <td>-2.001</td>\n",
       "    </tr>\n",
       "    <tr>\n",
       "      <th>0.935780</th>\n",
       "      <td>1.000000</td>\n",
       "      <td>-2.253</td>\n",
       "    </tr>\n",
       "    <tr>\n",
       "      <th>0.944954</th>\n",
       "      <td>1.000000</td>\n",
       "      <td>-2.268</td>\n",
       "    </tr>\n",
       "    <tr>\n",
       "      <th>1.000000</th>\n",
       "      <td>1.000000</td>\n",
       "      <td>-2.769</td>\n",
       "    </tr>\n",
       "  </tbody>\n",
       "</table>\n",
       "<p>100 rows × 2 columns</p>\n",
       "</div>"
      ],
      "text/plain": [
       "               tpr  threshold\n",
       "fpr                          \n",
       "0.000000  0.000000      3.288\n",
       "0.000000  0.011628      2.288\n",
       "0.000000  0.023256      2.222\n",
       "0.004587  0.023256      1.777\n",
       "0.004587  0.034884      1.689\n",
       "...            ...        ...\n",
       "0.876147  1.000000     -1.998\n",
       "0.885321  1.000000     -2.001\n",
       "0.935780  1.000000     -2.253\n",
       "0.944954  1.000000     -2.268\n",
       "1.000000  1.000000     -2.769\n",
       "\n",
       "[100 rows x 2 columns]"
      ]
     },
     "execution_count": 248,
     "metadata": {},
     "output_type": "execute_result"
    }
   ],
   "source": [
    "ffcat0"
   ]
  },
  {
   "cell_type": "code",
   "execution_count": null,
   "id": "d77d4730",
   "metadata": {},
   "outputs": [],
   "source": []
  }
 ],
 "metadata": {
  "kernelspec": {
   "display_name": "Python 3 (ipykernel)",
   "language": "python",
   "name": "python3"
  },
  "language_info": {
   "codemirror_mode": {
    "name": "ipython",
    "version": 3
   },
   "file_extension": ".py",
   "mimetype": "text/x-python",
   "name": "python",
   "nbconvert_exporter": "python",
   "pygments_lexer": "ipython3",
   "version": "3.10.8"
  }
 },
 "nbformat": 4,
 "nbformat_minor": 5
}
