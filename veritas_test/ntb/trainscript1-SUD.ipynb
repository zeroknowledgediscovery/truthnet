{
 "cells": [
  {
   "cell_type": "code",
   "execution_count": 1,
   "id": "b9c53dcd",
   "metadata": {},
   "outputs": [],
   "source": [
    "import sys\n",
    "sys.path.append(\"../\") \n",
    "from infer_veritas import  *\n",
    "from truthfinder import *\n",
    "\n",
    "import dill as pickle"
   ]
  },
  {
   "cell_type": "raw",
   "id": "64e37d06",
   "metadata": {},
   "source": [
    "import pandas as pd\n",
    "df=pd.read_csv('/home/ishanu/ZED/Research/truthnet/notebooks/data/bondcourt/CCHHS_SUD_details.csv',index_col=0,\n",
    "            keep_default_na=False,dtype=str).replace('NULL','')#.replace('9','')\n",
    "cols=df.columns"
   ]
  },
  {
   "cell_type": "raw",
   "id": "4a0a6137",
   "metadata": {},
   "source": [
    "def remove_identical_columns(df):\n",
    "    # Identify columns where all values are the same\n",
    "    columns_to_drop = [col for col in df.columns if df[col].nunique() == 1]\n",
    "    \n",
    "    # Drop these columns\n",
    "    df_cleaned = df.drop(columns=columns_to_drop)\n",
    "    \n",
    "    return df_cleaned\n",
    "df=remove_identical_columns(df)\n",
    "df.to_csv('../validation/data/SUD.csv')"
   ]
  },
  {
   "cell_type": "code",
   "execution_count": 2,
   "id": "8cc3406c",
   "metadata": {},
   "outputs": [
    {
     "name": "stdout",
     "output_type": "stream",
     "text": [
      "             6294 6296 6298 6314 6315 6317 6319 6325 6326 6327  ... 6408 6409  \\\n",
      "Interview_ID                                                    ...             \n",
      "49723           1    1         1    1    1    1                 ...             \n",
      "49724                2         4    4    4    4                 ...             \n",
      "49728                1         1    1    2    1                 ...    2    1   \n",
      "49729           1    1         1    1    1    1                 ...             \n",
      "49730                2         1    1    1    1    2            ...             \n",
      "...           ...  ...  ...  ...  ...  ...  ...  ...  ...  ...  ...  ...  ...   \n",
      "89614                2         1    2    3    2              1  ...             \n",
      "89679           1    1         1    1    1    1                 ...             \n",
      "90638                1         1    1    2    1                 ...         2   \n",
      "91322                2         2    3    2    3              2  ...             \n",
      "92378                2         1    1    1    1                 ...         2   \n",
      "\n",
      "             6410 6411 6412 6421 6422 6426 6427 6436  \n",
      "Interview_ID                                          \n",
      "49723           1    1    1         1    1            \n",
      "49724                                                 \n",
      "49728                3    1    1    1         3    1  \n",
      "49729           1    1    1         1    1            \n",
      "49730                               5                 \n",
      "...           ...  ...  ...  ...  ...  ...  ...  ...  \n",
      "89614                                                 \n",
      "89679           1    1    1         1    1            \n",
      "90638                1         1    1                 \n",
      "91322                                                 \n",
      "92378                2         2    1              1  \n",
      "\n",
      "[1250 rows x 42 columns]\n"
     ]
    },
    {
     "data": {
      "application/vnd.jupyter.widget-view+json": {
       "model_id": "dd9b2634598a415588f98ab84073eccd",
       "version_major": 2,
       "version_minor": 0
      },
      "text/plain": [
       "  0%|          | 0/10 [00:00<?, ?it/s]"
      ]
     },
     "metadata": {},
     "output_type": "display_data"
    },
    {
     "name": "stderr",
     "output_type": "stream",
     "text": [
      "100%|███████████████████████████████████████| 5000/5000 [10:04<00:00,  8.28it/s]\n"
     ]
    },
    {
     "name": "stdout",
     "output_type": "stream",
     "text": [
      "ckeck passed\n"
     ]
    },
    {
     "name": "stderr",
     "output_type": "stream",
     "text": [
      "[distfit] >INFO> fit\n",
      "[distfit] >INFO> transform\n",
      "[distfit] >INFO> [lognorm] [0.09 sec] [RSS: 0.40519] [loc=-0.015 scale=0.567]\n",
      "[distfit] >INFO> Compute confidence intervals [parametric]\n",
      "[distfit] >INFO> fit\n",
      "[distfit] >INFO> transform\n",
      "[distfit] >INFO> [smoothline] >Smoothing by interpolation..\n",
      "[distfit] >INFO> [lognorm] [0.11 sec] [RSS: 29.126] [loc=0.138 scale=0.098]\n",
      "[distfit] >INFO> Compute confidence intervals [parametric]\n"
     ]
    },
    {
     "name": "stdout",
     "output_type": "stream",
     "text": [
      "CPU times: user 19min 9s, sys: 31.6 s, total: 19min 40s\n",
      "Wall time: 19min 3s\n"
     ]
    }
   ],
   "source": [
    "%%time\n",
    "TR=truthnet(datapath='../validation/data/SUD.csv',target_label=None,VERBOSE=True)\n",
    "TR.fit(shapnum=10)\n",
    "\n",
    "with gzip.open('tmp1_veritas_001_SUD.pkl.gz', 'wb') as file:\n",
    "    pickle.dump(TR, file)\n",
    "\n",
    "rf=TR.calibrate(calibration_num=5000)\n",
    "\n",
    "with gzip.open('veritas_001_SUD.pkl.gz', 'wb') as file:\n",
    "    pickle.dump(TR, file)"
   ]
  },
  {
   "cell_type": "code",
   "execution_count": 3,
   "id": "5154d68e",
   "metadata": {},
   "outputs": [
    {
     "data": {
      "text/plain": [
       "{'version': '0.0.1',\n",
       " 'model': qnet.Qnet,\n",
       " 'problem': '',\n",
       " 'dist_lower': <scipy.stats._distn_infrastructure.rv_continuous_frozen at 0x7fd8485a0a60>,\n",
       " 'LOWER_THRESHOLD': 0.4257059161256135,\n",
       " 'dist_veritas': <scipy.stats._distn_infrastructure.rv_continuous_frozen at 0x7fd8485a02b0>,\n",
       " 'VERITAS_THRESHOLD': 0.43095410027422953}"
      ]
     },
     "execution_count": 3,
     "metadata": {},
     "output_type": "execute_result"
    }
   ],
   "source": [
    "TR.veritas_model"
   ]
  },
  {
   "cell_type": "code",
   "execution_count": 4,
   "id": "e41a37ea",
   "metadata": {},
   "outputs": [],
   "source": [
    "M=TR.veritas_model"
   ]
  },
  {
   "cell_type": "code",
   "execution_count": 16,
   "id": "a5fc331c",
   "metadata": {},
   "outputs": [
    {
     "data": {
      "text/plain": [
       "0.9371783002317865"
      ]
     },
     "execution_count": 16,
     "metadata": {},
     "output_type": "execute_result"
    }
   ],
   "source": [
    "M['dist_veritas'].cdf(.35)\n"
   ]
  },
  {
   "cell_type": "code",
   "execution_count": 102,
   "id": "5d125e50",
   "metadata": {},
   "outputs": [
    {
     "data": {
      "text/plain": [
       "<AxesSubplot:xlabel='lower', ylabel='Density'>"
      ]
     },
     "execution_count": 102,
     "metadata": {},
     "output_type": "execute_result"
    },
    {
     "data": {
      "image/png": "[encoded data removed]",
      "text/plain": [
       "<Figure size 460.8x403.2 with 1 Axes>"
      ]
     },
     "metadata": {},
     "output_type": "display_data"
    }
   ],
   "source": [
    "from jupyterthemes import jtplot\n",
    "jtplot.style()\n",
    "import seaborn as sns\n",
    "sns.distplot(rf[0].lower)"
   ]
  },
  {
   "cell_type": "code",
   "execution_count": 104,
   "id": "2d8db57d",
   "metadata": {},
   "outputs": [
    {
     "data": {
      "text/plain": [
       "<AxesSubplot:xlabel='veritas', ylabel='Density'>"
      ]
     },
     "execution_count": 104,
     "metadata": {},
     "output_type": "execute_result"
    },
    {
     "data": {
      "image/png": "[encoded data removed]",
      "text/plain": [
       "<Figure size 460.8x403.2 with 1 Axes>"
      ]
     },
     "metadata": {},
     "output_type": "display_data"
    }
   ],
   "source": [
    "sns.distplot(rf[0].veritas)"
   ]
  },
  {
   "cell_type": "code",
   "execution_count": 35,
   "id": "92328950",
   "metadata": {},
   "outputs": [],
   "source": [
    "def drop_empty_string_keys(input_dict):\n",
    "    # Create a new dictionary, excluding keys with empty string values\n",
    "    cleaned_dict = {key: value for key, value in input_dict.items() if value != ''}\n",
    "    return cleaned_dict"
   ]
  },
  {
   "cell_type": "code",
   "execution_count": 51,
   "id": "f48bb38f",
   "metadata": {},
   "outputs": [],
   "source": [
    "df=pd.read_csv('../validation/data/SUD.csv',index_col=0,\n",
    "            keep_default_na=False,dtype=str)\n",
    "featurenames=M['model'].feature_names\n",
    "training_index=M['model'].training_index\n",
    "test_index=np.array([x for x in df.index.values if x not in training_index])\n",
    "df_test=df.loc[test_index,:][featurenames]\n",
    "D=df_test.T.to_dict()\n",
    "D1={k:drop_empty_string_keys(v) for k,v in D.items()}\n",
    "D=[{'SUB'+str(k):v} for k,v in D1.items()]"
   ]
  },
  {
   "cell_type": "code",
   "execution_count": 52,
   "id": "db8bfea7",
   "metadata": {},
   "outputs": [
    {
     "data": {
      "text/plain": [
       "41"
      ]
     },
     "execution_count": 52,
     "metadata": {},
     "output_type": "execute_result"
    }
   ],
   "source": [
    "len(df_test.columns)"
   ]
  },
  {
   "cell_type": "code",
   "execution_count": 117,
   "id": "d495b2af",
   "metadata": {},
   "outputs": [],
   "source": [
    "df_train=df.loc[training_index,:][featurenames]\n",
    "Xt=df_train.values.astype(str)"
   ]
  },
  {
   "cell_type": "code",
   "execution_count": 118,
   "id": "6a676736",
   "metadata": {},
   "outputs": [
    {
     "data": {
      "text/plain": [
       "<AxesSubplot:ylabel='Density'>"
      ]
     },
     "execution_count": 118,
     "metadata": {},
     "output_type": "execute_result"
    },
    {
     "data": {
      "image/png": "[encoded data removed]",
      "text/plain": [
       "<Figure size 460.8x403.2 with 1 Axes>"
      ]
     },
     "metadata": {},
     "output_type": "display_data"
    }
   ],
   "source": [
    "sns.distplot(funcm(Xt[:100],M['model']))"
   ]
  },
  {
   "cell_type": "code",
   "execution_count": 53,
   "id": "ff2d5f09",
   "metadata": {},
   "outputs": [],
   "source": [
    "X=df_test.values.astype(str)"
   ]
  },
  {
   "cell_type": "code",
   "execution_count": 115,
   "id": "42b2e78c",
   "metadata": {},
   "outputs": [
    {
     "data": {
      "text/plain": [
       "<AxesSubplot:ylabel='Density'>"
      ]
     },
     "execution_count": 115,
     "metadata": {},
     "output_type": "execute_result"
    },
    {
     "data": {
      "image/png": "[encoded data removed]",
      "text/plain": [
       "<Figure size 460.8x403.2 with 1 Axes>"
      ]
     },
     "metadata": {},
     "output_type": "display_data"
    }
   ],
   "source": [
    "sns.distplot(funcm(X[:100],M['model']))"
   ]
  },
  {
   "cell_type": "code",
   "execution_count": null,
   "id": "69a4677d",
   "metadata": {},
   "outputs": [],
   "source": [
    "funcm(X[10],M['model'])"
   ]
  },
  {
   "cell_type": "code",
   "execution_count": 50,
   "id": "e5e55560",
   "metadata": {},
   "outputs": [
    {
     "data": {
      "text/plain": [
       "41"
      ]
     },
     "execution_count": 50,
     "metadata": {},
     "output_type": "execute_result"
    }
   ],
   "source": [
    "len(M['model'].feature_names)"
   ]
  },
  {
   "cell_type": "code",
   "execution_count": 56,
   "id": "2498f875",
   "metadata": {},
   "outputs": [
    {
     "name": "stdout",
     "output_type": "stream",
     "text": [
      "ckeck passed\n"
     ]
    }
   ],
   "source": [
    "Rsud=reveal(D,M,perturb=0,model_path=False,score=False)"
   ]
  },
  {
   "cell_type": "code",
   "execution_count": 73,
   "id": "6dbf5a72",
   "metadata": {},
   "outputs": [
    {
     "data": {
      "text/plain": [
       "875"
      ]
     },
     "execution_count": 73,
     "metadata": {},
     "output_type": "execute_result"
    }
   ],
   "source": [
    "res=pd.DataFrame({x['subject_id']:[x['lower_threshold'],x['lower_prob'],x['veritas'],x['veritas_prob']] for x in  Rsud[0]}).T\n",
    "res.columns=['lower','lower_p','veritas','veritas_p']\n",
    "res.index.size"
   ]
  },
  {
   "cell_type": "code",
   "execution_count": 106,
   "id": "3b67e24a",
   "metadata": {},
   "outputs": [
    {
     "data": {
      "text/plain": [
       "<AxesSubplot:>"
      ]
     },
     "execution_count": 106,
     "metadata": {},
     "output_type": "execute_result"
    },
    {
     "data": {
      "image/png": "[encoded data removed]",
      "text/plain": [
       "<Figure size 460.8x403.2 with 1 Axes>"
      ]
     },
     "metadata": {},
     "output_type": "display_data"
    }
   ],
   "source": [
    "res.veritas.hist()"
   ]
  },
  {
   "cell_type": "code",
   "execution_count": 107,
   "id": "b1b64549",
   "metadata": {},
   "outputs": [
    {
     "data": {
      "text/plain": [
       "<AxesSubplot:>"
      ]
     },
     "execution_count": 107,
     "metadata": {},
     "output_type": "execute_result"
    },
    {
     "data": {
      "image/png": "[encoded data removed]",
      "text/plain": [
       "<Figure size 460.8x403.2 with 1 Axes>"
      ]
     },
     "metadata": {},
     "output_type": "display_data"
    }
   ],
   "source": [
    "res.lower.hist()"
   ]
  },
  {
   "cell_type": "code",
   "execution_count": 120,
   "id": "93dfddd6",
   "metadata": {},
   "outputs": [
    {
     "data": {
      "text/plain": [
       "<AxesSubplot:xlabel='lower', ylabel='veritas'>"
      ]
     },
     "execution_count": 120,
     "metadata": {},
     "output_type": "execute_result"
    },
    {
     "data": {
      "image/png": "[encoded data removed]",
      "text/plain": [
       "<Figure size 460.8x403.2 with 1 Axes>"
      ]
     },
     "metadata": {},
     "output_type": "display_data"
    }
   ],
   "source": [
    "sns.scatterplot(x=res.lower,y=res.veritas)"
   ]
  },
  {
   "cell_type": "code",
   "execution_count": 163,
   "id": "92e1e1f1",
   "metadata": {},
   "outputs": [
    {
     "data": {
      "text/plain": [
       "<seaborn.axisgrid.JointGrid at 0x7fd83853f6d0>"
      ]
     },
     "execution_count": 163,
     "metadata": {},
     "output_type": "execute_result"
    },
    {
     "data": {
      "image/png": "[encoded data removed]",
      "text/plain": [
       "<Figure size 432x432 with 3 Axes>"
      ]
     },
     "metadata": {},
     "output_type": "display_data"
    }
   ],
   "source": [
    "g=sns.jointplot(data=res,x='lower',y='veritas',kind='kde',levels=4, \n",
    "                thresh=.25,color='w',lw=4)\n",
    "g.plot_joint(sns.scatterplot, color='m', zorder=0,alpha=.5,s=15,edgecolor='m')\n"
   ]
  },
  {
   "cell_type": "code",
   "execution_count": 177,
   "id": "762e103f",
   "metadata": {},
   "outputs": [
    {
     "data": {
      "text/html": [
       "<div>\n",
       "<style scoped>\n",
       "    .dataframe tbody tr th:only-of-type {\n",
       "        vertical-align: middle;\n",
       "    }\n",
       "\n",
       "    .dataframe tbody tr th {\n",
       "        vertical-align: top;\n",
       "    }\n",
       "\n",
       "    .dataframe thead th {\n",
       "        text-align: right;\n",
       "    }\n",
       "</style>\n",
       "<table border=\"1\" class=\"dataframe\">\n",
       "  <thead>\n",
       "    <tr style=\"text-align: right;\">\n",
       "      <th></th>\n",
       "      <th>lower</th>\n",
       "      <th>lower_p</th>\n",
       "      <th>veritas</th>\n",
       "      <th>veritas_p</th>\n",
       "    </tr>\n",
       "  </thead>\n",
       "  <tbody>\n",
       "    <tr>\n",
       "      <th>SUB52074</th>\n",
       "      <td>1.088252</td>\n",
       "      <td>0.999670</td>\n",
       "      <td>0.420672</td>\n",
       "      <td>0.982116</td>\n",
       "    </tr>\n",
       "    <tr>\n",
       "      <th>SUB52521</th>\n",
       "      <td>1.221582</td>\n",
       "      <td>0.999967</td>\n",
       "      <td>0.406250</td>\n",
       "      <td>0.977041</td>\n",
       "    </tr>\n",
       "    <tr>\n",
       "      <th>SUB52525</th>\n",
       "      <td>1.058473</td>\n",
       "      <td>0.999454</td>\n",
       "      <td>0.393918</td>\n",
       "      <td>0.971495</td>\n",
       "    </tr>\n",
       "    <tr>\n",
       "      <th>SUB52733</th>\n",
       "      <td>1.174073</td>\n",
       "      <td>0.999924</td>\n",
       "      <td>0.396524</td>\n",
       "      <td>0.972775</td>\n",
       "    </tr>\n",
       "    <tr>\n",
       "      <th>SUB52742</th>\n",
       "      <td>1.066755</td>\n",
       "      <td>0.999525</td>\n",
       "      <td>0.406250</td>\n",
       "      <td>0.977041</td>\n",
       "    </tr>\n",
       "    <tr>\n",
       "      <th>SUB53214</th>\n",
       "      <td>1.238951</td>\n",
       "      <td>0.999975</td>\n",
       "      <td>0.406250</td>\n",
       "      <td>0.977041</td>\n",
       "    </tr>\n",
       "    <tr>\n",
       "      <th>SUB53223</th>\n",
       "      <td>1.173936</td>\n",
       "      <td>0.999924</td>\n",
       "      <td>0.406250</td>\n",
       "      <td>0.977041</td>\n",
       "    </tr>\n",
       "    <tr>\n",
       "      <th>SUB57806</th>\n",
       "      <td>1.042462</td>\n",
       "      <td>0.999286</td>\n",
       "      <td>0.256898</td>\n",
       "      <td>0.651574</td>\n",
       "    </tr>\n",
       "    <tr>\n",
       "      <th>SUB58155</th>\n",
       "      <td>1.102624</td>\n",
       "      <td>0.999741</td>\n",
       "      <td>0.406250</td>\n",
       "      <td>0.977041</td>\n",
       "    </tr>\n",
       "    <tr>\n",
       "      <th>SUB58393</th>\n",
       "      <td>1.078827</td>\n",
       "      <td>0.999613</td>\n",
       "      <td>0.361494</td>\n",
       "      <td>0.949055</td>\n",
       "    </tr>\n",
       "    <tr>\n",
       "      <th>SUB60636</th>\n",
       "      <td>1.258261</td>\n",
       "      <td>0.999982</td>\n",
       "      <td>0.352607</td>\n",
       "      <td>0.940103</td>\n",
       "    </tr>\n",
       "    <tr>\n",
       "      <th>SUB60639</th>\n",
       "      <td>1.233232</td>\n",
       "      <td>0.999973</td>\n",
       "      <td>0.418646</td>\n",
       "      <td>0.981481</td>\n",
       "    </tr>\n",
       "    <tr>\n",
       "      <th>SUB64441</th>\n",
       "      <td>1.055975</td>\n",
       "      <td>0.999431</td>\n",
       "      <td>0.405019</td>\n",
       "      <td>0.976543</td>\n",
       "    </tr>\n",
       "    <tr>\n",
       "      <th>SUB67468</th>\n",
       "      <td>1.095854</td>\n",
       "      <td>0.999710</td>\n",
       "      <td>0.406250</td>\n",
       "      <td>0.977041</td>\n",
       "    </tr>\n",
       "    <tr>\n",
       "      <th>SUB68239</th>\n",
       "      <td>1.036923</td>\n",
       "      <td>0.999217</td>\n",
       "      <td>0.185947</td>\n",
       "      <td>0.080142</td>\n",
       "    </tr>\n",
       "    <tr>\n",
       "      <th>SUB70669</th>\n",
       "      <td>1.359485</td>\n",
       "      <td>0.999997</td>\n",
       "      <td>0.368927</td>\n",
       "      <td>0.955468</td>\n",
       "    </tr>\n",
       "    <tr>\n",
       "      <th>SUB73203</th>\n",
       "      <td>1.031334</td>\n",
       "      <td>0.999140</td>\n",
       "      <td>0.248694</td>\n",
       "      <td>0.598087</td>\n",
       "    </tr>\n",
       "    <tr>\n",
       "      <th>SUB75259</th>\n",
       "      <td>1.379740</td>\n",
       "      <td>0.999998</td>\n",
       "      <td>0.412656</td>\n",
       "      <td>0.979462</td>\n",
       "    </tr>\n",
       "    <tr>\n",
       "      <th>SUB75305</th>\n",
       "      <td>1.111282</td>\n",
       "      <td>0.999777</td>\n",
       "      <td>0.392576</td>\n",
       "      <td>0.970811</td>\n",
       "    </tr>\n",
       "    <tr>\n",
       "      <th>SUB75771</th>\n",
       "      <td>1.174607</td>\n",
       "      <td>0.999925</td>\n",
       "      <td>0.289833</td>\n",
       "      <td>0.808508</td>\n",
       "    </tr>\n",
       "    <tr>\n",
       "      <th>SUB75778</th>\n",
       "      <td>1.118951</td>\n",
       "      <td>0.999804</td>\n",
       "      <td>0.396524</td>\n",
       "      <td>0.972775</td>\n",
       "    </tr>\n",
       "    <tr>\n",
       "      <th>SUB79476</th>\n",
       "      <td>1.029604</td>\n",
       "      <td>0.999115</td>\n",
       "      <td>0.265319</td>\n",
       "      <td>0.700105</td>\n",
       "    </tr>\n",
       "    <tr>\n",
       "      <th>SUB83424</th>\n",
       "      <td>1.092821</td>\n",
       "      <td>0.999694</td>\n",
       "      <td>0.356163</td>\n",
       "      <td>0.943867</td>\n",
       "    </tr>\n",
       "    <tr>\n",
       "      <th>SUB84825</th>\n",
       "      <td>1.086071</td>\n",
       "      <td>0.999657</td>\n",
       "      <td>0.387666</td>\n",
       "      <td>0.968159</td>\n",
       "    </tr>\n",
       "  </tbody>\n",
       "</table>\n",
       "</div>"
      ],
      "text/plain": [
       "             lower   lower_p   veritas  veritas_p\n",
       "SUB52074  1.088252  0.999670  0.420672   0.982116\n",
       "SUB52521  1.221582  0.999967  0.406250   0.977041\n",
       "SUB52525  1.058473  0.999454  0.393918   0.971495\n",
       "SUB52733  1.174073  0.999924  0.396524   0.972775\n",
       "SUB52742  1.066755  0.999525  0.406250   0.977041\n",
       "SUB53214  1.238951  0.999975  0.406250   0.977041\n",
       "SUB53223  1.173936  0.999924  0.406250   0.977041\n",
       "SUB57806  1.042462  0.999286  0.256898   0.651574\n",
       "SUB58155  1.102624  0.999741  0.406250   0.977041\n",
       "SUB58393  1.078827  0.999613  0.361494   0.949055\n",
       "SUB60636  1.258261  0.999982  0.352607   0.940103\n",
       "SUB60639  1.233232  0.999973  0.418646   0.981481\n",
       "SUB64441  1.055975  0.999431  0.405019   0.976543\n",
       "SUB67468  1.095854  0.999710  0.406250   0.977041\n",
       "SUB68239  1.036923  0.999217  0.185947   0.080142\n",
       "SUB70669  1.359485  0.999997  0.368927   0.955468\n",
       "SUB73203  1.031334  0.999140  0.248694   0.598087\n",
       "SUB75259  1.379740  0.999998  0.412656   0.979462\n",
       "SUB75305  1.111282  0.999777  0.392576   0.970811\n",
       "SUB75771  1.174607  0.999925  0.289833   0.808508\n",
       "SUB75778  1.118951  0.999804  0.396524   0.972775\n",
       "SUB79476  1.029604  0.999115  0.265319   0.700105\n",
       "SUB83424  1.092821  0.999694  0.356163   0.943867\n",
       "SUB84825  1.086071  0.999657  0.387666   0.968159"
      ]
     },
     "execution_count": 177,
     "metadata": {},
     "output_type": "execute_result"
    }
   ],
   "source": [
    "res[(res.lower>1.02) & (res.veritas<.43)]#.index.size"
   ]
  },
  {
   "cell_type": "code",
   "execution_count": 172,
   "id": "6e453df8",
   "metadata": {},
   "outputs": [
    {
     "data": {
      "text/plain": [
       "56"
      ]
     },
     "execution_count": 172,
     "metadata": {},
     "output_type": "execute_result"
    }
   ],
   "source": [
    "pd.concat([res[(res.lower<.3)],res[(res.lower<1) & (res.veritas>.43)]]).drop_duplicates().index.size"
   ]
  },
  {
   "cell_type": "code",
   "execution_count": 170,
   "id": "10e5bc17",
   "metadata": {},
   "outputs": [
    {
     "data": {
      "text/plain": [
       "50"
      ]
     },
     "execution_count": 170,
     "metadata": {},
     "output_type": "execute_result"
    }
   ],
   "source": [
    "res[(res.lower<1) & (res.veritas>.43)].index.size"
   ]
  },
  {
   "cell_type": "code",
   "execution_count": 109,
   "id": "9b163437",
   "metadata": {},
   "outputs": [
    {
     "data": {
      "text/html": [
       "<div>\n",
       "<style scoped>\n",
       "    .dataframe tbody tr th:only-of-type {\n",
       "        vertical-align: middle;\n",
       "    }\n",
       "\n",
       "    .dataframe tbody tr th {\n",
       "        vertical-align: top;\n",
       "    }\n",
       "\n",
       "    .dataframe thead th {\n",
       "        text-align: right;\n",
       "    }\n",
       "</style>\n",
       "<table border=\"1\" class=\"dataframe\">\n",
       "  <thead>\n",
       "    <tr style=\"text-align: right;\">\n",
       "      <th></th>\n",
       "      <th>lower</th>\n",
       "      <th>lower_p</th>\n",
       "      <th>veritas</th>\n",
       "      <th>veritas_p</th>\n",
       "    </tr>\n",
       "  </thead>\n",
       "  <tbody>\n",
       "    <tr>\n",
       "      <th>SUB50271</th>\n",
       "      <td>1.161982</td>\n",
       "      <td>0.999907</td>\n",
       "      <td>0.740048</td>\n",
       "      <td>0.999836</td>\n",
       "    </tr>\n",
       "    <tr>\n",
       "      <th>SUB50272</th>\n",
       "      <td>1.283330</td>\n",
       "      <td>0.999989</td>\n",
       "      <td>0.544539</td>\n",
       "      <td>0.997576</td>\n",
       "    </tr>\n",
       "    <tr>\n",
       "      <th>SUB51290</th>\n",
       "      <td>1.359701</td>\n",
       "      <td>0.999997</td>\n",
       "      <td>0.714286</td>\n",
       "      <td>0.999772</td>\n",
       "    </tr>\n",
       "    <tr>\n",
       "      <th>SUB51389</th>\n",
       "      <td>1.135750</td>\n",
       "      <td>0.999853</td>\n",
       "      <td>0.743151</td>\n",
       "      <td>0.999842</td>\n",
       "    </tr>\n",
       "    <tr>\n",
       "      <th>SUB51519</th>\n",
       "      <td>1.387588</td>\n",
       "      <td>0.999998</td>\n",
       "      <td>0.728199</td>\n",
       "      <td>0.999810</td>\n",
       "    </tr>\n",
       "    <tr>\n",
       "      <th>...</th>\n",
       "      <td>...</td>\n",
       "      <td>...</td>\n",
       "      <td>...</td>\n",
       "      <td>...</td>\n",
       "    </tr>\n",
       "    <tr>\n",
       "      <th>SUB86020</th>\n",
       "      <td>1.107346</td>\n",
       "      <td>0.999761</td>\n",
       "      <td>0.666716</td>\n",
       "      <td>0.999575</td>\n",
       "    </tr>\n",
       "    <tr>\n",
       "      <th>SUB86991</th>\n",
       "      <td>1.510334</td>\n",
       "      <td>1.000000</td>\n",
       "      <td>0.593750</td>\n",
       "      <td>0.998827</td>\n",
       "    </tr>\n",
       "    <tr>\n",
       "      <th>SUB88195</th>\n",
       "      <td>1.324628</td>\n",
       "      <td>0.999995</td>\n",
       "      <td>0.517572</td>\n",
       "      <td>0.996335</td>\n",
       "    </tr>\n",
       "    <tr>\n",
       "      <th>SUB89614</th>\n",
       "      <td>1.547233</td>\n",
       "      <td>1.000000</td>\n",
       "      <td>0.776042</td>\n",
       "      <td>0.999895</td>\n",
       "    </tr>\n",
       "    <tr>\n",
       "      <th>SUB91322</th>\n",
       "      <td>2.151428</td>\n",
       "      <td>1.000000</td>\n",
       "      <td>0.902678</td>\n",
       "      <td>0.999976</td>\n",
       "    </tr>\n",
       "  </tbody>\n",
       "</table>\n",
       "<p>226 rows × 4 columns</p>\n",
       "</div>"
      ],
      "text/plain": [
       "             lower   lower_p   veritas  veritas_p\n",
       "SUB50271  1.161982  0.999907  0.740048   0.999836\n",
       "SUB50272  1.283330  0.999989  0.544539   0.997576\n",
       "SUB51290  1.359701  0.999997  0.714286   0.999772\n",
       "SUB51389  1.135750  0.999853  0.743151   0.999842\n",
       "SUB51519  1.387588  0.999998  0.728199   0.999810\n",
       "...            ...       ...       ...        ...\n",
       "SUB86020  1.107346  0.999761  0.666716   0.999575\n",
       "SUB86991  1.510334  1.000000  0.593750   0.998827\n",
       "SUB88195  1.324628  0.999995  0.517572   0.996335\n",
       "SUB89614  1.547233  1.000000  0.776042   0.999895\n",
       "SUB91322  2.151428  1.000000  0.902678   0.999976\n",
       "\n",
       "[226 rows x 4 columns]"
      ]
     },
     "execution_count": 109,
     "metadata": {},
     "output_type": "execute_result"
    }
   ],
   "source": [
    "res[(res.lower<.5) | (res.veritas>.5)]"
   ]
  },
  {
   "cell_type": "code",
   "execution_count": 88,
   "id": "03c52aef",
   "metadata": {},
   "outputs": [],
   "source": [
    "A=[x for x in Rsud[0] if (x['lower_threshold'] > .5) and (x['veritas'] <.4)]"
   ]
  },
  {
   "cell_type": "code",
   "execution_count": 89,
   "id": "aa703d25",
   "metadata": {},
   "outputs": [
    {
     "data": {
      "text/plain": [
       "276"
      ]
     },
     "execution_count": 89,
     "metadata": {},
     "output_type": "execute_result"
    }
   ],
   "source": [
    "len(A)"
   ]
  },
  {
   "cell_type": "code",
   "execution_count": 99,
   "id": "8dd82610",
   "metadata": {},
   "outputs": [],
   "source": [
    "mg=[x for x in Rsud[0] if (x['lower_threshold'] < .5) or (x['veritas'] > .45)]"
   ]
  },
  {
   "cell_type": "code",
   "execution_count": 100,
   "id": "99c337c6",
   "metadata": {},
   "outputs": [
    {
     "data": {
      "text/plain": [
       "570"
      ]
     },
     "execution_count": 100,
     "metadata": {},
     "output_type": "execute_result"
    }
   ],
   "source": [
    "len(mg)"
   ]
  },
  {
   "cell_type": "code",
   "execution_count": 93,
   "id": "bb2f284f",
   "metadata": {},
   "outputs": [
    {
     "data": {
      "text/plain": [
       "598"
      ]
     },
     "execution_count": 93,
     "metadata": {},
     "output_type": "execute_result"
    }
   ],
   "source": [
    "len(mg)"
   ]
  },
  {
   "cell_type": "code",
   "execution_count": 178,
   "id": "cbe63a66",
   "metadata": {},
   "outputs": [
    {
     "data": {
      "text/plain": [
       "6"
      ]
     },
     "execution_count": 178,
     "metadata": {},
     "output_type": "execute_result"
    }
   ],
   "source": [
    "int(6.0)"
   ]
  },
  {
   "cell_type": "code",
   "execution_count": 179,
   "id": "13280ef1",
   "metadata": {},
   "outputs": [
    {
     "name": "stdout",
     "output_type": "stream",
     "text": [
      "/bin/bash: line 1: [wd]: command not found\r\n"
     ]
    }
   ],
   "source": [
    "! [wd]"
   ]
  },
  {
   "cell_type": "code",
   "execution_count": 180,
   "id": "9c503a75",
   "metadata": {},
   "outputs": [
    {
     "name": "stdout",
     "output_type": "stream",
     "text": [
      "/home/ishanu/ZED/Research/truthnet/veritas_test/ntb\r\n"
     ]
    }
   ],
   "source": [
    "! pwd"
   ]
  },
  {
   "cell_type": "code",
   "execution_count": null,
   "id": "f65a6c64",
   "metadata": {},
   "outputs": [],
   "source": []
  }
 ],
 "metadata": {
  "kernelspec": {
   "display_name": "Python 3 (ipykernel)",
   "language": "python",
   "name": "python3"
  },
  "language_info": {
   "codemirror_mode": {
    "name": "ipython",
    "version": 3
   },
   "file_extension": ".py",
   "mimetype": "text/x-python",
   "name": "python",
   "nbconvert_exporter": "python",
   "pygments_lexer": "ipython3",
   "version": "3.10.8"
  }
 },
 "nbformat": 4,
 "nbformat_minor": 5
}
