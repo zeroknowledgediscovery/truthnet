{
 "cells": [
  {
   "cell_type": "code",
   "execution_count": null,
   "id": "8795b23c",
   "metadata": {},
   "outputs": [],
   "source": [
    "import sys\n",
    "sys.path.append(\"../\") \n",
    "from infer_veritas import  *\n",
    "from truthfinder import *"
   ]
  },
  {
   "cell_type": "code",
   "execution_count": null,
   "id": "56298e4e",
   "metadata": {},
   "outputs": [],
   "source": [
    "%%time\n",
    "TR=truthnet(datapath='/home/ishanu/ZED/Research/truthnet/notebooks/data/ptsd/PTSD_cognet_test.csv',target_label='PTSDDx',query_limit=20)\n",
    "TR.fit(shapnum=10)\n",
    "rf=TR.calibrate(calibration_num=5000)"
   ]
  },
  {
   "cell_type": "code",
   "execution_count": null,
   "id": "2e15b5eb",
   "metadata": {},
   "outputs": [],
   "source": [
    "M=TR.veritas_model"
   ]
  },
  {
   "cell_type": "code",
   "execution_count": null,
   "id": "2affbe21",
   "metadata": {},
   "outputs": [],
   "source": [
    "M"
   ]
  },
  {
   "cell_type": "code",
   "execution_count": null,
   "id": "f305b5a3",
   "metadata": {},
   "outputs": [],
   "source": [
    "import dill as pickle\n",
    "with gzip.open('../veritas_models/veritas_004.pkl.gz', 'wb') as file:\n",
    "    pickle.dump(M, file)"
   ]
  },
  {
   "cell_type": "code",
   "execution_count": null,
   "id": "a6eccf50",
   "metadata": {},
   "outputs": [],
   "source": [
    "with gzip.open('../veritas_models/veritas_004.pkl.gz', 'rb') as file:\n",
    "    M = pickle.load(file)\n"
   ]
  },
  {
   "cell_type": "code",
   "execution_count": null,
   "id": "e1353c97",
   "metadata": {},
   "outputs": [],
   "source": []
  }
 ],
 "metadata": {
  "kernelspec": {
   "display_name": "Python 3 (ipykernel)",
   "language": "python",
   "name": "python3"
  },
  "language_info": {
   "codemirror_mode": {
    "name": "ipython",
    "version": 3
   },
   "file_extension": ".py",
   "mimetype": "text/x-python",
   "name": "python",
   "nbconvert_exporter": "python",
   "pygments_lexer": "ipython3",
   "version": "3.10.8"
  }
 },
 "nbformat": 4,
 "nbformat_minor": 5
}
