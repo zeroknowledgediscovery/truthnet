{
 "cells": [
  {
   "cell_type": "code",
   "execution_count": 2,
   "id": "b9c53dcd",
   "metadata": {},
   "outputs": [],
   "source": [
    "import sys\n",
    "sys.path.append(\"../\") \n",
    "from infer_veritas import  *\n",
    "from truthfinder import *"
   ]
  },
  {
   "cell_type": "code",
   "execution_count": 3,
   "id": "8cc3406c",
   "metadata": {},
   "outputs": [
    {
     "data": {
      "application/vnd.jupyter.widget-view+json": {
       "model_id": "c283bf7b0fbc47c4b790159b4d8f5065",
       "version_major": 2,
       "version_minor": 0
      },
      "text/plain": [
       "  0%|          | 0/10 [00:00<?, ?it/s]"
      ]
     },
     "metadata": {},
     "output_type": "display_data"
    },
    {
     "name": "stderr",
     "output_type": "stream",
     "text": [
      "100%|███████████████████████████████████████| 5000/5000 [12:30<00:00,  6.66it/s]\n"
     ]
    },
    {
     "name": "stdout",
     "output_type": "stream",
     "text": [
      "ckeck passed\n"
     ]
    },
    {
     "name": "stderr",
     "output_type": "stream",
     "text": [
      "[distfit] >INFO> fit\n",
      "[distfit] >INFO> transform\n",
      "[distfit] >INFO> [lognorm] [0.09 sec] [RSS: 0.720387] [loc=0.373 scale=0.613]\n",
      "[distfit] >INFO> Compute confidence intervals [parametric]\n",
      "[distfit] >INFO> fit\n",
      "[distfit] >INFO> transform\n",
      "[distfit] >INFO> [smoothline] >Smoothing by interpolation..\n",
      "[distfit] >INFO> [lognorm] [0.25 sec] [RSS: 25.7181] [loc=-3.370 scale=4.009]\n",
      "[distfit] >INFO> Compute confidence intervals [parametric]\n"
     ]
    },
    {
     "name": "stdout",
     "output_type": "stream",
     "text": [
      "ckeck passed\n",
      "CPU times: user 1h 10min 3s, sys: 53.7 s, total: 1h 10min 56s\n",
      "Wall time: 1h 10min 3s\n"
     ]
    }
   ],
   "source": [
    "%%time\n",
    "TR=truthnet(datapath='/home/ishanu/ZED/Research/truthnet/notebooks/data/ptsd/PTSD_cognet_test.csv',target_label='PTSDDx',query_limit=20)\n",
    "TR.fit(shapnum=10)\n",
    "rf=TR.calibrate(calibration_num=5000)"
   ]
  },
  {
   "cell_type": "code",
   "execution_count": 4,
   "id": "e41a37ea",
   "metadata": {},
   "outputs": [],
   "source": [
    "M=TR.veritas_model"
   ]
  },
  {
   "cell_type": "code",
   "execution_count": 5,
   "id": "36d35817",
   "metadata": {},
   "outputs": [
    {
     "data": {
      "text/plain": [
       "{'version': '0.0.1',\n",
       " 'model': qnet.Qnet,\n",
       " 'model_neg': qnet.Qnet,\n",
       " 'problem': '',\n",
       " 'dist_lower': <scipy.stats._distn_infrastructure.rv_continuous_frozen at 0x7f67950822c0>,\n",
       " 'LOWER_THRESHOLD': 0.8477521150593859,\n",
       " 'dist_veritas': <scipy.stats._distn_infrastructure.rv_continuous_frozen at 0x7f67927e4cd0>,\n",
       " 'VERITAS_THRESHOLD': 0.758259067464552,\n",
       " 'calibration_df':      veritas     upper     lower\n",
       " 0     0.7250  1.350958  0.865328\n",
       " 1     0.8625  0.941752  1.217044\n",
       " 2     0.9500  0.590880  1.509023\n",
       " 3     0.7000  1.528670  0.967340\n",
       " 4     0.9500  0.934100  1.128978\n",
       " ..       ...       ...       ...\n",
       " 208   0.7000  0.813850  1.108084\n",
       " 209   0.9000  0.624439  1.265647\n",
       " 210   0.7500  0.901632  1.241372\n",
       " 211   0.8625  0.758191  1.079316\n",
       " 212   0.9500  0.731431  1.269649\n",
       " \n",
       " [213 rows x 3 columns],\n",
       " 'calibration_roc':                tpr  threshold\n",
       " fpr                          \n",
       " 0.000000  0.000000   2.819885\n",
       " 0.000000  0.015152   1.819885\n",
       " 0.000000  0.136364   1.652816\n",
       " 0.006803  0.136364   1.649086\n",
       " 0.006803  0.196970   1.588255\n",
       " ...            ...        ...\n",
       " 0.843537  0.969697   0.525848\n",
       " 0.843537  0.984848   0.523286\n",
       " 0.857143  0.984848   0.514585\n",
       " 0.857143  1.000000   0.508684\n",
       " 1.000000  1.000000   0.358639\n",
       " \n",
       " [66 rows x 2 columns],\n",
       " 'upper_scoretoprobability': <bound method processRoc.scoretoprobability of <zedstat.zedstat.processRoc object at 0x7f67931ee920>>,\n",
       " 'UPPER_THRESHOLD': 0.9829558131343356,\n",
       " 'AUC': (0.8599621212121212, 0.8691292991328576, 0.8507949432913846)}"
      ]
     },
     "execution_count": 5,
     "metadata": {},
     "output_type": "execute_result"
    }
   ],
   "source": [
    "M"
   ]
  },
  {
   "cell_type": "code",
   "execution_count": 6,
   "id": "6819f2d7",
   "metadata": {},
   "outputs": [],
   "source": [
    "import dill as pickle\n",
    "with gzip.open('veritas_002.pkl.gz', 'wb') as file:\n",
    "    pickle.dump(TR, file)"
   ]
  },
  {
   "cell_type": "code",
   "execution_count": 7,
   "id": "8968a9c1",
   "metadata": {},
   "outputs": [],
   "source": [
    "with gzip.open('veritas_002.pkl.gz', 'rb') as file:\n",
    "    TR = pickle.load(file)\n"
   ]
  },
  {
   "cell_type": "code",
   "execution_count": null,
   "id": "4b55a837",
   "metadata": {},
   "outputs": [],
   "source": []
  }
 ],
 "metadata": {
  "kernelspec": {
   "display_name": "Python 3 (ipykernel)",
   "language": "python",
   "name": "python3"
  },
  "language_info": {
   "codemirror_mode": {
    "name": "ipython",
    "version": 3
   },
   "file_extension": ".py",
   "mimetype": "text/x-python",
   "name": "python",
   "nbconvert_exporter": "python",
   "pygments_lexer": "ipython3",
   "version": "3.10.8"
  }
 },
 "nbformat": 4,
 "nbformat_minor": 5
}
