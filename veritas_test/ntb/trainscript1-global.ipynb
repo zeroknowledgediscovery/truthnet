{
 "cells": [
  {
   "cell_type": "code",
   "execution_count": 1,
   "id": "b9c53dcd",
   "metadata": {},
   "outputs": [],
   "source": [
    "import sys\n",
    "sys.path.append(\"../\") \n",
    "from infer_veritas import  *\n",
    "from truthfinder import *\n",
    "\n",
    "import dill as pickle"
   ]
  },
  {
   "cell_type": "code",
   "execution_count": 2,
   "id": "8cc3406c",
   "metadata": {},
   "outputs": [
    {
     "name": "stdout",
     "output_type": "stream",
     "text": [
      "         Dx 2  3   5  6 7   8  9 10 11  ... 4590 4591 4592 4593 4594 4596  \\\n",
      "ID                                      ...                                 \n",
      "CIM12536  0                             ...                                 \n",
      "CIS69110  1                 1           ...                                 \n",
      "CIQ85803  1                             ...    3                        3   \n",
      "CIM76210  0           1           1     ...                             3   \n",
      "CIM49950  1        1  1                 ...    1                        1   \n",
      "...      .. .. .. .. .. .. .. .. .. ..  ...  ...  ...  ...  ...  ...  ...   \n",
      "MHB77415  1           2                 ...    3                        5   \n",
      "KHA81506  1        1           1        ...    2                        3   \n",
      "KHA93184  1                          1  ...    1                        4   \n",
      "MHB54874           2           2        ...                             2   \n",
      "KHB84319  0                 1     1     ...    1                        1   \n",
      "\n",
      "         4631 4632 4634 4635  \n",
      "ID                            \n",
      "CIM12536                      \n",
      "CIS69110                      \n",
      "CIQ85803                      \n",
      "CIM76210                      \n",
      "CIM49950                      \n",
      "...       ...  ...  ...  ...  \n",
      "MHB77415                      \n",
      "KHA81506                      \n",
      "KHA93184                      \n",
      "MHB54874              2       \n",
      "KHB84319              1       \n",
      "\n",
      "[1236 rows x 344 columns]\n"
     ]
    },
    {
     "data": {
      "application/vnd.jupyter.widget-view+json": {
       "model_id": "05fddef1f95443589cccfde1dcb985f5",
       "version_major": 2,
       "version_minor": 0
      },
      "text/plain": [
       "  0%|          | 0/10 [00:00<?, ?it/s]"
      ]
     },
     "metadata": {},
     "output_type": "display_data"
    },
    {
     "name": "stderr",
     "output_type": "stream",
     "text": [
      "100%|███████████████████████████████████████| 5000/5000 [10:37<00:00,  7.85it/s]\n"
     ]
    },
    {
     "name": "stdout",
     "output_type": "stream",
     "text": [
      "ckeck passed\n"
     ]
    },
    {
     "name": "stderr",
     "output_type": "stream",
     "text": [
      "[distfit] >INFO> fit\n",
      "[distfit] >INFO> transform\n",
      "[distfit] >INFO> [lognorm] [0.26 sec] [RSS: 7.22546] [loc=-0.395 scale=1.228]\n",
      "[distfit] >INFO> Compute confidence intervals [parametric]\n",
      "[distfit] >INFO> fit\n",
      "[distfit] >INFO> transform\n",
      "[distfit] >INFO> [smoothline] >Smoothing by interpolation..\n",
      "[distfit] >INFO> [lognorm] [0.25 sec] [RSS: 53.853] [loc=-0.465 scale=1.009]\n",
      "[distfit] >INFO> Compute confidence intervals [parametric]\n"
     ]
    },
    {
     "name": "stdout",
     "output_type": "stream",
     "text": [
      "ckeck passed\n"
     ]
    },
    {
     "ename": "ValueError",
     "evalue": "invalid literal for int() with base 10: '6.0'",
     "output_type": "error",
     "traceback": [
      "\u001b[0;31m---------------------------------------------------------------------------\u001b[0m",
      "\u001b[0;31mValueError\u001b[0m                                Traceback (most recent call last)",
      "\u001b[0;32m<timed exec>\u001b[0m in \u001b[0;36m<module>\u001b[0;34m\u001b[0m\n",
      "\u001b[0;32m~/ZED/Research/truthnet/veritas_test/ntb/../infer_veritas.py\u001b[0m in \u001b[0;36mcalibrate\u001b[0;34m(self, qsteps, calibration_num)\u001b[0m\n\u001b[1;32m    252\u001b[0m         \u001b[0mlabels\u001b[0m \u001b[0;34m=\u001b[0m \u001b[0mdf_test\u001b[0m\u001b[0;34m.\u001b[0m\u001b[0mloc\u001b[0m\u001b[0;34m[\u001b[0m\u001b[0mkeyindex\u001b[0m\u001b[0;34m,\u001b[0m\u001b[0mself\u001b[0m\u001b[0;34m.\u001b[0m\u001b[0mtarget_label\u001b[0m\u001b[0;34m]\u001b[0m\u001b[0;34m.\u001b[0m\u001b[0mvalues\u001b[0m\u001b[0;34m\u001b[0m\u001b[0;34m\u001b[0m\u001b[0m\n\u001b[1;32m    253\u001b[0m \u001b[0;34m\u001b[0m\u001b[0m\n\u001b[0;32m--> 254\u001b[0;31m         Rjsonn=reveal(adictn,\n\u001b[0m\u001b[1;32m    255\u001b[0m                      \u001b[0mself\u001b[0m\u001b[0;34m.\u001b[0m\u001b[0mveritas_model\u001b[0m\u001b[0;34m,\u001b[0m\u001b[0;34m\u001b[0m\u001b[0;34m\u001b[0m\u001b[0m\n\u001b[1;32m    256\u001b[0m                      \u001b[0mperturb\u001b[0m\u001b[0;34m=\u001b[0m\u001b[0;36m0\u001b[0m\u001b[0;34m,\u001b[0m\u001b[0;34m\u001b[0m\u001b[0;34m\u001b[0m\u001b[0m\n",
      "\u001b[0;32m~/ZED/Research/truthnet/veritas_test/ntb/../truthfinder.py\u001b[0m in \u001b[0;36mreveal\u001b[0;34m(resp_json, veritas_model_path, perturb, ci, model_path)\u001b[0m\n\u001b[1;32m    133\u001b[0m            \u001b[0mci\u001b[0m\u001b[0;34m=\u001b[0m\u001b[0;32mTrue\u001b[0m\u001b[0;34m,\u001b[0m\u001b[0;34m\u001b[0m\u001b[0;34m\u001b[0m\u001b[0m\n\u001b[1;32m    134\u001b[0m            model_path=True):\n\u001b[0;32m--> 135\u001b[0;31m     \u001b[0mpatients_responses\u001b[0m \u001b[0;34m=\u001b[0m \u001b[0mmake_str_format\u001b[0m\u001b[0;34m(\u001b[0m\u001b[0mresp_json\u001b[0m\u001b[0;34m)\u001b[0m\u001b[0;34m\u001b[0m\u001b[0;34m\u001b[0m\u001b[0m\n\u001b[0m\u001b[1;32m    136\u001b[0m \u001b[0;34m\u001b[0m\u001b[0m\n\u001b[1;32m    137\u001b[0m     \u001b[0mlist_response_dict\u001b[0m \u001b[0;34m=\u001b[0m \u001b[0mextract_ptsd_items\u001b[0m\u001b[0;34m(\u001b[0m\u001b[0mpatients_responses\u001b[0m\u001b[0;34m)\u001b[0m\u001b[0;34m\u001b[0m\u001b[0;34m\u001b[0m\u001b[0m\n",
      "\u001b[0;32m~/ZED/Research/truthnet/veritas_test/ntb/../truthfinder.py\u001b[0m in \u001b[0;36mmake_str_format\u001b[0;34m(resp_json)\u001b[0m\n\u001b[1;32m     55\u001b[0m     \u001b[0;31m# check format\u001b[0m\u001b[0;34m\u001b[0m\u001b[0;34m\u001b[0m\u001b[0m\n\u001b[1;32m     56\u001b[0m     \u001b[0;32mif\u001b[0m \u001b[0mcheck_json_format\u001b[0m\u001b[0;34m(\u001b[0m\u001b[0mresp_json\u001b[0m\u001b[0;34m)\u001b[0m\u001b[0;34m:\u001b[0m\u001b[0;34m\u001b[0m\u001b[0;34m\u001b[0m\u001b[0m\n\u001b[0;32m---> 57\u001b[0;31m         return [\n\u001b[0m\u001b[1;32m     58\u001b[0m             {\n\u001b[1;32m     59\u001b[0m                 patient_id: {\n",
      "\u001b[0;32m~/ZED/Research/truthnet/veritas_test/ntb/../truthfinder.py\u001b[0m in \u001b[0;36m<listcomp>\u001b[0;34m(.0)\u001b[0m\n\u001b[1;32m     56\u001b[0m     \u001b[0;32mif\u001b[0m \u001b[0mcheck_json_format\u001b[0m\u001b[0;34m(\u001b[0m\u001b[0mresp_json\u001b[0m\u001b[0;34m)\u001b[0m\u001b[0;34m:\u001b[0m\u001b[0;34m\u001b[0m\u001b[0;34m\u001b[0m\u001b[0m\n\u001b[1;32m     57\u001b[0m         return [\n\u001b[0;32m---> 58\u001b[0;31m             {\n\u001b[0m\u001b[1;32m     59\u001b[0m                 patient_id: {\n\u001b[1;32m     60\u001b[0m                     \u001b[0mquestion_id\u001b[0m\u001b[0;34m:\u001b[0m \u001b[0mstr\u001b[0m\u001b[0;34m(\u001b[0m\u001b[0mint\u001b[0m\u001b[0;34m(\u001b[0m\u001b[0mresponse\u001b[0m\u001b[0;34m)\u001b[0m\u001b[0;34m)\u001b[0m \u001b[0;32mif\u001b[0m \u001b[0mresponse\u001b[0m \u001b[0;34m!=\u001b[0m \u001b[0;34m''\u001b[0m \u001b[0;32melse\u001b[0m \u001b[0mresponse\u001b[0m\u001b[0;34m\u001b[0m\u001b[0;34m\u001b[0m\u001b[0m\n",
      "\u001b[0;32m~/ZED/Research/truthnet/veritas_test/ntb/../truthfinder.py\u001b[0m in \u001b[0;36m<dictcomp>\u001b[0;34m(.0)\u001b[0m\n\u001b[1;32m     57\u001b[0m         return [\n\u001b[1;32m     58\u001b[0m             {\n\u001b[0;32m---> 59\u001b[0;31m                 patient_id: {\n\u001b[0m\u001b[1;32m     60\u001b[0m                     \u001b[0mquestion_id\u001b[0m\u001b[0;34m:\u001b[0m \u001b[0mstr\u001b[0m\u001b[0;34m(\u001b[0m\u001b[0mint\u001b[0m\u001b[0;34m(\u001b[0m\u001b[0mresponse\u001b[0m\u001b[0;34m)\u001b[0m\u001b[0;34m)\u001b[0m \u001b[0;32mif\u001b[0m \u001b[0mresponse\u001b[0m \u001b[0;34m!=\u001b[0m \u001b[0;34m''\u001b[0m \u001b[0;32melse\u001b[0m \u001b[0mresponse\u001b[0m\u001b[0;34m\u001b[0m\u001b[0;34m\u001b[0m\u001b[0m\n\u001b[1;32m     61\u001b[0m                     \u001b[0;32mfor\u001b[0m \u001b[0mquestion_id\u001b[0m\u001b[0;34m,\u001b[0m \u001b[0mresponse\u001b[0m \u001b[0;32min\u001b[0m \u001b[0mpatient_responses\u001b[0m\u001b[0;34m.\u001b[0m\u001b[0mitems\u001b[0m\u001b[0;34m(\u001b[0m\u001b[0;34m)\u001b[0m\u001b[0;34m\u001b[0m\u001b[0;34m\u001b[0m\u001b[0m\n",
      "\u001b[0;32m~/ZED/Research/truthnet/veritas_test/ntb/../truthfinder.py\u001b[0m in \u001b[0;36m<dictcomp>\u001b[0;34m(.0)\u001b[0m\n\u001b[1;32m     58\u001b[0m             {\n\u001b[1;32m     59\u001b[0m                 patient_id: {\n\u001b[0;32m---> 60\u001b[0;31m                     \u001b[0mquestion_id\u001b[0m\u001b[0;34m:\u001b[0m \u001b[0mstr\u001b[0m\u001b[0;34m(\u001b[0m\u001b[0mint\u001b[0m\u001b[0;34m(\u001b[0m\u001b[0mresponse\u001b[0m\u001b[0;34m)\u001b[0m\u001b[0;34m)\u001b[0m \u001b[0;32mif\u001b[0m \u001b[0mresponse\u001b[0m \u001b[0;34m!=\u001b[0m \u001b[0;34m''\u001b[0m \u001b[0;32melse\u001b[0m \u001b[0mresponse\u001b[0m\u001b[0;34m\u001b[0m\u001b[0;34m\u001b[0m\u001b[0m\n\u001b[0m\u001b[1;32m     61\u001b[0m                     \u001b[0;32mfor\u001b[0m \u001b[0mquestion_id\u001b[0m\u001b[0;34m,\u001b[0m \u001b[0mresponse\u001b[0m \u001b[0;32min\u001b[0m \u001b[0mpatient_responses\u001b[0m\u001b[0;34m.\u001b[0m\u001b[0mitems\u001b[0m\u001b[0;34m(\u001b[0m\u001b[0;34m)\u001b[0m\u001b[0;34m\u001b[0m\u001b[0;34m\u001b[0m\u001b[0m\n\u001b[1;32m     62\u001b[0m                 }\n",
      "\u001b[0;31mValueError\u001b[0m: invalid literal for int() with base 10: '6.0'"
     ]
    }
   ],
   "source": [
    "%%time\n",
    "TR=truthnet(datapath='../validation/data/global1.csv',target_label='Dx',VERBOSE=True)\n",
    "TR.fit(shapnum=10)\n",
    "\n",
    "with gzip.open('tmp1_veritas_001_global.pkl.gz', 'wb') as file:\n",
    "    pickle.dump(TR, file)\n",
    "\n",
    "rf=TR.calibrate(calibration_num=5000)\n",
    "\n",
    "with gzip.open('veritas_001_global.pkl.gz', 'wb') as file:\n",
    "    pickle.dump(TR, file)\n"
   ]
  },
  {
   "cell_type": "code",
   "execution_count": 3,
   "id": "5154d68e",
   "metadata": {},
   "outputs": [
    {
     "data": {
      "text/plain": [
       "{'version': '0.0.1',\n",
       " 'model': qnet.Qnet,\n",
       " 'model_neg': qnet.Qnet,\n",
       " 'problem': '',\n",
       " 'dist_lower': <scipy.stats._distn_infrastructure.rv_continuous_frozen at 0x7ff55295ef20>,\n",
       " 'LOWER_THRESHOLD': 0.7940081932558576,\n",
       " 'dist_veritas': <scipy.stats._distn_infrastructure.rv_continuous_frozen at 0x7ff55295fc70>,\n",
       " 'VERITAS_THRESHOLD': 0.6026089532931028}"
      ]
     },
     "execution_count": 3,
     "metadata": {},
     "output_type": "execute_result"
    }
   ],
   "source": [
    "TR.veritas_model"
   ]
  },
  {
   "cell_type": "code",
   "execution_count": 4,
   "id": "e41a37ea",
   "metadata": {},
   "outputs": [],
   "source": [
    "M=TR.veritas_model"
   ]
  },
  {
   "cell_type": "code",
   "execution_count": 5,
   "id": "a5fc331c",
   "metadata": {},
   "outputs": [
    {
     "ename": "KeyError",
     "evalue": "'upper_scoretoprobability'",
     "output_type": "error",
     "traceback": [
      "\u001b[0;31m---------------------------------------------------------------------------\u001b[0m",
      "\u001b[0;31mKeyError\u001b[0m                                  Traceback (most recent call last)",
      "\u001b[0;32m/tmp/ipykernel_638658/4082414687.py\u001b[0m in \u001b[0;36m<module>\u001b[0;34m\u001b[0m\n\u001b[0;32m----> 1\u001b[0;31m \u001b[0mM\u001b[0m\u001b[0;34m[\u001b[0m\u001b[0;34m'upper_scoretoprobability'\u001b[0m\u001b[0;34m]\u001b[0m\u001b[0;34m(\u001b[0m\u001b[0;36m.8\u001b[0m\u001b[0;34m)\u001b[0m\u001b[0;34m\u001b[0m\u001b[0;34m\u001b[0m\u001b[0m\n\u001b[0m",
      "\u001b[0;31mKeyError\u001b[0m: 'upper_scoretoprobability'"
     ]
    }
   ],
   "source": [
    "M['upper_scoretoprobability'](.8)\n"
   ]
  },
  {
   "cell_type": "code",
   "execution_count": null,
   "id": "423eaf66",
   "metadata": {},
   "outputs": [],
   "source": [
    "pred=M['calibration_df'].upper.values\n",
    "len(pred)"
   ]
  },
  {
   "cell_type": "code",
   "execution_count": null,
   "id": "930373b1",
   "metadata": {},
   "outputs": [],
   "source": [
    "df_test = TR.data.loc[[x for x in TR.data.index.values\n",
    "                       if x not in TR.training_index],:][np.array(\n",
    "                               list(TR.veritas_model['model']\\\n",
    "                                    .feature_names)+[TR.target_label])]\n",
    "featurenames=df_test.drop(TR.target_label, axis=1).columns\n",
    "adictn=df_test[featurenames[TR.shap_index[:TR.query_limit]]].T.to_dict()\n",
    "adictn=[{key:value} for key,value in adictn.items()]\n",
    "\n",
    "keyindex=[list(x.keys())[0] for x in adictn]\n",
    "labels = df_test.loc[keyindex,TR.target_label]#.values\n",
    "lf=pd.DataFrame(labels)"
   ]
  },
  {
   "cell_type": "code",
   "execution_count": null,
   "id": "95f7a426",
   "metadata": {},
   "outputs": [],
   "source": [
    "lf=lf[lf!=''].dropna()"
   ]
  },
  {
   "cell_type": "code",
   "execution_count": null,
   "id": "98029cda",
   "metadata": {},
   "outputs": [],
   "source": [
    "xf=pd.DataFrame(pred,lf.values).reset_index().replace('',pd.NA).dropna()"
   ]
  },
  {
   "cell_type": "code",
   "execution_count": null,
   "id": "f25c76b8",
   "metadata": {},
   "outputs": [],
   "source": [
    "xf.columns=['dx','pred']\n",
    "xf.dx=[x[0] for x in xf.dx]\n",
    "xf"
   ]
  },
  {
   "cell_type": "code",
   "execution_count": null,
   "id": "ed39d0f3",
   "metadata": {},
   "outputs": [],
   "source": [
    "xf.dx=xf.dx.astype(int)\n",
    "fpr, tpr, thresholds = metrics.roc_curve(xf.dx, xf.pred, pos_label=1)\n",
    "import pylab as plt\n",
    "plt.plot(fpr,tpr)\n",
    "rf=pd.DataFrame(tpr,fpr,columns=['tpr']).assign(threshold=thresholds)\n",
    "rf.index.name='fpr'\n",
    "zt=zedstat.processRoc(df=rf.reset_index(),\n",
    "                      order=3, \n",
    "                      total_samples=1000,\n",
    "                      positive_samples=500,\n",
    "                      alpha=0.01,\n",
    "                      prevalence=0.5)\n",
    "zt.smooth(STEP=0.001)\n",
    "zt.allmeasures(interpolate=True)\n",
    "zt.usample(precision=3)\n",
    "Z=zt.get()"
   ]
  },
  {
   "cell_type": "code",
   "execution_count": null,
   "id": "af088c1e",
   "metadata": {},
   "outputs": [],
   "source": [
    "zt.auc()"
   ]
  },
  {
   "cell_type": "code",
   "execution_count": null,
   "id": "5fbfac68",
   "metadata": {},
   "outputs": [],
   "source": [
    "zt.scoretoprobability(1.3)"
   ]
  },
  {
   "cell_type": "code",
   "execution_count": null,
   "id": "852939b2",
   "metadata": {},
   "outputs": [],
   "source": [
    "rf"
   ]
  },
  {
   "cell_type": "code",
   "execution_count": null,
   "id": "922bab2c",
   "metadata": {},
   "outputs": [],
   "source": []
  }
 ],
 "metadata": {
  "kernelspec": {
   "display_name": "Python 3 (ipykernel)",
   "language": "python",
   "name": "python3"
  },
  "language_info": {
   "codemirror_mode": {
    "name": "ipython",
    "version": 3
   },
   "file_extension": ".py",
   "mimetype": "text/x-python",
   "name": "python",
   "nbconvert_exporter": "python",
   "pygments_lexer": "ipython3",
   "version": "3.10.8"
  }
 },
 "nbformat": 4,
 "nbformat_minor": 5
}
