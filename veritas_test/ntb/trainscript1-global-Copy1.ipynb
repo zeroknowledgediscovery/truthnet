{
 "cells": [
  {
   "cell_type": "code",
   "execution_count": 3,
   "id": "b9c53dcd",
   "metadata": {},
   "outputs": [],
   "source": [
    "import sys\n",
    "sys.path.append(\"../\") \n",
    "from infer_veritas import  *\n",
    "from truthfinder import *\n",
    "\n",
    "import dill as pickle\n",
    "import gzip"
   ]
  },
  {
   "cell_type": "code",
   "execution_count": 9,
   "id": "10d78651",
   "metadata": {},
   "outputs": [],
   "source": [
    "with gzip.open('tmp_veritas_001_global.pkl.gz', 'rb') as file:\n",
    "    TR=pickle.load(file)\n"
   ]
  },
  {
   "cell_type": "code",
   "execution_count": 10,
   "id": "b8a9eca3",
   "metadata": {},
   "outputs": [
    {
     "data": {
      "text/plain": [
       "{'version': '0.0.1', 'model': qnet.Qnet, 'model_neg': qnet.Qnet, 'problem': ''}"
      ]
     },
     "execution_count": 10,
     "metadata": {},
     "output_type": "execute_result"
    }
   ],
   "source": [
    "TR.veritas_model"
   ]
  },
  {
   "cell_type": "code",
   "execution_count": 11,
   "id": "e41a37ea",
   "metadata": {},
   "outputs": [],
   "source": [
    "M=TR.veritas_model"
   ]
  },
  {
   "cell_type": "code",
   "execution_count": 12,
   "id": "2660bcfd",
   "metadata": {},
   "outputs": [
    {
     "ename": "KeyError",
     "evalue": "'upper_scoretoprobability'",
     "output_type": "error",
     "traceback": [
      "\u001b[0;31m---------------------------------------------------------------------------\u001b[0m",
      "\u001b[0;31mKeyError\u001b[0m                                  Traceback (most recent call last)",
      "\u001b[0;32m/tmp/ipykernel_630977/4082414687.py\u001b[0m in \u001b[0;36m<module>\u001b[0;34m\u001b[0m\n\u001b[0;32m----> 1\u001b[0;31m \u001b[0mM\u001b[0m\u001b[0;34m[\u001b[0m\u001b[0;34m'upper_scoretoprobability'\u001b[0m\u001b[0;34m]\u001b[0m\u001b[0;34m(\u001b[0m\u001b[0;36m.8\u001b[0m\u001b[0;34m)\u001b[0m\u001b[0;34m\u001b[0m\u001b[0;34m\u001b[0m\u001b[0m\n\u001b[0m",
      "\u001b[0;31mKeyError\u001b[0m: 'upper_scoretoprobability'"
     ]
    }
   ],
   "source": [
    "M['upper_scoretoprobability'](.8)\n"
   ]
  },
  {
   "cell_type": "code",
   "execution_count": null,
   "id": "a0ca480e",
   "metadata": {},
   "outputs": [],
   "source": [
    "pred=M['calibration_df'].upper.values\n",
    "len(pred)"
   ]
  },
  {
   "cell_type": "code",
   "execution_count": null,
   "id": "f6a7ccad",
   "metadata": {},
   "outputs": [],
   "source": [
    "df_test = TR.data.loc[[x for x in TR.data.index.values\n",
    "                       if x not in TR.training_index],:][np.array(\n",
    "                               list(TR.veritas_model['model']\\\n",
    "                                    .feature_names)+[TR.target_label])]\n",
    "featurenames=df_test.drop(TR.target_label, axis=1).columns\n",
    "adictn=df_test[featurenames[TR.shap_index[:TR.query_limit]]].T.to_dict()\n",
    "adictn=[{key:value} for key,value in adictn.items()]\n",
    "\n",
    "keyindex=[list(x.keys())[0] for x in adictn]\n",
    "labels = df_test.loc[keyindex,TR.target_label]#.values\n",
    "lf=pd.DataFrame(labels)"
   ]
  },
  {
   "cell_type": "code",
   "execution_count": null,
   "id": "c359eeff",
   "metadata": {},
   "outputs": [],
   "source": [
    "lf=lf[lf!=''].dropna()"
   ]
  },
  {
   "cell_type": "code",
   "execution_count": null,
   "id": "f147e782",
   "metadata": {},
   "outputs": [],
   "source": [
    "xf=pd.DataFrame(pred,lf.values).reset_index().replace('',pd.NA).dropna()"
   ]
  },
  {
   "cell_type": "code",
   "execution_count": null,
   "id": "da9202bf",
   "metadata": {},
   "outputs": [],
   "source": [
    "xf.columns=['dx','pred']\n",
    "xf.dx=[x[0] for x in xf.dx]\n",
    "xf"
   ]
  },
  {
   "cell_type": "code",
   "execution_count": null,
   "id": "d25d8a14",
   "metadata": {},
   "outputs": [],
   "source": [
    "xf.dx=xf.dx.astype(int)\n",
    "fpr, tpr, thresholds = metrics.roc_curve(xf.dx, xf.pred, pos_label=1)\n",
    "import pylab as plt\n",
    "plt.plot(fpr,tpr)\n",
    "rf=pd.DataFrame(tpr,fpr,columns=['tpr']).assign(threshold=thresholds)\n",
    "rf.index.name='fpr'\n",
    "zt=zedstat.processRoc(df=rf.reset_index(),\n",
    "                      order=3, \n",
    "                      total_samples=1000,\n",
    "                      positive_samples=500,\n",
    "                      alpha=0.01,\n",
    "                      prevalence=0.5)\n",
    "zt.smooth(STEP=0.001)\n",
    "zt.allmeasures(interpolate=True)\n",
    "zt.usample(precision=3)\n",
    "Z=zt.get()"
   ]
  },
  {
   "cell_type": "code",
   "execution_count": null,
   "id": "68719676",
   "metadata": {},
   "outputs": [],
   "source": [
    "zt.auc()"
   ]
  },
  {
   "cell_type": "code",
   "execution_count": null,
   "id": "b8b1f622",
   "metadata": {},
   "outputs": [],
   "source": [
    "zt.scoretoprobability(1.3)"
   ]
  },
  {
   "cell_type": "code",
   "execution_count": null,
   "id": "71e719b9",
   "metadata": {},
   "outputs": [],
   "source": [
    "rf"
   ]
  },
  {
   "cell_type": "code",
   "execution_count": null,
   "id": "65878e11",
   "metadata": {},
   "outputs": [],
   "source": []
  }
 ],
 "metadata": {
  "kernelspec": {
   "display_name": "Python 3 (ipykernel)",
   "language": "python",
   "name": "python3"
  },
  "language_info": {
   "codemirror_mode": {
    "name": "ipython",
    "version": 3
   },
   "file_extension": ".py",
   "mimetype": "text/x-python",
   "name": "python",
   "nbconvert_exporter": "python",
   "pygments_lexer": "ipython3",
   "version": "3.10.8"
  }
 },
 "nbformat": 4,
 "nbformat_minor": 5
}
