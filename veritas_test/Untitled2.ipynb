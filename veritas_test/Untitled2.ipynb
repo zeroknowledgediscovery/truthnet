{
 "cells": [
  {
   "cell_type": "code",
   "execution_count": 1,
   "id": "1d23fa06",
   "metadata": {},
   "outputs": [],
   "source": [
    "import pandas as pd"
   ]
  },
  {
   "cell_type": "code",
   "execution_count": 2,
   "id": "b17cac8f",
   "metadata": {},
   "outputs": [],
   "source": [
    "df=pd.read_csv('/home/ishanu/ZED/Research/truthnet/notebooks/data/ptsd/PTSD_cognet_test.csv',index_col=0)"
   ]
  },
  {
   "cell_type": "code",
   "execution_count": 8,
   "id": "6e69ca6f",
   "metadata": {},
   "outputs": [],
   "source": [
    "D=df.drop('PTSDDx',axis=1).T.to_dict()\n",
    "jsondata=[{i+str(df.loc[i,'PTSDDx']):D[i]} for i in df.index.values]"
   ]
  },
  {
   "cell_type": "code",
   "execution_count": 10,
   "id": "e286236f",
   "metadata": {},
   "outputs": [],
   "source": [
    "import gzip\n",
    "import dill as pickle\n",
    "with gzip.open('validation_ptsd_full.pkl.gz', 'wb') as filepath:\n",
    "    pickle.dump(jsondata, filepath)"
   ]
  },
  {
   "cell_type": "code",
   "execution_count": 11,
   "id": "71dc3614",
   "metadata": {},
   "outputs": [
    {
     "name": "stdout",
     "output_type": "stream",
     "text": [
      "/home/ishanu/ZED/Research/truthnet/veritas_test\r\n"
     ]
    }
   ],
   "source": [
    "! pwd"
   ]
  }
 ],
 "metadata": {
  "kernelspec": {
   "display_name": "Python 3 (ipykernel)",
   "language": "python",
   "name": "python3"
  },
  "language_info": {
   "codemirror_mode": {
    "name": "ipython",
    "version": 3
   },
   "file_extension": ".py",
   "mimetype": "text/x-python",
   "name": "python",
   "nbconvert_exporter": "python",
   "pygments_lexer": "ipython3",
   "version": "3.10.8"
  }
 },
 "nbformat": 4,
 "nbformat_minor": 5
}
