{
 "cells": [
  {
   "cell_type": "code",
   "execution_count": 1,
   "id": "02c4d5bc",
   "metadata": {},
   "outputs": [],
   "source": [
    "from quasinet.qnet import load_qnet\n",
    "from quasinet.qnet import qdistance\n",
    "from quasinet.qsampling import qsample\n",
    "from quasinet.qnet import membership_degree\n",
    "import pandas as pd\n",
    "import numpy as np\n",
    "from tqdm import tqdm\n",
    "import random\n",
    "import gzip\n",
    "import dill\n",
    "import json\n",
    "\n",
    "modelnegpath='ptsd_neg.pkl.gz'\n",
    "model=load_qnet(modelnegpath)"
   ]
  },
  {
   "cell_type": "code",
   "execution_count": 9,
   "id": "fac477cd",
   "metadata": {},
   "outputs": [],
   "source": [
    "INDEX=[x.upper() for x in model.shap_index]\n",
    "featurenames=model.feature_names"
   ]
  },
  {
   "cell_type": "code",
   "execution_count": 18,
   "id": "503898a5",
   "metadata": {},
   "outputs": [],
   "source": [
    "import json\n",
    "json_file_path='./PTSD_DX_itembank.json'\n",
    "with open(json_file_path, 'r') as file:\n",
    "    data = json.load(file)\n",
    "    \n",
    "ITEMS={key:val for key,val in data.items() if key in INDEX[:40]}"
   ]
  },
  {
   "cell_type": "code",
   "execution_count": 19,
   "id": "3171e9bb",
   "metadata": {},
   "outputs": [
    {
     "data": {
      "text/plain": [
       "{'PTSD13': 'How much were you distressed or bothered by feeling kind of numb about a stressful event in the past?',\n",
       " 'PTSD14': 'How much were you distressed or bothered by having waves of strong feelings about a stressful event in the past?',\n",
       " 'PTSD16': 'How much of a problem have you had with having no interest in leisure activities due to a stressful event in the past?',\n",
       " 'PTSD29': 'How much did having a loss of interest in activities you used to enjoy occur or become worse after having a stressful event or experience?',\n",
       " 'PTSD31': 'Have you ever had any experience that was so frightening, horrible, or upsetting that you felt numb or detached from others, activities, or your surroundings?',\n",
       " 'PTSD40': \"I have had a hard time thinking about the future and believing that I'm going to live to old age.\",\n",
       " 'PTSD48': 'How often have you felt isolated from others due to a stressful event in the past?',\n",
       " 'PTSD50': 'How often have you felt sadness due to a stressful event in the past?',\n",
       " 'PTSD58': 'Have you felt on edge, been easily distracted, or had to stay \"on guard\"?',\n",
       " 'PTSD60': 'Have you been irritable or had outbursts of anger?',\n",
       " 'PTSD71': 'How much were you distressed or bothered by feeling watchful and on-guard due to a stressful event in the past?',\n",
       " 'PTSD72': 'How much were you distressed or bothered by feeling irritable and angry due to a stressful event in the past?',\n",
       " 'PTSD74': 'How much were you distressed or bothered by having trouble falling asleep due to a stressful event in the past?',\n",
       " 'PTSD78': 'How much of a problem have you had with difficulty with your memory due to a stressful event in the past?',\n",
       " 'PTSD83': 'How much of a problem have you had with hostility and/or violence due to a stressful event in the past?',\n",
       " 'PTSD90': 'Have you been having persistent difficulty concentrating?',\n",
       " 'PTSD93': 'Have you been continuously irritable or had outbursts of anger?',\n",
       " 'PTSD98': 'How much did being extremely irritable or angry to the point where you would yell at other people, get into fights, or destroy things occur or become worse after a stressful event or experience?',\n",
       " 'PTSD101': 'How much have you been bothered by being super-alert or watchful or on guard?',\n",
       " 'PTSD102': 'How much have you been bothered by feeling jumpy or easily startled?',\n",
       " 'PTSD131': 'Have you been avoiding doing things or going into situations that remind you about a stressful event in the past?',\n",
       " 'PTSD133': 'How much were you distressed or bothered by trying not to think about a stressful event in the past?',\n",
       " 'PTSD135': 'How much were you distressed or bothered by staying away from reminders of a stressful event in the past?',\n",
       " 'PTSD136': 'How much were you distressed or bothered by trying not to talk about a stressful event in the past?',\n",
       " 'PTSD137': 'Due to a stressful event in the past, how much of a problem have you had with avoiding activities that remind you of prior unpleasant experiences?',\n",
       " 'PTSD138': 'Did you often make efforts to avoid thoughts or feelings associated with a stressful event in the past?',\n",
       " 'PTSD139': 'Did you often make efforts to avoid activities, situations, or places that remind you of a stressful event in the past?',\n",
       " 'PTSD142': 'How much have you been bothered by avoiding having to think about or talking about a stressful experience from the past or avoiding having feelings related to it?',\n",
       " 'PTSD145': 'I avoided doing things or being in situations that might remind me of something terrible that happened to me in the past.',\n",
       " 'PTSD159': 'Due to a stressful event in the past, how much of a problem have you had with severe headaches?',\n",
       " 'PTSD165': 'Have you had repeating or intrusive upsetting thoughts or recollections of a stressful event in the past?',\n",
       " 'PTSD166': 'Have you been intensely emotionally upset when reminded of a stressful event in the past, including anniversaries of when it happened?',\n",
       " 'PTSD170': \"How much did you think that a stressful event happened because of something about you, that you or someone else did something wrong, or that you didn't do everything possible to prevent it, occur or become worse?\",\n",
       " 'PTSD171': 'Have you ever had any experience that was so frightening, horrible, or upsetting that you have had nightmares about it or thought about it when you did not want to?',\n",
       " 'PTSD172': 'How much have you been bothered by suddenly acting or feeling as if a stressful experience were happening again?',\n",
       " 'PTSD173': 'How much have you been bothered by having physical reactions when something reminded you of a stressful experience from the past?',\n",
       " 'PTSD179': \"I found myself remembering bad things that happened to me over and over, even when I didn't want to think about them.\"}"
      ]
     },
     "execution_count": 19,
     "metadata": {},
     "output_type": "execute_result"
    }
   ],
   "source": [
    "ITEMS"
   ]
  },
  {
   "cell_type": "code",
   "execution_count": null,
   "id": "d4722e38",
   "metadata": {},
   "outputs": [],
   "source": []
  }
 ],
 "metadata": {
  "kernelspec": {
   "display_name": "Python 3 (ipykernel)",
   "language": "python",
   "name": "python3"
  },
  "language_info": {
   "codemirror_mode": {
    "name": "ipython",
    "version": 3
   },
   "file_extension": ".py",
   "mimetype": "text/x-python",
   "name": "python",
   "nbconvert_exporter": "python",
   "pygments_lexer": "ipython3",
   "version": "3.10.8"
  }
 },
 "nbformat": 4,
 "nbformat_minor": 5
}
