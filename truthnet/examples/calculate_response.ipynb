{
 "cells": [
  {
   "cell_type": "code",
   "execution_count": null,
   "id": "d08c409d",
   "metadata": {},
   "outputs": [],
   "source": [
    "# Running in command line"
   ]
  },
  {
   "cell_type": "code",
   "execution_count": null,
   "id": "0d24ae77",
   "metadata": {},
   "outputs": [],
   "source": [
    "! ./calc_parallel_res.py --res ./response_jsons/ --V ./veritas_models/veritas_010.pkl.gz --o ./res_R20_model10.csv"
   ]
  },
  {
   "cell_type": "code",
   "execution_count": 1,
   "id": "2055c9a8",
   "metadata": {},
   "outputs": [],
   "source": [
    "from util import calculate_response_parallel"
   ]
  },
  {
   "cell_type": "code",
   "execution_count": 2,
   "id": "650748d1",
   "metadata": {},
   "outputs": [
    {
     "name": "stdout",
     "output_type": "stream",
     "text": [
      "ckeck passed\n"
     ]
    },
    {
     "name": "stderr",
     "output_type": "stream",
     "text": [
      "100%|█████████████████████████████████████████| 231/231 [05:18<00:00,  1.38s/it]\n"
     ]
    }
   ],
   "source": [
    "calculate_response_parallel('./response_jsons/experiment.pkl.gz','./veritas_models/veritas_009.pkl.gz','./res_exp_model9.csv')"
   ]
  },
  {
   "cell_type": "code",
   "execution_count": null,
   "id": "eebfb938",
   "metadata": {},
   "outputs": [],
   "source": []
  }
 ],
 "metadata": {
  "kernelspec": {
   "display_name": "Python 3 (ipykernel)",
   "language": "python",
   "name": "python3"
  },
  "language_info": {
   "codemirror_mode": {
    "name": "ipython",
    "version": 3
   },
   "file_extension": ".py",
   "mimetype": "text/x-python",
   "name": "python",
   "nbconvert_exporter": "python",
   "pygments_lexer": "ipython3",
   "version": "3.10.8"
  }
 },
 "nbformat": 4,
 "nbformat_minor": 5
}
