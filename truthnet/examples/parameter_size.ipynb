{
 "cells": [
  {
   "cell_type": "code",
   "execution_count": 2,
   "id": "d6a99d20-3005-4460-8f65-aa2a60f193a0",
   "metadata": {},
   "outputs": [],
   "source": [
    "import sys\n",
    "import os\n",
    "# Dynamically get the path of the current directory\n",
    "current_dir = os.getcwd()\n",
    "\n",
    "# Assuming the package is one level up\n",
    "local_package_dir = os.path.abspath(os.path.join(current_dir, '..'))\n",
    "\n",
    "# Add this path to sys.path\n",
    "sys.path.insert(0, local_package_dir)\n",
    "\n",
    "# Now you can import your local package\n",
    "from util import validate\n",
    "import pandas as pd\n",
    "from truthnet import load_veritas_model"
   ]
  },
  {
   "cell_type": "code",
   "execution_count": 7,
   "id": "2293e18f-724c-478d-9e66-d20f3924fa4a",
   "metadata": {},
   "outputs": [],
   "source": [
    "from quasinet.utils import numparameters\n",
    "import glob\n",
    "from tqdm import tqdm"
   ]
  },
  {
   "cell_type": "code",
   "execution_count": 14,
   "id": "36a96886-1f61-4982-b240-5a313bb0bf2b",
   "metadata": {},
   "outputs": [
    {
     "name": "stderr",
     "output_type": "stream",
     "text": [
      "calculating compelxity: 100%|█████████████████████| 8/8 [00:12<00:00,  1.52s/it]\n"
     ]
    },
    {
     "data": {
      "text/plain": [
       "{'../../veritas_models/veritas_001.pkl.gz': (4107, 11007),\n",
       " '../../veritas_models/veritas_003.pkl.gz': (5661, 9758),\n",
       " '../../veritas_models/veritas_002.pkl.gz': (5852, 10301),\n",
       " '../../veritas_models/veritas_008.pkl.gz': (6516, 8133),\n",
       " '../../veritas_models/veritas_009.pkl.gz': (5140, 10139),\n",
       " '../../veritas_models/veritas_010.pkl.gz': (5775, 9881),\n",
       " '../../veritas_models/veritas_ptsd.pkl.gz': (6106, 10250)}"
      ]
     },
     "execution_count": 14,
     "metadata": {},
     "output_type": "execute_result"
    }
   ],
   "source": [
    "modelpaths='../../veritas_models/veritas_0*[0-9].pkl.gz'\n",
    "P={}\n",
    "for i in tqdm(glob.glob(modelpaths)+['../../veritas_models/veritas_ptsd.pkl.gz'],'calculating compelxity'):\n",
    "    M=load_veritas_model(i)\n",
    "    m1=M.get('model',None)\n",
    "    m2=M.get('model_neg',None)\n",
    "    if m1 and m2:\n",
    "        P[i]=numparameters(m1),numparameters(m2)\n",
    "P"
   ]
  },
  {
   "cell_type": "code",
   "execution_count": null,
   "id": "5b03c558-f65c-45ce-b32e-98dca3402b62",
   "metadata": {},
   "outputs": [],
   "source": []
  }
 ],
 "metadata": {
  "kernelspec": {
   "display_name": "Python 3 (ipykernel)",
   "language": "python",
   "name": "python3"
  },
  "language_info": {
   "codemirror_mode": {
    "name": "ipython",
    "version": 3
   },
   "file_extension": ".py",
   "mimetype": "text/x-python",
   "name": "python",
   "nbconvert_exporter": "python",
   "pygments_lexer": "ipython3",
   "version": "3.10.8"
  }
 },
 "nbformat": 4,
 "nbformat_minor": 5
}
