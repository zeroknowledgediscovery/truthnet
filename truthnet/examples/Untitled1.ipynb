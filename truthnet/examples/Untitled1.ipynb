{
 "cells": [
  {
   "cell_type": "code",
   "execution_count": 1,
   "id": "d6a99d20-3005-4460-8f65-aa2a60f193a0",
   "metadata": {},
   "outputs": [],
   "source": [
    "import sys\n",
    "import os\n",
    "# Dynamically get the path of the current directory\n",
    "current_dir = os.getcwd()\n",
    "\n",
    "# Assuming the package is one level up\n",
    "local_package_dir = os.path.abspath(os.path.join(current_dir, '..'))\n",
    "\n",
    "# Add this path to sys.path\n",
    "sys.path.insert(0, local_package_dir)\n",
    "\n",
    "# Now you can import your local package\n",
    "from util import validate\n",
    "import pandas as pd\n",
    "from truthnet import load_veritas_model"
   ]
  },
  {
   "cell_type": "code",
   "execution_count": 2,
   "id": "724c6a6c-ecc7-4c2b-b041-22d89beab3b3",
   "metadata": {},
   "outputs": [],
   "source": [
    "M=load_veritas_model('../../veritas_models/veritas_002.pkl.gz')"
   ]
  },
  {
   "cell_type": "code",
   "execution_count": 3,
   "id": "9234e84d-2df8-4a97-93ee-c4df2f2e166e",
   "metadata": {},
   "outputs": [],
   "source": [
    "from quasinet.utils import numparameters"
   ]
  },
  {
   "cell_type": "code",
   "execution_count": 7,
   "id": "dab263b0-9744-44bb-9816-e08bd329a48f",
   "metadata": {},
   "outputs": [
    {
     "data": {
      "text/plain": [
       "(5852, 10301)"
      ]
     },
     "execution_count": 7,
     "metadata": {},
     "output_type": "execute_result"
    }
   ],
   "source": [
    "numparameters(M['model']),numparameters(M['model_neg'])"
   ]
  },
  {
   "cell_type": "code",
   "execution_count": 6,
   "id": "3cc6cec7-675b-4d58-b158-46be4b29a6e3",
   "metadata": {},
   "outputs": [
    {
     "data": {
      "text/plain": [
       "{'version': '0.0.1',\n",
       " 'model': qnet.Qnet,\n",
       " 'model_neg': qnet.Qnet,\n",
       " 'problem': '',\n",
       " 'calibration_lower': array([1.20398725, 1.20398725, 1.20398725, ..., 1.29696621, 1.29880653,\n",
       "        1.29880653]),\n",
       " 'calibration_veritas': array([0.65791448, 0.65791448, 0.65791448, ..., 0.69963702, 0.68822158,\n",
       "        0.68822158]),\n",
       " 'dist_lower': <scipy.stats._distn_infrastructure.rv_continuous_frozen at 0x7f02684ce460>,\n",
       " 'LOWER_THRESHOLD': 1.1457407246215392,\n",
       " 'dist_veritas': <scipy.stats._distn_infrastructure.rv_continuous_frozen at 0x7f02684d2610>,\n",
       " 'VERITAS_THRESHOLD': 0.6971038897415065,\n",
       " 'upper_scoretoprobability': <bound method processRoc.scoretoprobability of <zedstat.zedstat.processRoc object at 0x7f02684ced30>>,\n",
       " 'UPPER_THRESHOLD': 1.2683587177075477,\n",
       " 'AUC': (0.844551724137931, 0.8521131405190563, 0.8369903077568057)}"
      ]
     },
     "execution_count": 6,
     "metadata": {},
     "output_type": "execute_result"
    }
   ],
   "source": [
    "M"
   ]
  }
 ],
 "metadata": {
  "kernelspec": {
   "display_name": "Python 3 (ipykernel)",
   "language": "python",
   "name": "python3"
  },
  "language_info": {
   "codemirror_mode": {
    "name": "ipython",
    "version": 3
   },
   "file_extension": ".py",
   "mimetype": "text/x-python",
   "name": "python",
   "nbconvert_exporter": "python",
   "pygments_lexer": "ipython3",
   "version": "3.9.18"
  }
 },
 "nbformat": 4,
 "nbformat_minor": 5
}
