{
 "cells": [
  {
   "cell_type": "code",
   "execution_count": 1,
   "id": "371cb188-7d89-434e-8d78-5d7992a874d6",
   "metadata": {},
   "outputs": [],
   "source": [
    "from quasinet.qnet import load_qnet\n",
    "import glob\n",
    "TREEDIR='../QNET/trees'"
   ]
  },
  {
   "cell_type": "code",
   "execution_count": 2,
   "id": "a9d1e042-6f55-436b-b706-2df65dcf72a1",
   "metadata": {},
   "outputs": [],
   "source": [
    "modelpath='../QNET/FULL_QNET.joblib.gz'\n",
    "model=load_qnet(modelpath,gz=True)"
   ]
  },
  {
   "cell_type": "code",
   "execution_count": 3,
   "id": "9266431b-3035-4ecf-b67e-2a3e72ebc308",
   "metadata": {},
   "outputs": [],
   "source": [
    "from quasinet.utils import numparameters"
   ]
  },
  {
   "cell_type": "code",
   "execution_count": 4,
   "id": "6cc7a1e1-abed-4156-99a8-c873d85f6aaa",
   "metadata": {},
   "outputs": [
    {
     "data": {
      "text/plain": [
       "(950402, 3.288305613305613)"
      ]
     },
     "execution_count": 4,
     "metadata": {},
     "output_type": "execute_result"
    }
   ],
   "source": [
    "numparameters(model)"
   ]
  },
  {
   "cell_type": "code",
   "execution_count": null,
   "id": "afdd2ae2-6887-4cad-b4cc-7f220abb7659",
   "metadata": {},
   "outputs": [],
   "source": [
    "#model.viz_trees(tree_path=TREEDIR,big_enough_threshold=1,format='png',remove_newline=True)\n"
   ]
  },
  {
   "cell_type": "code",
   "execution_count": 5,
   "id": "2330ed26-e9eb-4f62-baa8-521443f13536",
   "metadata": {},
   "outputs": [
    {
     "data": {
      "text/plain": [
       "950402"
      ]
     },
     "execution_count": 5,
     "metadata": {},
     "output_type": "execute_result"
    }
   ],
   "source": [
    "950402"
   ]
  },
  {
   "cell_type": "code",
   "execution_count": 17,
   "id": "6b5321db-7b6e-48dc-b573-13ca18afd906",
   "metadata": {},
   "outputs": [],
   "source": [
    "from quasinet.export import QnetGraphExporter\n",
    "QnetGraphExporter(model, outfile='model.dot', threshold=.1).export()"
   ]
  },
  {
   "cell_type": "code",
   "execution_count": 10,
   "id": "2a054d27-8755-4d0a-8231-ab36efe037cc",
   "metadata": {},
   "outputs": [
    {
     "name": "stdout",
     "output_type": "stream",
     "text": [
      "total 808K\n",
      "-rw-r--r-- 1 ishanu ishanu 2.4K May  4 14:37 Untitled.ipynb\n",
      "-rw-r--r-- 1 ishanu ishanu 801K May  4 14:38 model.dot\n"
     ]
    }
   ],
   "source": [
    "! ls -lhtr"
   ]
  },
  {
   "cell_type": "code",
   "execution_count": 11,
   "id": "a4ceae83-bb3e-4275-a9be-8a5775222b70",
   "metadata": {},
   "outputs": [
    {
     "name": "stdout",
     "output_type": "stream",
     "text": [
      "31779 model.dot\n"
     ]
    }
   ],
   "source": [
    "! wc -l model.dot"
   ]
  },
  {
   "cell_type": "code",
   "execution_count": 18,
   "id": "9793417b-f4a0-4f69-8051-457a2bb3dd5c",
   "metadata": {},
   "outputs": [
    {
     "name": "stdout",
     "output_type": "stream",
     "text": [
      "CSV file has been created: output.csv\n"
     ]
    }
   ],
   "source": [
    "import pydot\n",
    "import pandas as pd\n",
    "\n",
    "def dot_to_csv(dot_file_path, csv_file_path):\n",
    "    # Load the DOT file\n",
    "    graphs = pydot.graph_from_dot_file(dot_file_path)\n",
    "\n",
    "    # Extract the edges from the graph\n",
    "    edges = graphs[0].get_edges()\n",
    "\n",
    "    # Prepare data for the DataFrame\n",
    "    data = {'Source': [], 'Target': []}\n",
    "\n",
    "    for edge in edges:\n",
    "        data['Source'].append(edge.get_source())\n",
    "        data['Target'].append(edge.get_destination())\n",
    "\n",
    "    # Create a DataFrame\n",
    "    df = pd.DataFrame(data)\n",
    "\n",
    "    # Write to CSV\n",
    "    df.to_csv(csv_file_path, index=False)\n",
    "    print(f\"CSV file has been created: {csv_file_path}\")\n",
    "\n",
    "# Example usage\n",
    "dot_file_path = 'model.dot'\n",
    "csv_file_path = 'output.csv'\n",
    "dot_to_csv(dot_file_path, csv_file_path)\n"
   ]
  },
  {
   "cell_type": "code",
   "execution_count": 19,
   "id": "7a57f5f8-6eda-4e28-a7a5-715bba3b5cd5",
   "metadata": {},
   "outputs": [],
   "source": [
    "TREEDIR1='../QNET/trees1'\n",
    "model.viz_trees(tree_path=TREEDIR1,big_enough_threshold=1,remove_dotfile=False,remove_newline=True,draw=False)"
   ]
  },
  {
   "cell_type": "code",
   "execution_count": 22,
   "id": "16e0fceb-14d3-487b-a832-ab4051e522bd",
   "metadata": {},
   "outputs": [
    {
     "data": {
      "text/plain": [
       "740"
      ]
     },
     "execution_count": 22,
     "metadata": {},
     "output_type": "execute_result"
    }
   ],
   "source": [
    "len(list(set([x.split('_')[0] for x in model.feature_names])))"
   ]
  },
  {
   "cell_type": "code",
   "execution_count": null,
   "id": "b9a67ed7-128d-436b-b7b1-552e9f102512",
   "metadata": {},
   "outputs": [],
   "source": []
  }
 ],
 "metadata": {
  "kernelspec": {
   "display_name": "Python 3 (ipykernel)",
   "language": "python",
   "name": "python3"
  },
  "language_info": {
   "codemirror_mode": {
    "name": "ipython",
    "version": 3
   },
   "file_extension": ".py",
   "mimetype": "text/x-python",
   "name": "python",
   "nbconvert_exporter": "python",
   "pygments_lexer": "ipython3",
   "version": "3.10.8"
  }
 },
 "nbformat": 4,
 "nbformat_minor": 5
}
