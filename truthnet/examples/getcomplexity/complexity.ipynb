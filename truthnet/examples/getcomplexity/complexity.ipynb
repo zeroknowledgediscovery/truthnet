{
 "cells": [
  {
   "cell_type": "code",
   "execution_count": 1,
   "id": "8b85e6f7",
   "metadata": {},
   "outputs": [],
   "source": [
    "from quasinet.qnet import load_qnet\n",
    "from truthnet.truthnet import load_veritas_model"
   ]
  },
  {
   "cell_type": "code",
   "execution_count": 14,
   "id": "a6ed8e1b",
   "metadata": {},
   "outputs": [],
   "source": [
    "M=load_veritas_model('../../../veritas_models/veritas_002.pkl.gz')\n",
    "M=load_veritas_model('../../../veritas_models/veritas_005_SUD.pkl.gz')\n"
   ]
  },
  {
   "cell_type": "code",
   "execution_count": 15,
   "id": "ceb227a7",
   "metadata": {},
   "outputs": [],
   "source": [
    "Q=M['model']"
   ]
  },
  {
   "cell_type": "code",
   "execution_count": 19,
   "id": "4e119d42",
   "metadata": {},
   "outputs": [],
   "source": [
    "OUTDIR='treesSUD/'\n",
    "Q.viz_trees(tree_path=OUTDIR,big_enough_threshold=0,format='png')\n"
   ]
  },
  {
   "cell_type": "code",
   "execution_count": 20,
   "id": "be2c2359",
   "metadata": {},
   "outputs": [
    {
     "data": {
      "text/plain": [
       "527"
      ]
     },
     "execution_count": 20,
     "metadata": {},
     "output_type": "execute_result"
    }
   ],
   "source": [
    "from quasinet.utils import numparameters\n",
    "numparameters(Q)"
   ]
  },
  {
   "cell_type": "code",
   "execution_count": null,
   "id": "c370b0f1",
   "metadata": {},
   "outputs": [],
   "source": []
  }
 ],
 "metadata": {
  "kernelspec": {
   "display_name": "Python 3 (ipykernel)",
   "language": "python",
   "name": "python3"
  },
  "language_info": {
   "codemirror_mode": {
    "name": "ipython",
    "version": 3
   },
   "file_extension": ".py",
   "mimetype": "text/x-python",
   "name": "python",
   "nbconvert_exporter": "python",
   "pygments_lexer": "ipython3",
   "version": "3.10.8"
  }
 },
 "nbformat": 4,
 "nbformat_minor": 5
}
