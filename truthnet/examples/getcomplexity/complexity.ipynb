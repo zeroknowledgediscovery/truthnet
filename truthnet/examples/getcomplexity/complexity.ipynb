{
 "cells": [
  {
   "cell_type": "code",
   "execution_count": 1,
   "id": "8b85e6f7",
   "metadata": {},
   "outputs": [],
   "source": [
    "from quasinet.qnet import load_qnet\n",
    "from truthnet.truthnet import load_veritas_model"
   ]
  },
  {
   "cell_type": "code",
   "execution_count": 2,
   "id": "a6ed8e1b",
   "metadata": {},
   "outputs": [],
   "source": [
    "M=load_veritas_model('../../../veritas_models/veritas_002.pkl.gz')\n",
    "#M=load_veritas_model('../../../veritas_models/veritas_005_SUD.pkl.gz')\n"
   ]
  },
  {
   "cell_type": "code",
   "execution_count": 3,
   "id": "ceb227a7",
   "metadata": {},
   "outputs": [],
   "source": [
    "Q=M['model']"
   ]
  },
  {
   "cell_type": "code",
   "execution_count": 19,
   "id": "4e119d42",
   "metadata": {},
   "outputs": [],
   "source": [
    "OUTDIR='treesSUD/'\n",
    "Q.viz_trees(tree_path=OUTDIR,big_enough_threshold=0,format='png')\n"
   ]
  },
  {
   "cell_type": "code",
   "execution_count": 4,
   "id": "be2c2359",
   "metadata": {},
   "outputs": [
    {
     "data": {
      "text/plain": [
       "(11811, 6.81042654028436)"
      ]
     },
     "execution_count": 4,
     "metadata": {},
     "output_type": "execute_result"
    }
   ],
   "source": [
    "from quasinet.utils import numparameters\n",
    "numparameters(Q)"
   ]
  },
  {
   "cell_type": "code",
   "execution_count": 9,
   "id": "c370b0f1",
   "metadata": {},
   "outputs": [],
   "source": [
    "from quasinet.export import QnetGraphExporter\n",
    "QnetGraphExporter(Q, outfile='Qmodel.dot', threshold=.2).export()"
   ]
  },
  {
   "cell_type": "code",
   "execution_count": 10,
   "id": "473ea97f-3f9b-449f-9c95-c97855f7faf7",
   "metadata": {},
   "outputs": [
    {
     "name": "stdout",
     "output_type": "stream",
     "text": [
      "CSV file has been created: output.csv\n"
     ]
    }
   ],
   "source": [
    "import pydot\n",
    "import pandas as pd\n",
    "\n",
    "def dot_to_csv(dot_file_path, csv_file_path):\n",
    "    # Load the DOT file\n",
    "    graphs = pydot.graph_from_dot_file(dot_file_path)\n",
    "\n",
    "    # Extract the edges from the graph\n",
    "    edges = graphs[0].get_edges()\n",
    "\n",
    "    # Prepare data for the DataFrame\n",
    "    data = {'Source': [], 'Target': []}\n",
    "\n",
    "    for edge in edges:\n",
    "        data['Source'].append(edge.get_source())\n",
    "        data['Target'].append(edge.get_destination())\n",
    "\n",
    "    # Create a DataFrame\n",
    "    df = pd.DataFrame(data)\n",
    "\n",
    "    # Write to CSV\n",
    "    df.to_csv(csv_file_path, index=False)\n",
    "    print(f\"CSV file has been created: {csv_file_path}\")\n",
    "\n",
    "# Example usage\n",
    "dot_file_path = 'Qmodel.dot'\n",
    "csv_file_path = 'output.csv'\n",
    "dot_to_csv(dot_file_path, csv_file_path)"
   ]
  },
  {
   "cell_type": "code",
   "execution_count": 11,
   "id": "113d6e6a-df17-47ce-80f7-66fbe3b89903",
   "metadata": {},
   "outputs": [
    {
     "name": "stdout",
     "output_type": "stream",
     "text": [
      "395 output.csv\n"
     ]
    }
   ],
   "source": [
    "! wc -l output.csv"
   ]
  },
  {
   "cell_type": "code",
   "execution_count": null,
   "id": "ef950781-e2b2-4a8d-9240-b32225d7d74f",
   "metadata": {},
   "outputs": [],
   "source": []
  }
 ],
 "metadata": {
  "kernelspec": {
   "display_name": "Python 3 (ipykernel)",
   "language": "python",
   "name": "python3"
  },
  "language_info": {
   "codemirror_mode": {
    "name": "ipython",
    "version": 3
   },
   "file_extension": ".py",
   "mimetype": "text/x-python",
   "name": "python",
   "nbconvert_exporter": "python",
   "pygments_lexer": "ipython3",
   "version": "3.10.8"
  }
 },
 "nbformat": 4,
 "nbformat_minor": 5
}
