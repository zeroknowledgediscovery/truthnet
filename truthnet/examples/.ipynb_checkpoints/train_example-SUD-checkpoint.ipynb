{
 "cells": [
  {
   "cell_type": "code",
   "execution_count": 1,
   "id": "4de1b8f7",
   "metadata": {},
   "outputs": [],
   "source": [
    "from truthnet.truthnet import truthnet"
   ]
  },
  {
   "cell_type": "code",
   "execution_count": 3,
   "id": "eb651d51",
   "metadata": {},
   "outputs": [
    {
     "data": {
      "application/vnd.jupyter.widget-view+json": {
       "model_id": "9cbb723a4cc749499f88f138953c198e",
       "version_major": 2,
       "version_minor": 0
      },
      "text/plain": [
       "  0%|          | 0/10 [00:00<?, ?it/s]"
      ]
     },
     "metadata": {},
     "output_type": "display_data"
    },
    {
     "name": "stderr",
     "output_type": "stream",
     "text": [
      "100%|███████████████████████████████████████| 5000/5000 [03:08<00:00, 26.56it/s]\n"
     ]
    }
   ],
   "source": [
    "TR=truthnet(datapath='../../data/SUD.csv',\n",
    "            target_label=None,VERBOSE=False)\n",
    "TR.fit(shapnum=10,alpha=.2)\n",
    "rf=TR.calibrate(calibration_num=5000)\n",
    "TR.save('../../veritas_models/veritas_007_SUD.pkl.gz')"
   ]
  },
  {
   "cell_type": "code",
   "execution_count": null,
   "id": "885b052c",
   "metadata": {},
   "outputs": [],
   "source": []
  }
 ],
 "metadata": {
  "kernelspec": {
   "display_name": "Python 3 (ipykernel)",
   "language": "python",
   "name": "python3"
  },
  "language_info": {
   "codemirror_mode": {
    "name": "ipython",
    "version": 3
   },
   "file_extension": ".py",
   "mimetype": "text/x-python",
   "name": "python",
   "nbconvert_exporter": "python",
   "pygments_lexer": "ipython3",
   "version": "3.10.8"
  }
 },
 "nbformat": 4,
 "nbformat_minor": 5
}
