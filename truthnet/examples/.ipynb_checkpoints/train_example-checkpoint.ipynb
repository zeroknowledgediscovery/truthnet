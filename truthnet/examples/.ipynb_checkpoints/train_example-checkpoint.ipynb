{
 "cells": [
  {
   "cell_type": "code",
   "execution_count": 1,
   "id": "4de1b8f7",
   "metadata": {},
   "outputs": [],
   "source": [
    "from truthnet import train"
   ]
  },
  {
   "cell_type": "code",
   "execution_count": 2,
   "id": "eb651d51",
   "metadata": {},
   "outputs": [
    {
     "data": {
      "application/vnd.jupyter.widget-view+json": {
       "model_id": "375bab7b9a75437ba016bee68e5e9f25",
       "version_major": 2,
       "version_minor": 0
      },
      "text/plain": [
       "  0%|          | 0/10 [00:00<?, ?it/s]"
      ]
     },
     "metadata": {},
     "output_type": "display_data"
    },
    {
     "name": "stderr",
     "output_type": "stream",
     "text": [
      "100%|███████████████████████████████████████| 5000/5000 [03:14<00:00, 25.70it/s]\n"
     ]
    }
   ],
   "source": [
    "train(datapath='./data/SUD.csv',\n",
    "      modelpath='./veritas_models/veritas_006_SUD.pkl.gz')"
   ]
  },
  {
   "cell_type": "code",
   "execution_count": 3,
   "id": "5b04f126",
   "metadata": {},
   "outputs": [
    {
     "data": {
      "text/plain": [
       "{'version': '0.0.1',\n",
       " 'model': qnet.Qnet,\n",
       " 'problem': '',\n",
       " 'calibration_lower': array([0.68064352, 0.68064352, 0.68064352, ..., 0.63052135, 0.61121131,\n",
       "        0.46794628]),\n",
       " 'calibration_veritas': array([0.21498119, 0.21498119, 0.21498119, ..., 0.18910337, 0.25517241,\n",
       "        0.21819346]),\n",
       " 'dist_lower': <scipy.stats._distn_infrastructure.rv_continuous_frozen at 0x7ff7e6856aa0>,\n",
       " 'LOWER_THRESHOLD': 0.39808233523721515,\n",
       " 'dist_veritas': <scipy.stats._distn_infrastructure.rv_continuous_frozen at 0x7ff7e6857400>,\n",
       " 'VERITAS_THRESHOLD': 0.3599903882097282}"
      ]
     },
     "execution_count": 3,
     "metadata": {},
     "output_type": "execute_result"
    }
   ],
   "source": [
    "# check\n",
    "from truthnet import load_veritas_model\n",
    "M=load_veritas_model('./veritas_models/veritas_005_SUD.pkl.gz')\n",
    "M"
   ]
  },
  {
   "cell_type": "code",
   "execution_count": null,
   "id": "a8f10bd6",
   "metadata": {},
   "outputs": [],
   "source": [
    "train(datapath='./data/ptsd.csv',target_label='PTSDDx',query_limit=20,\n",
    "      modelpath='./veritas_models/veritas_011_ptsd.pkl.gz')"
   ]
  },
  {
   "cell_type": "code",
   "execution_count": null,
   "id": "ffa501cc",
   "metadata": {},
   "outputs": [],
   "source": [
    "from truthnet import load_veritas_model\n",
    "M=load_veritas_model('./veritas_models/veritas_005_SUD.pkl.gz')\n",
    "M"
   ]
  }
 ],
 "metadata": {
  "kernelspec": {
   "display_name": "Python 3 (ipykernel)",
   "language": "python",
   "name": "python3"
  },
  "language_info": {
   "codemirror_mode": {
    "name": "ipython",
    "version": 3
   },
   "file_extension": ".py",
   "mimetype": "text/x-python",
   "name": "python",
   "nbconvert_exporter": "python",
   "pygments_lexer": "ipython3",
   "version": "3.10.8"
  }
 },
 "nbformat": 4,
 "nbformat_minor": 5
}
