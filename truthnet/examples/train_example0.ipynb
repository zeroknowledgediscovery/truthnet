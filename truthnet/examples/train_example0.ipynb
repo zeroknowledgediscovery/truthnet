{
 "cells": [
  {
   "cell_type": "code",
   "execution_count": 1,
   "id": "4de1b8f7",
   "metadata": {},
   "outputs": [],
   "source": [
    "import sys\n",
    "import os\n",
    "# Dynamically get the path of the current directory\n",
    "current_dir = os.getcwd()\n",
    "\n",
    "# Assuming the package is one level up\n",
    "local_package_dir = os.path.abspath(os.path.join(current_dir, '..'))\n",
    "\n",
    "# Add this path to sys.path\n",
    "sys.path.insert(0, local_package_dir)\n",
    "\n",
    "# Now you can import your local package\n",
    "from util import validate\n",
    "from truthnet import load_veritas_model\n",
    "\n",
    "from truthnet import train"
   ]
  },
  {
   "cell_type": "code",
   "execution_count": 2,
   "id": "eb651d51",
   "metadata": {},
   "outputs": [
    {
     "data": {
      "application/vnd.jupyter.widget-view+json": {
       "model_id": "470e146e7f7646e181e299cdafa3815e",
       "version_major": 2,
       "version_minor": 0
      },
      "text/plain": [
       "  0%|          | 0/10 [00:00<?, ?it/s]"
      ]
     },
     "metadata": {},
     "output_type": "display_data"
    },
    {
     "name": "stderr",
     "output_type": "stream",
     "text": [
      "100%|█████████████████████████████████████| 5000/5000 [1:02:02<00:00,  1.34it/s]\n"
     ]
    }
   ],
   "source": [
    "train(datapath='../../data/ptsd.csv',target_label='PTSDDx',query_limit=20,\n",
    "      modelpath='../../veritas_models/veritas_012.pkl.gz')"
   ]
  },
  {
   "cell_type": "code",
   "execution_count": 3,
   "id": "5b04f126",
   "metadata": {},
   "outputs": [
    {
     "data": {
      "text/plain": [
       "{'version': '0.0.1',\n",
       " 'model': qnet.Qnet,\n",
       " 'model_neg': qnet.Qnet,\n",
       " 'problem': '',\n",
       " 'shapvalues': array([[ 0.00732443,  0.        ,  0.00385222, ...,  0.01310767,\n",
       "          0.00962815,  0.00401081],\n",
       "        [ 0.        ,  0.        ,  0.00117954, ...,  0.        ,\n",
       "         -0.00716721,  0.00434843],\n",
       "        [ 0.01533202, -0.00240123,  0.        , ...,  0.        ,\n",
       "         -0.0011775 ,  0.        ],\n",
       "        ...,\n",
       "        [ 0.01034278,  0.        ,  0.        , ...,  0.01504641,\n",
       "          0.00946302,  0.00375033],\n",
       "        [ 0.00528653, -0.00379034,  0.        , ...,  0.00582404,\n",
       "          0.        ,  0.00268687],\n",
       "        [ 0.01298692,  0.        ,  0.        , ...,  0.00691518,\n",
       "          0.        , -0.00090719]]),\n",
       " 'calibration_lower': array([1.04158836, 1.04158836, 1.04158836, ..., 1.16495605, 1.02488754,\n",
       "        1.0828592 ]),\n",
       " 'calibration_veritas': array([0.60840999, 0.60840999, 0.60840999, ..., 0.64404223, 0.62430939,\n",
       "        0.62924668]),\n",
       " 'dist_lower': <scipy.stats._distn_infrastructure.rv_continuous_frozen at 0x7fd9f57bda80>,\n",
       " 'LOWER_THRESHOLD': 1.0001647111538952,\n",
       " 'dist_veritas': <scipy.stats._distn_infrastructure.rv_continuous_frozen at 0x7fd9f57be3e0>,\n",
       " 'VERITAS_THRESHOLD': 0.6527412102842445,\n",
       " 'upper_scoretoprobability': <bound method processRoc.scoretoprobability of <zedstat.zedstat.processRoc object at 0x7fd9f57bf310>>,\n",
       " 'UPPER_THRESHOLD': 1.2265197118649007,\n",
       " 'AUC': (0.8528306451612904, 0.8608689829745819, 0.8447923073479987)}"
      ]
     },
     "execution_count": 3,
     "metadata": {},
     "output_type": "execute_result"
    }
   ],
   "source": [
    "# check\n",
    "M=load_veritas_model('../../veritas_models/veritas_012.pkl.gz')\n",
    "M#.keys()"
   ]
  },
  {
   "cell_type": "code",
   "execution_count": 5,
   "id": "98411fc5-6726-431e-bf7b-dc5ce8ad770a",
   "metadata": {},
   "outputs": [],
   "source": [
    "shp=M['shapvalues']"
   ]
  },
  {
   "cell_type": "code",
   "execution_count": 69,
   "id": "de7bf42d-2744-4d83-b400-71a4741d5b4d",
   "metadata": {},
   "outputs": [
    {
     "data": {
      "text/plain": [
       "<AxesSubplot:>"
      ]
     },
     "execution_count": 69,
     "metadata": {},
     "output_type": "execute_result"
    },
    {
     "data": {
      "image/png": "[encoded data removed]",
      "text/plain": [
       "<Figure size 432x288 with 2 Axes>"
      ]
     },
     "metadata": {
      "needs_background": "light"
     },
     "output_type": "display_data"
    }
   ],
   "source": [
    "import seaborn as sns\n",
    "sns.heatmap(shp)"
   ]
  },
  {
   "cell_type": "code",
   "execution_count": 74,
   "id": "0a708b7a-ad7f-44bd-bbe9-21c2c306545c",
   "metadata": {},
   "outputs": [
    {
     "data": {
      "image/png": "[encoded data removed]",
      "text/plain": [
       "<Figure size 288x288 with 1 Axes>"
      ]
     },
     "metadata": {
      "needs_background": "light"
     },
     "output_type": "display_data"
    }
   ],
   "source": [
    "import pandas as pd\n",
    "import pylab as plt\n",
    "plt.figure(figsize=[4,4])\n",
    "a=pd.DataFrame(shp).mean().abs()\n",
    "b=pd.DataFrame(shp).mean()\n",
    "df=pd.DataFrame(a.values,b.values).reset_index()\n",
    "df.columns=['shp','shpabs']\n",
    "df=df.sort_values('shpabs',ascending=False)\n",
    "df.reset_index().shpabs.plot(style='k.',logy=True,logx=True)\n",
    "df.reset_index().head(40).shpabs.plot(style='r.',logy=True,logx=True)\n",
    "df.index.name='shpindex'\n",
    "df.reset_index().to_csv('../tex/Figures/plotdata/shpval.csv',index=None)\n",
    "plt.grid()"
   ]
  },
  {
   "cell_type": "code",
   "execution_count": 72,
   "id": "770a5f70-e767-4384-8bfd-b6e7fd325d27",
   "metadata": {},
   "outputs": [
    {
     "data": {
      "text/html": [
       "<div>\n",
       "<style scoped>\n",
       "    .dataframe tbody tr th:only-of-type {\n",
       "        vertical-align: middle;\n",
       "    }\n",
       "\n",
       "    .dataframe tbody tr th {\n",
       "        vertical-align: top;\n",
       "    }\n",
       "\n",
       "    .dataframe thead th {\n",
       "        text-align: right;\n",
       "    }\n",
       "</style>\n",
       "<table border=\"1\" class=\"dataframe\">\n",
       "  <thead>\n",
       "    <tr style=\"text-align: right;\">\n",
       "      <th></th>\n",
       "      <th>shp</th>\n",
       "      <th>shpabs</th>\n",
       "    </tr>\n",
       "  </thead>\n",
       "  <tbody>\n",
       "    <tr>\n",
       "      <th>134</th>\n",
       "      <td>-0.014035</td>\n",
       "      <td>0.014035</td>\n",
       "    </tr>\n",
       "    <tr>\n",
       "      <th>193</th>\n",
       "      <td>0.011369</td>\n",
       "      <td>0.011369</td>\n",
       "    </tr>\n",
       "    <tr>\n",
       "      <th>139</th>\n",
       "      <td>0.010861</td>\n",
       "      <td>0.010861</td>\n",
       "    </tr>\n",
       "    <tr>\n",
       "      <th>24</th>\n",
       "      <td>0.010661</td>\n",
       "      <td>0.010661</td>\n",
       "    </tr>\n",
       "    <tr>\n",
       "      <th>15</th>\n",
       "      <td>-0.010541</td>\n",
       "      <td>0.010541</td>\n",
       "    </tr>\n",
       "    <tr>\n",
       "      <th>...</th>\n",
       "      <td>...</td>\n",
       "      <td>...</td>\n",
       "    </tr>\n",
       "    <tr>\n",
       "      <th>6</th>\n",
       "      <td>-0.000051</td>\n",
       "      <td>0.000051</td>\n",
       "    </tr>\n",
       "    <tr>\n",
       "      <th>108</th>\n",
       "      <td>0.000035</td>\n",
       "      <td>0.000035</td>\n",
       "    </tr>\n",
       "    <tr>\n",
       "      <th>150</th>\n",
       "      <td>0.000027</td>\n",
       "      <td>0.000027</td>\n",
       "    </tr>\n",
       "    <tr>\n",
       "      <th>62</th>\n",
       "      <td>0.000000</td>\n",
       "      <td>0.000000</td>\n",
       "    </tr>\n",
       "    <tr>\n",
       "      <th>189</th>\n",
       "      <td>0.000000</td>\n",
       "      <td>0.000000</td>\n",
       "    </tr>\n",
       "  </tbody>\n",
       "</table>\n",
       "<p>211 rows × 2 columns</p>\n",
       "</div>"
      ],
      "text/plain": [
       "          shp    shpabs\n",
       "134 -0.014035  0.014035\n",
       "193  0.011369  0.011369\n",
       "139  0.010861  0.010861\n",
       "24   0.010661  0.010661\n",
       "15  -0.010541  0.010541\n",
       "..        ...       ...\n",
       "6   -0.000051  0.000051\n",
       "108  0.000035  0.000035\n",
       "150  0.000027  0.000027\n",
       "62   0.000000  0.000000\n",
       "189  0.000000  0.000000\n",
       "\n",
       "[211 rows x 2 columns]"
      ]
     },
     "execution_count": 72,
     "metadata": {},
     "output_type": "execute_result"
    }
   ],
   "source": [
    "df"
   ]
  },
  {
   "cell_type": "code",
   "execution_count": 55,
   "id": "8e3245ff-0cd1-41a7-980c-9da70fbf7caa",
   "metadata": {},
   "outputs": [
    {
     "data": {
      "text/plain": [
       "0.008544625501882749"
      ]
     },
     "execution_count": 55,
     "metadata": {},
     "output_type": "execute_result"
    }
   ],
   "source": [
    "df.shpabs[0]"
   ]
  },
  {
   "cell_type": "code",
   "execution_count": 56,
   "id": "7e5ff062-4fbf-49dd-95e9-dc83c7dd4d47",
   "metadata": {},
   "outputs": [
    {
     "data": {
      "text/plain": [
       "134    0.014035\n",
       "193    0.011369\n",
       "139    0.010861\n",
       "24     0.010661\n",
       "15     0.010541\n",
       "         ...   \n",
       "6      0.000051\n",
       "108    0.000035\n",
       "150    0.000027\n",
       "62     0.000000\n",
       "189    0.000000\n",
       "Name: shpabs, Length: 211, dtype: float64"
      ]
     },
     "execution_count": 56,
     "metadata": {},
     "output_type": "execute_result"
    }
   ],
   "source": [
    "df.shpabs"
   ]
  },
  {
   "cell_type": "code",
   "execution_count": null,
   "id": "e5e8a2d3-80d2-4435-abb5-974090594246",
   "metadata": {},
   "outputs": [],
   "source": []
  }
 ],
 "metadata": {
  "kernelspec": {
   "display_name": "Python 3 (ipykernel)",
   "language": "python",
   "name": "python3"
  },
  "language_info": {
   "codemirror_mode": {
    "name": "ipython",
    "version": 3
   },
   "file_extension": ".py",
   "mimetype": "text/x-python",
   "name": "python",
   "nbconvert_exporter": "python",
   "pygments_lexer": "ipython3",
   "version": "3.10.8"
  }
 },
 "nbformat": 4,
 "nbformat_minor": 5
}
